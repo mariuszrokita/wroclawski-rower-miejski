{
 "cells": [
  {
   "cell_type": "markdown",
   "metadata": {},
   "source": [
    "# Data Processing"
   ]
  },
  {
   "cell_type": "markdown",
   "metadata": {},
   "source": [
    "The purpose of this notebook is to download data and process it. As a result we will get a dataset ready for further analyses and modeling."
   ]
  },
  {
   "cell_type": "markdown",
   "metadata": {},
   "source": [
    "# Table of Contents"
   ]
  },
  {
   "cell_type": "markdown",
   "metadata": {},
   "source": [
    "[1. Imports & Environment Configuration](#Imports-&-Environment-Configuration)"
   ]
  },
  {
   "cell_type": "markdown",
   "metadata": {},
   "source": [
    "# Imports & Environment Configuration"
   ]
  },
  {
   "cell_type": "code",
   "execution_count": 1,
   "metadata": {
    "ExecuteTime": {
     "end_time": "2019-10-25T05:34:07.068094Z",
     "start_time": "2019-10-25T05:34:05.818347Z"
    }
   },
   "outputs": [],
   "source": [
    "%load_ext autoreload\n",
    "\n",
    "import json\n",
    "import matplotlib.pyplot as plt\n",
    "import os\n",
    "import pandas as pd\n",
    "\n",
    "if os.path.basename(os.getcwd()) == 'notebooks':\n",
    "    # Make it possible to import modules\n",
    "    import sys\n",
    "    sys.path.append(\"../\") \n",
    "\n",
    "from src.data.data_loading.bike_rental_data_downloader import BikeRentalDataDownloader\n",
    "from src.data.data_loading.bike_rental_records import BikeRentalRecords\n",
    "from src.data.data_loading.bike_station_locations import BikeStationsLocations"
   ]
  },
  {
   "cell_type": "code",
   "execution_count": 2,
   "metadata": {
    "ExecuteTime": {
     "end_time": "2019-10-25T05:34:07.088857Z",
     "start_time": "2019-10-25T05:34:07.070494Z"
    }
   },
   "outputs": [],
   "source": [
    "# let matplotlib plots be part of Jupyter Notebook\n",
    "%matplotlib inline\n",
    "\n",
    "# set up higher resolution for matplotlib plots\n",
    "%config InlineBackend.figure_format = 'retina'"
   ]
  },
  {
   "cell_type": "markdown",
   "metadata": {},
   "source": [
    "## Environment Configuration Variables"
   ]
  },
  {
   "cell_type": "code",
   "execution_count": 3,
   "metadata": {
    "ExecuteTime": {
     "end_time": "2019-10-25T05:34:07.097330Z",
     "start_time": "2019-10-25T05:34:07.091353Z"
    }
   },
   "outputs": [],
   "source": [
    "# Determine the root folder of the project. The current working directory \n",
    "# may vary depending on whether the notebook is run in Jupyter Notebook or VS Code\n",
    "if os.path.basename(os.getcwd()) == 'notebooks':\n",
    "    project_root_folder = os.path.abspath(os.path.join(os.getcwd(), '..'))   \n",
    "else:\n",
    "    project_root_folder = os.getcwd()\n",
    "    \n",
    "# Set up paths to data folders\n",
    "data_raw_folder     = os.path.join(project_root_folder, 'data', 'raw')\n",
    "data_interim_folder = os.path.join(project_root_folder, 'data', 'interim')"
   ]
  },
  {
   "cell_type": "markdown",
   "metadata": {},
   "source": [
    "# Load data"
   ]
  },
  {
   "cell_type": "markdown",
   "metadata": {},
   "source": [
    "## Bike rental records"
   ]
  },
  {
   "cell_type": "markdown",
   "metadata": {},
   "source": [
    "### Configuration"
   ]
  },
  {
   "cell_type": "code",
   "execution_count": 4,
   "metadata": {
    "ExecuteTime": {
     "end_time": "2019-10-25T05:34:07.105984Z",
     "start_time": "2019-10-25T05:34:07.099802Z"
    }
   },
   "outputs": [],
   "source": [
    "# Provide config details for the Azure Storage container with data.\n",
    "account_name='<storage_account_name>'\n",
    "account_key='<storage_account_key>'\n",
    "container_name='<storage_container_name>' \n",
    "\n",
    "# Alternatively, they can be grabbed from the 'local.settings.json' file \n",
    "# (used by Azure Functions), if it exists.\n",
    "local_settings_file_path = os.path.join(project_root_folder, \n",
    "                                        'src', 'azurefunctions', 'local.settings.json')\n",
    "if os.path.exists(local_settings_file_path):\n",
    "    with open(local_settings_file_path, 'r') as f:\n",
    "        local_settings = json.load(f)\n",
    "        \n",
    "    account_name = local_settings['Values']['storage_account_name']\n",
    "    account_key = local_settings['Values']['storage_account_key']\n",
    "    container_name = local_settings['Values']['storage_container_name']"
   ]
  },
  {
   "cell_type": "markdown",
   "metadata": {},
   "source": [
    "### Load"
   ]
  },
  {
   "cell_type": "code",
   "execution_count": 5,
   "metadata": {
    "ExecuteTime": {
     "end_time": "2019-10-25T05:34:07.654381Z",
     "start_time": "2019-10-25T05:34:07.107976Z"
    },
    "scrolled": false
   },
   "outputs": [],
   "source": [
    "# Download all data from Azure Blob Storage and save it locally \n",
    "blob_downloader = BikeRentalDataDownloader(account_name, account_key, container_name)\n",
    "blob_downloader.download_blobs_and_save(data_raw_folder)"
   ]
  },
  {
   "cell_type": "code",
   "execution_count": 6,
   "metadata": {
    "ExecuteTime": {
     "end_time": "2019-10-25T05:34:23.168853Z",
     "start_time": "2019-10-25T05:34:07.656368Z"
    }
   },
   "outputs": [],
   "source": [
    "# Read all local csv files and combine it into one dataframe\n",
    "brr_loader = BikeRentalRecords(data_raw_folder)\n",
    "bike_rentals_df = brr_loader.load_data()"
   ]
  },
  {
   "cell_type": "code",
   "execution_count": 7,
   "metadata": {
    "ExecuteTime": {
     "end_time": "2019-10-25T05:34:23.222400Z",
     "start_time": "2019-10-25T05:34:23.170890Z"
    }
   },
   "outputs": [
    {
     "name": "stdout",
     "output_type": "stream",
     "text": [
      "<class 'pandas.core.frame.DataFrame'>\n",
      "Int64Index: 430531 entries, 76160681 to 88278425\n",
      "Data columns (total 6 columns):\n",
      "Bike number        430531 non-null int64\n",
      "Rental datetime    430531 non-null datetime64[ns]\n",
      "Return datetime    430531 non-null datetime64[ns]\n",
      "Rental station     430531 non-null object\n",
      "Return station     430531 non-null object\n",
      "Duration           430531 non-null timedelta64[ns]\n",
      "dtypes: datetime64[ns](2), int64(1), object(2), timedelta64[ns](1)\n",
      "memory usage: 23.0+ MB\n"
     ]
    }
   ],
   "source": [
    "# just checking - to make sure data types are as we want\n",
    "bike_rentals_df.info()"
   ]
  },
  {
   "cell_type": "code",
   "execution_count": 8,
   "metadata": {
    "ExecuteTime": {
     "end_time": "2019-10-25T05:34:23.251543Z",
     "start_time": "2019-10-25T05:34:23.225397Z"
    }
   },
   "outputs": [
    {
     "data": {
      "text/html": [
       "<div>\n",
       "<style scoped>\n",
       "    .dataframe tbody tr th:only-of-type {\n",
       "        vertical-align: middle;\n",
       "    }\n",
       "\n",
       "    .dataframe tbody tr th {\n",
       "        vertical-align: top;\n",
       "    }\n",
       "\n",
       "    .dataframe thead th {\n",
       "        text-align: right;\n",
       "    }\n",
       "</style>\n",
       "<table border=\"1\" class=\"dataframe\">\n",
       "  <thead>\n",
       "    <tr style=\"text-align: right;\">\n",
       "      <th></th>\n",
       "      <th>Bike number</th>\n",
       "      <th>Rental datetime</th>\n",
       "      <th>Return datetime</th>\n",
       "      <th>Rental station</th>\n",
       "      <th>Return station</th>\n",
       "      <th>Duration</th>\n",
       "    </tr>\n",
       "    <tr>\n",
       "      <th>UID</th>\n",
       "      <th></th>\n",
       "      <th></th>\n",
       "      <th></th>\n",
       "      <th></th>\n",
       "      <th></th>\n",
       "      <th></th>\n",
       "    </tr>\n",
       "  </thead>\n",
       "  <tbody>\n",
       "    <tr>\n",
       "      <td>84025572</td>\n",
       "      <td>650956</td>\n",
       "      <td>2019-09-03 07:32:50</td>\n",
       "      <td>2019-09-03 07:45:20</td>\n",
       "      <td>Pereca / Grabiszyńska</td>\n",
       "      <td>Kurkowa / Dubois</td>\n",
       "      <td>00:12:30</td>\n",
       "    </tr>\n",
       "    <tr>\n",
       "      <td>76288747</td>\n",
       "      <td>650933</td>\n",
       "      <td>2019-06-26 22:07:02</td>\n",
       "      <td>2019-06-26 22:13:41</td>\n",
       "      <td>Strzegomska / Estońska</td>\n",
       "      <td>Rogowska / Zemska</td>\n",
       "      <td>00:06:39</td>\n",
       "    </tr>\n",
       "    <tr>\n",
       "      <td>87578775</td>\n",
       "      <td>651017</td>\n",
       "      <td>2019-10-15 09:46:00</td>\n",
       "      <td>2019-10-15 10:14:00</td>\n",
       "      <td>Żernicka</td>\n",
       "      <td>Grabiszyńska / Aleja Hallera</td>\n",
       "      <td>00:28:00</td>\n",
       "    </tr>\n",
       "    <tr>\n",
       "      <td>78504310</td>\n",
       "      <td>650783</td>\n",
       "      <td>2019-07-15 20:49:00</td>\n",
       "      <td>2019-07-15 21:09:00</td>\n",
       "      <td>Tarnogajska / Klimasa</td>\n",
       "      <td>Powstańcow Śląskich / Aleja Hallera</td>\n",
       "      <td>00:20:00</td>\n",
       "    </tr>\n",
       "    <tr>\n",
       "      <td>85864555</td>\n",
       "      <td>650637</td>\n",
       "      <td>2019-09-22 14:30:00</td>\n",
       "      <td>2019-09-22 14:53:00</td>\n",
       "      <td>Borowska (Uniw. Szpital Kliniczny)</td>\n",
       "      <td>Ślężna / pętla tramwajowa</td>\n",
       "      <td>00:23:00</td>\n",
       "    </tr>\n",
       "  </tbody>\n",
       "</table>\n",
       "</div>"
      ],
      "text/plain": [
       "          Bike number     Rental datetime     Return datetime  \\\n",
       "UID                                                             \n",
       "84025572       650956 2019-09-03 07:32:50 2019-09-03 07:45:20   \n",
       "76288747       650933 2019-06-26 22:07:02 2019-06-26 22:13:41   \n",
       "87578775       651017 2019-10-15 09:46:00 2019-10-15 10:14:00   \n",
       "78504310       650783 2019-07-15 20:49:00 2019-07-15 21:09:00   \n",
       "85864555       650637 2019-09-22 14:30:00 2019-09-22 14:53:00   \n",
       "\n",
       "                              Rental station  \\\n",
       "UID                                            \n",
       "84025572               Pereca / Grabiszyńska   \n",
       "76288747              Strzegomska / Estońska   \n",
       "87578775                            Żernicka   \n",
       "78504310               Tarnogajska / Klimasa   \n",
       "85864555  Borowska (Uniw. Szpital Kliniczny)   \n",
       "\n",
       "                               Return station Duration  \n",
       "UID                                                     \n",
       "84025572                     Kurkowa / Dubois 00:12:30  \n",
       "76288747                    Rogowska / Zemska 00:06:39  \n",
       "87578775         Grabiszyńska / Aleja Hallera 00:28:00  \n",
       "78504310  Powstańcow Śląskich / Aleja Hallera 00:20:00  \n",
       "85864555            Ślężna / pętla tramwajowa 00:23:00  "
      ]
     },
     "execution_count": 8,
     "metadata": {},
     "output_type": "execute_result"
    }
   ],
   "source": [
    "bike_rentals_df.sample(5)"
   ]
  },
  {
   "cell_type": "code",
   "execution_count": 9,
   "metadata": {
    "ExecuteTime": {
     "end_time": "2019-10-25T05:34:23.304183Z",
     "start_time": "2019-10-25T05:34:23.253830Z"
    }
   },
   "outputs": [
    {
     "data": {
      "text/plain": [
       "Bike number        0\n",
       "Rental datetime    0\n",
       "Return datetime    0\n",
       "Rental station     0\n",
       "Return station     0\n",
       "Duration           0\n",
       "dtype: int64"
      ]
     },
     "execution_count": 9,
     "metadata": {},
     "output_type": "execute_result"
    }
   ],
   "source": [
    "# check if we have any missing data\n",
    "bike_rentals_df.isna().sum()"
   ]
  },
  {
   "cell_type": "markdown",
   "metadata": {},
   "source": [
    "## Bike station details"
   ]
  },
  {
   "cell_type": "code",
   "execution_count": 10,
   "metadata": {
    "ExecuteTime": {
     "end_time": "2019-10-25T05:34:24.237025Z",
     "start_time": "2019-10-25T05:34:23.306258Z"
    }
   },
   "outputs": [],
   "source": [
    "bike_stations_df = BikeStationsLocations().load_data()"
   ]
  },
  {
   "cell_type": "code",
   "execution_count": 11,
   "metadata": {
    "ExecuteTime": {
     "end_time": "2019-10-25T05:34:24.250310Z",
     "start_time": "2019-10-25T05:34:24.238983Z"
    }
   },
   "outputs": [
    {
     "data": {
      "text/html": [
       "<div>\n",
       "<style scoped>\n",
       "    .dataframe tbody tr th:only-of-type {\n",
       "        vertical-align: middle;\n",
       "    }\n",
       "\n",
       "    .dataframe tbody tr th {\n",
       "        vertical-align: top;\n",
       "    }\n",
       "\n",
       "    .dataframe thead th {\n",
       "        text-align: right;\n",
       "    }\n",
       "</style>\n",
       "<table border=\"1\" class=\"dataframe\">\n",
       "  <thead>\n",
       "    <tr style=\"text-align: right;\">\n",
       "      <th></th>\n",
       "      <th>Bike station</th>\n",
       "      <th>Latitude</th>\n",
       "      <th>Longitude</th>\n",
       "    </tr>\n",
       "  </thead>\n",
       "  <tbody>\n",
       "    <tr>\n",
       "      <td>0</td>\n",
       "      <td>Plac Dominikański (Galeria Dominikańska)</td>\n",
       "      <td>51.108004</td>\n",
       "      <td>17.039528</td>\n",
       "    </tr>\n",
       "    <tr>\n",
       "      <td>1</td>\n",
       "      <td>Dworzec Główny, południe</td>\n",
       "      <td>51.097108064432</td>\n",
       "      <td>17.036109566688538</td>\n",
       "    </tr>\n",
       "    <tr>\n",
       "      <td>2</td>\n",
       "      <td>Rynek</td>\n",
       "      <td>51.109782</td>\n",
       "      <td>17.030175</td>\n",
       "    </tr>\n",
       "    <tr>\n",
       "      <td>3</td>\n",
       "      <td>Dworzec Główny</td>\n",
       "      <td>51.09975</td>\n",
       "      <td>17.036228</td>\n",
       "    </tr>\n",
       "    <tr>\n",
       "      <td>4</td>\n",
       "      <td>Nowowiejska / Jedności Narodowej</td>\n",
       "      <td>51.124879</td>\n",
       "      <td>17.045844</td>\n",
       "    </tr>\n",
       "    <tr>\n",
       "      <td>...</td>\n",
       "      <td>...</td>\n",
       "      <td>...</td>\n",
       "      <td>...</td>\n",
       "    </tr>\n",
       "    <tr>\n",
       "      <td>198</td>\n",
       "      <td>pl. Orląt Lwowskich</td>\n",
       "      <td>51.10823</td>\n",
       "      <td>17.02138</td>\n",
       "    </tr>\n",
       "    <tr>\n",
       "      <td>199</td>\n",
       "      <td>Komandorska / Kamienna</td>\n",
       "      <td>51.09009</td>\n",
       "      <td>17.0235</td>\n",
       "    </tr>\n",
       "    <tr>\n",
       "      <td>200</td>\n",
       "      <td>Wrocław Stadion, stacja kolejowa</td>\n",
       "      <td>51.13707</td>\n",
       "      <td>16.94095</td>\n",
       "    </tr>\n",
       "    <tr>\n",
       "      <td>201</td>\n",
       "      <td>Wrocław Leśnica, stacja kolejowa</td>\n",
       "      <td>51.14323</td>\n",
       "      <td>16.86627</td>\n",
       "    </tr>\n",
       "    <tr>\n",
       "      <td>202</td>\n",
       "      <td>Stadion Olimpijski</td>\n",
       "      <td>51.118030730849426</td>\n",
       "      <td>17.095563411712646</td>\n",
       "    </tr>\n",
       "  </tbody>\n",
       "</table>\n",
       "<p>203 rows × 3 columns</p>\n",
       "</div>"
      ],
      "text/plain": [
       "                                 Bike station            Latitude  \\\n",
       "0    Plac Dominikański (Galeria Dominikańska)           51.108004   \n",
       "1                    Dworzec Główny, południe     51.097108064432   \n",
       "2                                       Rynek           51.109782   \n",
       "3                              Dworzec Główny            51.09975   \n",
       "4            Nowowiejska / Jedności Narodowej           51.124879   \n",
       "..                                        ...                 ...   \n",
       "198                       pl. Orląt Lwowskich            51.10823   \n",
       "199                    Komandorska / Kamienna            51.09009   \n",
       "200          Wrocław Stadion, stacja kolejowa            51.13707   \n",
       "201          Wrocław Leśnica, stacja kolejowa            51.14323   \n",
       "202                        Stadion Olimpijski  51.118030730849426   \n",
       "\n",
       "              Longitude  \n",
       "0             17.039528  \n",
       "1    17.036109566688538  \n",
       "2             17.030175  \n",
       "3             17.036228  \n",
       "4             17.045844  \n",
       "..                  ...  \n",
       "198            17.02138  \n",
       "199             17.0235  \n",
       "200            16.94095  \n",
       "201            16.86627  \n",
       "202  17.095563411712646  \n",
       "\n",
       "[203 rows x 3 columns]"
      ]
     },
     "execution_count": 11,
     "metadata": {},
     "output_type": "execute_result"
    }
   ],
   "source": [
    "bike_stations_df"
   ]
  },
  {
   "cell_type": "code",
   "execution_count": 12,
   "metadata": {
    "ExecuteTime": {
     "end_time": "2019-10-25T05:34:24.258137Z",
     "start_time": "2019-10-25T05:34:24.252314Z"
    }
   },
   "outputs": [
    {
     "data": {
      "text/plain": [
       "Bike station    0\n",
       "Latitude        0\n",
       "Longitude       0\n",
       "dtype: int64"
      ]
     },
     "execution_count": 12,
     "metadata": {},
     "output_type": "execute_result"
    }
   ],
   "source": [
    "# check if we have any missing data\n",
    "bike_stations_df.isna().sum()"
   ]
  },
  {
   "cell_type": "markdown",
   "metadata": {},
   "source": [
    "## Join datasets"
   ]
  },
  {
   "cell_type": "code",
   "execution_count": 13,
   "metadata": {
    "ExecuteTime": {
     "end_time": "2019-10-25T05:34:24.391715Z",
     "start_time": "2019-10-25T05:34:24.260016Z"
    }
   },
   "outputs": [],
   "source": [
    "bike_rentals_df = pd.merge(bike_rentals_df, \n",
    "                           bike_stations_df, \n",
    "                           how='left',\n",
    "                           left_on='Rental station',\n",
    "                           right_on='Bike station')"
   ]
  },
  {
   "cell_type": "code",
   "execution_count": 14,
   "metadata": {
    "ExecuteTime": {
     "end_time": "2019-10-25T05:34:24.451582Z",
     "start_time": "2019-10-25T05:34:24.393502Z"
    }
   },
   "outputs": [],
   "source": [
    "# define more meaningful names for coordinates columns\n",
    "cols = [f'Rental station {str.lower(column)}' \n",
    "            if column in ['Latitude', 'Longitude'] else column\n",
    "                for column in bike_rentals_df.columns]\n",
    "bike_rentals_df.columns = cols\n",
    "\n",
    "# drop unnecessary\n",
    "bike_rentals_df.drop(['Bike station'], axis=1, inplace=True)"
   ]
  },
  {
   "cell_type": "code",
   "execution_count": 15,
   "metadata": {
    "ExecuteTime": {
     "end_time": "2019-10-25T05:34:24.465674Z",
     "start_time": "2019-10-25T05:34:24.453393Z"
    }
   },
   "outputs": [
    {
     "data": {
      "text/html": [
       "<div>\n",
       "<style scoped>\n",
       "    .dataframe tbody tr th:only-of-type {\n",
       "        vertical-align: middle;\n",
       "    }\n",
       "\n",
       "    .dataframe tbody tr th {\n",
       "        vertical-align: top;\n",
       "    }\n",
       "\n",
       "    .dataframe thead th {\n",
       "        text-align: right;\n",
       "    }\n",
       "</style>\n",
       "<table border=\"1\" class=\"dataframe\">\n",
       "  <thead>\n",
       "    <tr style=\"text-align: right;\">\n",
       "      <th></th>\n",
       "      <th>Bike number</th>\n",
       "      <th>Rental datetime</th>\n",
       "      <th>Return datetime</th>\n",
       "      <th>Rental station</th>\n",
       "      <th>Return station</th>\n",
       "      <th>Duration</th>\n",
       "      <th>Rental station latitude</th>\n",
       "      <th>Rental station longitude</th>\n",
       "    </tr>\n",
       "  </thead>\n",
       "  <tbody>\n",
       "    <tr>\n",
       "      <td>0</td>\n",
       "      <td>57719</td>\n",
       "      <td>2019-06-26 00:00:10</td>\n",
       "      <td>2019-06-26 00:06:19</td>\n",
       "      <td>Skarbowców / Wietrzna</td>\n",
       "      <td>Krzycka / Aleja Karkonoska (Park Południowy)</td>\n",
       "      <td>00:06:09</td>\n",
       "      <td>51.07329</td>\n",
       "      <td>16.99485</td>\n",
       "    </tr>\n",
       "    <tr>\n",
       "      <td>1</td>\n",
       "      <td>650480</td>\n",
       "      <td>2019-06-26 00:00:13</td>\n",
       "      <td>2019-06-26 00:06:59</td>\n",
       "      <td>Rynek</td>\n",
       "      <td>Plac Legionów</td>\n",
       "      <td>00:06:46</td>\n",
       "      <td>51.109782</td>\n",
       "      <td>17.030175</td>\n",
       "    </tr>\n",
       "    <tr>\n",
       "      <td>2</td>\n",
       "      <td>650988</td>\n",
       "      <td>2019-06-26 00:00:15</td>\n",
       "      <td>2019-06-26 00:13:32</td>\n",
       "      <td>Poza oficjalną stacją</td>\n",
       "      <td>Wałbrzyska - pętla tramwajowa</td>\n",
       "      <td>00:13:17</td>\n",
       "      <td>NaN</td>\n",
       "      <td>NaN</td>\n",
       "    </tr>\n",
       "    <tr>\n",
       "      <td>3</td>\n",
       "      <td>57603</td>\n",
       "      <td>2019-06-26 00:00:21</td>\n",
       "      <td>2019-06-26 00:23:53</td>\n",
       "      <td>Plac Uniwersytecki (UWr)</td>\n",
       "      <td>Legnicka / Wejherowska</td>\n",
       "      <td>00:23:32</td>\n",
       "      <td>51.113871</td>\n",
       "      <td>17.034484</td>\n",
       "    </tr>\n",
       "    <tr>\n",
       "      <td>4</td>\n",
       "      <td>650067</td>\n",
       "      <td>2019-06-26 00:00:40</td>\n",
       "      <td>2019-06-26 00:04:40</td>\n",
       "      <td>Powstańców Śląskich (Arkady Wrocławskie)</td>\n",
       "      <td>Powstańców Śląskich (Arkady Wrocławskie)</td>\n",
       "      <td>00:04:00</td>\n",
       "      <td>51.099713</td>\n",
       "      <td>17.027905</td>\n",
       "    </tr>\n",
       "  </tbody>\n",
       "</table>\n",
       "</div>"
      ],
      "text/plain": [
       "   Bike number     Rental datetime     Return datetime  \\\n",
       "0        57719 2019-06-26 00:00:10 2019-06-26 00:06:19   \n",
       "1       650480 2019-06-26 00:00:13 2019-06-26 00:06:59   \n",
       "2       650988 2019-06-26 00:00:15 2019-06-26 00:13:32   \n",
       "3        57603 2019-06-26 00:00:21 2019-06-26 00:23:53   \n",
       "4       650067 2019-06-26 00:00:40 2019-06-26 00:04:40   \n",
       "\n",
       "                             Rental station  \\\n",
       "0                     Skarbowców / Wietrzna   \n",
       "1                                     Rynek   \n",
       "2                     Poza oficjalną stacją   \n",
       "3                  Plac Uniwersytecki (UWr)   \n",
       "4  Powstańców Śląskich (Arkady Wrocławskie)   \n",
       "\n",
       "                                 Return station Duration  \\\n",
       "0  Krzycka / Aleja Karkonoska (Park Południowy) 00:06:09   \n",
       "1                                 Plac Legionów 00:06:46   \n",
       "2                 Wałbrzyska - pętla tramwajowa 00:13:17   \n",
       "3                        Legnicka / Wejherowska 00:23:32   \n",
       "4      Powstańców Śląskich (Arkady Wrocławskie) 00:04:00   \n",
       "\n",
       "  Rental station latitude Rental station longitude  \n",
       "0                51.07329                 16.99485  \n",
       "1               51.109782                17.030175  \n",
       "2                     NaN                      NaN  \n",
       "3               51.113871                17.034484  \n",
       "4               51.099713                17.027905  "
      ]
     },
     "execution_count": 15,
     "metadata": {},
     "output_type": "execute_result"
    }
   ],
   "source": [
    "bike_rentals_df.head()"
   ]
  },
  {
   "cell_type": "code",
   "execution_count": 16,
   "metadata": {
    "ExecuteTime": {
     "end_time": "2019-10-25T05:34:24.602969Z",
     "start_time": "2019-10-25T05:34:24.467441Z"
    }
   },
   "outputs": [],
   "source": [
    "bike_rentals_df = pd.merge(bike_rentals_df, \n",
    "                           bike_stations_df, \n",
    "                           how='left',\n",
    "                           left_on='Return station',\n",
    "                           right_on='Bike station')"
   ]
  },
  {
   "cell_type": "code",
   "execution_count": 17,
   "metadata": {
    "ExecuteTime": {
     "end_time": "2019-10-25T05:34:24.689402Z",
     "start_time": "2019-10-25T05:34:24.604684Z"
    }
   },
   "outputs": [],
   "source": [
    "# define more meaningful names for coordinates columns\n",
    "cols = [f'Return station {str.lower(column)}' \n",
    "            if column in ['Latitude', 'Longitude'] else column\n",
    "                for column in bike_rentals_df.columns]\n",
    "bike_rentals_df.columns = cols\n",
    "\n",
    "# drop unnecessary\n",
    "bike_rentals_df.drop(['Bike station'], axis=1, inplace=True)"
   ]
  },
  {
   "cell_type": "code",
   "execution_count": 18,
   "metadata": {
    "ExecuteTime": {
     "end_time": "2019-10-25T05:34:24.705830Z",
     "start_time": "2019-10-25T05:34:24.691131Z"
    }
   },
   "outputs": [
    {
     "data": {
      "text/html": [
       "<div>\n",
       "<style scoped>\n",
       "    .dataframe tbody tr th:only-of-type {\n",
       "        vertical-align: middle;\n",
       "    }\n",
       "\n",
       "    .dataframe tbody tr th {\n",
       "        vertical-align: top;\n",
       "    }\n",
       "\n",
       "    .dataframe thead th {\n",
       "        text-align: right;\n",
       "    }\n",
       "</style>\n",
       "<table border=\"1\" class=\"dataframe\">\n",
       "  <thead>\n",
       "    <tr style=\"text-align: right;\">\n",
       "      <th></th>\n",
       "      <th>Bike number</th>\n",
       "      <th>Rental datetime</th>\n",
       "      <th>Return datetime</th>\n",
       "      <th>Rental station</th>\n",
       "      <th>Return station</th>\n",
       "      <th>Duration</th>\n",
       "      <th>Rental station latitude</th>\n",
       "      <th>Rental station longitude</th>\n",
       "      <th>Return station latitude</th>\n",
       "      <th>Return station longitude</th>\n",
       "    </tr>\n",
       "  </thead>\n",
       "  <tbody>\n",
       "    <tr>\n",
       "      <td>0</td>\n",
       "      <td>57719</td>\n",
       "      <td>2019-06-26 00:00:10</td>\n",
       "      <td>2019-06-26 00:06:19</td>\n",
       "      <td>Skarbowców / Wietrzna</td>\n",
       "      <td>Krzycka / Aleja Karkonoska (Park Południowy)</td>\n",
       "      <td>00:06:09</td>\n",
       "      <td>51.07329</td>\n",
       "      <td>16.99485</td>\n",
       "      <td>51.074992</td>\n",
       "      <td>17.007058</td>\n",
       "    </tr>\n",
       "    <tr>\n",
       "      <td>1</td>\n",
       "      <td>650480</td>\n",
       "      <td>2019-06-26 00:00:13</td>\n",
       "      <td>2019-06-26 00:06:59</td>\n",
       "      <td>Rynek</td>\n",
       "      <td>Plac Legionów</td>\n",
       "      <td>00:06:46</td>\n",
       "      <td>51.109782</td>\n",
       "      <td>17.030175</td>\n",
       "      <td>51.104413</td>\n",
       "      <td>17.022536</td>\n",
       "    </tr>\n",
       "    <tr>\n",
       "      <td>2</td>\n",
       "      <td>650988</td>\n",
       "      <td>2019-06-26 00:00:15</td>\n",
       "      <td>2019-06-26 00:13:32</td>\n",
       "      <td>Poza oficjalną stacją</td>\n",
       "      <td>Wałbrzyska - pętla tramwajowa</td>\n",
       "      <td>00:13:17</td>\n",
       "      <td>NaN</td>\n",
       "      <td>NaN</td>\n",
       "      <td>51.06577709842137</td>\n",
       "      <td>16.98857545852661</td>\n",
       "    </tr>\n",
       "    <tr>\n",
       "      <td>3</td>\n",
       "      <td>57603</td>\n",
       "      <td>2019-06-26 00:00:21</td>\n",
       "      <td>2019-06-26 00:23:53</td>\n",
       "      <td>Plac Uniwersytecki (UWr)</td>\n",
       "      <td>Legnicka / Wejherowska</td>\n",
       "      <td>00:23:32</td>\n",
       "      <td>51.113871</td>\n",
       "      <td>17.034484</td>\n",
       "      <td>51.125276</td>\n",
       "      <td>16.984447</td>\n",
       "    </tr>\n",
       "    <tr>\n",
       "      <td>4</td>\n",
       "      <td>650067</td>\n",
       "      <td>2019-06-26 00:00:40</td>\n",
       "      <td>2019-06-26 00:04:40</td>\n",
       "      <td>Powstańców Śląskich (Arkady Wrocławskie)</td>\n",
       "      <td>Powstańców Śląskich (Arkady Wrocławskie)</td>\n",
       "      <td>00:04:00</td>\n",
       "      <td>51.099713</td>\n",
       "      <td>17.027905</td>\n",
       "      <td>51.099713</td>\n",
       "      <td>17.027905</td>\n",
       "    </tr>\n",
       "  </tbody>\n",
       "</table>\n",
       "</div>"
      ],
      "text/plain": [
       "   Bike number     Rental datetime     Return datetime  \\\n",
       "0        57719 2019-06-26 00:00:10 2019-06-26 00:06:19   \n",
       "1       650480 2019-06-26 00:00:13 2019-06-26 00:06:59   \n",
       "2       650988 2019-06-26 00:00:15 2019-06-26 00:13:32   \n",
       "3        57603 2019-06-26 00:00:21 2019-06-26 00:23:53   \n",
       "4       650067 2019-06-26 00:00:40 2019-06-26 00:04:40   \n",
       "\n",
       "                             Rental station  \\\n",
       "0                     Skarbowców / Wietrzna   \n",
       "1                                     Rynek   \n",
       "2                     Poza oficjalną stacją   \n",
       "3                  Plac Uniwersytecki (UWr)   \n",
       "4  Powstańców Śląskich (Arkady Wrocławskie)   \n",
       "\n",
       "                                 Return station Duration  \\\n",
       "0  Krzycka / Aleja Karkonoska (Park Południowy) 00:06:09   \n",
       "1                                 Plac Legionów 00:06:46   \n",
       "2                 Wałbrzyska - pętla tramwajowa 00:13:17   \n",
       "3                        Legnicka / Wejherowska 00:23:32   \n",
       "4      Powstańców Śląskich (Arkady Wrocławskie) 00:04:00   \n",
       "\n",
       "  Rental station latitude Rental station longitude Return station latitude  \\\n",
       "0                51.07329                 16.99485               51.074992   \n",
       "1               51.109782                17.030175               51.104413   \n",
       "2                     NaN                      NaN       51.06577709842137   \n",
       "3               51.113871                17.034484               51.125276   \n",
       "4               51.099713                17.027905               51.099713   \n",
       "\n",
       "  Return station longitude  \n",
       "0                17.007058  \n",
       "1                17.022536  \n",
       "2        16.98857545852661  \n",
       "3                16.984447  \n",
       "4                17.027905  "
      ]
     },
     "execution_count": 18,
     "metadata": {},
     "output_type": "execute_result"
    }
   ],
   "source": [
    "bike_rentals_df.head()"
   ]
  },
  {
   "cell_type": "code",
   "execution_count": 19,
   "metadata": {
    "ExecuteTime": {
     "end_time": "2019-10-25T05:34:24.812313Z",
     "start_time": "2019-10-25T05:34:24.707801Z"
    }
   },
   "outputs": [
    {
     "data": {
      "text/plain": [
       "Bike number                     0\n",
       "Rental datetime                 0\n",
       "Return datetime                 0\n",
       "Rental station                  0\n",
       "Return station                  0\n",
       "Duration                        0\n",
       "Rental station latitude     55813\n",
       "Rental station longitude    55813\n",
       "Return station latitude     53030\n",
       "Return station longitude    53030\n",
       "dtype: int64"
      ]
     },
     "execution_count": 19,
     "metadata": {},
     "output_type": "execute_result"
    }
   ],
   "source": [
    "# Check if we have any missing data:\n",
    "# - if rental station coordinates are missing -> bikes were rented outside official bike stations\n",
    "# - if return station coordinates are missing -> bikes were returned outside official bike stations\n",
    "bike_rentals_df.isna().sum()"
   ]
  },
  {
   "cell_type": "markdown",
   "metadata": {},
   "source": [
    "## Save interim results"
   ]
  },
  {
   "cell_type": "code",
   "execution_count": null,
   "metadata": {
    "ExecuteTime": {
     "start_time": "2019-10-25T05:34:05.850Z"
    }
   },
   "outputs": [],
   "source": [
    "# write interim file\n",
    "bike_rentals_records_interim_path = os.path.join(data_interim_folder, 'bike_rental_records.csv')\n",
    "bike_rentals_df.to_csv(path_or_buf=bike_rentals_records_interim_path, index=False)"
   ]
  }
 ],
 "metadata": {
  "file_extension": ".py",
  "kernelspec": {
   "display_name": "Python 3",
   "language": "python",
   "name": "python3"
  },
  "language_info": {
   "codemirror_mode": {
    "name": "ipython",
    "version": 3
   },
   "file_extension": ".py",
   "mimetype": "text/x-python",
   "name": "python",
   "nbconvert_exporter": "python",
   "pygments_lexer": "ipython3",
   "version": "3.7.4"
  },
  "mimetype": "text/x-python",
  "name": "python",
  "npconvert_exporter": "python",
  "pygments_lexer": "ipython3",
  "toc": {
   "base_numbering": 1,
   "nav_menu": {},
   "number_sections": true,
   "sideBar": true,
   "skip_h1_title": false,
   "title_cell": "Table of Contents",
   "title_sidebar": "Contents",
   "toc_cell": false,
   "toc_position": {
    "height": "calc(100% - 180px)",
    "left": "10px",
    "top": "150px",
    "width": "282.594px"
   },
   "toc_section_display": true,
   "toc_window_display": true
  },
  "version": 3
 },
 "nbformat": 4,
 "nbformat_minor": 2
}

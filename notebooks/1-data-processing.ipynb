{
 "cells": [
  {
   "cell_type": "markdown",
   "metadata": {},
   "source": [
    "# Data Processing"
   ]
  },
  {
   "cell_type": "markdown",
   "metadata": {},
   "source": [
    "The purpose of this notebook is to download data and process it. As a result we will get a dataset ready for further analyses and modeling."
   ]
  },
  {
   "cell_type": "markdown",
   "metadata": {},
   "source": [
    "# Table of Contents"
   ]
  },
  {
   "cell_type": "markdown",
   "metadata": {},
   "source": [
    "[1. Imports & Environment Configuration](#Imports-&-Environment-Configuration)"
   ]
  },
  {
   "cell_type": "markdown",
   "metadata": {},
   "source": [
    "# Imports & Environment Configuration"
   ]
  },
  {
   "cell_type": "code",
   "execution_count": 1,
   "metadata": {
    "ExecuteTime": {
     "end_time": "2019-10-25T04:52:53.038955Z",
     "start_time": "2019-10-25T04:52:52.011398Z"
    }
   },
   "outputs": [],
   "source": [
    "%load_ext autoreload\n",
    "\n",
    "import glob\n",
    "import json\n",
    "import matplotlib.pyplot as plt\n",
    "import os\n",
    "import pandas as pd\n",
    "\n",
    "if os.path.basename(os.getcwd()) == 'notebooks':\n",
    "    # Make it possible to import modules\n",
    "    import sys\n",
    "    sys.path.append(\"../\") \n",
    "\n",
    "from src.data.data_loading.bike_station_locations import BikeStationsLocations\n",
    "from src.data.data_loading.blob_downloader import BlobDownloader"
   ]
  },
  {
   "cell_type": "code",
   "execution_count": 2,
   "metadata": {
    "ExecuteTime": {
     "end_time": "2019-10-25T04:52:53.055693Z",
     "start_time": "2019-10-25T04:52:53.041131Z"
    }
   },
   "outputs": [],
   "source": [
    "# let matplotlib plots be part of Jupyter Notebook\n",
    "%matplotlib inline\n",
    "\n",
    "# set up higher resolution for matplotlib plots\n",
    "%config InlineBackend.figure_format = 'retina'"
   ]
  },
  {
   "cell_type": "markdown",
   "metadata": {},
   "source": [
    "## Environment Configuration Variables"
   ]
  },
  {
   "cell_type": "code",
   "execution_count": 3,
   "metadata": {
    "ExecuteTime": {
     "end_time": "2019-10-25T04:52:53.063593Z",
     "start_time": "2019-10-25T04:52:53.058010Z"
    }
   },
   "outputs": [],
   "source": [
    "# Determine the root folder of the project. The current working directory \n",
    "# may vary depending on whether the notebook is run in Jupyter Notebook or VS Code\n",
    "if os.path.basename(os.getcwd()) == 'notebooks':\n",
    "    project_root_folder = os.path.abspath(os.path.join(os.getcwd(), '..'))   \n",
    "else:\n",
    "    project_root_folder = os.getcwd()\n",
    "    \n",
    "# Set up paths to data folders\n",
    "data_raw_folder     = os.path.join(project_root_folder, 'data', 'raw')\n",
    "data_interim_folder = os.path.join(project_root_folder, 'data', 'interim')"
   ]
  },
  {
   "cell_type": "markdown",
   "metadata": {},
   "source": [
    "# Download data"
   ]
  },
  {
   "cell_type": "markdown",
   "metadata": {},
   "source": [
    "Download all needed data and clean it."
   ]
  },
  {
   "cell_type": "markdown",
   "metadata": {},
   "source": [
    "## Bike rental records"
   ]
  },
  {
   "cell_type": "markdown",
   "metadata": {},
   "source": [
    "### Download"
   ]
  },
  {
   "cell_type": "code",
   "execution_count": 4,
   "metadata": {
    "ExecuteTime": {
     "end_time": "2019-10-25T04:52:53.071067Z",
     "start_time": "2019-10-25T04:52:53.065816Z"
    }
   },
   "outputs": [],
   "source": [
    "# Provide config details for the Azure Storage container with data.\n",
    "account_name='<storage_account_name>'\n",
    "account_key='<storage_account_key>'\n",
    "container_name='<storage_container_name>' \n",
    "\n",
    "# Alternatively, they can be grabbed from the 'local.settings.json' file \n",
    "# (used by Azure Functions), if it exists.\n",
    "local_settings_file_path = os.path.join(project_root_folder, \n",
    "                                        'src', 'azurefunctions', 'local.settings.json')\n",
    "if os.path.exists(local_settings_file_path):\n",
    "    with open(local_settings_file_path, 'r') as f:\n",
    "        local_settings = json.load(f)\n",
    "        \n",
    "    account_name = local_settings['Values']['storage_account_name']\n",
    "    account_key = local_settings['Values']['storage_account_key']\n",
    "    container_name = local_settings['Values']['storage_container_name']"
   ]
  },
  {
   "cell_type": "code",
   "execution_count": 5,
   "metadata": {
    "ExecuteTime": {
     "end_time": "2019-10-25T04:52:53.602617Z",
     "start_time": "2019-10-25T04:52:53.072819Z"
    },
    "scrolled": false
   },
   "outputs": [
    {
     "name": "stdout",
     "output_type": "stream",
     "text": [
      "File already downloaded: Historia_przejazdow_2019-10-10_15_37_27.csv\n",
      "File already downloaded: Historia_przejazdow_2019-10-11_15_34_34.csv\n",
      "File already downloaded: Historia_przejazdow_2019-10-16_14_42_31.csv\n",
      "File already downloaded: Historia_przejazdow_2019-10-17_14_45_15.csv\n",
      "File already downloaded: Historia_przejazdow_2019-10-18_14_45_31.csv\n",
      "File already downloaded: Historia_przejazdow_2019-10-19_14_44_34.csv\n",
      "File already downloaded: Historia_przejazdow_2019-10-1_15_28_35.csv\n",
      "File already downloaded: Historia_przejazdow_2019-10-20_14_46_37.csv\n",
      "File already downloaded: Historia_przejazdow_2019-10-21_14_49_54.csv\n",
      "File already downloaded: Historia_przejazdow_2019-10-22_14_49_13.csv\n",
      "File already downloaded: Historia_przejazdow_2019-10-23_14_48_12.csv\n",
      "File already downloaded: Historia_przejazdow_2019-10-24_14_54_25.csv\n",
      "File already downloaded: Historia_przejazdow_2019-10-2_15_32_45.csv\n",
      "File already downloaded: Historia_przejazdow_2019-10-3_15_31_46.csv\n",
      "File already downloaded: Historia_przejazdow_2019-10-4_15_31_0.csv\n",
      "File already downloaded: Historia_przejazdow_2019-10-5_15_30_33.csv\n",
      "File already downloaded: Historia_przejazdow_2019-10-6_15_31_37.csv\n",
      "File already downloaded: Historia_przejazdow_2019-10-7_15_31_37.csv\n",
      "File already downloaded: Historia_przejazdow_2019-10-8_15_32_34.csv\n",
      "File already downloaded: Historia_przejazdow_2019-10-9_15_36_28.csv\n",
      "File already downloaded: Historia_przejazdow_2019-6-29_17_9_47.csv\n",
      "File already downloaded: Historia_przejazdow_2019-6-29_18_8_34.csv\n",
      "File already downloaded: Historia_przejazdow_2019-6-29_19_8_42.csv\n",
      "File already downloaded: Historia_przejazdow_2019-6-29_20_9_36.csv\n",
      "File already downloaded: Historia_przejazdow_2019-6-29_21_10_36.csv\n",
      "File already downloaded: Historia_przejazdow_2019-6-29_22_11_35.csv\n",
      "File already downloaded: Historia_przejazdow_2019-6-29_23_12_36.csv\n",
      "File already downloaded: Historia_przejazdow_2019-6-30_0_12_42.csv\n",
      "File already downloaded: Historia_przejazdow_2019-6-30_10_20_37.csv\n",
      "File already downloaded: Historia_przejazdow_2019-6-30_11_21_36.csv\n",
      "File already downloaded: Historia_przejazdow_2019-6-30_12_22_36.csv\n",
      "File already downloaded: Historia_przejazdow_2019-6-30_13_22_35.csv\n",
      "File already downloaded: Historia_przejazdow_2019-6-30_14_23_34.csv\n",
      "File already downloaded: Historia_przejazdow_2019-6-30_15_23_35.csv\n",
      "File already downloaded: Historia_przejazdow_2019-6-30_16_24_37.csv\n",
      "File already downloaded: Historia_przejazdow_2019-6-30_17_25_36.csv\n",
      "File already downloaded: Historia_przejazdow_2019-6-30_18_26_37.csv\n",
      "File already downloaded: Historia_przejazdow_2019-6-30_19_27_35.csv\n",
      "File already downloaded: Historia_przejazdow_2019-6-30_1_13_36.csv\n",
      "File already downloaded: Historia_przejazdow_2019-6-30_20_28_35.csv\n",
      "File already downloaded: Historia_przejazdow_2019-6-30_21_28_38.csv\n",
      "File already downloaded: Historia_przejazdow_2019-6-30_22_29_34.csv\n",
      "File already downloaded: Historia_przejazdow_2019-6-30_23_30_38.csv\n",
      "File already downloaded: Historia_przejazdow_2019-6-30_2_14_37.csv\n",
      "File already downloaded: Historia_przejazdow_2019-6-30_3_15_38.csv\n",
      "File already downloaded: Historia_przejazdow_2019-6-30_4_16_36.csv\n",
      "File already downloaded: Historia_przejazdow_2019-6-30_5_17_36.csv\n",
      "File already downloaded: Historia_przejazdow_2019-6-30_6_18_35.csv\n",
      "File already downloaded: Historia_przejazdow_2019-6-30_7_19_38.csv\n",
      "File already downloaded: Historia_przejazdow_2019-6-30_8_21_5.csv\n",
      "File already downloaded: Historia_przejazdow_2019-6-30_9_20_35.csv\n",
      "File already downloaded: Historia_przejazdow_2019-7-10_0_37_34.csv\n",
      "File already downloaded: Historia_przejazdow_2019-7-10_10_47_34.csv\n",
      "File already downloaded: Historia_przejazdow_2019-7-10_11_47_35.csv\n",
      "File already downloaded: Historia_przejazdow_2019-7-10_12_48_37.csv\n",
      "File already downloaded: Historia_przejazdow_2019-7-10_13_49_38.csv\n",
      "File already downloaded: Historia_przejazdow_2019-7-10_14_50_35.csv\n",
      "File already downloaded: Historia_przejazdow_2019-7-10_15_51_37.csv\n",
      "File already downloaded: Historia_przejazdow_2019-7-10_16_52_31.csv\n",
      "File already downloaded: Historia_przejazdow_2019-7-10_17_52_36.csv\n",
      "File already downloaded: Historia_przejazdow_2019-7-10_18_53_36.csv\n",
      "File already downloaded: Historia_przejazdow_2019-7-10_19_54_38.csv\n",
      "File already downloaded: Historia_przejazdow_2019-7-10_1_38_36.csv\n",
      "File already downloaded: Historia_przejazdow_2019-7-10_20_55_36.csv\n",
      "File already downloaded: Historia_przejazdow_2019-7-10_21_56_35.csv\n",
      "File already downloaded: Historia_przejazdow_2019-7-10_22_57_36.csv\n",
      "File already downloaded: Historia_przejazdow_2019-7-10_23_58_35.csv\n",
      "File already downloaded: Historia_przejazdow_2019-7-10_2_39_39.csv\n",
      "File already downloaded: Historia_przejazdow_2019-7-10_3_40_38.csv\n",
      "File already downloaded: Historia_przejazdow_2019-7-10_4_41_37.csv\n",
      "File already downloaded: Historia_przejazdow_2019-7-10_5_42_38.csv\n",
      "File already downloaded: Historia_przejazdow_2019-7-10_6_43_36.csv\n",
      "File already downloaded: Historia_przejazdow_2019-7-10_7_44_36.csv\n",
      "File already downloaded: Historia_przejazdow_2019-7-10_8_45_38.csv\n",
      "File already downloaded: Historia_przejazdow_2019-7-10_9_46_36.csv\n",
      "File already downloaded: Historia_przejazdow_2019-7-11_0_58_47.csv\n",
      "File already downloaded: Historia_przejazdow_2019-7-11_10_5_36.csv\n",
      "File already downloaded: Historia_przejazdow_2019-7-11_11_6_39.csv\n",
      "File already downloaded: Historia_przejazdow_2019-7-11_12_7_35.csv\n",
      "File already downloaded: Historia_przejazdow_2019-7-11_13_8_37.csv\n",
      "File already downloaded: Historia_przejazdow_2019-7-11_14_9_36.csv\n",
      "File already downloaded: Historia_przejazdow_2019-7-11_15_10_37.csv\n",
      "File already downloaded: Historia_przejazdow_2019-7-11_16_11_34.csv\n",
      "File already downloaded: Historia_przejazdow_2019-7-11_17_12_37.csv\n",
      "File already downloaded: Historia_przejazdow_2019-7-11_18_13_37.csv\n",
      "File already downloaded: Historia_przejazdow_2019-7-11_19_14_38.csv\n",
      "File already downloaded: Historia_przejazdow_2019-7-11_1_59_36.csv\n",
      "File already downloaded: Historia_przejazdow_2019-7-11_20_15_35.csv\n",
      "File already downloaded: Historia_przejazdow_2019-7-11_21_16_37.csv\n",
      "File already downloaded: Historia_przejazdow_2019-7-11_22_17_35.csv\n",
      "File already downloaded: Historia_przejazdow_2019-7-11_23_18_38.csv\n",
      "File already downloaded: Historia_przejazdow_2019-7-11_3_0_37.csv\n",
      "File already downloaded: Historia_przejazdow_2019-7-11_4_0_38.csv\n",
      "File already downloaded: Historia_przejazdow_2019-7-11_5_0_40.csv\n",
      "File already downloaded: Historia_przejazdow_2019-7-11_6_1_39.csv\n",
      "File already downloaded: Historia_przejazdow_2019-7-11_7_2_36.csv\n",
      "File already downloaded: Historia_przejazdow_2019-7-11_8_3_35.csv\n",
      "File already downloaded: Historia_przejazdow_2019-7-11_9_4_36.csv\n",
      "File already downloaded: Historia_przejazdow_2019-7-12_0_19_41.csv\n",
      "File already downloaded: Historia_przejazdow_2019-7-12_10_27_38.csv\n",
      "File already downloaded: Historia_przejazdow_2019-7-12_11_28_35.csv\n",
      "File already downloaded: Historia_przejazdow_2019-7-12_12_29_36.csv\n",
      "File already downloaded: Historia_przejazdow_2019-7-12_13_30_35.csv\n",
      "File already downloaded: Historia_przejazdow_2019-7-12_14_31_37.csv\n",
      "File already downloaded: Historia_przejazdow_2019-7-12_15_32_33.csv\n",
      "File already downloaded: Historia_przejazdow_2019-7-12_16_33_37.csv\n",
      "File already downloaded: Historia_przejazdow_2019-7-12_17_34_36.csv\n",
      "File already downloaded: Historia_przejazdow_2019-7-12_18_35_35.csv\n",
      "File already downloaded: Historia_przejazdow_2019-7-12_19_35_38.csv\n",
      "File already downloaded: Historia_przejazdow_2019-7-12_1_20_37.csv\n",
      "File already downloaded: Historia_przejazdow_2019-7-12_20_36_35.csv\n",
      "File already downloaded: Historia_przejazdow_2019-7-12_21_37_36.csv\n",
      "File already downloaded: Historia_przejazdow_2019-7-12_22_38_38.csv\n",
      "File already downloaded: Historia_przejazdow_2019-7-12_23_39_35.csv\n",
      "File already downloaded: Historia_przejazdow_2019-7-12_2_21_37.csv\n",
      "File already downloaded: Historia_przejazdow_2019-7-12_3_22_37.csv\n",
      "File already downloaded: Historia_przejazdow_2019-7-12_4_22_39.csv\n",
      "File already downloaded: Historia_przejazdow_2019-7-12_5_23_37.csv\n",
      "File already downloaded: Historia_przejazdow_2019-7-12_6_24_34.csv\n",
      "File already downloaded: Historia_przejazdow_2019-7-12_7_24_36.csv\n",
      "File already downloaded: Historia_przejazdow_2019-7-12_8_25_37.csv\n",
      "File already downloaded: Historia_przejazdow_2019-7-12_9_26_37.csv\n",
      "File already downloaded: Historia_przejazdow_2019-7-13_0_39_40.csv\n",
      "File already downloaded: Historia_przejazdow_2019-7-13_10_45_37.csv\n",
      "File already downloaded: Historia_przejazdow_2019-7-13_11_46_36.csv\n",
      "File already downloaded: Historia_przejazdow_2019-7-13_12_47_34.csv\n",
      "File already downloaded: Historia_przejazdow_2019-7-13_13_48_35.csv\n",
      "File already downloaded: Historia_przejazdow_2019-7-13_14_48_37.csv\n",
      "File already downloaded: Historia_przejazdow_2019-7-13_15_49_34.csv\n",
      "File already downloaded: Historia_przejazdow_2019-7-13_16_50_36.csv\n",
      "File already downloaded: Historia_przejazdow_2019-7-13_17_51_34.csv\n",
      "File already downloaded: Historia_przejazdow_2019-7-13_18_52_36.csv\n",
      "File already downloaded: Historia_przejazdow_2019-7-13_19_53_35.csv\n",
      "File already downloaded: Historia_przejazdow_2019-7-13_1_40_36.csv\n",
      "File already downloaded: Historia_przejazdow_2019-7-13_20_54_35.csv\n",
      "File already downloaded: Historia_przejazdow_2019-7-13_21_55_35.csv\n",
      "File already downloaded: Historia_przejazdow_2019-7-13_22_55_39.csv\n",
      "File already downloaded: Historia_przejazdow_2019-7-13_23_56_35.csv\n",
      "File already downloaded: Historia_przejazdow_2019-7-13_2_41_35.csv\n",
      "File already downloaded: Historia_przejazdow_2019-7-13_3_41_37.csv\n",
      "File already downloaded: Historia_przejazdow_2019-7-13_4_42_35.csv\n",
      "File already downloaded: Historia_przejazdow_2019-7-13_5_42_40.csv\n",
      "File already downloaded: Historia_przejazdow_2019-7-13_6_43_37.csv\n",
      "File already downloaded: Historia_przejazdow_2019-7-13_7_44_34.csv\n",
      "File already downloaded: Historia_przejazdow_2019-7-13_8_44_39.csv\n",
      "File already downloaded: Historia_przejazdow_2019-7-13_9_45_34.csv\n",
      "File already downloaded: Historia_przejazdow_2019-7-14_0_56_38.csv\n",
      "File already downloaded: Historia_przejazdow_2019-7-14_10_3_34.csv\n",
      "File already downloaded: Historia_przejazdow_2019-7-14_11_3_36.csv\n",
      "File already downloaded: Historia_przejazdow_2019-7-14_12_4_35.csv\n",
      "File already downloaded: Historia_przejazdow_2019-7-14_13_5_36.csv\n",
      "File already downloaded: Historia_przejazdow_2019-7-14_14_6_34.csv\n",
      "File already downloaded: Historia_przejazdow_2019-7-14_15_6_35.csv\n",
      "File already downloaded: Historia_przejazdow_2019-7-14_16_7_38.csv\n",
      "File already downloaded: Historia_przejazdow_2019-7-14_17_8_36.csv\n",
      "File already downloaded: Historia_przejazdow_2019-7-14_18_9_36.csv\n",
      "File already downloaded: Historia_przejazdow_2019-7-14_19_10_34.csv\n",
      "File already downloaded: Historia_przejazdow_2019-7-14_1_56_39.csv\n",
      "File already downloaded: Historia_przejazdow_2019-7-14_20_11_38.csv\n",
      "File already downloaded: Historia_przejazdow_2019-7-14_21_11_43.csv\n",
      "File already downloaded: Historia_przejazdow_2019-7-14_22_12_35.csv\n",
      "File already downloaded: Historia_przejazdow_2019-7-14_23_13_36.csv\n",
      "File already downloaded: Historia_przejazdow_2019-7-14_2_57_36.csv\n",
      "File already downloaded: Historia_przejazdow_2019-7-14_3_58_35.csv\n",
      "File already downloaded: Historia_przejazdow_2019-7-14_4_58_37.csv\n",
      "File already downloaded: Historia_przejazdow_2019-7-14_5_59_38.csv\n",
      "File already downloaded: Historia_przejazdow_2019-7-14_7_0_37.csv\n",
      "File already downloaded: Historia_przejazdow_2019-7-14_8_1_36.csv\n",
      "File already downloaded: Historia_przejazdow_2019-7-14_9_2_37.csv\n",
      "File already downloaded: Historia_przejazdow_2019-7-15_0_14_34.csv\n",
      "File already downloaded: Historia_przejazdow_2019-7-15_10_22_36.csv\n",
      "File already downloaded: Historia_przejazdow_2019-7-15_11_23_33.csv\n",
      "File already downloaded: Historia_przejazdow_2019-7-15_12_24_35.csv\n",
      "File already downloaded: Historia_przejazdow_2019-7-15_13_24_37.csv\n",
      "File already downloaded: Historia_przejazdow_2019-7-15_14_25_35.csv\n",
      "File already downloaded: Historia_przejazdow_2019-7-15_1_14_37.csv\n",
      "File already downloaded: Historia_przejazdow_2019-7-15_2_15_34.csv\n",
      "File already downloaded: Historia_przejazdow_2019-7-15_3_16_35.csv\n",
      "File already downloaded: Historia_przejazdow_2019-7-15_4_16_39.csv\n",
      "File already downloaded: Historia_przejazdow_2019-7-15_5_17_35.csv\n",
      "File already downloaded: Historia_przejazdow_2019-7-15_6_18_41.csv\n",
      "File already downloaded: Historia_przejazdow_2019-7-15_7_19_37.csv\n",
      "File already downloaded: Historia_przejazdow_2019-7-15_8_20_35.csv\n",
      "File already downloaded: Historia_przejazdow_2019-7-15_9_21_36.csv\n",
      "File already downloaded: Historia_przejazdow_2019-7-16_14_26_33.csv\n",
      "File already downloaded: Historia_przejazdow_2019-7-17_14_26_37.csv\n",
      "File already downloaded: Historia_przejazdow_2019-7-18_14_27_41.csv\n",
      "File already downloaded: Historia_przejazdow_2019-7-19_14_28_31.csv\n",
      "File already downloaded: Historia_przejazdow_2019-7-1_0_31_34.csv\n",
      "File already downloaded: Historia_przejazdow_2019-7-1_10_40_36.csv\n",
      "File already downloaded: Historia_przejazdow_2019-7-1_11_41_37.csv\n",
      "File already downloaded: Historia_przejazdow_2019-7-1_12_42_38.csv\n",
      "File already downloaded: Historia_przejazdow_2019-7-1_13_43_34.csv\n",
      "File already downloaded: Historia_przejazdow_2019-7-1_14_44_35.csv\n",
      "File already downloaded: Historia_przejazdow_2019-7-1_15_45_36.csv\n",
      "File already downloaded: Historia_przejazdow_2019-7-1_16_46_38.csv\n",
      "File already downloaded: Historia_przejazdow_2019-7-1_17_47_36.csv\n",
      "File already downloaded: Historia_przejazdow_2019-7-1_18_48_36.csv\n",
      "File already downloaded: Historia_przejazdow_2019-7-1_19_49_35.csv\n",
      "File already downloaded: Historia_przejazdow_2019-7-1_1_32_36.csv\n",
      "File already downloaded: Historia_przejazdow_2019-7-1_20_50_37.csv\n",
      "File already downloaded: Historia_przejazdow_2019-7-1_21_51_35.csv\n",
      "File already downloaded: Historia_przejazdow_2019-7-1_22_52_39.csv\n",
      "File already downloaded: Historia_przejazdow_2019-7-1_23_53_35.csv\n",
      "File already downloaded: Historia_przejazdow_2019-7-1_2_33_35.csv\n",
      "File already downloaded: Historia_przejazdow_2019-7-1_3_34_36.csv\n",
      "File already downloaded: Historia_przejazdow_2019-7-1_4_35_39.csv\n",
      "File already downloaded: Historia_przejazdow_2019-7-1_5_36_37.csv\n",
      "File already downloaded: Historia_przejazdow_2019-7-1_6_37_37.csv\n",
      "File already downloaded: Historia_przejazdow_2019-7-1_7_38_36.csv\n",
      "File already downloaded: Historia_przejazdow_2019-7-1_8_39_35.csv\n",
      "File already downloaded: Historia_przejazdow_2019-7-1_9_39_37.csv\n",
      "File already downloaded: Historia_przejazdow_2019-7-20_14_29_32.csv\n",
      "File already downloaded: Historia_przejazdow_2019-7-21_14_29_34.csv\n",
      "File already downloaded: Historia_przejazdow_2019-7-22_14_30_34.csv\n",
      "File already downloaded: Historia_przejazdow_2019-7-23_14_30_36.csv\n",
      "File already downloaded: Historia_przejazdow_2019-7-24_10_49_5.csv\n",
      "File already downloaded: Historia_przejazdow_2019-7-24_14_31_31.csv\n",
      "File already downloaded: Historia_przejazdow_2019-7-25_14_31_34.csv\n",
      "File already downloaded: Historia_przejazdow_2019-7-26_14_32_35.csv\n",
      "File already downloaded: Historia_przejazdow_2019-7-27_14_33_34.csv\n",
      "File already downloaded: Historia_przejazdow_2019-7-28_14_34_39.csv\n",
      "File already downloaded: Historia_przejazdow_2019-7-29_14_35_34.csv\n",
      "File already downloaded: Historia_przejazdow_2019-7-2_0_54_36.csv\n",
      "File already downloaded: Historia_przejazdow_2019-7-2_10_1_38.csv\n",
      "File already downloaded: Historia_przejazdow_2019-7-2_11_2_37.csv\n",
      "File already downloaded: Historia_przejazdow_2019-7-2_12_3_38.csv\n",
      "File already downloaded: Historia_przejazdow_2019-7-2_13_4_36.csv\n",
      "File already downloaded: Historia_przejazdow_2019-7-2_14_5_36.csv\n",
      "File already downloaded: Historia_przejazdow_2019-7-2_15_6_36.csv\n",
      "File already downloaded: Historia_przejazdow_2019-7-2_16_7_37.csv\n",
      "File already downloaded: Historia_przejazdow_2019-7-2_17_8_37.csv\n",
      "File already downloaded: Historia_przejazdow_2019-7-2_18_9_35.csv\n",
      "File already downloaded: Historia_przejazdow_2019-7-2_19_10_36.csv\n",
      "File already downloaded: Historia_przejazdow_2019-7-2_1_55_35.csv\n",
      "File already downloaded: Historia_przejazdow_2019-7-2_20_11_36.csv\n",
      "File already downloaded: Historia_przejazdow_2019-7-2_21_12_38.csv\n",
      "File already downloaded: Historia_przejazdow_2019-7-2_22_13_39.csv\n",
      "File already downloaded: Historia_przejazdow_2019-7-2_23_14_36.csv\n",
      "File already downloaded: Historia_przejazdow_2019-7-2_2_55_36.csv\n",
      "File already downloaded: Historia_przejazdow_2019-7-2_3_55_38.csv\n",
      "File already downloaded: Historia_przejazdow_2019-7-2_4_56_36.csv\n",
      "File already downloaded: Historia_przejazdow_2019-7-2_5_57_36.csv\n",
      "File already downloaded: Historia_przejazdow_2019-7-2_6_58_39.csv\n",
      "File already downloaded: Historia_przejazdow_2019-7-2_7_59_36.csv\n",
      "File already downloaded: Historia_przejazdow_2019-7-2_9_0_34.csv\n",
      "File already downloaded: Historia_przejazdow_2019-7-30_14_36_33.csv\n",
      "File already downloaded: Historia_przejazdow_2019-7-31_14_37_37.csv\n",
      "File already downloaded: Historia_przejazdow_2019-7-3_0_15_34.csv\n",
      "File already downloaded: Historia_przejazdow_2019-7-3_10_22_36.csv\n",
      "File already downloaded: Historia_przejazdow_2019-7-3_11_23_36.csv\n",
      "File already downloaded: Historia_przejazdow_2019-7-3_12_24_36.csv\n",
      "File already downloaded: Historia_przejazdow_2019-7-3_13_25_34.csv\n",
      "File already downloaded: Historia_przejazdow_2019-7-3_14_26_36.csv\n",
      "File already downloaded: Historia_przejazdow_2019-7-3_15_27_34.csv\n",
      "File already downloaded: Historia_przejazdow_2019-7-3_16_28_37.csv\n",
      "File already downloaded: Historia_przejazdow_2019-7-3_17_29_32.csv\n",
      "File already downloaded: Historia_przejazdow_2019-7-3_18_29_35.csv\n",
      "File already downloaded: Historia_przejazdow_2019-7-3_19_30_37.csv\n",
      "File already downloaded: Historia_przejazdow_2019-7-3_1_15_35.csv\n",
      "File already downloaded: Historia_przejazdow_2019-7-3_20_31_35.csv\n",
      "File already downloaded: Historia_przejazdow_2019-7-3_21_32_38.csv\n",
      "File already downloaded: Historia_przejazdow_2019-7-3_22_33_35.csv\n",
      "File already downloaded: Historia_przejazdow_2019-7-3_23_34_38.csv\n",
      "File already downloaded: Historia_przejazdow_2019-7-3_2_15_37.csv\n",
      "File already downloaded: Historia_przejazdow_2019-7-3_3_16_35.csv\n",
      "File already downloaded: Historia_przejazdow_2019-7-3_4_16_38.csv\n",
      "File already downloaded: Historia_przejazdow_2019-7-3_5_17_39.csv\n",
      "File already downloaded: Historia_przejazdow_2019-7-3_6_18_35.csv\n",
      "File already downloaded: Historia_przejazdow_2019-7-3_7_19_37.csv\n",
      "File already downloaded: Historia_przejazdow_2019-7-3_8_20_36.csv\n",
      "File already downloaded: Historia_przejazdow_2019-7-3_9_21_36.csv\n",
      "File already downloaded: Historia_przejazdow_2019-7-4_0_35_34.csv\n",
      "File already downloaded: Historia_przejazdow_2019-7-4_10_43_36.csv\n",
      "File already downloaded: Historia_przejazdow_2019-7-4_11_44_35.csv\n",
      "File already downloaded: Historia_przejazdow_2019-7-4_12_45_37.csv\n",
      "File already downloaded: Historia_przejazdow_2019-7-4_13_46_34.csv\n",
      "File already downloaded: Historia_przejazdow_2019-7-4_14_46_34.csv\n",
      "File already downloaded: Historia_przejazdow_2019-7-4_15_47_36.csv\n",
      "File already downloaded: Historia_przejazdow_2019-7-4_16_48_36.csv\n",
      "File already downloaded: Historia_przejazdow_2019-7-4_17_49_36.csv\n",
      "File already downloaded: Historia_przejazdow_2019-7-4_18_50_36.csv\n",
      "File already downloaded: Historia_przejazdow_2019-7-4_19_51_37.csv\n",
      "File already downloaded: Historia_przejazdow_2019-7-4_1_35_37.csv\n",
      "File already downloaded: Historia_przejazdow_2019-7-4_20_52_35.csv\n",
      "File already downloaded: Historia_przejazdow_2019-7-4_21_53_38.csv\n",
      "File already downloaded: Historia_przejazdow_2019-7-4_22_54_35.csv\n",
      "File already downloaded: Historia_przejazdow_2019-7-4_23_55_36.csv\n",
      "File already downloaded: Historia_przejazdow_2019-7-4_2_36_34.csv\n",
      "File already downloaded: Historia_przejazdow_2019-7-4_3_37_36.csv\n",
      "File already downloaded: Historia_przejazdow_2019-7-4_4_37_37.csv\n",
      "File already downloaded: Historia_przejazdow_2019-7-4_5_38_38.csv\n",
      "File already downloaded: Historia_przejazdow_2019-7-4_6_39_37.csv\n",
      "File already downloaded: Historia_przejazdow_2019-7-4_7_40_36.csv\n",
      "File already downloaded: Historia_przejazdow_2019-7-4_8_41_36.csv\n",
      "File already downloaded: Historia_przejazdow_2019-7-4_9_42_36.csv\n",
      "File already downloaded: Historia_przejazdow_2019-7-5_0_56_35.csv\n",
      "File already downloaded: Historia_przejazdow_2019-7-5_10_4_36.csv\n",
      "File already downloaded: Historia_przejazdow_2019-7-5_11_5_37.csv\n",
      "File already downloaded: Historia_przejazdow_2019-7-5_12_5_38.csv\n",
      "File already downloaded: Historia_przejazdow_2019-7-5_13_6_37.csv\n",
      "File already downloaded: Historia_przejazdow_2019-7-5_14_7_34.csv\n",
      "File already downloaded: Historia_przejazdow_2019-7-5_15_8_36.csv\n",
      "File already downloaded: Historia_przejazdow_2019-7-5_16_9_34.csv\n",
      "File already downloaded: Historia_przejazdow_2019-7-5_17_10_37.csv\n",
      "File already downloaded: Historia_przejazdow_2019-7-5_18_11_35.csv\n",
      "File already downloaded: Historia_przejazdow_2019-7-5_19_12_38.csv\n",
      "File already downloaded: Historia_przejazdow_2019-7-5_1_57_38.csv\n",
      "File already downloaded: Historia_przejazdow_2019-7-5_20_13_32.csv\n",
      "File already downloaded: Historia_przejazdow_2019-7-5_21_13_35.csv\n",
      "File already downloaded: Historia_przejazdow_2019-7-5_22_14_36.csv\n",
      "File already downloaded: Historia_przejazdow_2019-7-5_23_15_34.csv\n",
      "File already downloaded: Historia_przejazdow_2019-7-5_2_58_36.csv\n",
      "File already downloaded: Historia_przejazdow_2019-7-5_3_59_37.csv\n",
      "File already downloaded: Historia_przejazdow_2019-7-5_5_0_37.csv\n",
      "File already downloaded: Historia_przejazdow_2019-7-5_6_1_37.csv\n",
      "File already downloaded: Historia_przejazdow_2019-7-5_7_2_37.csv\n",
      "File already downloaded: Historia_przejazdow_2019-7-5_8_3_36.csv\n",
      "File already downloaded: Historia_przejazdow_2019-7-5_9_3_38.csv\n",
      "File already downloaded: Historia_przejazdow_2019-7-6_0_16_36.csv\n",
      "File already downloaded: Historia_przejazdow_2019-7-6_10_25_36.csv\n",
      "File already downloaded: Historia_przejazdow_2019-7-6_11_26_33.csv\n",
      "File already downloaded: Historia_przejazdow_2019-7-6_12_27_36.csv\n",
      "File already downloaded: Historia_przejazdow_2019-7-6_13_28_33.csv\n",
      "File already downloaded: Historia_przejazdow_2019-7-6_14_28_36.csv\n",
      "File already downloaded: Historia_przejazdow_2019-7-6_15_29_36.csv\n",
      "File already downloaded: Historia_przejazdow_2019-7-6_16_30_34.csv\n",
      "File already downloaded: Historia_przejazdow_2019-7-6_17_31_36.csv\n",
      "File already downloaded: Historia_przejazdow_2019-7-6_18_32_32.csv\n",
      "File already downloaded: Historia_przejazdow_2019-7-6_19_32_34.csv\n",
      "File already downloaded: Historia_przejazdow_2019-7-6_1_17_35.csv\n",
      "File already downloaded: Historia_przejazdow_2019-7-6_20_33_37.csv\n",
      "File already downloaded: Historia_przejazdow_2019-7-6_21_34_33.csv\n",
      "File already downloaded: Historia_przejazdow_2019-7-6_22_34_36.csv\n",
      "File already downloaded: Historia_przejazdow_2019-7-6_23_35_35.csv\n",
      "File already downloaded: Historia_przejazdow_2019-7-6_2_18_37.csv\n",
      "File already downloaded: Historia_przejazdow_2019-7-6_3_19_37.csv\n",
      "File already downloaded: Historia_przejazdow_2019-7-6_4_20_38.csv\n",
      "File already downloaded: Historia_przejazdow_2019-7-6_5_21_38.csv\n",
      "File already downloaded: Historia_przejazdow_2019-7-6_6_22_37.csv\n",
      "File already downloaded: Historia_przejazdow_2019-7-6_7_23_34.csv\n",
      "File already downloaded: Historia_przejazdow_2019-7-6_8_23_37.csv\n",
      "File already downloaded: Historia_przejazdow_2019-7-6_9_24_35.csv\n",
      "File already downloaded: Historia_przejazdow_2019-7-7_0_36_35.csv\n",
      "File already downloaded: Historia_przejazdow_2019-7-7_10_45_34.csv\n",
      "File already downloaded: Historia_przejazdow_2019-7-7_11_46_37.csv\n",
      "File already downloaded: Historia_przejazdow_2019-7-7_12_47_35.csv\n",
      "File already downloaded: Historia_przejazdow_2019-7-7_13_48_37.csv\n",
      "File already downloaded: Historia_przejazdow_2019-7-7_14_49_35.csv\n",
      "File already downloaded: Historia_przejazdow_2019-7-7_15_50_42.csv\n",
      "File already downloaded: Historia_przejazdow_2019-7-7_16_51_34.csv\n",
      "File already downloaded: Historia_przejazdow_2019-7-7_17_52_37.csv\n",
      "File already downloaded: Historia_przejazdow_2019-7-7_18_53_33.csv\n",
      "File already downloaded: Historia_przejazdow_2019-7-7_19_53_37.csv\n",
      "File already downloaded: Historia_przejazdow_2019-7-7_1_37_37.csv\n",
      "File already downloaded: Historia_przejazdow_2019-7-7_20_54_35.csv\n",
      "File already downloaded: Historia_przejazdow_2019-7-7_21_55_34.csv\n",
      "File already downloaded: Historia_przejazdow_2019-7-7_22_56_36.csv\n",
      "File already downloaded: Historia_przejazdow_2019-7-7_23_57_35.csv\n",
      "File already downloaded: Historia_przejazdow_2019-7-7_2_38_36.csv\n",
      "File already downloaded: Historia_przejazdow_2019-7-7_3_39_35.csv\n",
      "File already downloaded: Historia_przejazdow_2019-7-7_4_39_37.csv\n",
      "File already downloaded: Historia_przejazdow_2019-7-7_5_40_37.csv\n",
      "File already downloaded: Historia_przejazdow_2019-7-7_6_41_38.csv\n",
      "File already downloaded: Historia_przejazdow_2019-7-7_7_42_37.csv\n",
      "File already downloaded: Historia_przejazdow_2019-7-7_8_43_37.csv\n",
      "File already downloaded: Historia_przejazdow_2019-7-7_9_44_36.csv\n",
      "File already downloaded: Historia_przejazdow_2019-7-8_0_58_36.csv\n",
      "File already downloaded: Historia_przejazdow_2019-7-8_10_5_36.csv\n",
      "File already downloaded: Historia_przejazdow_2019-7-8_11_6_37.csv\n",
      "File already downloaded: Historia_przejazdow_2019-7-8_12_7_44.csv\n",
      "File already downloaded: Historia_przejazdow_2019-7-8_13_8_37.csv\n",
      "File already downloaded: Historia_przejazdow_2019-7-8_14_9_37.csv\n",
      "File already downloaded: Historia_przejazdow_2019-7-8_15_10_35.csv\n",
      "File already downloaded: Historia_przejazdow_2019-7-8_16_11_37.csv\n",
      "File already downloaded: Historia_przejazdow_2019-7-8_17_11_38.csv\n",
      "File already downloaded: Historia_przejazdow_2019-7-8_18_12_34.csv\n",
      "File already downloaded: Historia_przejazdow_2019-7-8_19_13_36.csv\n",
      "File already downloaded: Historia_przejazdow_2019-7-8_1_58_39.csv\n",
      "File already downloaded: Historia_przejazdow_2019-7-8_20_14_33.csv\n",
      "File already downloaded: Historia_przejazdow_2019-7-8_21_14_35.csv\n",
      "File already downloaded: Historia_przejazdow_2019-7-8_22_15_36.csv\n",
      "File already downloaded: Historia_przejazdow_2019-7-8_23_16_35.csv\n",
      "File already downloaded: Historia_przejazdow_2019-7-8_2_59_35.csv\n",
      "File already downloaded: Historia_przejazdow_2019-7-8_4_0_38.csv\n",
      "File already downloaded: Historia_przejazdow_2019-7-8_5_1_35.csv\n",
      "File already downloaded: Historia_przejazdow_2019-7-8_6_2_35.csv\n",
      "File already downloaded: Historia_przejazdow_2019-7-8_7_2_38.csv\n",
      "File already downloaded: Historia_przejazdow_2019-7-8_8_3_36.csv\n",
      "File already downloaded: Historia_przejazdow_2019-7-8_9_4_36.csv\n",
      "File already downloaded: Historia_przejazdow_2019-7-9_0_17_36.csv\n",
      "File already downloaded: Historia_przejazdow_2019-7-9_10_25_37.csv\n",
      "File already downloaded: Historia_przejazdow_2019-7-9_11_26_36.csv\n",
      "File already downloaded: Historia_przejazdow_2019-7-9_12_27_35.csv\n",
      "File already downloaded: Historia_przejazdow_2019-7-9_13_28_38.csv\n",
      "File already downloaded: Historia_przejazdow_2019-7-9_14_29_33.csv\n",
      "File already downloaded: Historia_przejazdow_2019-7-9_15_29_36.csv\n",
      "File already downloaded: Historia_przejazdow_2019-7-9_16_30_41.csv\n",
      "File already downloaded: Historia_przejazdow_2019-7-9_17_31_34.csv\n",
      "File already downloaded: Historia_przejazdow_2019-7-9_18_32_36.csv\n",
      "File already downloaded: Historia_przejazdow_2019-7-9_19_33_34.csv\n",
      "File already downloaded: Historia_przejazdow_2019-7-9_1_18_36.csv\n",
      "File already downloaded: Historia_przejazdow_2019-7-9_20_34_35.csv\n",
      "File already downloaded: Historia_przejazdow_2019-7-9_21_34_37.csv\n",
      "File already downloaded: Historia_przejazdow_2019-7-9_22_35_37.csv\n",
      "File already downloaded: Historia_przejazdow_2019-7-9_23_36_34.csv\n",
      "File already downloaded: Historia_przejazdow_2019-7-9_2_19_36.csv\n",
      "File already downloaded: Historia_przejazdow_2019-7-9_3_19_40.csv\n",
      "File already downloaded: Historia_przejazdow_2019-7-9_4_20_39.csv\n",
      "File already downloaded: Historia_przejazdow_2019-7-9_5_21_37.csv\n",
      "File already downloaded: Historia_przejazdow_2019-7-9_6_22_36.csv\n",
      "File already downloaded: Historia_przejazdow_2019-7-9_7_23_36.csv\n",
      "File already downloaded: Historia_przejazdow_2019-7-9_8_24_37.csv\n",
      "File already downloaded: Historia_przejazdow_2019-7-9_9_25_35.csv\n",
      "File already downloaded: Historia_przejazdow_2019-8-14_10_5_13.csv\n",
      "File already downloaded: Historia_przejazdow_2019-8-14_14_46_35.csv\n",
      "File already downloaded: Historia_przejazdow_2019-8-14_9_52_18.csv\n",
      "File already downloaded: Historia_przejazdow_2019-8-15_14_47_35.csv\n",
      "File already downloaded: Historia_przejazdow_2019-8-16_14_48_33.csv\n",
      "File already downloaded: Historia_przejazdow_2019-8-17_14_49_36.csv\n",
      "File already downloaded: Historia_przejazdow_2019-8-18_14_50_35.csv\n",
      "File already downloaded: Historia_przejazdow_2019-8-19_14_51_33.csv\n",
      "File already downloaded: Historia_przejazdow_2019-8-1_14_38_32.csv\n",
      "File already downloaded: Historia_przejazdow_2019-8-20_14_52_35.csv\n",
      "File already downloaded: Historia_przejazdow_2019-8-21_14_52_36.csv\n",
      "File already downloaded: Historia_przejazdow_2019-8-22_14_53_34.csv\n",
      "File already downloaded: Historia_przejazdow_2019-8-23_14_54_35.csv\n",
      "File already downloaded: Historia_przejazdow_2019-8-24_14_55_44.csv\n",
      "File already downloaded: Historia_przejazdow_2019-8-25_14_56_35.csv\n",
      "File already downloaded: Historia_przejazdow_2019-8-26_14_57_35.csv\n",
      "File already downloaded: Historia_przejazdow_2019-8-27_14_59_58.csv\n",
      "File already downloaded: Historia_przejazdow_2019-8-28_14_58_33.csv\n",
      "File already downloaded: Historia_przejazdow_2019-8-29_14_59_34.csv\n",
      "File already downloaded: Historia_przejazdow_2019-8-2_14_38_35.csv\n",
      "File already downloaded: Historia_przejazdow_2019-8-30_15_0_36.csv\n",
      "File already downloaded: Historia_przejazdow_2019-8-31_15_1_38.csv\n",
      "File already downloaded: Historia_przejazdow_2019-8-3_14_40_1.csv\n",
      "File already downloaded: Historia_przejazdow_2019-8-4_14_40_34.csv\n",
      "File already downloaded: Historia_przejazdow_2019-8-5_14_41_33.csv\n",
      "File already downloaded: Historia_przejazdow_2019-8-6_14_42_37.csv\n",
      "File already downloaded: Historia_przejazdow_2019-8-7_14_43_33.csv\n",
      "File already downloaded: Historia_przejazdow_2019-8-8_14_43_35.csv\n",
      "File already downloaded: Historia_przejazdow_2019-9-10_15_11_46.csv\n",
      "File already downloaded: Historia_przejazdow_2019-9-11_15_11_37.csv\n",
      "File already downloaded: Historia_przejazdow_2019-9-12_15_12_34.csv\n",
      "File already downloaded: Historia_przejazdow_2019-9-13_15_13_35.csv\n",
      "File already downloaded: Historia_przejazdow_2019-9-14_15_14_33.csv\n",
      "File already downloaded: Historia_przejazdow_2019-9-15_15_18_17.csv\n",
      "File already downloaded: Historia_przejazdow_2019-9-16_15_19_24.csv\n",
      "File already downloaded: Historia_przejazdow_2019-9-17_15_20_22.csv\n",
      "File already downloaded: Historia_przejazdow_2019-9-18_15_18_35.csv\n",
      "File already downloaded: Historia_przejazdow_2019-9-19_15_19_30.csv\n",
      "File already downloaded: Historia_przejazdow_2019-9-1_15_2_36.csv\n",
      "File already downloaded: Historia_przejazdow_2019-9-20_15_21_37.csv\n",
      "File already downloaded: Historia_przejazdow_2019-9-21_15_20_34.csv\n",
      "File already downloaded: Historia_przejazdow_2019-9-22_15_23_49.csv\n",
      "File already downloaded: Historia_przejazdow_2019-9-23_15_22_35.csv\n",
      "File already downloaded: Historia_przejazdow_2019-9-24_15_25_10.csv\n",
      "File already downloaded: Historia_przejazdow_2019-9-25_15_23_33.csv\n",
      "File already downloaded: Historia_przejazdow_2019-9-26_15_24_36.csv\n",
      "File already downloaded: Historia_przejazdow_2019-9-27_15_25_33.csv\n",
      "File already downloaded: Historia_przejazdow_2019-9-28_15_25_34.csv\n",
      "File already downloaded: Historia_przejazdow_2019-9-29_15_28_22.csv\n",
      "File already downloaded: Historia_przejazdow_2019-9-2_15_3_34.csv\n",
      "File already downloaded: Historia_przejazdow_2019-9-30_15_26_33.csv\n",
      "File already downloaded: Historia_przejazdow_2019-9-3_15_5_29.csv\n",
      "File already downloaded: Historia_przejazdow_2019-9-4_15_5_35.csv\n",
      "File already downloaded: Historia_przejazdow_2019-9-5_15_6_34.csv\n",
      "File already downloaded: Historia_przejazdow_2019-9-6_15_7_34.csv\n",
      "File already downloaded: Historia_przejazdow_2019-9-7_15_8_33.csv\n",
      "File already downloaded: Historia_przejazdow_2019-9-8_15_9_33.csv\n",
      "File already downloaded: Historia_przejazdow_2019-9-9_15_10_35.csv\n"
     ]
    }
   ],
   "source": [
    "# Download all data from Azure Blob Storage and save it locally \n",
    "blob_downloader = BlobDownloader(account_name, account_key, container_name)\n",
    "blob_downloader.download_blobs_and_save(data_raw_folder)"
   ]
  },
  {
   "cell_type": "markdown",
   "metadata": {},
   "source": [
    "### Load multiple csv files"
   ]
  },
  {
   "cell_type": "code",
   "execution_count": 6,
   "metadata": {
    "ExecuteTime": {
     "end_time": "2019-10-25T04:53:07.157306Z",
     "start_time": "2019-10-25T04:52:53.604306Z"
    }
   },
   "outputs": [],
   "source": [
    "dfs = []\n",
    "\n",
    "# Get filenames and load data to \n",
    "for filename in glob.glob(os.path.join(data_raw_folder, 'Historia_przejazdow_*.csv')):\n",
    "    dfs.append(pd.read_csv(filename, parse_dates=['Data wynajmu', 'Data zwrotu']))\n",
    "\n",
    "# Concatenate all data into one DataFrame\n",
    "big_frame = pd.concat(dfs, ignore_index=True)"
   ]
  },
  {
   "cell_type": "code",
   "execution_count": 7,
   "metadata": {
    "ExecuteTime": {
     "end_time": "2019-10-25T04:53:07.163351Z",
     "start_time": "2019-10-25T04:53:07.159184Z"
    }
   },
   "outputs": [
    {
     "name": "stdout",
     "output_type": "stream",
     "text": [
      "(5562129, 7)\n"
     ]
    }
   ],
   "source": [
    "print(big_frame.shape)"
   ]
  },
  {
   "cell_type": "code",
   "execution_count": 8,
   "metadata": {
    "ExecuteTime": {
     "end_time": "2019-10-25T04:53:07.175143Z",
     "start_time": "2019-10-25T04:53:07.166632Z"
    }
   },
   "outputs": [
    {
     "name": "stdout",
     "output_type": "stream",
     "text": [
      "<class 'pandas.core.frame.DataFrame'>\n",
      "RangeIndex: 5562129 entries, 0 to 5562128\n",
      "Data columns (total 7 columns):\n",
      "UID wynajmu       int64\n",
      "Numer roweru      int64\n",
      "Data wynajmu      datetime64[ns]\n",
      "Data zwrotu       datetime64[ns]\n",
      "Stacja wynajmu    object\n",
      "Stacja zwrotu     object\n",
      "Czas trwania      object\n",
      "dtypes: datetime64[ns](2), int64(2), object(3)\n",
      "memory usage: 297.0+ MB\n"
     ]
    }
   ],
   "source": [
    "big_frame.info()"
   ]
  },
  {
   "cell_type": "markdown",
   "metadata": {},
   "source": [
    "### Clean"
   ]
  },
  {
   "cell_type": "markdown",
   "metadata": {},
   "source": [
    "#### Drop duplicates"
   ]
  },
  {
   "cell_type": "code",
   "execution_count": 9,
   "metadata": {
    "ExecuteTime": {
     "end_time": "2019-10-25T04:53:07.638504Z",
     "start_time": "2019-10-25T04:53:07.178357Z"
    }
   },
   "outputs": [],
   "source": [
    "# Last record is considered as unique and rest of the same values as duplicate\n",
    "big_frame.drop_duplicates(subset=\"UID wynajmu\", keep='last', inplace=True)\n",
    "\n",
    "# Sort it\n",
    "big_frame.sort_values(by='UID wynajmu', inplace=True)"
   ]
  },
  {
   "cell_type": "code",
   "execution_count": 10,
   "metadata": {
    "ExecuteTime": {
     "end_time": "2019-10-25T04:53:07.643757Z",
     "start_time": "2019-10-25T04:53:07.640307Z"
    }
   },
   "outputs": [
    {
     "name": "stdout",
     "output_type": "stream",
     "text": [
      "(430531, 7)\n"
     ]
    }
   ],
   "source": [
    "print(big_frame.shape)"
   ]
  },
  {
   "cell_type": "code",
   "execution_count": 11,
   "metadata": {
    "ExecuteTime": {
     "end_time": "2019-10-25T04:53:07.660726Z",
     "start_time": "2019-10-25T04:53:07.645623Z"
    }
   },
   "outputs": [
    {
     "data": {
      "text/html": [
       "<div>\n",
       "<style scoped>\n",
       "    .dataframe tbody tr th:only-of-type {\n",
       "        vertical-align: middle;\n",
       "    }\n",
       "\n",
       "    .dataframe tbody tr th {\n",
       "        vertical-align: top;\n",
       "    }\n",
       "\n",
       "    .dataframe thead th {\n",
       "        text-align: right;\n",
       "    }\n",
       "</style>\n",
       "<table border=\"1\" class=\"dataframe\">\n",
       "  <thead>\n",
       "    <tr style=\"text-align: right;\">\n",
       "      <th></th>\n",
       "      <th>UID wynajmu</th>\n",
       "      <th>Numer roweru</th>\n",
       "      <th>Data wynajmu</th>\n",
       "      <th>Data zwrotu</th>\n",
       "      <th>Stacja wynajmu</th>\n",
       "      <th>Stacja zwrotu</th>\n",
       "      <th>Czas trwania</th>\n",
       "    </tr>\n",
       "  </thead>\n",
       "  <tbody>\n",
       "    <tr>\n",
       "      <td>5549242</td>\n",
       "      <td>76160681</td>\n",
       "      <td>57719</td>\n",
       "      <td>2019-06-26 00:00:10</td>\n",
       "      <td>2019-06-26 00:06:19</td>\n",
       "      <td>Skarbowców / Wietrzna</td>\n",
       "      <td>Krzycka / Aleja Karkonoska (Park Południowy)</td>\n",
       "      <td>00:06:09</td>\n",
       "    </tr>\n",
       "    <tr>\n",
       "      <td>5549243</td>\n",
       "      <td>76160684</td>\n",
       "      <td>650480</td>\n",
       "      <td>2019-06-26 00:00:13</td>\n",
       "      <td>2019-06-26 00:06:59</td>\n",
       "      <td>Rynek</td>\n",
       "      <td>Plac Legionów</td>\n",
       "      <td>00:06:46</td>\n",
       "    </tr>\n",
       "    <tr>\n",
       "      <td>5549244</td>\n",
       "      <td>76160686</td>\n",
       "      <td>650988</td>\n",
       "      <td>2019-06-26 00:00:15</td>\n",
       "      <td>2019-06-26 00:13:32</td>\n",
       "      <td>Poza oficjalną stacją</td>\n",
       "      <td>Wałbrzyska - pętla tramwajowa</td>\n",
       "      <td>00:13:17</td>\n",
       "    </tr>\n",
       "    <tr>\n",
       "      <td>5549245</td>\n",
       "      <td>76160697</td>\n",
       "      <td>57603</td>\n",
       "      <td>2019-06-26 00:00:21</td>\n",
       "      <td>2019-06-26 00:23:53</td>\n",
       "      <td>Plac Uniwersytecki (UWr)</td>\n",
       "      <td>Legnicka / Wejherowska</td>\n",
       "      <td>00:23:32</td>\n",
       "    </tr>\n",
       "    <tr>\n",
       "      <td>5549246</td>\n",
       "      <td>76160714</td>\n",
       "      <td>650067</td>\n",
       "      <td>2019-06-26 00:00:40</td>\n",
       "      <td>2019-06-26 00:04:40</td>\n",
       "      <td>Powstańców Śląskich (Arkady Wrocławskie)</td>\n",
       "      <td>Powstańców Śląskich (Arkady Wrocławskie)</td>\n",
       "      <td>00:04:00</td>\n",
       "    </tr>\n",
       "  </tbody>\n",
       "</table>\n",
       "</div>"
      ],
      "text/plain": [
       "         UID wynajmu  Numer roweru        Data wynajmu         Data zwrotu  \\\n",
       "5549242     76160681         57719 2019-06-26 00:00:10 2019-06-26 00:06:19   \n",
       "5549243     76160684        650480 2019-06-26 00:00:13 2019-06-26 00:06:59   \n",
       "5549244     76160686        650988 2019-06-26 00:00:15 2019-06-26 00:13:32   \n",
       "5549245     76160697         57603 2019-06-26 00:00:21 2019-06-26 00:23:53   \n",
       "5549246     76160714        650067 2019-06-26 00:00:40 2019-06-26 00:04:40   \n",
       "\n",
       "                                   Stacja wynajmu  \\\n",
       "5549242                     Skarbowców / Wietrzna   \n",
       "5549243                                     Rynek   \n",
       "5549244                     Poza oficjalną stacją   \n",
       "5549245                  Plac Uniwersytecki (UWr)   \n",
       "5549246  Powstańców Śląskich (Arkady Wrocławskie)   \n",
       "\n",
       "                                        Stacja zwrotu Czas trwania  \n",
       "5549242  Krzycka / Aleja Karkonoska (Park Południowy)     00:06:09  \n",
       "5549243                                 Plac Legionów     00:06:46  \n",
       "5549244                 Wałbrzyska - pętla tramwajowa     00:13:17  \n",
       "5549245                        Legnicka / Wejherowska     00:23:32  \n",
       "5549246      Powstańców Śląskich (Arkady Wrocławskie)     00:04:00  "
      ]
     },
     "execution_count": 11,
     "metadata": {},
     "output_type": "execute_result"
    }
   ],
   "source": [
    "big_frame.head()"
   ]
  },
  {
   "cell_type": "code",
   "execution_count": 12,
   "metadata": {
    "ExecuteTime": {
     "end_time": "2019-10-25T04:53:07.674042Z",
     "start_time": "2019-10-25T04:53:07.662445Z"
    }
   },
   "outputs": [
    {
     "data": {
      "text/html": [
       "<div>\n",
       "<style scoped>\n",
       "    .dataframe tbody tr th:only-of-type {\n",
       "        vertical-align: middle;\n",
       "    }\n",
       "\n",
       "    .dataframe tbody tr th {\n",
       "        vertical-align: top;\n",
       "    }\n",
       "\n",
       "    .dataframe thead th {\n",
       "        text-align: right;\n",
       "    }\n",
       "</style>\n",
       "<table border=\"1\" class=\"dataframe\">\n",
       "  <thead>\n",
       "    <tr style=\"text-align: right;\">\n",
       "      <th></th>\n",
       "      <th>UID wynajmu</th>\n",
       "      <th>Numer roweru</th>\n",
       "      <th>Data wynajmu</th>\n",
       "      <th>Data zwrotu</th>\n",
       "      <th>Stacja wynajmu</th>\n",
       "      <th>Stacja zwrotu</th>\n",
       "      <th>Czas trwania</th>\n",
       "    </tr>\n",
       "  </thead>\n",
       "  <tbody>\n",
       "    <tr>\n",
       "      <td>3088454</td>\n",
       "      <td>88278295</td>\n",
       "      <td>650284</td>\n",
       "      <td>2019-10-22 23:52:00</td>\n",
       "      <td>2019-10-22 23:52:00</td>\n",
       "      <td>Fosa Miejska</td>\n",
       "      <td>Fosa Miejska</td>\n",
       "      <td>00:00:00</td>\n",
       "    </tr>\n",
       "    <tr>\n",
       "      <td>3088455</td>\n",
       "      <td>88278312</td>\n",
       "      <td>650001</td>\n",
       "      <td>2019-10-22 23:53:00</td>\n",
       "      <td>2019-10-22 23:53:00</td>\n",
       "      <td>Drobnera / Dubois</td>\n",
       "      <td>Drobnera / Dubois</td>\n",
       "      <td>00:00:00</td>\n",
       "    </tr>\n",
       "    <tr>\n",
       "      <td>3088456</td>\n",
       "      <td>88278321</td>\n",
       "      <td>650171</td>\n",
       "      <td>2019-10-22 23:53:00</td>\n",
       "      <td>2019-10-22 23:57:00</td>\n",
       "      <td>Drobnera / Plac Bema</td>\n",
       "      <td>Żeromskiego / Daszyńskiego</td>\n",
       "      <td>00:04:00</td>\n",
       "    </tr>\n",
       "    <tr>\n",
       "      <td>3088457</td>\n",
       "      <td>88278324</td>\n",
       "      <td>57846</td>\n",
       "      <td>2019-10-22 23:53:00</td>\n",
       "      <td>2019-10-22 23:59:00</td>\n",
       "      <td>al. Brücknera / Kwidzyńska</td>\n",
       "      <td>al. Kochanowskiego / Śniadeckich</td>\n",
       "      <td>00:06:00</td>\n",
       "    </tr>\n",
       "    <tr>\n",
       "      <td>3088458</td>\n",
       "      <td>88278425</td>\n",
       "      <td>57435</td>\n",
       "      <td>2019-10-22 23:58:00</td>\n",
       "      <td>2019-10-22 23:58:00</td>\n",
       "      <td>Plac Uniwersytecki (UWr)</td>\n",
       "      <td>Plac Uniwersytecki (UWr)</td>\n",
       "      <td>00:00:00</td>\n",
       "    </tr>\n",
       "  </tbody>\n",
       "</table>\n",
       "</div>"
      ],
      "text/plain": [
       "         UID wynajmu  Numer roweru        Data wynajmu         Data zwrotu  \\\n",
       "3088454     88278295        650284 2019-10-22 23:52:00 2019-10-22 23:52:00   \n",
       "3088455     88278312        650001 2019-10-22 23:53:00 2019-10-22 23:53:00   \n",
       "3088456     88278321        650171 2019-10-22 23:53:00 2019-10-22 23:57:00   \n",
       "3088457     88278324         57846 2019-10-22 23:53:00 2019-10-22 23:59:00   \n",
       "3088458     88278425         57435 2019-10-22 23:58:00 2019-10-22 23:58:00   \n",
       "\n",
       "                     Stacja wynajmu                      Stacja zwrotu  \\\n",
       "3088454               Fosa Miejska                       Fosa Miejska    \n",
       "3088455           Drobnera / Dubois                  Drobnera / Dubois   \n",
       "3088456        Drobnera / Plac Bema         Żeromskiego / Daszyńskiego   \n",
       "3088457  al. Brücknera / Kwidzyńska  al. Kochanowskiego / Śniadeckich    \n",
       "3088458    Plac Uniwersytecki (UWr)           Plac Uniwersytecki (UWr)   \n",
       "\n",
       "        Czas trwania  \n",
       "3088454     00:00:00  \n",
       "3088455     00:00:00  \n",
       "3088456     00:04:00  \n",
       "3088457     00:06:00  \n",
       "3088458     00:00:00  "
      ]
     },
     "execution_count": 12,
     "metadata": {},
     "output_type": "execute_result"
    }
   ],
   "source": [
    "big_frame.tail()"
   ]
  },
  {
   "cell_type": "code",
   "execution_count": 13,
   "metadata": {
    "ExecuteTime": {
     "end_time": "2019-10-25T04:53:07.678843Z",
     "start_time": "2019-10-25T04:53:07.675592Z"
    }
   },
   "outputs": [],
   "source": [
    "# rename columns to make it legible for English-speaking audience\n",
    "big_frame.columns = ['UID', 'Bike number', 'Rental datetime', 'Return datetime', \n",
    "                     'Rental station', 'Return station', 'Duration']"
   ]
  },
  {
   "cell_type": "code",
   "execution_count": 14,
   "metadata": {
    "ExecuteTime": {
     "end_time": "2019-10-25T04:53:07.774348Z",
     "start_time": "2019-10-25T04:53:07.680783Z"
    }
   },
   "outputs": [
    {
     "name": "stdout",
     "output_type": "stream",
     "text": [
      "<class 'pandas.core.frame.DataFrame'>\n",
      "Int64Index: 430531 entries, 5549242 to 3088458\n",
      "Data columns (total 7 columns):\n",
      "UID                430531 non-null int64\n",
      "Bike number        430531 non-null int64\n",
      "Rental datetime    430531 non-null datetime64[ns]\n",
      "Return datetime    430531 non-null datetime64[ns]\n",
      "Rental station     430531 non-null object\n",
      "Return station     430531 non-null object\n",
      "Duration           430531 non-null object\n",
      "dtypes: datetime64[ns](2), int64(2), object(3)\n",
      "memory usage: 26.3+ MB\n"
     ]
    }
   ],
   "source": [
    "big_frame.info()"
   ]
  },
  {
   "cell_type": "markdown",
   "metadata": {},
   "source": [
    "### Save interim results"
   ]
  },
  {
   "cell_type": "code",
   "execution_count": 15,
   "metadata": {
    "ExecuteTime": {
     "end_time": "2019-10-25T04:53:11.655408Z",
     "start_time": "2019-10-25T04:53:07.776249Z"
    }
   },
   "outputs": [],
   "source": [
    "# write interim file\n",
    "bike_rentals_interim_path = os.path.join(data_interim_folder, 'bike_rental_records.csv')\n",
    "big_frame.to_csv(path_or_buf=bike_rentals_interim_path, index=False)"
   ]
  },
  {
   "cell_type": "markdown",
   "metadata": {},
   "source": [
    "# Load data"
   ]
  },
  {
   "cell_type": "markdown",
   "metadata": {},
   "source": [
    "## Bike rentals records"
   ]
  },
  {
   "cell_type": "code",
   "execution_count": 16,
   "metadata": {
    "ExecuteTime": {
     "end_time": "2019-10-25T04:53:12.970622Z",
     "start_time": "2019-10-25T04:53:11.656952Z"
    }
   },
   "outputs": [],
   "source": [
    "# Load data and set proper data types\n",
    "bike_rentals_df = pd.read_csv(bike_rentals_interim_path, \n",
    "                              parse_dates=['Rental datetime', 'Return datetime'], \n",
    "                              index_col='UID')\n",
    "\n",
    "bike_rentals_df['Duration'] = pd.to_timedelta(bike_rentals_df['Duration'])"
   ]
  },
  {
   "cell_type": "code",
   "execution_count": 17,
   "metadata": {
    "ExecuteTime": {
     "end_time": "2019-10-25T04:53:13.029835Z",
     "start_time": "2019-10-25T04:53:12.972356Z"
    }
   },
   "outputs": [
    {
     "name": "stdout",
     "output_type": "stream",
     "text": [
      "<class 'pandas.core.frame.DataFrame'>\n",
      "Int64Index: 430531 entries, 76160681 to 88278425\n",
      "Data columns (total 6 columns):\n",
      "Bike number        430531 non-null int64\n",
      "Rental datetime    430531 non-null datetime64[ns]\n",
      "Return datetime    430531 non-null datetime64[ns]\n",
      "Rental station     430531 non-null object\n",
      "Return station     430531 non-null object\n",
      "Duration           430531 non-null timedelta64[ns]\n",
      "dtypes: datetime64[ns](2), int64(1), object(2), timedelta64[ns](1)\n",
      "memory usage: 23.0+ MB\n"
     ]
    }
   ],
   "source": [
    "# just checking - to make sure data types are as we want\n",
    "bike_rentals_df.info()"
   ]
  },
  {
   "cell_type": "code",
   "execution_count": 18,
   "metadata": {
    "ExecuteTime": {
     "end_time": "2019-10-25T04:53:13.058423Z",
     "start_time": "2019-10-25T04:53:13.033193Z"
    }
   },
   "outputs": [
    {
     "data": {
      "text/html": [
       "<div>\n",
       "<style scoped>\n",
       "    .dataframe tbody tr th:only-of-type {\n",
       "        vertical-align: middle;\n",
       "    }\n",
       "\n",
       "    .dataframe tbody tr th {\n",
       "        vertical-align: top;\n",
       "    }\n",
       "\n",
       "    .dataframe thead th {\n",
       "        text-align: right;\n",
       "    }\n",
       "</style>\n",
       "<table border=\"1\" class=\"dataframe\">\n",
       "  <thead>\n",
       "    <tr style=\"text-align: right;\">\n",
       "      <th></th>\n",
       "      <th>Bike number</th>\n",
       "      <th>Rental datetime</th>\n",
       "      <th>Return datetime</th>\n",
       "      <th>Rental station</th>\n",
       "      <th>Return station</th>\n",
       "      <th>Duration</th>\n",
       "    </tr>\n",
       "    <tr>\n",
       "      <th>UID</th>\n",
       "      <th></th>\n",
       "      <th></th>\n",
       "      <th></th>\n",
       "      <th></th>\n",
       "      <th></th>\n",
       "      <th></th>\n",
       "    </tr>\n",
       "  </thead>\n",
       "  <tbody>\n",
       "    <tr>\n",
       "      <td>79297198</td>\n",
       "      <td>650273</td>\n",
       "      <td>2019-07-22 18:35:00</td>\n",
       "      <td>2019-07-22 18:54:00</td>\n",
       "      <td>Kamienna / Borowska (Aquapark)</td>\n",
       "      <td>Grabiszyńska / Aleja Hallera</td>\n",
       "      <td>00:19:00</td>\n",
       "    </tr>\n",
       "    <tr>\n",
       "      <td>83153072</td>\n",
       "      <td>57853</td>\n",
       "      <td>2019-08-26 15:20:00</td>\n",
       "      <td>2019-08-26 15:21:00</td>\n",
       "      <td>Bałtycka / Żmigrodzka</td>\n",
       "      <td>Bałtycka / Żmigrodzka</td>\n",
       "      <td>00:01:00</td>\n",
       "    </tr>\n",
       "    <tr>\n",
       "      <td>84284121</td>\n",
       "      <td>57591</td>\n",
       "      <td>2019-09-05 13:02:00</td>\n",
       "      <td>2019-09-05 13:13:00</td>\n",
       "      <td>Zaporoska / Grabiszyńska</td>\n",
       "      <td>Powstańcow Śląskich / Aleja Hallera</td>\n",
       "      <td>00:11:00</td>\n",
       "    </tr>\n",
       "    <tr>\n",
       "      <td>84308740</td>\n",
       "      <td>57611</td>\n",
       "      <td>2019-09-05 16:17:00</td>\n",
       "      <td>2019-09-05 16:49:00</td>\n",
       "      <td>Stacyjna (Dworzec Mikołajów)</td>\n",
       "      <td>Plac Grunwaldzki / Polaka</td>\n",
       "      <td>00:32:00</td>\n",
       "    </tr>\n",
       "    <tr>\n",
       "      <td>79384112</td>\n",
       "      <td>650483</td>\n",
       "      <td>2019-07-23 15:15:00</td>\n",
       "      <td>2019-07-23 15:31:00</td>\n",
       "      <td>Zaporoska / Wielka / Krucza</td>\n",
       "      <td>Klecińska / Duńska</td>\n",
       "      <td>00:16:00</td>\n",
       "    </tr>\n",
       "  </tbody>\n",
       "</table>\n",
       "</div>"
      ],
      "text/plain": [
       "          Bike number     Rental datetime     Return datetime  \\\n",
       "UID                                                             \n",
       "79297198       650273 2019-07-22 18:35:00 2019-07-22 18:54:00   \n",
       "83153072        57853 2019-08-26 15:20:00 2019-08-26 15:21:00   \n",
       "84284121        57591 2019-09-05 13:02:00 2019-09-05 13:13:00   \n",
       "84308740        57611 2019-09-05 16:17:00 2019-09-05 16:49:00   \n",
       "79384112       650483 2019-07-23 15:15:00 2019-07-23 15:31:00   \n",
       "\n",
       "                          Rental station                       Return station  \\\n",
       "UID                                                                             \n",
       "79297198  Kamienna / Borowska (Aquapark)         Grabiszyńska / Aleja Hallera   \n",
       "83153072           Bałtycka / Żmigrodzka                Bałtycka / Żmigrodzka   \n",
       "84284121        Zaporoska / Grabiszyńska  Powstańcow Śląskich / Aleja Hallera   \n",
       "84308740    Stacyjna (Dworzec Mikołajów)            Plac Grunwaldzki / Polaka   \n",
       "79384112     Zaporoska / Wielka / Krucza                   Klecińska / Duńska   \n",
       "\n",
       "         Duration  \n",
       "UID                \n",
       "79297198 00:19:00  \n",
       "83153072 00:01:00  \n",
       "84284121 00:11:00  \n",
       "84308740 00:32:00  \n",
       "79384112 00:16:00  "
      ]
     },
     "execution_count": 18,
     "metadata": {},
     "output_type": "execute_result"
    }
   ],
   "source": [
    "bike_rentals_df.sample(5)"
   ]
  },
  {
   "cell_type": "code",
   "execution_count": 19,
   "metadata": {
    "ExecuteTime": {
     "end_time": "2019-10-25T04:53:13.106302Z",
     "start_time": "2019-10-25T04:53:13.060130Z"
    }
   },
   "outputs": [
    {
     "data": {
      "text/plain": [
       "Bike number        0\n",
       "Rental datetime    0\n",
       "Return datetime    0\n",
       "Rental station     0\n",
       "Return station     0\n",
       "Duration           0\n",
       "dtype: int64"
      ]
     },
     "execution_count": 19,
     "metadata": {},
     "output_type": "execute_result"
    }
   ],
   "source": [
    "# check if we have any missing data\n",
    "bike_rentals_df.isna().sum()"
   ]
  },
  {
   "cell_type": "markdown",
   "metadata": {},
   "source": [
    "## Bike station details"
   ]
  },
  {
   "cell_type": "code",
   "execution_count": 20,
   "metadata": {
    "ExecuteTime": {
     "end_time": "2019-10-25T04:53:13.744243Z",
     "start_time": "2019-10-25T04:53:13.109149Z"
    }
   },
   "outputs": [],
   "source": [
    "bike_stations_df = BikeStationsLocations().load_data()"
   ]
  },
  {
   "cell_type": "code",
   "execution_count": 21,
   "metadata": {
    "ExecuteTime": {
     "end_time": "2019-10-25T04:53:13.757890Z",
     "start_time": "2019-10-25T04:53:13.746030Z"
    }
   },
   "outputs": [
    {
     "data": {
      "text/html": [
       "<div>\n",
       "<style scoped>\n",
       "    .dataframe tbody tr th:only-of-type {\n",
       "        vertical-align: middle;\n",
       "    }\n",
       "\n",
       "    .dataframe tbody tr th {\n",
       "        vertical-align: top;\n",
       "    }\n",
       "\n",
       "    .dataframe thead th {\n",
       "        text-align: right;\n",
       "    }\n",
       "</style>\n",
       "<table border=\"1\" class=\"dataframe\">\n",
       "  <thead>\n",
       "    <tr style=\"text-align: right;\">\n",
       "      <th></th>\n",
       "      <th>Bike station</th>\n",
       "      <th>Latitude</th>\n",
       "      <th>Longitude</th>\n",
       "    </tr>\n",
       "  </thead>\n",
       "  <tbody>\n",
       "    <tr>\n",
       "      <td>0</td>\n",
       "      <td>Plac Dominikański (Galeria Dominikańska)</td>\n",
       "      <td>51.108004</td>\n",
       "      <td>17.039528</td>\n",
       "    </tr>\n",
       "    <tr>\n",
       "      <td>1</td>\n",
       "      <td>Dworzec Główny, południe</td>\n",
       "      <td>51.097108064432</td>\n",
       "      <td>17.036109566688538</td>\n",
       "    </tr>\n",
       "    <tr>\n",
       "      <td>2</td>\n",
       "      <td>Rynek</td>\n",
       "      <td>51.109782</td>\n",
       "      <td>17.030175</td>\n",
       "    </tr>\n",
       "    <tr>\n",
       "      <td>3</td>\n",
       "      <td>Dworzec Główny</td>\n",
       "      <td>51.09975</td>\n",
       "      <td>17.036228</td>\n",
       "    </tr>\n",
       "    <tr>\n",
       "      <td>4</td>\n",
       "      <td>Nowowiejska / Jedności Narodowej</td>\n",
       "      <td>51.124879</td>\n",
       "      <td>17.045844</td>\n",
       "    </tr>\n",
       "    <tr>\n",
       "      <td>...</td>\n",
       "      <td>...</td>\n",
       "      <td>...</td>\n",
       "      <td>...</td>\n",
       "    </tr>\n",
       "    <tr>\n",
       "      <td>198</td>\n",
       "      <td>pl. Orląt Lwowskich</td>\n",
       "      <td>51.10823</td>\n",
       "      <td>17.02138</td>\n",
       "    </tr>\n",
       "    <tr>\n",
       "      <td>199</td>\n",
       "      <td>Komandorska / Kamienna</td>\n",
       "      <td>51.09009</td>\n",
       "      <td>17.0235</td>\n",
       "    </tr>\n",
       "    <tr>\n",
       "      <td>200</td>\n",
       "      <td>Wrocław Stadion, stacja kolejowa</td>\n",
       "      <td>51.13707</td>\n",
       "      <td>16.94095</td>\n",
       "    </tr>\n",
       "    <tr>\n",
       "      <td>201</td>\n",
       "      <td>Wrocław Leśnica, stacja kolejowa</td>\n",
       "      <td>51.14323</td>\n",
       "      <td>16.86627</td>\n",
       "    </tr>\n",
       "    <tr>\n",
       "      <td>202</td>\n",
       "      <td>Stadion Olimpijski</td>\n",
       "      <td>51.118030730849426</td>\n",
       "      <td>17.095563411712646</td>\n",
       "    </tr>\n",
       "  </tbody>\n",
       "</table>\n",
       "<p>203 rows × 3 columns</p>\n",
       "</div>"
      ],
      "text/plain": [
       "                                 Bike station            Latitude  \\\n",
       "0    Plac Dominikański (Galeria Dominikańska)           51.108004   \n",
       "1                    Dworzec Główny, południe     51.097108064432   \n",
       "2                                       Rynek           51.109782   \n",
       "3                              Dworzec Główny            51.09975   \n",
       "4            Nowowiejska / Jedności Narodowej           51.124879   \n",
       "..                                        ...                 ...   \n",
       "198                       pl. Orląt Lwowskich            51.10823   \n",
       "199                    Komandorska / Kamienna            51.09009   \n",
       "200          Wrocław Stadion, stacja kolejowa            51.13707   \n",
       "201          Wrocław Leśnica, stacja kolejowa            51.14323   \n",
       "202                        Stadion Olimpijski  51.118030730849426   \n",
       "\n",
       "              Longitude  \n",
       "0             17.039528  \n",
       "1    17.036109566688538  \n",
       "2             17.030175  \n",
       "3             17.036228  \n",
       "4             17.045844  \n",
       "..                  ...  \n",
       "198            17.02138  \n",
       "199             17.0235  \n",
       "200            16.94095  \n",
       "201            16.86627  \n",
       "202  17.095563411712646  \n",
       "\n",
       "[203 rows x 3 columns]"
      ]
     },
     "execution_count": 21,
     "metadata": {},
     "output_type": "execute_result"
    }
   ],
   "source": [
    "bike_stations_df"
   ]
  },
  {
   "cell_type": "code",
   "execution_count": 22,
   "metadata": {
    "ExecuteTime": {
     "end_time": "2019-10-25T04:53:13.765886Z",
     "start_time": "2019-10-25T04:53:13.760081Z"
    }
   },
   "outputs": [
    {
     "data": {
      "text/plain": [
       "Bike station    0\n",
       "Latitude        0\n",
       "Longitude       0\n",
       "dtype: int64"
      ]
     },
     "execution_count": 22,
     "metadata": {},
     "output_type": "execute_result"
    }
   ],
   "source": [
    "# check if we have any missing data\n",
    "bike_stations_df.isna().sum()"
   ]
  },
  {
   "cell_type": "markdown",
   "metadata": {},
   "source": [
    "## Join datasets"
   ]
  },
  {
   "cell_type": "code",
   "execution_count": 23,
   "metadata": {
    "ExecuteTime": {
     "end_time": "2019-10-25T04:53:13.879918Z",
     "start_time": "2019-10-25T04:53:13.772192Z"
    }
   },
   "outputs": [],
   "source": [
    "bike_rentals_df = pd.merge(bike_rentals_df, \n",
    "                           bike_stations_df, \n",
    "                           how='left',\n",
    "                           left_on='Rental station',\n",
    "                           right_on='Bike station')"
   ]
  },
  {
   "cell_type": "code",
   "execution_count": 24,
   "metadata": {
    "ExecuteTime": {
     "end_time": "2019-10-25T04:53:13.946816Z",
     "start_time": "2019-10-25T04:53:13.882156Z"
    }
   },
   "outputs": [],
   "source": [
    "# define more meaningful names for coordinates columns\n",
    "cols = [f'Rental station {str.lower(column)}' \n",
    "            if column in ['Latitude', 'Longitude'] else column\n",
    "                for column in bike_rentals_df.columns]\n",
    "bike_rentals_df.columns = cols\n",
    "\n",
    "# drop unnecessary\n",
    "bike_rentals_df.drop(['Bike station'], axis=1, inplace=True)"
   ]
  },
  {
   "cell_type": "code",
   "execution_count": 25,
   "metadata": {
    "ExecuteTime": {
     "end_time": "2019-10-25T04:53:13.961562Z",
     "start_time": "2019-10-25T04:53:13.948756Z"
    }
   },
   "outputs": [
    {
     "data": {
      "text/html": [
       "<div>\n",
       "<style scoped>\n",
       "    .dataframe tbody tr th:only-of-type {\n",
       "        vertical-align: middle;\n",
       "    }\n",
       "\n",
       "    .dataframe tbody tr th {\n",
       "        vertical-align: top;\n",
       "    }\n",
       "\n",
       "    .dataframe thead th {\n",
       "        text-align: right;\n",
       "    }\n",
       "</style>\n",
       "<table border=\"1\" class=\"dataframe\">\n",
       "  <thead>\n",
       "    <tr style=\"text-align: right;\">\n",
       "      <th></th>\n",
       "      <th>Bike number</th>\n",
       "      <th>Rental datetime</th>\n",
       "      <th>Return datetime</th>\n",
       "      <th>Rental station</th>\n",
       "      <th>Return station</th>\n",
       "      <th>Duration</th>\n",
       "      <th>Rental station latitude</th>\n",
       "      <th>Rental station longitude</th>\n",
       "    </tr>\n",
       "  </thead>\n",
       "  <tbody>\n",
       "    <tr>\n",
       "      <td>0</td>\n",
       "      <td>57719</td>\n",
       "      <td>2019-06-26 00:00:10</td>\n",
       "      <td>2019-06-26 00:06:19</td>\n",
       "      <td>Skarbowców / Wietrzna</td>\n",
       "      <td>Krzycka / Aleja Karkonoska (Park Południowy)</td>\n",
       "      <td>00:06:09</td>\n",
       "      <td>51.07329</td>\n",
       "      <td>16.99485</td>\n",
       "    </tr>\n",
       "    <tr>\n",
       "      <td>1</td>\n",
       "      <td>650480</td>\n",
       "      <td>2019-06-26 00:00:13</td>\n",
       "      <td>2019-06-26 00:06:59</td>\n",
       "      <td>Rynek</td>\n",
       "      <td>Plac Legionów</td>\n",
       "      <td>00:06:46</td>\n",
       "      <td>51.109782</td>\n",
       "      <td>17.030175</td>\n",
       "    </tr>\n",
       "    <tr>\n",
       "      <td>2</td>\n",
       "      <td>650988</td>\n",
       "      <td>2019-06-26 00:00:15</td>\n",
       "      <td>2019-06-26 00:13:32</td>\n",
       "      <td>Poza oficjalną stacją</td>\n",
       "      <td>Wałbrzyska - pętla tramwajowa</td>\n",
       "      <td>00:13:17</td>\n",
       "      <td>NaN</td>\n",
       "      <td>NaN</td>\n",
       "    </tr>\n",
       "    <tr>\n",
       "      <td>3</td>\n",
       "      <td>57603</td>\n",
       "      <td>2019-06-26 00:00:21</td>\n",
       "      <td>2019-06-26 00:23:53</td>\n",
       "      <td>Plac Uniwersytecki (UWr)</td>\n",
       "      <td>Legnicka / Wejherowska</td>\n",
       "      <td>00:23:32</td>\n",
       "      <td>51.113871</td>\n",
       "      <td>17.034484</td>\n",
       "    </tr>\n",
       "    <tr>\n",
       "      <td>4</td>\n",
       "      <td>650067</td>\n",
       "      <td>2019-06-26 00:00:40</td>\n",
       "      <td>2019-06-26 00:04:40</td>\n",
       "      <td>Powstańców Śląskich (Arkady Wrocławskie)</td>\n",
       "      <td>Powstańców Śląskich (Arkady Wrocławskie)</td>\n",
       "      <td>00:04:00</td>\n",
       "      <td>51.099713</td>\n",
       "      <td>17.027905</td>\n",
       "    </tr>\n",
       "  </tbody>\n",
       "</table>\n",
       "</div>"
      ],
      "text/plain": [
       "   Bike number     Rental datetime     Return datetime  \\\n",
       "0        57719 2019-06-26 00:00:10 2019-06-26 00:06:19   \n",
       "1       650480 2019-06-26 00:00:13 2019-06-26 00:06:59   \n",
       "2       650988 2019-06-26 00:00:15 2019-06-26 00:13:32   \n",
       "3        57603 2019-06-26 00:00:21 2019-06-26 00:23:53   \n",
       "4       650067 2019-06-26 00:00:40 2019-06-26 00:04:40   \n",
       "\n",
       "                             Rental station  \\\n",
       "0                     Skarbowców / Wietrzna   \n",
       "1                                     Rynek   \n",
       "2                     Poza oficjalną stacją   \n",
       "3                  Plac Uniwersytecki (UWr)   \n",
       "4  Powstańców Śląskich (Arkady Wrocławskie)   \n",
       "\n",
       "                                 Return station Duration  \\\n",
       "0  Krzycka / Aleja Karkonoska (Park Południowy) 00:06:09   \n",
       "1                                 Plac Legionów 00:06:46   \n",
       "2                 Wałbrzyska - pętla tramwajowa 00:13:17   \n",
       "3                        Legnicka / Wejherowska 00:23:32   \n",
       "4      Powstańców Śląskich (Arkady Wrocławskie) 00:04:00   \n",
       "\n",
       "  Rental station latitude Rental station longitude  \n",
       "0                51.07329                 16.99485  \n",
       "1               51.109782                17.030175  \n",
       "2                     NaN                      NaN  \n",
       "3               51.113871                17.034484  \n",
       "4               51.099713                17.027905  "
      ]
     },
     "execution_count": 25,
     "metadata": {},
     "output_type": "execute_result"
    }
   ],
   "source": [
    "bike_rentals_df.head()"
   ]
  },
  {
   "cell_type": "code",
   "execution_count": 26,
   "metadata": {
    "ExecuteTime": {
     "end_time": "2019-10-25T04:53:14.085396Z",
     "start_time": "2019-10-25T04:53:13.963507Z"
    }
   },
   "outputs": [],
   "source": [
    "bike_rentals_df = pd.merge(bike_rentals_df, \n",
    "                           bike_stations_df, \n",
    "                           how='left',\n",
    "                           left_on='Return station',\n",
    "                           right_on='Bike station')"
   ]
  },
  {
   "cell_type": "code",
   "execution_count": 27,
   "metadata": {
    "ExecuteTime": {
     "end_time": "2019-10-25T04:53:14.165854Z",
     "start_time": "2019-10-25T04:53:14.087143Z"
    }
   },
   "outputs": [],
   "source": [
    "# define more meaningful names for coordinates columns\n",
    "cols = [f'Return station {str.lower(column)}' \n",
    "            if column in ['Latitude', 'Longitude'] else column\n",
    "                for column in bike_rentals_df.columns]\n",
    "bike_rentals_df.columns = cols\n",
    "\n",
    "# drop unnecessary\n",
    "bike_rentals_df.drop(['Bike station'], axis=1, inplace=True)"
   ]
  },
  {
   "cell_type": "code",
   "execution_count": 28,
   "metadata": {
    "ExecuteTime": {
     "end_time": "2019-10-25T04:53:14.182527Z",
     "start_time": "2019-10-25T04:53:14.168084Z"
    }
   },
   "outputs": [
    {
     "data": {
      "text/html": [
       "<div>\n",
       "<style scoped>\n",
       "    .dataframe tbody tr th:only-of-type {\n",
       "        vertical-align: middle;\n",
       "    }\n",
       "\n",
       "    .dataframe tbody tr th {\n",
       "        vertical-align: top;\n",
       "    }\n",
       "\n",
       "    .dataframe thead th {\n",
       "        text-align: right;\n",
       "    }\n",
       "</style>\n",
       "<table border=\"1\" class=\"dataframe\">\n",
       "  <thead>\n",
       "    <tr style=\"text-align: right;\">\n",
       "      <th></th>\n",
       "      <th>Bike number</th>\n",
       "      <th>Rental datetime</th>\n",
       "      <th>Return datetime</th>\n",
       "      <th>Rental station</th>\n",
       "      <th>Return station</th>\n",
       "      <th>Duration</th>\n",
       "      <th>Rental station latitude</th>\n",
       "      <th>Rental station longitude</th>\n",
       "      <th>Return station latitude</th>\n",
       "      <th>Return station longitude</th>\n",
       "    </tr>\n",
       "  </thead>\n",
       "  <tbody>\n",
       "    <tr>\n",
       "      <td>0</td>\n",
       "      <td>57719</td>\n",
       "      <td>2019-06-26 00:00:10</td>\n",
       "      <td>2019-06-26 00:06:19</td>\n",
       "      <td>Skarbowców / Wietrzna</td>\n",
       "      <td>Krzycka / Aleja Karkonoska (Park Południowy)</td>\n",
       "      <td>00:06:09</td>\n",
       "      <td>51.07329</td>\n",
       "      <td>16.99485</td>\n",
       "      <td>51.074992</td>\n",
       "      <td>17.007058</td>\n",
       "    </tr>\n",
       "    <tr>\n",
       "      <td>1</td>\n",
       "      <td>650480</td>\n",
       "      <td>2019-06-26 00:00:13</td>\n",
       "      <td>2019-06-26 00:06:59</td>\n",
       "      <td>Rynek</td>\n",
       "      <td>Plac Legionów</td>\n",
       "      <td>00:06:46</td>\n",
       "      <td>51.109782</td>\n",
       "      <td>17.030175</td>\n",
       "      <td>51.104413</td>\n",
       "      <td>17.022536</td>\n",
       "    </tr>\n",
       "    <tr>\n",
       "      <td>2</td>\n",
       "      <td>650988</td>\n",
       "      <td>2019-06-26 00:00:15</td>\n",
       "      <td>2019-06-26 00:13:32</td>\n",
       "      <td>Poza oficjalną stacją</td>\n",
       "      <td>Wałbrzyska - pętla tramwajowa</td>\n",
       "      <td>00:13:17</td>\n",
       "      <td>NaN</td>\n",
       "      <td>NaN</td>\n",
       "      <td>51.06577709842137</td>\n",
       "      <td>16.98857545852661</td>\n",
       "    </tr>\n",
       "    <tr>\n",
       "      <td>3</td>\n",
       "      <td>57603</td>\n",
       "      <td>2019-06-26 00:00:21</td>\n",
       "      <td>2019-06-26 00:23:53</td>\n",
       "      <td>Plac Uniwersytecki (UWr)</td>\n",
       "      <td>Legnicka / Wejherowska</td>\n",
       "      <td>00:23:32</td>\n",
       "      <td>51.113871</td>\n",
       "      <td>17.034484</td>\n",
       "      <td>51.125276</td>\n",
       "      <td>16.984447</td>\n",
       "    </tr>\n",
       "    <tr>\n",
       "      <td>4</td>\n",
       "      <td>650067</td>\n",
       "      <td>2019-06-26 00:00:40</td>\n",
       "      <td>2019-06-26 00:04:40</td>\n",
       "      <td>Powstańców Śląskich (Arkady Wrocławskie)</td>\n",
       "      <td>Powstańców Śląskich (Arkady Wrocławskie)</td>\n",
       "      <td>00:04:00</td>\n",
       "      <td>51.099713</td>\n",
       "      <td>17.027905</td>\n",
       "      <td>51.099713</td>\n",
       "      <td>17.027905</td>\n",
       "    </tr>\n",
       "  </tbody>\n",
       "</table>\n",
       "</div>"
      ],
      "text/plain": [
       "   Bike number     Rental datetime     Return datetime  \\\n",
       "0        57719 2019-06-26 00:00:10 2019-06-26 00:06:19   \n",
       "1       650480 2019-06-26 00:00:13 2019-06-26 00:06:59   \n",
       "2       650988 2019-06-26 00:00:15 2019-06-26 00:13:32   \n",
       "3        57603 2019-06-26 00:00:21 2019-06-26 00:23:53   \n",
       "4       650067 2019-06-26 00:00:40 2019-06-26 00:04:40   \n",
       "\n",
       "                             Rental station  \\\n",
       "0                     Skarbowców / Wietrzna   \n",
       "1                                     Rynek   \n",
       "2                     Poza oficjalną stacją   \n",
       "3                  Plac Uniwersytecki (UWr)   \n",
       "4  Powstańców Śląskich (Arkady Wrocławskie)   \n",
       "\n",
       "                                 Return station Duration  \\\n",
       "0  Krzycka / Aleja Karkonoska (Park Południowy) 00:06:09   \n",
       "1                                 Plac Legionów 00:06:46   \n",
       "2                 Wałbrzyska - pętla tramwajowa 00:13:17   \n",
       "3                        Legnicka / Wejherowska 00:23:32   \n",
       "4      Powstańców Śląskich (Arkady Wrocławskie) 00:04:00   \n",
       "\n",
       "  Rental station latitude Rental station longitude Return station latitude  \\\n",
       "0                51.07329                 16.99485               51.074992   \n",
       "1               51.109782                17.030175               51.104413   \n",
       "2                     NaN                      NaN       51.06577709842137   \n",
       "3               51.113871                17.034484               51.125276   \n",
       "4               51.099713                17.027905               51.099713   \n",
       "\n",
       "  Return station longitude  \n",
       "0                17.007058  \n",
       "1                17.022536  \n",
       "2        16.98857545852661  \n",
       "3                16.984447  \n",
       "4                17.027905  "
      ]
     },
     "execution_count": 28,
     "metadata": {},
     "output_type": "execute_result"
    }
   ],
   "source": [
    "bike_rentals_df.head()"
   ]
  },
  {
   "cell_type": "code",
   "execution_count": 29,
   "metadata": {
    "ExecuteTime": {
     "end_time": "2019-10-25T04:53:14.292171Z",
     "start_time": "2019-10-25T04:53:14.184767Z"
    }
   },
   "outputs": [
    {
     "data": {
      "text/plain": [
       "Bike number                     0\n",
       "Rental datetime                 0\n",
       "Return datetime                 0\n",
       "Rental station                  0\n",
       "Return station                  0\n",
       "Duration                        0\n",
       "Rental station latitude     55813\n",
       "Rental station longitude    55813\n",
       "Return station latitude     53030\n",
       "Return station longitude    53030\n",
       "dtype: int64"
      ]
     },
     "execution_count": 29,
     "metadata": {},
     "output_type": "execute_result"
    }
   ],
   "source": [
    "# Check if we have any missing data:\n",
    "# - if rental station coordinates are missing -> bikes were rented outside official bike stations\n",
    "# - if return station coordinates are missing -> bikes were returned outside official bike stations\n",
    "bike_rentals_df.isna().sum()"
   ]
  },
  {
   "cell_type": "markdown",
   "metadata": {},
   "source": [
    "## Save interim results"
   ]
  },
  {
   "cell_type": "code",
   "execution_count": 30,
   "metadata": {
    "ExecuteTime": {
     "end_time": "2019-10-25T04:53:25.720536Z",
     "start_time": "2019-10-25T04:53:14.293785Z"
    }
   },
   "outputs": [],
   "source": [
    "# write interim file\n",
    "bike_rentals_extended_interim_path = os.path.join(data_interim_folder, 'bike_rental_records_extended.csv')\n",
    "bike_rentals_df.to_csv(path_or_buf=bike_rentals_extended_interim_path, index=False)"
   ]
  }
 ],
 "metadata": {
  "file_extension": ".py",
  "kernelspec": {
   "display_name": "Python 3",
   "language": "python",
   "name": "python3"
  },
  "language_info": {
   "codemirror_mode": {
    "name": "ipython",
    "version": 3
   },
   "file_extension": ".py",
   "mimetype": "text/x-python",
   "name": "python",
   "nbconvert_exporter": "python",
   "pygments_lexer": "ipython3",
   "version": "3.7.4"
  },
  "mimetype": "text/x-python",
  "name": "python",
  "npconvert_exporter": "python",
  "pygments_lexer": "ipython3",
  "toc": {
   "base_numbering": 1,
   "nav_menu": {},
   "number_sections": true,
   "sideBar": true,
   "skip_h1_title": false,
   "title_cell": "Table of Contents",
   "title_sidebar": "Contents",
   "toc_cell": false,
   "toc_position": {
    "height": "calc(100% - 180px)",
    "left": "10px",
    "top": "150px",
    "width": "282.594px"
   },
   "toc_section_display": true,
   "toc_window_display": true
  },
  "version": 3
 },
 "nbformat": 4,
 "nbformat_minor": 2
}

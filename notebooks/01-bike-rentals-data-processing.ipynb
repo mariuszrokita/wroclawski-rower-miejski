{
 "cells": [
  {
   "cell_type": "markdown",
   "metadata": {},
   "source": [
    "# Introduction"
   ]
  },
  {
   "cell_type": "markdown",
   "metadata": {},
   "source": [
    "The purpose of this notebook is to download data and process it. As a result we will get a dataset ready for further analyses and modeling."
   ]
  },
  {
   "cell_type": "markdown",
   "metadata": {},
   "source": [
    "# Data loading and processing pipeline"
   ]
  },
  {
   "cell_type": "code",
   "execution_count": 1,
   "metadata": {
    "ExecuteTime": {
     "end_time": "2019-10-27T09:18:06.303517Z",
     "start_time": "2019-10-27T09:18:06.298297Z"
    }
   },
   "outputs": [
    {
     "name": "stdout",
     "output_type": "stream",
     "text": [
      "/Users/mariuszrokita/GitHub/wroclawski-rower-miejski/src/data\n"
     ]
    }
   ],
   "source": [
    "# change to 'Python project' directory\n",
    "%cd ../src/data"
   ]
  },
  {
   "cell_type": "code",
   "execution_count": 2,
   "metadata": {
    "ExecuteTime": {
     "end_time": "2019-10-27T09:18:38.087776Z",
     "start_time": "2019-10-27T09:18:06.305830Z"
    }
   },
   "outputs": [
    {
     "name": "stdout",
     "output_type": "stream",
     "text": [
      "Pipeline execution started\n",
      "Project root folder set to: /Users/mariuszrokita/GitHub/wroclawski-rower-miejski\n",
      "Data saved to: /Users/mariuszrokita/GitHub/wroclawski-rower-miejski/data/processed/bike_rentals.csv\n",
      "Pipeline execution completed\n"
     ]
    }
   ],
   "source": [
    "# run data loading and processing pipeline\n",
    "!python3 run_pipeline.py"
   ]
  },
  {
   "cell_type": "markdown",
   "metadata": {},
   "source": [
    "# Visual inspection"
   ]
  },
  {
   "cell_type": "code",
   "execution_count": 3,
   "metadata": {
    "ExecuteTime": {
     "end_time": "2019-10-27T09:18:39.526713Z",
     "start_time": "2019-10-27T09:18:38.090857Z"
    }
   },
   "outputs": [],
   "source": [
    "import pandas as pd\n",
    "\n",
    "bike_rentals_df = \\\n",
    "    pd.read_csv('/Users/mariuszrokita/GitHub/wroclawski-rower-miejski/data/processed/bike_rentals.csv')"
   ]
  },
  {
   "cell_type": "code",
   "execution_count": 4,
   "metadata": {
    "ExecuteTime": {
     "end_time": "2019-10-27T09:18:39.553046Z",
     "start_time": "2019-10-27T09:18:39.528593Z"
    }
   },
   "outputs": [
    {
     "data": {
      "text/html": [
       "<div>\n",
       "<style scoped>\n",
       "    .dataframe tbody tr th:only-of-type {\n",
       "        vertical-align: middle;\n",
       "    }\n",
       "\n",
       "    .dataframe tbody tr th {\n",
       "        vertical-align: top;\n",
       "    }\n",
       "\n",
       "    .dataframe thead th {\n",
       "        text-align: right;\n",
       "    }\n",
       "</style>\n",
       "<table border=\"1\" class=\"dataframe\">\n",
       "  <thead>\n",
       "    <tr style=\"text-align: right;\">\n",
       "      <th></th>\n",
       "      <th>Bike number</th>\n",
       "      <th>Rental datetime</th>\n",
       "      <th>Return datetime</th>\n",
       "      <th>Rental station</th>\n",
       "      <th>Return station</th>\n",
       "      <th>Duration</th>\n",
       "      <th>Rental station latitude</th>\n",
       "      <th>Rental station longitude</th>\n",
       "      <th>Return station latitude</th>\n",
       "      <th>Return station longitude</th>\n",
       "    </tr>\n",
       "  </thead>\n",
       "  <tbody>\n",
       "    <tr>\n",
       "      <td>0</td>\n",
       "      <td>57719</td>\n",
       "      <td>2019-06-26 00:00:10</td>\n",
       "      <td>2019-06-26 00:06:19</td>\n",
       "      <td>Skarbowców / Wietrzna</td>\n",
       "      <td>Krzycka / Aleja Karkonoska (Park Południowy)</td>\n",
       "      <td>0 days 00:06:09.000000000</td>\n",
       "      <td>51.073290</td>\n",
       "      <td>16.994850</td>\n",
       "      <td>51.074992</td>\n",
       "      <td>17.007058</td>\n",
       "    </tr>\n",
       "    <tr>\n",
       "      <td>1</td>\n",
       "      <td>650480</td>\n",
       "      <td>2019-06-26 00:00:13</td>\n",
       "      <td>2019-06-26 00:06:59</td>\n",
       "      <td>Rynek</td>\n",
       "      <td>Plac Legionów</td>\n",
       "      <td>0 days 00:06:46.000000000</td>\n",
       "      <td>51.109782</td>\n",
       "      <td>17.030175</td>\n",
       "      <td>51.104413</td>\n",
       "      <td>17.022536</td>\n",
       "    </tr>\n",
       "    <tr>\n",
       "      <td>2</td>\n",
       "      <td>650988</td>\n",
       "      <td>2019-06-26 00:00:15</td>\n",
       "      <td>2019-06-26 00:13:32</td>\n",
       "      <td>Poza oficjalną stacją</td>\n",
       "      <td>Wałbrzyska - pętla tramwajowa</td>\n",
       "      <td>0 days 00:13:17.000000000</td>\n",
       "      <td>NaN</td>\n",
       "      <td>NaN</td>\n",
       "      <td>51.065777</td>\n",
       "      <td>16.988575</td>\n",
       "    </tr>\n",
       "    <tr>\n",
       "      <td>3</td>\n",
       "      <td>57603</td>\n",
       "      <td>2019-06-26 00:00:21</td>\n",
       "      <td>2019-06-26 00:23:53</td>\n",
       "      <td>Plac Uniwersytecki (UWr)</td>\n",
       "      <td>Legnicka / Wejherowska</td>\n",
       "      <td>0 days 00:23:32.000000000</td>\n",
       "      <td>51.113871</td>\n",
       "      <td>17.034484</td>\n",
       "      <td>51.125276</td>\n",
       "      <td>16.984447</td>\n",
       "    </tr>\n",
       "    <tr>\n",
       "      <td>4</td>\n",
       "      <td>650067</td>\n",
       "      <td>2019-06-26 00:00:40</td>\n",
       "      <td>2019-06-26 00:04:40</td>\n",
       "      <td>Powstańców Śląskich (Arkady Wrocławskie)</td>\n",
       "      <td>Powstańców Śląskich (Arkady Wrocławskie)</td>\n",
       "      <td>0 days 00:04:00.000000000</td>\n",
       "      <td>51.099713</td>\n",
       "      <td>17.027905</td>\n",
       "      <td>51.099713</td>\n",
       "      <td>17.027905</td>\n",
       "    </tr>\n",
       "  </tbody>\n",
       "</table>\n",
       "</div>"
      ],
      "text/plain": [
       "   Bike number      Rental datetime      Return datetime  \\\n",
       "0        57719  2019-06-26 00:00:10  2019-06-26 00:06:19   \n",
       "1       650480  2019-06-26 00:00:13  2019-06-26 00:06:59   \n",
       "2       650988  2019-06-26 00:00:15  2019-06-26 00:13:32   \n",
       "3        57603  2019-06-26 00:00:21  2019-06-26 00:23:53   \n",
       "4       650067  2019-06-26 00:00:40  2019-06-26 00:04:40   \n",
       "\n",
       "                             Rental station  \\\n",
       "0                     Skarbowców / Wietrzna   \n",
       "1                                     Rynek   \n",
       "2                     Poza oficjalną stacją   \n",
       "3                  Plac Uniwersytecki (UWr)   \n",
       "4  Powstańców Śląskich (Arkady Wrocławskie)   \n",
       "\n",
       "                                 Return station                   Duration  \\\n",
       "0  Krzycka / Aleja Karkonoska (Park Południowy)  0 days 00:06:09.000000000   \n",
       "1                                 Plac Legionów  0 days 00:06:46.000000000   \n",
       "2                 Wałbrzyska - pętla tramwajowa  0 days 00:13:17.000000000   \n",
       "3                        Legnicka / Wejherowska  0 days 00:23:32.000000000   \n",
       "4      Powstańców Śląskich (Arkady Wrocławskie)  0 days 00:04:00.000000000   \n",
       "\n",
       "   Rental station latitude  Rental station longitude  Return station latitude  \\\n",
       "0                51.073290                 16.994850                51.074992   \n",
       "1                51.109782                 17.030175                51.104413   \n",
       "2                      NaN                       NaN                51.065777   \n",
       "3                51.113871                 17.034484                51.125276   \n",
       "4                51.099713                 17.027905                51.099713   \n",
       "\n",
       "   Return station longitude  \n",
       "0                 17.007058  \n",
       "1                 17.022536  \n",
       "2                 16.988575  \n",
       "3                 16.984447  \n",
       "4                 17.027905  "
      ]
     },
     "execution_count": 4,
     "metadata": {},
     "output_type": "execute_result"
    }
   ],
   "source": [
    "bike_rentals_df.head()"
   ]
  },
  {
   "cell_type": "code",
   "execution_count": 5,
   "metadata": {
    "ExecuteTime": {
     "end_time": "2019-10-27T09:18:39.569603Z",
     "start_time": "2019-10-27T09:18:39.555954Z"
    }
   },
   "outputs": [
    {
     "data": {
      "text/html": [
       "<div>\n",
       "<style scoped>\n",
       "    .dataframe tbody tr th:only-of-type {\n",
       "        vertical-align: middle;\n",
       "    }\n",
       "\n",
       "    .dataframe tbody tr th {\n",
       "        vertical-align: top;\n",
       "    }\n",
       "\n",
       "    .dataframe thead th {\n",
       "        text-align: right;\n",
       "    }\n",
       "</style>\n",
       "<table border=\"1\" class=\"dataframe\">\n",
       "  <thead>\n",
       "    <tr style=\"text-align: right;\">\n",
       "      <th></th>\n",
       "      <th>Bike number</th>\n",
       "      <th>Rental datetime</th>\n",
       "      <th>Return datetime</th>\n",
       "      <th>Rental station</th>\n",
       "      <th>Return station</th>\n",
       "      <th>Duration</th>\n",
       "      <th>Rental station latitude</th>\n",
       "      <th>Rental station longitude</th>\n",
       "      <th>Return station latitude</th>\n",
       "      <th>Return station longitude</th>\n",
       "    </tr>\n",
       "  </thead>\n",
       "  <tbody>\n",
       "    <tr>\n",
       "      <td>449653</td>\n",
       "      <td>57818</td>\n",
       "      <td>2019-10-25 11:56:00</td>\n",
       "      <td>2019-10-25 11:58:00</td>\n",
       "      <td>al. Armii Krajowej / Tarnogajska</td>\n",
       "      <td>al. Armii Krajowej / Tarnogajska</td>\n",
       "      <td>0 days 00:02:00.000000000</td>\n",
       "      <td>51.083551</td>\n",
       "      <td>17.060519</td>\n",
       "      <td>51.083551</td>\n",
       "      <td>17.060519</td>\n",
       "    </tr>\n",
       "    <tr>\n",
       "      <td>449654</td>\n",
       "      <td>650926</td>\n",
       "      <td>2019-10-25 11:56:00</td>\n",
       "      <td>2019-10-25 11:57:00</td>\n",
       "      <td>Trymanda / Mińska</td>\n",
       "      <td>Trymanda / Mińska</td>\n",
       "      <td>0 days 00:01:00.000000000</td>\n",
       "      <td>51.103216</td>\n",
       "      <td>16.946100</td>\n",
       "      <td>51.103216</td>\n",
       "      <td>16.946100</td>\n",
       "    </tr>\n",
       "    <tr>\n",
       "      <td>449655</td>\n",
       "      <td>650036</td>\n",
       "      <td>2019-10-25 11:57:00</td>\n",
       "      <td>2019-10-25 11:57:00</td>\n",
       "      <td>Plac Powstańców Warszawy (Muzeum Narodowe)</td>\n",
       "      <td>Plac Powstańców Warszawy (Muzeum Narodowe)</td>\n",
       "      <td>0 days 00:00:00.000000000</td>\n",
       "      <td>51.110001</td>\n",
       "      <td>17.047736</td>\n",
       "      <td>51.110001</td>\n",
       "      <td>17.047736</td>\n",
       "    </tr>\n",
       "    <tr>\n",
       "      <td>449656</td>\n",
       "      <td>57435</td>\n",
       "      <td>2019-10-25 11:57:00</td>\n",
       "      <td>2019-10-25 12:00:00</td>\n",
       "      <td>Krucza / Mielecka / Stalowa</td>\n",
       "      <td>Grabiszyńska / Stalowa</td>\n",
       "      <td>0 days 00:03:00.000000000</td>\n",
       "      <td>51.093426</td>\n",
       "      <td>17.002893</td>\n",
       "      <td>51.099354</td>\n",
       "      <td>17.000697</td>\n",
       "    </tr>\n",
       "    <tr>\n",
       "      <td>449657</td>\n",
       "      <td>57636</td>\n",
       "      <td>2019-10-25 11:58:00</td>\n",
       "      <td>2019-10-25 12:01:00</td>\n",
       "      <td>Trymanda / Mińska</td>\n",
       "      <td>Trymanda / Mińska</td>\n",
       "      <td>0 days 00:03:00.000000000</td>\n",
       "      <td>51.103216</td>\n",
       "      <td>16.946100</td>\n",
       "      <td>51.103216</td>\n",
       "      <td>16.946100</td>\n",
       "    </tr>\n",
       "  </tbody>\n",
       "</table>\n",
       "</div>"
      ],
      "text/plain": [
       "        Bike number      Rental datetime      Return datetime  \\\n",
       "449653        57818  2019-10-25 11:56:00  2019-10-25 11:58:00   \n",
       "449654       650926  2019-10-25 11:56:00  2019-10-25 11:57:00   \n",
       "449655       650036  2019-10-25 11:57:00  2019-10-25 11:57:00   \n",
       "449656        57435  2019-10-25 11:57:00  2019-10-25 12:00:00   \n",
       "449657        57636  2019-10-25 11:58:00  2019-10-25 12:01:00   \n",
       "\n",
       "                                    Rental station  \\\n",
       "449653            al. Armii Krajowej / Tarnogajska   \n",
       "449654                           Trymanda / Mińska   \n",
       "449655  Plac Powstańców Warszawy (Muzeum Narodowe)   \n",
       "449656                 Krucza / Mielecka / Stalowa   \n",
       "449657                           Trymanda / Mińska   \n",
       "\n",
       "                                    Return station                   Duration  \\\n",
       "449653            al. Armii Krajowej / Tarnogajska  0 days 00:02:00.000000000   \n",
       "449654                           Trymanda / Mińska  0 days 00:01:00.000000000   \n",
       "449655  Plac Powstańców Warszawy (Muzeum Narodowe)  0 days 00:00:00.000000000   \n",
       "449656                      Grabiszyńska / Stalowa  0 days 00:03:00.000000000   \n",
       "449657                           Trymanda / Mińska  0 days 00:03:00.000000000   \n",
       "\n",
       "        Rental station latitude  Rental station longitude  \\\n",
       "449653                51.083551                 17.060519   \n",
       "449654                51.103216                 16.946100   \n",
       "449655                51.110001                 17.047736   \n",
       "449656                51.093426                 17.002893   \n",
       "449657                51.103216                 16.946100   \n",
       "\n",
       "        Return station latitude  Return station longitude  \n",
       "449653                51.083551                 17.060519  \n",
       "449654                51.103216                 16.946100  \n",
       "449655                51.110001                 17.047736  \n",
       "449656                51.099354                 17.000697  \n",
       "449657                51.103216                 16.946100  "
      ]
     },
     "execution_count": 5,
     "metadata": {},
     "output_type": "execute_result"
    }
   ],
   "source": [
    "bike_rentals_df.tail()"
   ]
  }
 ],
 "metadata": {
  "file_extension": ".py",
  "kernelspec": {
   "display_name": "Python 3",
   "language": "python",
   "name": "python3"
  },
  "language_info": {
   "codemirror_mode": {
    "name": "ipython",
    "version": 3
   },
   "file_extension": ".py",
   "mimetype": "text/x-python",
   "name": "python",
   "nbconvert_exporter": "python",
   "pygments_lexer": "ipython3",
   "version": "3.7.4"
  },
  "mimetype": "text/x-python",
  "name": "python",
  "npconvert_exporter": "python",
  "pygments_lexer": "ipython3",
  "toc": {
   "base_numbering": 1,
   "nav_menu": {},
   "number_sections": true,
   "sideBar": true,
   "skip_h1_title": false,
   "title_cell": "Table of Contents",
   "title_sidebar": "Contents",
   "toc_cell": false,
   "toc_position": {
    "height": "calc(100% - 180px)",
    "left": "10px",
    "top": "150px",
    "width": "282.594px"
   },
   "toc_section_display": true,
   "toc_window_display": false
  },
  "version": 3
 },
 "nbformat": 4,
 "nbformat_minor": 2
}

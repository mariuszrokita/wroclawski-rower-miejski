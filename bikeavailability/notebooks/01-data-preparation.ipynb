{
 "cells": [
  {
   "cell_type": "markdown",
   "metadata": {},
   "source": [
    "# Data preparation"
   ]
  },
  {
   "cell_type": "markdown",
   "metadata": {},
   "source": [
    "The purpose of this notebook is to download data (already imported and persisted in the Azure Blob Storage) and prepare it. As a result we will get a dataset ready for further analyses and modeling.\n",
    "\n",
    "The data preparation steps are:\n",
    "* [Environment configuration](#Environment-configuration)\n",
    "* [Unit tests execution](#Unit-tests-execution)\n",
    "* [Data ingestion, cleaning and featurization pipeline](#Data-ingestion,-cleaning-and-featurization-pipeline)\n",
    "* [Quick verification of pipeline outputs](#Post-execution-verification)"
   ]
  },
  {
   "cell_type": "markdown",
   "metadata": {},
   "source": [
    "## Environment configuration"
   ]
  },
  {
   "cell_type": "code",
   "execution_count": 1,
   "metadata": {
    "ExecuteTime": {
     "end_time": "2019-11-27T06:16:19.016697Z",
     "start_time": "2019-11-27T06:16:18.362381Z"
    }
   },
   "outputs": [],
   "source": [
    "import os\n",
    "import pandas as pd"
   ]
  },
  {
   "cell_type": "markdown",
   "metadata": {},
   "source": [
    "## Unit tests execution"
   ]
  },
  {
   "cell_type": "markdown",
   "metadata": {},
   "source": [
    "This step is to make sure the python code (responsible for data ingestion, cleaning and featurization pipeline) is in the stable state."
   ]
  },
  {
   "cell_type": "code",
   "execution_count": 2,
   "metadata": {
    "ExecuteTime": {
     "end_time": "2019-11-27T06:16:19.022558Z",
     "start_time": "2019-11-27T06:16:19.019224Z"
    }
   },
   "outputs": [
    {
     "name": "stdout",
     "output_type": "stream",
     "text": [
      "Current working directory: /Users/mariuszrokita/GitHub/wroclawski-rower-miejski/bikeavailability\n"
     ]
    }
   ],
   "source": [
    "# Let the 'bikeavailability' folder be a current directory\n",
    "os.chdir('..')\n",
    "print(f\"Current working directory: {os.getcwd()}\")"
   ]
  },
  {
   "cell_type": "code",
   "execution_count": 3,
   "metadata": {
    "ExecuteTime": {
     "end_time": "2019-11-27T06:16:24.528715Z",
     "start_time": "2019-11-27T06:16:19.024475Z"
    }
   },
   "outputs": [
    {
     "name": "stdout",
     "output_type": "stream",
     "text": [
      "\u001b[1m============================= test session starts ==============================\u001b[0m\n",
      "platform darwin -- Python 3.6.9, pytest-5.2.2, py-1.8.0, pluggy-0.13.0\n",
      "rootdir: /Users/mariuszrokita/GitHub/wroclawski-rower-miejski, inifile: tox.ini\n",
      "plugins: cov-2.8.1\n",
      "collected 0 items                                                              \u001b[0m\u001b[1m\n",
      "\n",
      "\u001b[33m\u001b[1m============================ no tests ran in 4.80s =============================\u001b[0m\n"
     ]
    }
   ],
   "source": [
    "# execute tests to make sure everything is working as expected\n",
    "!python -m pytest"
   ]
  },
  {
   "cell_type": "markdown",
   "metadata": {},
   "source": [
    "## Data preparation pipeline"
   ]
  },
  {
   "cell_type": "markdown",
   "metadata": {},
   "source": [
    "This step has been implemented as a full pipeline and consists of following steps:\n",
    "* data ingestion (downloading already imported data from Azure Blob Storage to local destination),\n",
    "* cleaning and soft/hard removing records\n",
    "* creating new features\n",
    "* saving dataset in the `data/processed` location\n",
    "\n",
    "In fact, we'll execute the pipeline twice. This way we'll get two output datasets: one with soft deleted records, other one - with hard removed records."
   ]
  },
  {
   "cell_type": "code",
   "execution_count": 4,
   "metadata": {
    "ExecuteTime": {
     "end_time": "2019-11-27T06:16:24.538047Z",
     "start_time": "2019-11-27T06:16:24.532752Z"
    }
   },
   "outputs": [],
   "source": [
    "# Go to source folder\n",
    "os.chdir('src')"
   ]
  },
  {
   "cell_type": "code",
   "execution_count": 5,
   "metadata": {
    "ExecuteTime": {
     "end_time": "2019-11-27T06:16:37.543997Z",
     "start_time": "2019-11-27T06:16:24.545079Z"
    },
    "scrolled": false
   },
   "outputs": [
    {
     "name": "stderr",
     "output_type": "stream",
     "text": [
      "Script execution started\n",
      "Root folder set to: /Users/mariuszrokita/GitHub/wroclawski-rower-miejski/bikeavailability\n",
      "Pipeline execution about to start!\n",
      "**** DataPreparationPipeline stage - start ****\n",
      "    **** DataIngestion stage - start ****\n",
      "    Output data shape: (0, 0)\n",
      "    **** DataIngestion stage - end ****\n",
      "\n",
      "Output data shape: (0, 0)\n",
      "**** DataPreparationPipeline stage - end ****\n",
      "\n",
      "Data saved to: /Users/mariuszrokita/GitHub/wroclawski-rower-miejski/bikeavailability/data/processed/bike_availability_soft.csv\n",
      "Pipeline execution completed!\n"
     ]
    },
    {
     "name": "stdout",
     "output_type": "stream",
     "text": [
      "\n",
      "IPython CPU timings (estimated):\n",
      "  User   :       7.18 s.\n",
      "  System :       0.41 s.\n",
      "Wall time:      12.99 s.\n"
     ]
    }
   ],
   "source": [
    "# run data loading and processing pipeline \n",
    "# (with soft deleting so that we can inspect everything)\n",
    "%run -t run_pipeline.py --hard-delete=False --save=bike_availability_soft"
   ]
  },
  {
   "cell_type": "code",
   "execution_count": 6,
   "metadata": {
    "ExecuteTime": {
     "end_time": "2019-11-27T06:16:37.554549Z",
     "start_time": "2019-11-27T06:16:37.548276Z"
    }
   },
   "outputs": [],
   "source": [
    "# run data loading and processing pipeline (with hard deleting)\n",
    "#%run -t run_pipeline.py --hard-delete=True --save=bike_rentals"
   ]
  },
  {
   "cell_type": "markdown",
   "metadata": {},
   "source": [
    "## [tmp] data ingestion code development"
   ]
  },
  {
   "cell_type": "code",
   "execution_count": 7,
   "metadata": {
    "ExecuteTime": {
     "end_time": "2019-11-27T06:16:37.562137Z",
     "start_time": "2019-11-27T06:16:37.557539Z"
    }
   },
   "outputs": [],
   "source": [
    "raw_data_folder = os.path.join(os.getcwd(), '..', 'data', 'raw')\n",
    "processed_data_folder = os.path.join(os.getcwd(), '..', 'data', 'processed')"
   ]
  },
  {
   "cell_type": "code",
   "execution_count": 8,
   "metadata": {
    "ExecuteTime": {
     "end_time": "2019-11-27T06:16:37.567900Z",
     "start_time": "2019-11-27T06:16:37.565109Z"
    }
   },
   "outputs": [],
   "source": [
    "import json\n",
    "import glob\n",
    "import pandas as pd"
   ]
  },
  {
   "cell_type": "code",
   "execution_count": 9,
   "metadata": {
    "ExecuteTime": {
     "end_time": "2019-11-27T06:16:37.673433Z",
     "start_time": "2019-11-27T06:16:37.571277Z"
    }
   },
   "outputs": [
    {
     "name": "stdout",
     "output_type": "stream",
     "text": [
      "/Users/mariuszrokita/GitHub/wroclawski-rower-miejski/bikeavailability/src/../data/raw/2019_10_25_15_20_00_0.json\n",
      "/Users/mariuszrokita/GitHub/wroclawski-rower-miejski/bikeavailability/src/../data/raw/2019_10_25_15_20_00_100.json\n",
      "/Users/mariuszrokita/GitHub/wroclawski-rower-miejski/bikeavailability/src/../data/raw/2019_10_25_15_20_00_200.json\n",
      "/Users/mariuszrokita/GitHub/wroclawski-rower-miejski/bikeavailability/src/../data/raw/2019_10_25_15_30_00_0.json\n",
      "/Users/mariuszrokita/GitHub/wroclawski-rower-miejski/bikeavailability/src/../data/raw/2019_10_25_15_30_00_100.json\n",
      "/Users/mariuszrokita/GitHub/wroclawski-rower-miejski/bikeavailability/src/../data/raw/2019_10_25_15_30_00_200.json\n",
      "/Users/mariuszrokita/GitHub/wroclawski-rower-miejski/bikeavailability/src/../data/raw/2019_10_25_15_40_00_0.json\n",
      "/Users/mariuszrokita/GitHub/wroclawski-rower-miejski/bikeavailability/src/../data/raw/2019_10_25_15_40_00_100.json\n",
      "/Users/mariuszrokita/GitHub/wroclawski-rower-miejski/bikeavailability/src/../data/raw/2019_10_25_15_40_00_200.json\n",
      "/Users/mariuszrokita/GitHub/wroclawski-rower-miejski/bikeavailability/src/../data/raw/2019_10_25_15_50_00_0.json\n"
     ]
    }
   ],
   "source": [
    "# list of files already read and processed\n",
    "processed_filenames = []\n",
    "all_df = pd.DataFrame(data=[], columns=['bikes', 'number', 'timestamp'])\n",
    "\n",
    "for filename in sorted(glob.glob(os.path.join(raw_data_folder, '*.json')))[:10]:\n",
    "    # load json file\n",
    "    print(filename)\n",
    "    with open(filename) as json_file:\n",
    "        data = json.load(json_file)\n",
    "        \n",
    "    if data['success'] == True:\n",
    "        # make dataframe from a single json\n",
    "        records_df = pd.DataFrame(data=data['result']['records'])\n",
    "        records_df['timestamp'] = data['datetime']\n",
    "        all_df = pd.concat([all_df, records_df], sort=True, ignore_index=True)\n",
    "        processed_filenames.append(os.path.basename(filename))"
   ]
  },
  {
   "cell_type": "code",
   "execution_count": 10,
   "metadata": {
    "ExecuteTime": {
     "end_time": "2019-11-27T06:16:37.694269Z",
     "start_time": "2019-11-27T06:16:37.675444Z"
    }
   },
   "outputs": [
    {
     "data": {
      "text/html": [
       "<div>\n",
       "<style scoped>\n",
       "    .dataframe tbody tr th:only-of-type {\n",
       "        vertical-align: middle;\n",
       "    }\n",
       "\n",
       "    .dataframe tbody tr th {\n",
       "        vertical-align: top;\n",
       "    }\n",
       "\n",
       "    .dataframe thead th {\n",
       "        text-align: right;\n",
       "    }\n",
       "</style>\n",
       "<table border=\"1\" class=\"dataframe\">\n",
       "  <thead>\n",
       "    <tr style=\"text-align: right;\">\n",
       "      <th></th>\n",
       "      <th>bikes</th>\n",
       "      <th>number</th>\n",
       "      <th>timestamp</th>\n",
       "    </tr>\n",
       "  </thead>\n",
       "  <tbody>\n",
       "    <tr>\n",
       "      <th>0</th>\n",
       "      <td>3</td>\n",
       "      <td>15001</td>\n",
       "      <td>2019-10-25T15:20:00.201851</td>\n",
       "    </tr>\n",
       "    <tr>\n",
       "      <th>1</th>\n",
       "      <td>11</td>\n",
       "      <td>15002</td>\n",
       "      <td>2019-10-25T15:20:00.201851</td>\n",
       "    </tr>\n",
       "    <tr>\n",
       "      <th>2</th>\n",
       "      <td>3</td>\n",
       "      <td>15003</td>\n",
       "      <td>2019-10-25T15:20:00.201851</td>\n",
       "    </tr>\n",
       "    <tr>\n",
       "      <th>3</th>\n",
       "      <td>37</td>\n",
       "      <td>15004</td>\n",
       "      <td>2019-10-25T15:20:00.201851</td>\n",
       "    </tr>\n",
       "    <tr>\n",
       "      <th>4</th>\n",
       "      <td>1</td>\n",
       "      <td>15005</td>\n",
       "      <td>2019-10-25T15:20:00.201851</td>\n",
       "    </tr>\n",
       "  </tbody>\n",
       "</table>\n",
       "</div>"
      ],
      "text/plain": [
       "  bikes number                   timestamp\n",
       "0     3  15001  2019-10-25T15:20:00.201851\n",
       "1    11  15002  2019-10-25T15:20:00.201851\n",
       "2     3  15003  2019-10-25T15:20:00.201851\n",
       "3    37  15004  2019-10-25T15:20:00.201851\n",
       "4     1  15005  2019-10-25T15:20:00.201851"
      ]
     },
     "execution_count": 10,
     "metadata": {},
     "output_type": "execute_result"
    }
   ],
   "source": [
    "all_df.head()"
   ]
  },
  {
   "cell_type": "code",
   "execution_count": 11,
   "metadata": {
    "ExecuteTime": {
     "end_time": "2019-11-27T06:16:37.706655Z",
     "start_time": "2019-11-27T06:16:37.698012Z"
    }
   },
   "outputs": [
    {
     "data": {
      "text/html": [
       "<div>\n",
       "<style scoped>\n",
       "    .dataframe tbody tr th:only-of-type {\n",
       "        vertical-align: middle;\n",
       "    }\n",
       "\n",
       "    .dataframe tbody tr th {\n",
       "        vertical-align: top;\n",
       "    }\n",
       "\n",
       "    .dataframe thead th {\n",
       "        text-align: right;\n",
       "    }\n",
       "</style>\n",
       "<table border=\"1\" class=\"dataframe\">\n",
       "  <thead>\n",
       "    <tr style=\"text-align: right;\">\n",
       "      <th></th>\n",
       "      <th>bikes</th>\n",
       "      <th>number</th>\n",
       "      <th>timestamp</th>\n",
       "    </tr>\n",
       "  </thead>\n",
       "  <tbody>\n",
       "    <tr>\n",
       "      <th>704</th>\n",
       "      <td>20</td>\n",
       "      <td>15096</td>\n",
       "      <td>2019-10-25T15:50:00.187345</td>\n",
       "    </tr>\n",
       "    <tr>\n",
       "      <th>705</th>\n",
       "      <td>8</td>\n",
       "      <td>15104</td>\n",
       "      <td>2019-10-25T15:50:00.187345</td>\n",
       "    </tr>\n",
       "    <tr>\n",
       "      <th>706</th>\n",
       "      <td>14</td>\n",
       "      <td>15097</td>\n",
       "      <td>2019-10-25T15:50:00.187345</td>\n",
       "    </tr>\n",
       "    <tr>\n",
       "      <th>707</th>\n",
       "      <td>10</td>\n",
       "      <td>15098</td>\n",
       "      <td>2019-10-25T15:50:00.187345</td>\n",
       "    </tr>\n",
       "    <tr>\n",
       "      <th>708</th>\n",
       "      <td>12</td>\n",
       "      <td>15099</td>\n",
       "      <td>2019-10-25T15:50:00.187345</td>\n",
       "    </tr>\n",
       "  </tbody>\n",
       "</table>\n",
       "</div>"
      ],
      "text/plain": [
       "    bikes number                   timestamp\n",
       "704    20  15096  2019-10-25T15:50:00.187345\n",
       "705     8  15104  2019-10-25T15:50:00.187345\n",
       "706    14  15097  2019-10-25T15:50:00.187345\n",
       "707    10  15098  2019-10-25T15:50:00.187345\n",
       "708    12  15099  2019-10-25T15:50:00.187345"
      ]
     },
     "execution_count": 11,
     "metadata": {},
     "output_type": "execute_result"
    }
   ],
   "source": [
    "all_df.tail()"
   ]
  },
  {
   "cell_type": "code",
   "execution_count": 12,
   "metadata": {
    "ExecuteTime": {
     "end_time": "2019-11-27T06:16:37.720584Z",
     "start_time": "2019-11-27T06:16:37.708967Z"
    }
   },
   "outputs": [
    {
     "data": {
      "text/html": [
       "<div>\n",
       "<style scoped>\n",
       "    .dataframe tbody tr th:only-of-type {\n",
       "        vertical-align: middle;\n",
       "    }\n",
       "\n",
       "    .dataframe tbody tr th {\n",
       "        vertical-align: top;\n",
       "    }\n",
       "\n",
       "    .dataframe thead th {\n",
       "        text-align: right;\n",
       "    }\n",
       "</style>\n",
       "<table border=\"1\" class=\"dataframe\">\n",
       "  <thead>\n",
       "    <tr style=\"text-align: right;\">\n",
       "      <th></th>\n",
       "      <th>bikes</th>\n",
       "      <th>number</th>\n",
       "      <th>timestamp</th>\n",
       "    </tr>\n",
       "  </thead>\n",
       "  <tbody>\n",
       "    <tr>\n",
       "      <th>0</th>\n",
       "      <td>3</td>\n",
       "      <td>15001</td>\n",
       "      <td>2019-10-25T15:20:00.201851</td>\n",
       "    </tr>\n",
       "    <tr>\n",
       "      <th>1</th>\n",
       "      <td>11</td>\n",
       "      <td>15002</td>\n",
       "      <td>2019-10-25T15:20:00.201851</td>\n",
       "    </tr>\n",
       "    <tr>\n",
       "      <th>2</th>\n",
       "      <td>3</td>\n",
       "      <td>15003</td>\n",
       "      <td>2019-10-25T15:20:00.201851</td>\n",
       "    </tr>\n",
       "    <tr>\n",
       "      <th>3</th>\n",
       "      <td>37</td>\n",
       "      <td>15004</td>\n",
       "      <td>2019-10-25T15:20:00.201851</td>\n",
       "    </tr>\n",
       "    <tr>\n",
       "      <th>4</th>\n",
       "      <td>1</td>\n",
       "      <td>15005</td>\n",
       "      <td>2019-10-25T15:20:00.201851</td>\n",
       "    </tr>\n",
       "    <tr>\n",
       "      <th>...</th>\n",
       "      <td>...</td>\n",
       "      <td>...</td>\n",
       "      <td>...</td>\n",
       "    </tr>\n",
       "    <tr>\n",
       "      <th>704</th>\n",
       "      <td>20</td>\n",
       "      <td>15096</td>\n",
       "      <td>2019-10-25T15:50:00.187345</td>\n",
       "    </tr>\n",
       "    <tr>\n",
       "      <th>705</th>\n",
       "      <td>8</td>\n",
       "      <td>15104</td>\n",
       "      <td>2019-10-25T15:50:00.187345</td>\n",
       "    </tr>\n",
       "    <tr>\n",
       "      <th>706</th>\n",
       "      <td>14</td>\n",
       "      <td>15097</td>\n",
       "      <td>2019-10-25T15:50:00.187345</td>\n",
       "    </tr>\n",
       "    <tr>\n",
       "      <th>707</th>\n",
       "      <td>10</td>\n",
       "      <td>15098</td>\n",
       "      <td>2019-10-25T15:50:00.187345</td>\n",
       "    </tr>\n",
       "    <tr>\n",
       "      <th>708</th>\n",
       "      <td>12</td>\n",
       "      <td>15099</td>\n",
       "      <td>2019-10-25T15:50:00.187345</td>\n",
       "    </tr>\n",
       "  </tbody>\n",
       "</table>\n",
       "<p>709 rows × 3 columns</p>\n",
       "</div>"
      ],
      "text/plain": [
       "    bikes number                   timestamp\n",
       "0       3  15001  2019-10-25T15:20:00.201851\n",
       "1      11  15002  2019-10-25T15:20:00.201851\n",
       "2       3  15003  2019-10-25T15:20:00.201851\n",
       "3      37  15004  2019-10-25T15:20:00.201851\n",
       "4       1  15005  2019-10-25T15:20:00.201851\n",
       "..    ...    ...                         ...\n",
       "704    20  15096  2019-10-25T15:50:00.187345\n",
       "705     8  15104  2019-10-25T15:50:00.187345\n",
       "706    14  15097  2019-10-25T15:50:00.187345\n",
       "707    10  15098  2019-10-25T15:50:00.187345\n",
       "708    12  15099  2019-10-25T15:50:00.187345\n",
       "\n",
       "[709 rows x 3 columns]"
      ]
     },
     "execution_count": 12,
     "metadata": {},
     "output_type": "execute_result"
    }
   ],
   "source": [
    "all_df"
   ]
  },
  {
   "cell_type": "code",
   "execution_count": 13,
   "metadata": {
    "ExecuteTime": {
     "end_time": "2019-11-27T06:16:37.731480Z",
     "start_time": "2019-11-27T06:16:37.722791Z"
    }
   },
   "outputs": [
    {
     "data": {
      "text/plain": [
       "['2019_10_25_15_20_00_0.json',\n",
       " '2019_10_25_15_20_00_100.json',\n",
       " '2019_10_25_15_20_00_200.json',\n",
       " '2019_10_25_15_30_00_0.json',\n",
       " '2019_10_25_15_30_00_100.json',\n",
       " '2019_10_25_15_30_00_200.json',\n",
       " '2019_10_25_15_40_00_0.json',\n",
       " '2019_10_25_15_40_00_100.json',\n",
       " '2019_10_25_15_40_00_200.json',\n",
       " '2019_10_25_15_50_00_0.json']"
      ]
     },
     "execution_count": 13,
     "metadata": {},
     "output_type": "execute_result"
    }
   ],
   "source": [
    "processed_filenames"
   ]
  },
  {
   "cell_type": "markdown",
   "metadata": {},
   "source": [
    "## Post-execution verification"
   ]
  },
  {
   "cell_type": "code",
   "execution_count": 14,
   "metadata": {
    "ExecuteTime": {
     "end_time": "2019-11-27T06:16:37.739904Z",
     "start_time": "2019-11-27T06:16:37.737203Z"
    }
   },
   "outputs": [],
   "source": [
    "# set up paths to created datasets\n",
    "#filepath_soft = os.path.join(os.getcwd(), '..', 'data', 'processed', 'bike_availability_soft.csv')\n",
    "#filepath_hard = os.path.join(os.getcwd(), '..', 'data', 'processed', 'bike_rentals.csv')"
   ]
  },
  {
   "cell_type": "code",
   "execution_count": 15,
   "metadata": {
    "ExecuteTime": {
     "end_time": "2019-11-27T06:16:37.744308Z",
     "start_time": "2019-11-27T06:16:37.742176Z"
    }
   },
   "outputs": [],
   "source": [
    "# load data\n",
    "#bike_rentals_soft_df = pd.read_csv(filepath_soft)\n",
    "#bike_rentals_hard_df = pd.read_csv(filepath_hard)"
   ]
  },
  {
   "cell_type": "code",
   "execution_count": 16,
   "metadata": {
    "ExecuteTime": {
     "end_time": "2019-11-27T06:16:37.748827Z",
     "start_time": "2019-11-27T06:16:37.746423Z"
    }
   },
   "outputs": [],
   "source": [
    "#print('Dataset with soft deleted records: ', bike_rentals_soft_df.shape)\n",
    "#print('Dataset with hard deleted records: ', bike_rentals_hard_df.shape)"
   ]
  }
 ],
 "metadata": {
  "file_extension": ".py",
  "kernelspec": {
   "display_name": "Python 3",
   "language": "python",
   "name": "python3"
  },
  "language_info": {
   "codemirror_mode": {
    "name": "ipython",
    "version": 3
   },
   "file_extension": ".py",
   "mimetype": "text/x-python",
   "name": "python",
   "nbconvert_exporter": "python",
   "pygments_lexer": "ipython3",
   "version": "3.6.9"
  },
  "mimetype": "text/x-python",
  "name": "python",
  "npconvert_exporter": "python",
  "pygments_lexer": "ipython3",
  "toc": {
   "base_numbering": 1,
   "nav_menu": {},
   "number_sections": true,
   "sideBar": true,
   "skip_h1_title": false,
   "title_cell": "Table of Contents",
   "title_sidebar": "Contents",
   "toc_cell": false,
   "toc_position": {
    "height": "calc(100% - 180px)",
    "left": "10px",
    "top": "150px",
    "width": "282.594px"
   },
   "toc_section_display": true,
   "toc_window_display": false
  },
  "version": 3
 },
 "nbformat": 4,
 "nbformat_minor": 2
}

{
 "cells": [
  {
   "cell_type": "markdown",
   "metadata": {},
   "source": [
    "# Data preparation"
   ]
  },
  {
   "cell_type": "markdown",
   "metadata": {},
   "source": [
    "The purpose of this notebook is to download data (already imported and persisted in the Azure Blob Storage) and prepare it. As a result we will get a dataset ready for further analyses and modeling.\n",
    "\n",
    "The data preparation steps are:\n",
    "* [Environment configuration](#Environment-configuration)\n",
    "* [Unit tests execution](#Unit-tests-execution)\n",
    "* [Data ingestion, cleaning and featurization pipeline](#Data-ingestion,-cleaning-and-featurization-pipeline)\n",
    "* [Quick verification of pipeline outputs](#Post-execution-verification)"
   ]
  },
  {
   "cell_type": "markdown",
   "metadata": {},
   "source": [
    "## Environment configuration"
   ]
  },
  {
   "cell_type": "code",
   "execution_count": 1,
   "metadata": {
    "ExecuteTime": {
     "end_time": "2019-11-27T20:57:24.580017Z",
     "start_time": "2019-11-27T20:57:24.111030Z"
    }
   },
   "outputs": [],
   "source": [
    "import os\n",
    "import pandas as pd"
   ]
  },
  {
   "cell_type": "markdown",
   "metadata": {},
   "source": [
    "## Unit tests execution"
   ]
  },
  {
   "cell_type": "markdown",
   "metadata": {},
   "source": [
    "This step is to make sure the python code (responsible for data ingestion, cleaning and featurization pipeline) is in the stable state."
   ]
  },
  {
   "cell_type": "code",
   "execution_count": 2,
   "metadata": {
    "ExecuteTime": {
     "end_time": "2019-11-27T20:57:26.592066Z",
     "start_time": "2019-11-27T20:57:26.587691Z"
    }
   },
   "outputs": [
    {
     "name": "stdout",
     "output_type": "stream",
     "text": [
      "Current working directory: /Users/mariuszrokita/GitHub/wroclawski-rower-miejski/bikeavailability\n"
     ]
    }
   ],
   "source": [
    "# Let the 'bikeavailability' folder be a current directory\n",
    "os.chdir('..')\n",
    "print(f\"Current working directory: {os.getcwd()}\")"
   ]
  },
  {
   "cell_type": "code",
   "execution_count": 3,
   "metadata": {
    "ExecuteTime": {
     "end_time": "2019-11-27T20:57:35.306050Z",
     "start_time": "2019-11-27T20:57:30.028203Z"
    }
   },
   "outputs": [
    {
     "name": "stdout",
     "output_type": "stream",
     "text": [
      "\u001b[1m============================= test session starts ==============================\u001b[0m\n",
      "platform darwin -- Python 3.6.9, pytest-5.2.2, py-1.8.0, pluggy-0.13.0\n",
      "rootdir: /Users/mariuszrokita/GitHub/wroclawski-rower-miejski, inifile: tox.ini\n",
      "plugins: cov-2.8.1\n",
      "collected 0 items                                                              \u001b[0m\u001b[1m\n",
      "\n",
      "\u001b[33m\u001b[1m============================ no tests ran in 4.60s =============================\u001b[0m\n"
     ]
    }
   ],
   "source": [
    "# execute tests to make sure everything is working as expected\n",
    "!python -m pytest"
   ]
  },
  {
   "cell_type": "markdown",
   "metadata": {},
   "source": [
    "## Data preparation pipeline"
   ]
  },
  {
   "cell_type": "markdown",
   "metadata": {},
   "source": [
    "This step has been implemented as a full pipeline and consists of following steps:\n",
    "* data ingestion (downloading already imported data from Azure Blob Storage to local destination),\n",
    "* cleaning and soft/hard removing records\n",
    "* creating new features\n",
    "* saving dataset in the `data/processed` location\n",
    "\n",
    "In fact, we'll execute the pipeline twice. This way we'll get two output datasets: one with soft deleted records, other one - with hard removed records."
   ]
  },
  {
   "cell_type": "code",
   "execution_count": 4,
   "metadata": {
    "ExecuteTime": {
     "end_time": "2019-11-27T20:57:38.447226Z",
     "start_time": "2019-11-27T20:57:38.444031Z"
    }
   },
   "outputs": [],
   "source": [
    "# Go to source folder\n",
    "os.chdir('src')"
   ]
  },
  {
   "cell_type": "code",
   "execution_count": 5,
   "metadata": {
    "ExecuteTime": {
     "end_time": "2019-11-27T21:02:14.999662Z",
     "start_time": "2019-11-27T20:57:40.547609Z"
    },
    "scrolled": false
   },
   "outputs": [
    {
     "name": "stderr",
     "output_type": "stream",
     "text": [
      "Script execution started\n",
      "Root folder set to: /Users/mariuszrokita/GitHub/wroclawski-rower-miejski/bikeavailability\n",
      "Pipeline execution about to start!\n",
      "**** DataPreparationPipeline stage - start ****\n",
      "    **** DataIngestion stage - start ****\n",
      "    **** DataIngestion stage - end ****\n",
      "\n",
      "**** DataPreparationPipeline stage - end ****\n",
      "\n",
      "Data saved to: /Users/mariuszrokita/GitHub/wroclawski-rower-miejski/bikeavailability/data/processed/bike_availability_soft.csv\n",
      "Pipeline execution completed!\n"
     ]
    },
    {
     "name": "stdout",
     "output_type": "stream",
     "text": [
      "\n",
      "IPython CPU timings (estimated):\n",
      "  User   :     224.19 s.\n",
      "  System :      45.39 s.\n",
      "Wall time:     274.46 s.\n"
     ]
    }
   ],
   "source": [
    "# run data loading and processing pipeline \n",
    "# (with soft deleting so that we can inspect everything)\n",
    "%run -t run_pipeline.py --hard-delete=False --save=bike_availability_soft"
   ]
  },
  {
   "cell_type": "code",
   "execution_count": null,
   "metadata": {
    "ExecuteTime": {
     "end_time": "2019-11-27T06:16:37.554549Z",
     "start_time": "2019-11-27T06:16:37.548276Z"
    }
   },
   "outputs": [],
   "source": [
    "# run data loading and processing pipeline (with hard deleting)\n",
    "#%run -t run_pipeline.py --hard-delete=True --save=bike_rentals"
   ]
  },
  {
   "cell_type": "markdown",
   "metadata": {},
   "source": [
    "## Post-execution verification"
   ]
  },
  {
   "cell_type": "code",
   "execution_count": 6,
   "metadata": {
    "ExecuteTime": {
     "end_time": "2019-11-27T21:03:40.251318Z",
     "start_time": "2019-11-27T21:03:40.247781Z"
    }
   },
   "outputs": [],
   "source": [
    "# set up paths to created datasets\n",
    "filepath_soft = os.path.join(os.getcwd(), '..', 'data', 'processed', 'bike_availability_soft.csv')\n",
    "#filepath_hard = os.path.join(os.getcwd(), '..', 'data', 'processed', 'bike_rentals.csv')"
   ]
  },
  {
   "cell_type": "code",
   "execution_count": 8,
   "metadata": {
    "ExecuteTime": {
     "end_time": "2019-11-27T21:04:04.419606Z",
     "start_time": "2019-11-27T21:04:04.118730Z"
    }
   },
   "outputs": [],
   "source": [
    "# load data\n",
    "bike_availability_soft_df = pd.read_csv(filepath_soft)\n",
    "#bike_availability_hard_df = pd.read_csv(filepath_hard)"
   ]
  },
  {
   "cell_type": "code",
   "execution_count": 9,
   "metadata": {
    "ExecuteTime": {
     "end_time": "2019-11-27T21:04:14.907755Z",
     "start_time": "2019-11-27T21:04:14.903496Z"
    }
   },
   "outputs": [
    {
     "name": "stdout",
     "output_type": "stream",
     "text": [
      "Dataset with soft deleted records:  (952573, 3)\n"
     ]
    }
   ],
   "source": [
    "print('Dataset with soft deleted records: ', bike_availability_soft_df.shape)\n",
    "#print('Dataset with hard deleted records: ', bike_availability_hard_df.shape)"
   ]
  },
  {
   "cell_type": "code",
   "execution_count": 10,
   "metadata": {
    "ExecuteTime": {
     "end_time": "2019-11-27T21:04:29.130060Z",
     "start_time": "2019-11-27T21:04:29.110174Z"
    }
   },
   "outputs": [
    {
     "data": {
      "text/html": [
       "<div>\n",
       "<style scoped>\n",
       "    .dataframe tbody tr th:only-of-type {\n",
       "        vertical-align: middle;\n",
       "    }\n",
       "\n",
       "    .dataframe tbody tr th {\n",
       "        vertical-align: top;\n",
       "    }\n",
       "\n",
       "    .dataframe thead th {\n",
       "        text-align: right;\n",
       "    }\n",
       "</style>\n",
       "<table border=\"1\" class=\"dataframe\">\n",
       "  <thead>\n",
       "    <tr style=\"text-align: right;\">\n",
       "      <th></th>\n",
       "      <th>timestamp</th>\n",
       "      <th>bikes</th>\n",
       "      <th>number</th>\n",
       "    </tr>\n",
       "  </thead>\n",
       "  <tbody>\n",
       "    <tr>\n",
       "      <th>0</th>\n",
       "      <td>2019-10-25T15:20:00.201851</td>\n",
       "      <td>3</td>\n",
       "      <td>15001</td>\n",
       "    </tr>\n",
       "    <tr>\n",
       "      <th>1</th>\n",
       "      <td>2019-10-25T15:20:00.201851</td>\n",
       "      <td>11</td>\n",
       "      <td>15002</td>\n",
       "    </tr>\n",
       "    <tr>\n",
       "      <th>2</th>\n",
       "      <td>2019-10-25T15:20:00.201851</td>\n",
       "      <td>3</td>\n",
       "      <td>15003</td>\n",
       "    </tr>\n",
       "    <tr>\n",
       "      <th>3</th>\n",
       "      <td>2019-10-25T15:20:00.201851</td>\n",
       "      <td>37</td>\n",
       "      <td>15004</td>\n",
       "    </tr>\n",
       "    <tr>\n",
       "      <th>4</th>\n",
       "      <td>2019-10-25T15:20:00.201851</td>\n",
       "      <td>1</td>\n",
       "      <td>15005</td>\n",
       "    </tr>\n",
       "  </tbody>\n",
       "</table>\n",
       "</div>"
      ],
      "text/plain": [
       "                    timestamp  bikes  number\n",
       "0  2019-10-25T15:20:00.201851      3   15001\n",
       "1  2019-10-25T15:20:00.201851     11   15002\n",
       "2  2019-10-25T15:20:00.201851      3   15003\n",
       "3  2019-10-25T15:20:00.201851     37   15004\n",
       "4  2019-10-25T15:20:00.201851      1   15005"
      ]
     },
     "execution_count": 10,
     "metadata": {},
     "output_type": "execute_result"
    }
   ],
   "source": [
    "bike_availability_soft_df.head()"
   ]
  },
  {
   "cell_type": "code",
   "execution_count": 11,
   "metadata": {
    "ExecuteTime": {
     "end_time": "2019-11-27T21:04:39.804849Z",
     "start_time": "2019-11-27T21:04:39.797104Z"
    }
   },
   "outputs": [
    {
     "data": {
      "text/html": [
       "<div>\n",
       "<style scoped>\n",
       "    .dataframe tbody tr th:only-of-type {\n",
       "        vertical-align: middle;\n",
       "    }\n",
       "\n",
       "    .dataframe tbody tr th {\n",
       "        vertical-align: top;\n",
       "    }\n",
       "\n",
       "    .dataframe thead th {\n",
       "        text-align: right;\n",
       "    }\n",
       "</style>\n",
       "<table border=\"1\" class=\"dataframe\">\n",
       "  <thead>\n",
       "    <tr style=\"text-align: right;\">\n",
       "      <th></th>\n",
       "      <th>timestamp</th>\n",
       "      <th>bikes</th>\n",
       "      <th>number</th>\n",
       "    </tr>\n",
       "  </thead>\n",
       "  <tbody>\n",
       "    <tr>\n",
       "      <th>952568</th>\n",
       "      <td>2019-11-27T20:50:00.224191</td>\n",
       "      <td>3</td>\n",
       "      <td>15197</td>\n",
       "    </tr>\n",
       "    <tr>\n",
       "      <th>952569</th>\n",
       "      <td>2019-11-27T20:50:00.224191</td>\n",
       "      <td>3</td>\n",
       "      <td>15198</td>\n",
       "    </tr>\n",
       "    <tr>\n",
       "      <th>952570</th>\n",
       "      <td>2019-11-27T20:50:00.224191</td>\n",
       "      <td>7</td>\n",
       "      <td>15199</td>\n",
       "    </tr>\n",
       "    <tr>\n",
       "      <th>952571</th>\n",
       "      <td>2019-11-27T20:50:00.224191</td>\n",
       "      <td>1</td>\n",
       "      <td>15200</td>\n",
       "    </tr>\n",
       "    <tr>\n",
       "      <th>952572</th>\n",
       "      <td>2019-11-27T20:50:00.224191</td>\n",
       "      <td>7</td>\n",
       "      <td>15167</td>\n",
       "    </tr>\n",
       "  </tbody>\n",
       "</table>\n",
       "</div>"
      ],
      "text/plain": [
       "                         timestamp  bikes  number\n",
       "952568  2019-11-27T20:50:00.224191      3   15197\n",
       "952569  2019-11-27T20:50:00.224191      3   15198\n",
       "952570  2019-11-27T20:50:00.224191      7   15199\n",
       "952571  2019-11-27T20:50:00.224191      1   15200\n",
       "952572  2019-11-27T20:50:00.224191      7   15167"
      ]
     },
     "execution_count": 11,
     "metadata": {},
     "output_type": "execute_result"
    }
   ],
   "source": [
    "bike_availability_soft_df.tail()"
   ]
  }
 ],
 "metadata": {
  "file_extension": ".py",
  "kernelspec": {
   "display_name": "Python 3",
   "language": "python",
   "name": "python3"
  },
  "language_info": {
   "codemirror_mode": {
    "name": "ipython",
    "version": 3
   },
   "file_extension": ".py",
   "mimetype": "text/x-python",
   "name": "python",
   "nbconvert_exporter": "python",
   "pygments_lexer": "ipython3",
   "version": "3.6.9"
  },
  "mimetype": "text/x-python",
  "name": "python",
  "npconvert_exporter": "python",
  "pygments_lexer": "ipython3",
  "toc": {
   "base_numbering": 1,
   "nav_menu": {},
   "number_sections": true,
   "sideBar": true,
   "skip_h1_title": false,
   "title_cell": "Table of Contents",
   "title_sidebar": "Contents",
   "toc_cell": false,
   "toc_position": {
    "height": "calc(100% - 180px)",
    "left": "10px",
    "top": "150px",
    "width": "282.594px"
   },
   "toc_section_display": true,
   "toc_window_display": false
  },
  "version": 3
 },
 "nbformat": 4,
 "nbformat_minor": 2
}

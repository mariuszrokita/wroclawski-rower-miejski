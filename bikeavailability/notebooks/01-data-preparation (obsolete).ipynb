{
 "cells": [
  {
   "cell_type": "markdown",
   "metadata": {},
   "source": [
    "# Data preparation"
   ]
  },
  {
   "cell_type": "markdown",
   "metadata": {},
   "source": [
    "The purpose of this notebook is to download data (already imported and persisted in the Azure Blob Storage) and prepare it. As a result we will get a dataset ready for further analyses and modeling.\n",
    "\n",
    "The data preparation steps are:\n",
    "* [Environment configuration](#Environment-configuration)\n",
    "* [Unit tests execution](#Unit-tests-execution)\n",
    "* [Data ingestion, cleaning and featurization pipeline](#Data-ingestion,-cleaning-and-featurization-pipeline)\n",
    "* [Quick verification of pipeline outputs](#Post-execution-verification)"
   ]
  },
  {
   "cell_type": "markdown",
   "metadata": {},
   "source": [
    "## Environment configuration"
   ]
  },
  {
   "cell_type": "code",
   "execution_count": 1,
   "metadata": {
    "ExecuteTime": {
     "end_time": "2020-01-22T05:50:53.077055Z",
     "start_time": "2020-01-22T05:50:52.603638Z"
    }
   },
   "outputs": [],
   "source": [
    "import os\n",
    "import pandas as pd"
   ]
  },
  {
   "cell_type": "markdown",
   "metadata": {},
   "source": [
    "## Unit tests execution"
   ]
  },
  {
   "cell_type": "markdown",
   "metadata": {},
   "source": [
    "This step is to make sure the python code (responsible for data ingestion, cleaning and featurization pipeline) is in the stable state."
   ]
  },
  {
   "cell_type": "code",
   "execution_count": 2,
   "metadata": {
    "ExecuteTime": {
     "end_time": "2020-01-22T05:50:55.199699Z",
     "start_time": "2020-01-22T05:50:55.195374Z"
    }
   },
   "outputs": [
    {
     "name": "stdout",
     "output_type": "stream",
     "text": [
      "Current working directory: /Users/mariuszrokita/GitHub/wroclawski-rower-miejski\n"
     ]
    }
   ],
   "source": [
    "# Let the 'bikeavailability' folder be a current directory\n",
    "os.chdir('../..')\n",
    "print(f\"Current working directory: {os.getcwd()}\")"
   ]
  },
  {
   "cell_type": "code",
   "execution_count": 3,
   "metadata": {
    "ExecuteTime": {
     "end_time": "2020-01-22T05:51:07.009036Z",
     "start_time": "2020-01-22T05:50:58.851718Z"
    }
   },
   "outputs": [
    {
     "name": "stdout",
     "output_type": "stream",
     "text": [
      "\u001b[1m============================= test session starts ==============================\u001b[0m\n",
      "platform darwin -- Python 3.6.9, pytest-5.2.2, py-1.8.0, pluggy-0.13.0\n",
      "rootdir: /Users/mariuszrokita/GitHub/wroclawski-rower-miejski, inifile: tox.ini\n",
      "plugins: cov-2.8.1\n",
      "collected 28 items                                                             \u001b[0m\u001b[1m\u001b[1m\n",
      "\n",
      "bikerentals/src/tests/cleaning/test_extract_gps_from_station_name.py \u001b[32m.\u001b[0m\u001b[32m.\u001b[0m\u001b[36m  [  7%]\u001b[0m\n",
      "bikerentals/src/tests/cleaning/test_pipeline.py \u001b[32m.\u001b[0m\u001b[32m.\u001b[0m\u001b[32m.\u001b[0m\u001b[32m.\u001b[0m\u001b[36m                     [ 21%]\u001b[0m\n",
      "bikerentals/src/tests/cleaning/test_remove_missing_gps.py \u001b[32m.\u001b[0m\u001b[32m.\u001b[0m\u001b[36m             [ 28%]\u001b[0m\n",
      "bikerentals/src/tests/cleaning/test_remove_same_location.py \u001b[32m.\u001b[0m\u001b[32m.\u001b[0m\u001b[32m.\u001b[0m\u001b[36m          [ 39%]\u001b[0m\n",
      "bikerentals/src/tests/features/test_day_of_week.py \u001b[32m.\u001b[0m\u001b[32m.\u001b[0m\u001b[36m                    [ 46%]\u001b[0m\n",
      "bikerentals/src/tests/features/test_distance.py \u001b[32m.\u001b[0m\u001b[32m.\u001b[0m\u001b[36m                       [ 53%]\u001b[0m\n",
      "bikerentals/src/tests/features/test_holidays.py \u001b[32m.\u001b[0m\u001b[32m.\u001b[0m\u001b[32m.\u001b[0m\u001b[36m                      [ 64%]\u001b[0m\n",
      "bikerentals/src/tests/features/test_hour.py \u001b[32m.\u001b[0m\u001b[32m.\u001b[0m\u001b[36m                           [ 71%]\u001b[0m\n",
      "bikerentals/src/tests/features/test_month.py \u001b[32m.\u001b[0m\u001b[32m.\u001b[0m\u001b[36m                          [ 78%]\u001b[0m\n",
      "bikerentals/src/tests/features/test_rental_fee.py \u001b[32m.\u001b[0m\u001b[32m.\u001b[0m\u001b[32m.\u001b[0m\u001b[32m.\u001b[0m\u001b[36m                   [ 92%]\u001b[0m\n",
      "bikerentals/src/tests/features/test_season.py \u001b[32m.\u001b[0m\u001b[32m.\u001b[0m\u001b[36m                         [100%]\u001b[0m\n",
      "\n",
      "\u001b[32m\u001b[1m============================== 28 passed in 7.46s ==============================\u001b[0m\n"
     ]
    }
   ],
   "source": [
    "# execute tests to make sure everything is working as expected\n",
    "!python -m pytest"
   ]
  },
  {
   "cell_type": "markdown",
   "metadata": {},
   "source": [
    "## Data preparation pipeline"
   ]
  },
  {
   "cell_type": "markdown",
   "metadata": {},
   "source": [
    "This step has been implemented as a full pipeline and consists of following steps:\n",
    "* data ingestion (downloading already imported data from Azure Blob Storage to local destination),\n",
    "* cleaning and soft/hard removing records\n",
    "* creating new features\n",
    "* saving dataset in the `data/processed` location\n",
    "\n",
    "In fact, we'll execute the pipeline twice. This way we'll get two output datasets: one with soft deleted records, other one - with hard removed records."
   ]
  },
  {
   "cell_type": "code",
   "execution_count": 5,
   "metadata": {
    "ExecuteTime": {
     "end_time": "2020-01-22T06:18:17.258363Z",
     "start_time": "2020-01-22T06:17:33.893568Z"
    },
    "scrolled": false
   },
   "outputs": [
    {
     "name": "stderr",
     "output_type": "stream",
     "text": [
      "Script execution started\n",
      "Root folder set to: /Users/mariuszrokita/GitHub/wroclawski-rower-miejski/bikeavailability\n",
      "Pipeline execution about to start!\n",
      "**** DataPreparationPipeline stage - start ****\n",
      "    **** DataIngestion stage - start ****\n",
      "Downloading file /Users/mariuszrokita/GitHub/wroclawski-rower-miejski/bikeavailability/data/raw/2020_01_22_06_00_00_0.json\n",
      "Downloading file /Users/mariuszrokita/GitHub/wroclawski-rower-miejski/bikeavailability/data/raw/2020_01_22_06_00_00_100.json\n",
      "Downloading file /Users/mariuszrokita/GitHub/wroclawski-rower-miejski/bikeavailability/data/raw/2020_01_22_06_00_00_200.json\n",
      "Downloading file /Users/mariuszrokita/GitHub/wroclawski-rower-miejski/bikeavailability/data/raw/2020_01_22_06_10_00_0.json\n",
      "Downloading file /Users/mariuszrokita/GitHub/wroclawski-rower-miejski/bikeavailability/data/raw/2020_01_22_06_10_00_100.json\n",
      "Downloading file /Users/mariuszrokita/GitHub/wroclawski-rower-miejski/bikeavailability/data/raw/2020_01_22_06_10_00_200.json\n",
      "    **** DataIngestion stage - end ****\n",
      "\n",
      "    Data saved to: /Users/mariuszrokita/GitHub/wroclawski-rower-miejski/bikeavailability/data/processed/bike_availability.csv\n",
      "    Data saved to: /Users/mariuszrokita/GitHub/wroclawski-rower-miejski/bikeavailability/data/processed/processed_files.csv\n",
      "**** DataPreparationPipeline stage - end ****\n",
      "\n",
      "Pipeline execution completed!\n"
     ]
    },
    {
     "name": "stdout",
     "output_type": "stream",
     "text": [
      "\n",
      "IPython CPU timings (estimated):\n",
      "  User   :      23.25 s.\n",
      "  System :       0.95 s.\n",
      "Wall time:      43.36 s.\n"
     ]
    }
   ],
   "source": [
    "# run data loading and processing pipeline \n",
    "# (with soft deleting so that we can inspect everything)\n",
    "%run -t run_bikeavailability_pipeline.py"
   ]
  },
  {
   "cell_type": "markdown",
   "metadata": {},
   "source": [
    "## Post-execution verification"
   ]
  },
  {
   "cell_type": "code",
   "execution_count": 6,
   "metadata": {
    "ExecuteTime": {
     "end_time": "2020-01-22T06:23:17.695444Z",
     "start_time": "2020-01-22T06:23:17.692148Z"
    }
   },
   "outputs": [],
   "source": [
    "# set up paths to created datasets\n",
    "filepath = os.path.join(os.getcwd(), 'bikeavailability', 'data', 'processed', 'bike_availability.csv')"
   ]
  },
  {
   "cell_type": "code",
   "execution_count": 7,
   "metadata": {
    "ExecuteTime": {
     "end_time": "2020-01-22T06:23:20.298786Z",
     "start_time": "2020-01-22T06:23:19.579827Z"
    }
   },
   "outputs": [],
   "source": [
    "# load data\n",
    "bike_availability_df = pd.read_csv(filepath)"
   ]
  },
  {
   "cell_type": "code",
   "execution_count": 8,
   "metadata": {
    "ExecuteTime": {
     "end_time": "2020-01-22T06:23:21.649420Z",
     "start_time": "2020-01-22T06:23:21.643875Z"
    }
   },
   "outputs": [
    {
     "name": "stdout",
     "output_type": "stream",
     "text": [
      "Dataset:  (2519776, 3)\n"
     ]
    }
   ],
   "source": [
    "print('Dataset: ', bike_availability_df.shape)"
   ]
  },
  {
   "cell_type": "code",
   "execution_count": 9,
   "metadata": {
    "ExecuteTime": {
     "end_time": "2020-01-22T06:23:26.984688Z",
     "start_time": "2020-01-22T06:23:26.964060Z"
    }
   },
   "outputs": [
    {
     "data": {
      "text/html": [
       "<div>\n",
       "<style scoped>\n",
       "    .dataframe tbody tr th:only-of-type {\n",
       "        vertical-align: middle;\n",
       "    }\n",
       "\n",
       "    .dataframe tbody tr th {\n",
       "        vertical-align: top;\n",
       "    }\n",
       "\n",
       "    .dataframe thead th {\n",
       "        text-align: right;\n",
       "    }\n",
       "</style>\n",
       "<table border=\"1\" class=\"dataframe\">\n",
       "  <thead>\n",
       "    <tr style=\"text-align: right;\">\n",
       "      <th></th>\n",
       "      <th>Timestamp</th>\n",
       "      <th>Available Bikes</th>\n",
       "      <th>Bike Station Number</th>\n",
       "    </tr>\n",
       "  </thead>\n",
       "  <tbody>\n",
       "    <tr>\n",
       "      <th>0</th>\n",
       "      <td>2019-10-25 15:20:00</td>\n",
       "      <td>3</td>\n",
       "      <td>15171</td>\n",
       "    </tr>\n",
       "    <tr>\n",
       "      <th>1</th>\n",
       "      <td>2019-10-25 15:20:00</td>\n",
       "      <td>0</td>\n",
       "      <td>15161</td>\n",
       "    </tr>\n",
       "    <tr>\n",
       "      <th>2</th>\n",
       "      <td>2019-10-25 15:20:00</td>\n",
       "      <td>4</td>\n",
       "      <td>15160</td>\n",
       "    </tr>\n",
       "    <tr>\n",
       "      <th>3</th>\n",
       "      <td>2019-10-25 15:20:00</td>\n",
       "      <td>6</td>\n",
       "      <td>15159</td>\n",
       "    </tr>\n",
       "    <tr>\n",
       "      <th>4</th>\n",
       "      <td>2019-10-25 15:20:00</td>\n",
       "      <td>5</td>\n",
       "      <td>15158</td>\n",
       "    </tr>\n",
       "  </tbody>\n",
       "</table>\n",
       "</div>"
      ],
      "text/plain": [
       "             Timestamp  Available Bikes  Bike Station Number\n",
       "0  2019-10-25 15:20:00                3                15171\n",
       "1  2019-10-25 15:20:00                0                15161\n",
       "2  2019-10-25 15:20:00                4                15160\n",
       "3  2019-10-25 15:20:00                6                15159\n",
       "4  2019-10-25 15:20:00                5                15158"
      ]
     },
     "execution_count": 9,
     "metadata": {},
     "output_type": "execute_result"
    }
   ],
   "source": [
    "bike_availability_df.head()"
   ]
  },
  {
   "cell_type": "code",
   "execution_count": 10,
   "metadata": {
    "ExecuteTime": {
     "end_time": "2020-01-22T06:23:29.317042Z",
     "start_time": "2020-01-22T06:23:29.308014Z"
    }
   },
   "outputs": [
    {
     "data": {
      "text/html": [
       "<div>\n",
       "<style scoped>\n",
       "    .dataframe tbody tr th:only-of-type {\n",
       "        vertical-align: middle;\n",
       "    }\n",
       "\n",
       "    .dataframe tbody tr th {\n",
       "        vertical-align: top;\n",
       "    }\n",
       "\n",
       "    .dataframe thead th {\n",
       "        text-align: right;\n",
       "    }\n",
       "</style>\n",
       "<table border=\"1\" class=\"dataframe\">\n",
       "  <thead>\n",
       "    <tr style=\"text-align: right;\">\n",
       "      <th></th>\n",
       "      <th>Timestamp</th>\n",
       "      <th>Available Bikes</th>\n",
       "      <th>Bike Station Number</th>\n",
       "    </tr>\n",
       "  </thead>\n",
       "  <tbody>\n",
       "    <tr>\n",
       "      <th>2519771</th>\n",
       "      <td>2020-01-22 06:10:00</td>\n",
       "      <td>6</td>\n",
       "      <td>15030</td>\n",
       "    </tr>\n",
       "    <tr>\n",
       "      <th>2519772</th>\n",
       "      <td>2020-01-22 06:10:00</td>\n",
       "      <td>3</td>\n",
       "      <td>15029</td>\n",
       "    </tr>\n",
       "    <tr>\n",
       "      <th>2519773</th>\n",
       "      <td>2020-01-22 06:10:00</td>\n",
       "      <td>1</td>\n",
       "      <td>15028</td>\n",
       "    </tr>\n",
       "    <tr>\n",
       "      <th>2519774</th>\n",
       "      <td>2020-01-22 06:10:00</td>\n",
       "      <td>0</td>\n",
       "      <td>15080</td>\n",
       "    </tr>\n",
       "    <tr>\n",
       "      <th>2519775</th>\n",
       "      <td>2020-01-22 06:10:00</td>\n",
       "      <td>2</td>\n",
       "      <td>15148</td>\n",
       "    </tr>\n",
       "  </tbody>\n",
       "</table>\n",
       "</div>"
      ],
      "text/plain": [
       "                   Timestamp  Available Bikes  Bike Station Number\n",
       "2519771  2020-01-22 06:10:00                6                15030\n",
       "2519772  2020-01-22 06:10:00                3                15029\n",
       "2519773  2020-01-22 06:10:00                1                15028\n",
       "2519774  2020-01-22 06:10:00                0                15080\n",
       "2519775  2020-01-22 06:10:00                2                15148"
      ]
     },
     "execution_count": 10,
     "metadata": {},
     "output_type": "execute_result"
    }
   ],
   "source": [
    "bike_availability_df.tail()"
   ]
  }
 ],
 "metadata": {
  "file_extension": ".py",
  "kernelspec": {
   "display_name": "Python 3",
   "language": "python",
   "name": "python3"
  },
  "language_info": {
   "codemirror_mode": {
    "name": "ipython",
    "version": 3
   },
   "file_extension": ".py",
   "mimetype": "text/x-python",
   "name": "python",
   "nbconvert_exporter": "python",
   "pygments_lexer": "ipython3",
   "version": "3.6.9"
  },
  "mimetype": "text/x-python",
  "name": "python",
  "npconvert_exporter": "python",
  "pygments_lexer": "ipython3",
  "toc": {
   "base_numbering": 1,
   "nav_menu": {},
   "number_sections": true,
   "sideBar": true,
   "skip_h1_title": false,
   "title_cell": "Table of Contents",
   "title_sidebar": "Contents",
   "toc_cell": false,
   "toc_position": {
    "height": "calc(100% - 180px)",
    "left": "10px",
    "top": "150px",
    "width": "282.594px"
   },
   "toc_section_display": true,
   "toc_window_display": false
  },
  "version": 3
 },
 "nbformat": 4,
 "nbformat_minor": 2
}

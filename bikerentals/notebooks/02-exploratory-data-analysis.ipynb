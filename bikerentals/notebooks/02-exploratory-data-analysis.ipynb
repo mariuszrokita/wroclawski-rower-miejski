{
 "cells": [
  {
   "cell_type": "markdown",
   "metadata": {},
   "source": [
    "# Exploratory Data Analysis"
   ]
  },
  {
   "cell_type": "markdown",
   "metadata": {},
   "source": [
    "The purpose of this notebook is to visually analyse prepared data and draw conclusions."
   ]
  },
  {
   "cell_type": "code",
   "execution_count": 1,
   "metadata": {
    "ExecuteTime": {
     "end_time": "2019-11-08T22:57:37.550256Z",
     "start_time": "2019-11-08T22:57:36.721263Z"
    }
   },
   "outputs": [],
   "source": [
    "import matplotlib\n",
    "import matplotlib.pyplot as plt\n",
    "import os\n",
    "import pandas as pd\n",
    "\n",
    "# let matplotlib plots be part of Jupyter Notebook\n",
    "%matplotlib inline\n",
    "\n",
    "# set up higher resolution for matplotlib plots\n",
    "%config InlineBackend.figure_format = 'retina'"
   ]
  },
  {
   "cell_type": "markdown",
   "metadata": {},
   "source": [
    "## Load data"
   ]
  },
  {
   "cell_type": "code",
   "execution_count": 2,
   "metadata": {
    "ExecuteTime": {
     "end_time": "2019-11-08T22:57:37.556850Z",
     "start_time": "2019-11-08T22:57:37.552922Z"
    }
   },
   "outputs": [],
   "source": [
    "# set up paths to created datasets\n",
    "filepath_soft = os.path.join(os.getcwd(), '..', 'data', 'processed', 'bike_rentals_soft.csv')\n",
    "filepath_hard = os.path.join(os.getcwd(), '..', 'data', 'processed', 'bike_rentals.csv')"
   ]
  },
  {
   "cell_type": "code",
   "execution_count": 3,
   "metadata": {
    "ExecuteTime": {
     "end_time": "2019-11-08T22:57:40.207763Z",
     "start_time": "2019-11-08T22:57:37.558780Z"
    }
   },
   "outputs": [],
   "source": [
    "# load data with soft deleted records\n",
    "bike_rentals_soft_df = pd.read_csv(filepath_soft)\n",
    "bike_rentals_soft_df['Rental datetime'] = pd.to_datetime(bike_rentals_soft_df['Rental datetime'])\n",
    "bike_rentals_soft_df['Return datetime'] = pd.to_datetime(bike_rentals_soft_df['Return datetime'])\n",
    "bike_rentals_soft_df['Duration'] = pd.to_timedelta(bike_rentals_soft_df['Duration'])"
   ]
  },
  {
   "cell_type": "code",
   "execution_count": 4,
   "metadata": {
    "ExecuteTime": {
     "end_time": "2019-11-08T22:57:42.177133Z",
     "start_time": "2019-11-08T22:57:40.209817Z"
    }
   },
   "outputs": [],
   "source": [
    "# load data with hard deleted records\n",
    "bike_rentals_hard_df = pd.read_csv(filepath_hard)\n",
    "bike_rentals_hard_df['Rental datetime'] = pd.to_datetime(bike_rentals_hard_df['Rental datetime'])\n",
    "bike_rentals_hard_df['Return datetime'] = pd.to_datetime(bike_rentals_hard_df['Return datetime'])\n",
    "bike_rentals_hard_df['Duration'] = pd.to_timedelta(bike_rentals_hard_df['Duration'])"
   ]
  },
  {
   "cell_type": "markdown",
   "metadata": {},
   "source": [
    "## Quick verification of datasets"
   ]
  },
  {
   "cell_type": "markdown",
   "metadata": {},
   "source": [
    "### Dataset with soft deleted records"
   ]
  },
  {
   "cell_type": "code",
   "execution_count": 5,
   "metadata": {
    "ExecuteTime": {
     "end_time": "2019-11-08T22:57:42.246268Z",
     "start_time": "2019-11-08T22:57:42.181363Z"
    }
   },
   "outputs": [
    {
     "name": "stdout",
     "output_type": "stream",
     "text": [
      "<class 'pandas.core.frame.DataFrame'>\n",
      "RangeIndex: 469382 entries, 0 to 469381\n",
      "Data columns (total 17 columns):\n",
      "Bike number                 469382 non-null int64\n",
      "Rental datetime             469382 non-null datetime64[ns]\n",
      "Return datetime             469382 non-null datetime64[ns]\n",
      "Rental station              469382 non-null object\n",
      "Return station              469382 non-null object\n",
      "Duration                    469382 non-null timedelta64[ns]\n",
      "Rental station latitude     439213 non-null float64\n",
      "Rental station longitude    439213 non-null float64\n",
      "Return station latitude     442588 non-null float64\n",
      "Return station longitude    442588 non-null float64\n",
      "IsDeleted                   469382 non-null bool\n",
      "Season                      469382 non-null int64\n",
      "Holidays                    469382 non-null bool\n",
      "Rental day of week          469382 non-null int64\n",
      "Rental hour                 469382 non-null int64\n",
      "Rental month                469382 non-null int64\n",
      "Distance                    417265 non-null float64\n",
      "dtypes: bool(2), datetime64[ns](2), float64(5), int64(5), object(2), timedelta64[ns](1)\n",
      "memory usage: 54.6+ MB\n"
     ]
    }
   ],
   "source": [
    "bike_rentals_soft_df.info()"
   ]
  },
  {
   "cell_type": "code",
   "execution_count": 6,
   "metadata": {
    "ExecuteTime": {
     "end_time": "2019-11-08T22:57:42.289194Z",
     "start_time": "2019-11-08T22:57:42.249041Z"
    }
   },
   "outputs": [
    {
     "data": {
      "text/plain": [
       "Bike number                     0\n",
       "Rental datetime                 0\n",
       "Return datetime                 0\n",
       "Rental station                  0\n",
       "Return station                  0\n",
       "Duration                        0\n",
       "Rental station latitude     30169\n",
       "Rental station longitude    30169\n",
       "Return station latitude     26794\n",
       "Return station longitude    26794\n",
       "IsDeleted                       0\n",
       "Season                          0\n",
       "Holidays                        0\n",
       "Rental day of week              0\n",
       "Rental hour                     0\n",
       "Rental month                    0\n",
       "Distance                    52117\n",
       "dtype: int64"
      ]
     },
     "execution_count": 6,
     "metadata": {},
     "output_type": "execute_result"
    }
   ],
   "source": [
    "# deleted records may contain NaN values\n",
    "bike_rentals_soft_df[bike_rentals_soft_df['IsDeleted'] == True].isnull().sum()"
   ]
  },
  {
   "cell_type": "code",
   "execution_count": 7,
   "metadata": {
    "ExecuteTime": {
     "end_time": "2019-11-08T22:57:42.382273Z",
     "start_time": "2019-11-08T22:57:42.291290Z"
    }
   },
   "outputs": [],
   "source": [
    "# make sure there are no NaN values in records that are left\n",
    "assert sum(bike_rentals_soft_df[bike_rentals_soft_df['IsDeleted'] == False].isnull().sum()) == 0"
   ]
  },
  {
   "cell_type": "code",
   "execution_count": 8,
   "metadata": {
    "ExecuteTime": {
     "end_time": "2019-11-08T22:57:42.407087Z",
     "start_time": "2019-11-08T22:57:42.384312Z"
    }
   },
   "outputs": [
    {
     "data": {
      "text/html": [
       "<div>\n",
       "<style scoped>\n",
       "    .dataframe tbody tr th:only-of-type {\n",
       "        vertical-align: middle;\n",
       "    }\n",
       "\n",
       "    .dataframe tbody tr th {\n",
       "        vertical-align: top;\n",
       "    }\n",
       "\n",
       "    .dataframe thead th {\n",
       "        text-align: right;\n",
       "    }\n",
       "</style>\n",
       "<table border=\"1\" class=\"dataframe\">\n",
       "  <thead>\n",
       "    <tr style=\"text-align: right;\">\n",
       "      <th></th>\n",
       "      <th>Bike number</th>\n",
       "      <th>Rental datetime</th>\n",
       "      <th>Return datetime</th>\n",
       "      <th>Rental station</th>\n",
       "      <th>Return station</th>\n",
       "      <th>Duration</th>\n",
       "      <th>Rental station latitude</th>\n",
       "      <th>Rental station longitude</th>\n",
       "      <th>Return station latitude</th>\n",
       "      <th>Return station longitude</th>\n",
       "      <th>IsDeleted</th>\n",
       "      <th>Season</th>\n",
       "      <th>Holidays</th>\n",
       "      <th>Rental day of week</th>\n",
       "      <th>Rental hour</th>\n",
       "      <th>Rental month</th>\n",
       "      <th>Distance</th>\n",
       "    </tr>\n",
       "  </thead>\n",
       "  <tbody>\n",
       "    <tr>\n",
       "      <th>0</th>\n",
       "      <td>57719</td>\n",
       "      <td>2019-06-26 00:00:10</td>\n",
       "      <td>2019-06-26 00:06:19</td>\n",
       "      <td>Skarbowców / Wietrzna</td>\n",
       "      <td>Krzycka / Aleja Karkonoska (Park Południowy)</td>\n",
       "      <td>00:06:09</td>\n",
       "      <td>51.073290</td>\n",
       "      <td>16.994850</td>\n",
       "      <td>51.074992</td>\n",
       "      <td>17.007058</td>\n",
       "      <td>False</td>\n",
       "      <td>3</td>\n",
       "      <td>False</td>\n",
       "      <td>3</td>\n",
       "      <td>0</td>\n",
       "      <td>6</td>\n",
       "      <td>0.9</td>\n",
       "    </tr>\n",
       "    <tr>\n",
       "      <th>1</th>\n",
       "      <td>650480</td>\n",
       "      <td>2019-06-26 00:00:13</td>\n",
       "      <td>2019-06-26 00:06:59</td>\n",
       "      <td>Rynek</td>\n",
       "      <td>Plac Legionów</td>\n",
       "      <td>00:06:46</td>\n",
       "      <td>51.109782</td>\n",
       "      <td>17.030175</td>\n",
       "      <td>51.104413</td>\n",
       "      <td>17.022536</td>\n",
       "      <td>False</td>\n",
       "      <td>3</td>\n",
       "      <td>False</td>\n",
       "      <td>3</td>\n",
       "      <td>0</td>\n",
       "      <td>6</td>\n",
       "      <td>0.8</td>\n",
       "    </tr>\n",
       "    <tr>\n",
       "      <th>2</th>\n",
       "      <td>650988</td>\n",
       "      <td>2019-06-26 00:00:15</td>\n",
       "      <td>2019-06-26 00:13:32</td>\n",
       "      <td>Poza oficjalną stacją</td>\n",
       "      <td>Wałbrzyska - pętla tramwajowa</td>\n",
       "      <td>00:13:17</td>\n",
       "      <td>NaN</td>\n",
       "      <td>NaN</td>\n",
       "      <td>51.065777</td>\n",
       "      <td>16.988575</td>\n",
       "      <td>True</td>\n",
       "      <td>3</td>\n",
       "      <td>False</td>\n",
       "      <td>3</td>\n",
       "      <td>0</td>\n",
       "      <td>6</td>\n",
       "      <td>NaN</td>\n",
       "    </tr>\n",
       "  </tbody>\n",
       "</table>\n",
       "</div>"
      ],
      "text/plain": [
       "   Bike number     Rental datetime     Return datetime         Rental station  \\\n",
       "0        57719 2019-06-26 00:00:10 2019-06-26 00:06:19  Skarbowców / Wietrzna   \n",
       "1       650480 2019-06-26 00:00:13 2019-06-26 00:06:59                  Rynek   \n",
       "2       650988 2019-06-26 00:00:15 2019-06-26 00:13:32  Poza oficjalną stacją   \n",
       "\n",
       "                                 Return station Duration  \\\n",
       "0  Krzycka / Aleja Karkonoska (Park Południowy) 00:06:09   \n",
       "1                                 Plac Legionów 00:06:46   \n",
       "2                 Wałbrzyska - pętla tramwajowa 00:13:17   \n",
       "\n",
       "   Rental station latitude  Rental station longitude  Return station latitude  \\\n",
       "0                51.073290                 16.994850                51.074992   \n",
       "1                51.109782                 17.030175                51.104413   \n",
       "2                      NaN                       NaN                51.065777   \n",
       "\n",
       "   Return station longitude  IsDeleted  Season  Holidays  Rental day of week  \\\n",
       "0                 17.007058      False       3     False                   3   \n",
       "1                 17.022536      False       3     False                   3   \n",
       "2                 16.988575       True       3     False                   3   \n",
       "\n",
       "   Rental hour  Rental month  Distance  \n",
       "0            0             6       0.9  \n",
       "1            0             6       0.8  \n",
       "2            0             6       NaN  "
      ]
     },
     "execution_count": 8,
     "metadata": {},
     "output_type": "execute_result"
    }
   ],
   "source": [
    "bike_rentals_soft_df.head(3)"
   ]
  },
  {
   "cell_type": "markdown",
   "metadata": {},
   "source": [
    "### Dataset with hard deleted records"
   ]
  },
  {
   "cell_type": "code",
   "execution_count": 9,
   "metadata": {
    "ExecuteTime": {
     "end_time": "2019-11-08T22:57:42.456333Z",
     "start_time": "2019-11-08T22:57:42.408918Z"
    }
   },
   "outputs": [
    {
     "name": "stdout",
     "output_type": "stream",
     "text": [
      "<class 'pandas.core.frame.DataFrame'>\n",
      "RangeIndex: 342975 entries, 0 to 342974\n",
      "Data columns (total 16 columns):\n",
      "Bike number                 342975 non-null int64\n",
      "Rental datetime             342975 non-null datetime64[ns]\n",
      "Return datetime             342975 non-null datetime64[ns]\n",
      "Rental station              342975 non-null object\n",
      "Return station              342975 non-null object\n",
      "Duration                    342975 non-null timedelta64[ns]\n",
      "Rental station latitude     342975 non-null float64\n",
      "Rental station longitude    342975 non-null float64\n",
      "Return station latitude     342975 non-null float64\n",
      "Return station longitude    342975 non-null float64\n",
      "Season                      342975 non-null int64\n",
      "Holidays                    342975 non-null bool\n",
      "Rental day of week          342975 non-null int64\n",
      "Rental hour                 342975 non-null int64\n",
      "Rental month                342975 non-null int64\n",
      "Distance                    342975 non-null float64\n",
      "dtypes: bool(1), datetime64[ns](2), float64(5), int64(5), object(2), timedelta64[ns](1)\n",
      "memory usage: 39.6+ MB\n"
     ]
    }
   ],
   "source": [
    "bike_rentals_hard_df.info()"
   ]
  },
  {
   "cell_type": "code",
   "execution_count": 10,
   "metadata": {
    "ExecuteTime": {
     "end_time": "2019-11-08T22:57:42.499224Z",
     "start_time": "2019-11-08T22:57:42.458446Z"
    }
   },
   "outputs": [
    {
     "data": {
      "text/plain": [
       "Bike number                 0\n",
       "Rental datetime             0\n",
       "Return datetime             0\n",
       "Rental station              0\n",
       "Return station              0\n",
       "Duration                    0\n",
       "Rental station latitude     0\n",
       "Rental station longitude    0\n",
       "Return station latitude     0\n",
       "Return station longitude    0\n",
       "Season                      0\n",
       "Holidays                    0\n",
       "Rental day of week          0\n",
       "Rental hour                 0\n",
       "Rental month                0\n",
       "Distance                    0\n",
       "dtype: int64"
      ]
     },
     "execution_count": 10,
     "metadata": {},
     "output_type": "execute_result"
    }
   ],
   "source": [
    "# deleted records must not contain values\n",
    "bike_rentals_hard_df.isnull().sum()"
   ]
  },
  {
   "cell_type": "markdown",
   "metadata": {},
   "source": [
    "## Visual inspection of soft deleted records"
   ]
  },
  {
   "cell_type": "code",
   "execution_count": 11,
   "metadata": {
    "ExecuteTime": {
     "end_time": "2019-11-08T22:57:42.531045Z",
     "start_time": "2019-11-08T22:57:42.502367Z"
    }
   },
   "outputs": [
    {
     "name": "stdout",
     "output_type": "stream",
     "text": [
      "Number of soft deleted records: 126407\n"
     ]
    }
   ],
   "source": [
    "print(f\"Number of soft deleted records: {bike_rentals_soft_df[bike_rentals_soft_df['IsDeleted'] == True].shape[0]}\")"
   ]
  },
  {
   "cell_type": "code",
   "execution_count": 12,
   "metadata": {
    "ExecuteTime": {
     "end_time": "2019-11-08T22:57:42.546857Z",
     "start_time": "2019-11-08T22:57:42.533097Z"
    }
   },
   "outputs": [
    {
     "data": {
      "text/plain": [
       "Poza oficjalną stacją              29788\n",
       "Pełczyńska / stacja kolejowa         193\n",
       ".RELOKACYJNA A1-4                     74\n",
       "Teststation IT - Adrian (VP)          28\n",
       "BIKE                                  21\n",
       "0, 0                                  10\n",
       "plac Nankiera                          6\n",
       "recording_80356921                     3\n",
       "BIKE 57509                             2\n",
       "Bierutowska 48                         2\n",
       ".GOTOWE DO REZERWACJI                  2\n",
       "Cesarzowicka 5                         1\n",
       "Na Grobli                              1\n",
       "Krakowska 13                           1\n",
       "Wiaduktowa                             1\n",
       "Na Grobli 28                           1\n",
       "Łąkowa                                 1\n",
       "#RELOKACYJNA                           1\n",
       "Władysława Czaplińskiego 32            1\n",
       "wjazd                                  1\n",
       "Krowia                                 1\n",
       "Kobierzycka 5                          1\n",
       "Sucha 2                                1\n",
       "Kanałowa                               1\n",
       "Benedykta Polaka 16                    1\n",
       "Wyścigowa 56g                          1\n",
       "Osobowicka                             1\n",
       "Kwidzyńska 4                           1\n",
       "Generała Stanisława Kopańskiego        1\n",
       "Podwale 73                             1\n",
       "Na Grobli 16                           1\n",
       "Główna 1a                              1\n",
       "Witkowska 34a                          1\n",
       "Tadeusza Kościuszki 80a                1\n",
       "Szwajcarska 22                         1\n",
       "Skarbowców 23b                         1\n",
       "Centralna 28                           1\n",
       "Świętej Katarzyny 17                   1\n",
       "Stanisława Worcella 8                  1\n",
       "Kazimierza Michalczyka                 1\n",
       "Boguszowska 38b                        1\n",
       "Wojciecha Bogusławskiego 19            1\n",
       "Legnicka                               1\n",
       "Mydlana                                1\n",
       "Tadeusza Kościuszki                    1\n",
       "Eugeniusza Kwiatkowskiego              1\n",
       "Marii Curie-Skłodowskiej 38            1\n",
       "Czekoladowa 5A                         1\n",
       "Krzemieniecka                          1\n",
       "Buforowa 4                             1\n",
       "Północna 15-19 2.1b                    1\n",
       "Name: Rental station, dtype: int64"
      ]
     },
     "execution_count": 12,
     "metadata": {},
     "output_type": "execute_result"
    }
   ],
   "source": [
    "bike_rentals_soft_df.loc[bike_rentals_soft_df['Rental station latitude'].isnull(), 'Rental station'].value_counts()"
   ]
  },
  {
   "cell_type": "code",
   "execution_count": 13,
   "metadata": {
    "ExecuteTime": {
     "end_time": "2019-11-08T22:57:42.560360Z",
     "start_time": "2019-11-08T22:57:42.548875Z"
    }
   },
   "outputs": [
    {
     "data": {
      "text/plain": [
       "Poza oficjalną stacją              26509\n",
       "Pełczyńska / stacja kolejowa         175\n",
       "Teststation IT - Adrian (VP)          27\n",
       "BIKE                                  15\n",
       ".RELOKACYJNA A1-4                     13\n",
       "0, 0                                   7\n",
       "plac Nankiera                          6\n",
       "recording_80356921                     3\n",
       "Bierutowska 48                         2\n",
       "BIKE 57509                             2\n",
       "Świętej Katarzyny 17                   1\n",
       "Skarbowców 23a                         1\n",
       "Władysława Czaplińskiego 32            1\n",
       "Kwidzyńska 4                           1\n",
       "Kobierzycka 5                          1\n",
       "Główna 1a                              1\n",
       "Kanałowa                               1\n",
       "Wyścigowa 56g                          1\n",
       "wjazd                                  1\n",
       "Na Grobli 28                           1\n",
       "Krowia                                 1\n",
       "Sucha 2                                1\n",
       "Łąkowa                                 1\n",
       "Wilkszyńska 55                         1\n",
       "Wiaduktowa                             1\n",
       "Krakowska 13                           1\n",
       "Witkowska 34a                          1\n",
       "Na Grobli                              1\n",
       "Stanisława Worcella 8                  1\n",
       "15092                                  1\n",
       "Sołtysowicka 27e                       1\n",
       "Kazimierza Michalczyka                 1\n",
       "Boguszowska 38b                        1\n",
       "Pełczyńska                             1\n",
       "Legnicka                               1\n",
       "Mydlana                                1\n",
       "Eugeniusza Kwiatkowskiego              1\n",
       "Szwajcarska 22                         1\n",
       "Marii Curie-Skłodowskiej 38            1\n",
       "Czekoladowa 5A                         1\n",
       "Buforowa 4                             1\n",
       "Centralna 28                           1\n",
       "Generała Stanisława Kopańskiego        1\n",
       "Na Grobli 16                           1\n",
       "Północna 15-19 2.1b                    1\n",
       "Name: Return station, dtype: int64"
      ]
     },
     "execution_count": 13,
     "metadata": {},
     "output_type": "execute_result"
    }
   ],
   "source": [
    "bike_rentals_soft_df.loc[bike_rentals_soft_df['Return station latitude'].isnull(), 'Return station'].value_counts()"
   ]
  },
  {
   "cell_type": "markdown",
   "metadata": {},
   "source": [
    "### Rentals returned to the same bike station"
   ]
  },
  {
   "cell_type": "code",
   "execution_count": 14,
   "metadata": {
    "ExecuteTime": {
     "end_time": "2019-11-08T22:57:42.622708Z",
     "start_time": "2019-11-08T22:57:42.563527Z"
    }
   },
   "outputs": [
    {
     "name": "stdout",
     "output_type": "stream",
     "text": [
      "Number of records: 79071\n"
     ]
    }
   ],
   "source": [
    "idx = (bike_rentals_soft_df['IsDeleted'] == True) & \\\n",
    "      (bike_rentals_soft_df['Rental station'] == bike_rentals_soft_df['Return station'])\n",
    "print(f\"Number of records: {bike_rentals_soft_df.loc[idx, :].shape[0]}\")"
   ]
  },
  {
   "cell_type": "markdown",
   "metadata": {},
   "source": [
    "### Inspection"
   ]
  },
  {
   "cell_type": "code",
   "execution_count": 15,
   "metadata": {
    "ExecuteTime": {
     "end_time": "2019-11-08T22:57:42.665730Z",
     "start_time": "2019-11-08T22:57:42.624739Z"
    }
   },
   "outputs": [
    {
     "data": {
      "text/html": [
       "<div>\n",
       "<style scoped>\n",
       "    .dataframe tbody tr th:only-of-type {\n",
       "        vertical-align: middle;\n",
       "    }\n",
       "\n",
       "    .dataframe tbody tr th {\n",
       "        vertical-align: top;\n",
       "    }\n",
       "\n",
       "    .dataframe thead th {\n",
       "        text-align: right;\n",
       "    }\n",
       "</style>\n",
       "<table border=\"1\" class=\"dataframe\">\n",
       "  <thead>\n",
       "    <tr style=\"text-align: right;\">\n",
       "      <th></th>\n",
       "      <th>Bike number</th>\n",
       "      <th>Rental datetime</th>\n",
       "      <th>Return datetime</th>\n",
       "      <th>Rental station</th>\n",
       "      <th>Return station</th>\n",
       "      <th>Duration</th>\n",
       "      <th>Rental station latitude</th>\n",
       "      <th>Rental station longitude</th>\n",
       "      <th>Return station latitude</th>\n",
       "      <th>Return station longitude</th>\n",
       "      <th>IsDeleted</th>\n",
       "      <th>Season</th>\n",
       "      <th>Holidays</th>\n",
       "      <th>Rental day of week</th>\n",
       "      <th>Rental hour</th>\n",
       "      <th>Rental month</th>\n",
       "      <th>Distance</th>\n",
       "    </tr>\n",
       "  </thead>\n",
       "  <tbody>\n",
       "    <tr>\n",
       "      <th>4</th>\n",
       "      <td>650067</td>\n",
       "      <td>2019-06-26 00:00:40</td>\n",
       "      <td>2019-06-26 00:04:40</td>\n",
       "      <td>Powstańców Śląskich (Arkady Wrocławskie)</td>\n",
       "      <td>Powstańców Śląskich (Arkady Wrocławskie)</td>\n",
       "      <td>00:04:00</td>\n",
       "      <td>51.099713</td>\n",
       "      <td>17.027905</td>\n",
       "      <td>51.099713</td>\n",
       "      <td>17.027905</td>\n",
       "      <td>True</td>\n",
       "      <td>3</td>\n",
       "      <td>False</td>\n",
       "      <td>3</td>\n",
       "      <td>0</td>\n",
       "      <td>6</td>\n",
       "      <td>0.0</td>\n",
       "    </tr>\n",
       "    <tr>\n",
       "      <th>5</th>\n",
       "      <td>650020</td>\n",
       "      <td>2019-06-26 00:00:52</td>\n",
       "      <td>2019-06-26 00:01:41</td>\n",
       "      <td>Plac Grunwaldzki / Polaka</td>\n",
       "      <td>Plac Grunwaldzki / Polaka</td>\n",
       "      <td>00:00:49</td>\n",
       "      <td>51.110415</td>\n",
       "      <td>17.055591</td>\n",
       "      <td>51.110415</td>\n",
       "      <td>17.055591</td>\n",
       "      <td>True</td>\n",
       "      <td>3</td>\n",
       "      <td>False</td>\n",
       "      <td>3</td>\n",
       "      <td>0</td>\n",
       "      <td>6</td>\n",
       "      <td>0.0</td>\n",
       "    </tr>\n",
       "    <tr>\n",
       "      <th>6</th>\n",
       "      <td>650072</td>\n",
       "      <td>2019-06-26 00:01:04</td>\n",
       "      <td>2019-06-26 00:01:58</td>\n",
       "      <td>Plac Grunwaldzki / Polaka</td>\n",
       "      <td>Plac Grunwaldzki / Polaka</td>\n",
       "      <td>00:00:54</td>\n",
       "      <td>51.110415</td>\n",
       "      <td>17.055591</td>\n",
       "      <td>51.110415</td>\n",
       "      <td>17.055591</td>\n",
       "      <td>True</td>\n",
       "      <td>3</td>\n",
       "      <td>False</td>\n",
       "      <td>3</td>\n",
       "      <td>0</td>\n",
       "      <td>6</td>\n",
       "      <td>0.0</td>\n",
       "    </tr>\n",
       "    <tr>\n",
       "      <th>7</th>\n",
       "      <td>57855</td>\n",
       "      <td>2019-06-26 00:01:22</td>\n",
       "      <td>2019-06-26 00:19:56</td>\n",
       "      <td>Kościuszki / Pułaskiego</td>\n",
       "      <td>Kościuszki / Pułaskiego</td>\n",
       "      <td>00:18:34</td>\n",
       "      <td>51.100400</td>\n",
       "      <td>17.045083</td>\n",
       "      <td>51.100400</td>\n",
       "      <td>17.045083</td>\n",
       "      <td>True</td>\n",
       "      <td>3</td>\n",
       "      <td>False</td>\n",
       "      <td>3</td>\n",
       "      <td>0</td>\n",
       "      <td>6</td>\n",
       "      <td>0.0</td>\n",
       "    </tr>\n",
       "    <tr>\n",
       "      <th>9</th>\n",
       "      <td>57856</td>\n",
       "      <td>2019-06-26 00:01:57</td>\n",
       "      <td>2019-06-26 00:02:24</td>\n",
       "      <td>Kamienna / Borowska (Aquapark)</td>\n",
       "      <td>Kamienna / Borowska (Aquapark)</td>\n",
       "      <td>00:00:27</td>\n",
       "      <td>51.088908</td>\n",
       "      <td>17.034051</td>\n",
       "      <td>51.088908</td>\n",
       "      <td>17.034051</td>\n",
       "      <td>True</td>\n",
       "      <td>3</td>\n",
       "      <td>False</td>\n",
       "      <td>3</td>\n",
       "      <td>0</td>\n",
       "      <td>6</td>\n",
       "      <td>0.0</td>\n",
       "    </tr>\n",
       "    <tr>\n",
       "      <th>...</th>\n",
       "      <td>...</td>\n",
       "      <td>...</td>\n",
       "      <td>...</td>\n",
       "      <td>...</td>\n",
       "      <td>...</td>\n",
       "      <td>...</td>\n",
       "      <td>...</td>\n",
       "      <td>...</td>\n",
       "      <td>...</td>\n",
       "      <td>...</td>\n",
       "      <td>...</td>\n",
       "      <td>...</td>\n",
       "      <td>...</td>\n",
       "      <td>...</td>\n",
       "      <td>...</td>\n",
       "      <td>...</td>\n",
       "      <td>...</td>\n",
       "    </tr>\n",
       "    <tr>\n",
       "      <th>469345</th>\n",
       "      <td>650431</td>\n",
       "      <td>2019-11-05 23:13:00</td>\n",
       "      <td>2019-11-05 23:14:00</td>\n",
       "      <td>Poniatowskiego / Oleśnicka</td>\n",
       "      <td>Poniatowskiego / Oleśnicka</td>\n",
       "      <td>00:01:00</td>\n",
       "      <td>51.121308</td>\n",
       "      <td>17.043077</td>\n",
       "      <td>51.121308</td>\n",
       "      <td>17.043077</td>\n",
       "      <td>True</td>\n",
       "      <td>4</td>\n",
       "      <td>False</td>\n",
       "      <td>2</td>\n",
       "      <td>23</td>\n",
       "      <td>11</td>\n",
       "      <td>0.0</td>\n",
       "    </tr>\n",
       "    <tr>\n",
       "      <th>469365</th>\n",
       "      <td>650938</td>\n",
       "      <td>2019-11-05 23:40:00</td>\n",
       "      <td>2019-11-05 23:41:00</td>\n",
       "      <td>Kurkowa / Dubois</td>\n",
       "      <td>Kurkowa / Dubois</td>\n",
       "      <td>00:01:00</td>\n",
       "      <td>51.118237</td>\n",
       "      <td>17.028792</td>\n",
       "      <td>51.118237</td>\n",
       "      <td>17.028792</td>\n",
       "      <td>True</td>\n",
       "      <td>4</td>\n",
       "      <td>False</td>\n",
       "      <td>2</td>\n",
       "      <td>23</td>\n",
       "      <td>11</td>\n",
       "      <td>0.0</td>\n",
       "    </tr>\n",
       "    <tr>\n",
       "      <th>469366</th>\n",
       "      <td>57826</td>\n",
       "      <td>2019-11-05 23:41:00</td>\n",
       "      <td>2019-11-05 23:42:00</td>\n",
       "      <td>Dyrekcyjna / Borowska (Wroclavia)</td>\n",
       "      <td>Dyrekcyjna / Borowska (Wroclavia)</td>\n",
       "      <td>00:01:00</td>\n",
       "      <td>51.095322</td>\n",
       "      <td>17.033388</td>\n",
       "      <td>51.095322</td>\n",
       "      <td>17.033388</td>\n",
       "      <td>True</td>\n",
       "      <td>4</td>\n",
       "      <td>False</td>\n",
       "      <td>2</td>\n",
       "      <td>23</td>\n",
       "      <td>11</td>\n",
       "      <td>0.0</td>\n",
       "    </tr>\n",
       "    <tr>\n",
       "      <th>469371</th>\n",
       "      <td>57509</td>\n",
       "      <td>2019-11-05 23:44:00</td>\n",
       "      <td>2019-11-05 23:47:00</td>\n",
       "      <td>Wróblewskiego (Teki)</td>\n",
       "      <td>Wróblewskiego (Teki)</td>\n",
       "      <td>00:03:00</td>\n",
       "      <td>51.104110</td>\n",
       "      <td>17.084711</td>\n",
       "      <td>51.104110</td>\n",
       "      <td>17.084711</td>\n",
       "      <td>True</td>\n",
       "      <td>4</td>\n",
       "      <td>False</td>\n",
       "      <td>2</td>\n",
       "      <td>23</td>\n",
       "      <td>11</td>\n",
       "      <td>0.0</td>\n",
       "    </tr>\n",
       "    <tr>\n",
       "      <th>469381</th>\n",
       "      <td>650745</td>\n",
       "      <td>2019-11-05 23:53:00</td>\n",
       "      <td>2019-11-05 23:59:00</td>\n",
       "      <td>Komandorska / Sanocka</td>\n",
       "      <td>Komandorska / Sanocka</td>\n",
       "      <td>00:06:00</td>\n",
       "      <td>51.094653</td>\n",
       "      <td>17.026775</td>\n",
       "      <td>51.094653</td>\n",
       "      <td>17.026775</td>\n",
       "      <td>True</td>\n",
       "      <td>4</td>\n",
       "      <td>False</td>\n",
       "      <td>2</td>\n",
       "      <td>23</td>\n",
       "      <td>11</td>\n",
       "      <td>0.0</td>\n",
       "    </tr>\n",
       "  </tbody>\n",
       "</table>\n",
       "<p>79071 rows × 17 columns</p>\n",
       "</div>"
      ],
      "text/plain": [
       "        Bike number     Rental datetime     Return datetime  \\\n",
       "4            650067 2019-06-26 00:00:40 2019-06-26 00:04:40   \n",
       "5            650020 2019-06-26 00:00:52 2019-06-26 00:01:41   \n",
       "6            650072 2019-06-26 00:01:04 2019-06-26 00:01:58   \n",
       "7             57855 2019-06-26 00:01:22 2019-06-26 00:19:56   \n",
       "9             57856 2019-06-26 00:01:57 2019-06-26 00:02:24   \n",
       "...             ...                 ...                 ...   \n",
       "469345       650431 2019-11-05 23:13:00 2019-11-05 23:14:00   \n",
       "469365       650938 2019-11-05 23:40:00 2019-11-05 23:41:00   \n",
       "469366        57826 2019-11-05 23:41:00 2019-11-05 23:42:00   \n",
       "469371        57509 2019-11-05 23:44:00 2019-11-05 23:47:00   \n",
       "469381       650745 2019-11-05 23:53:00 2019-11-05 23:59:00   \n",
       "\n",
       "                                  Rental station  \\\n",
       "4       Powstańców Śląskich (Arkady Wrocławskie)   \n",
       "5                      Plac Grunwaldzki / Polaka   \n",
       "6                      Plac Grunwaldzki / Polaka   \n",
       "7                        Kościuszki / Pułaskiego   \n",
       "9                 Kamienna / Borowska (Aquapark)   \n",
       "...                                          ...   \n",
       "469345                Poniatowskiego / Oleśnicka   \n",
       "469365                          Kurkowa / Dubois   \n",
       "469366         Dyrekcyjna / Borowska (Wroclavia)   \n",
       "469371                      Wróblewskiego (Teki)   \n",
       "469381                     Komandorska / Sanocka   \n",
       "\n",
       "                                  Return station Duration  \\\n",
       "4       Powstańców Śląskich (Arkady Wrocławskie) 00:04:00   \n",
       "5                      Plac Grunwaldzki / Polaka 00:00:49   \n",
       "6                      Plac Grunwaldzki / Polaka 00:00:54   \n",
       "7                        Kościuszki / Pułaskiego 00:18:34   \n",
       "9                 Kamienna / Borowska (Aquapark) 00:00:27   \n",
       "...                                          ...      ...   \n",
       "469345                Poniatowskiego / Oleśnicka 00:01:00   \n",
       "469365                          Kurkowa / Dubois 00:01:00   \n",
       "469366         Dyrekcyjna / Borowska (Wroclavia) 00:01:00   \n",
       "469371                      Wróblewskiego (Teki) 00:03:00   \n",
       "469381                     Komandorska / Sanocka 00:06:00   \n",
       "\n",
       "        Rental station latitude  Rental station longitude  \\\n",
       "4                     51.099713                 17.027905   \n",
       "5                     51.110415                 17.055591   \n",
       "6                     51.110415                 17.055591   \n",
       "7                     51.100400                 17.045083   \n",
       "9                     51.088908                 17.034051   \n",
       "...                         ...                       ...   \n",
       "469345                51.121308                 17.043077   \n",
       "469365                51.118237                 17.028792   \n",
       "469366                51.095322                 17.033388   \n",
       "469371                51.104110                 17.084711   \n",
       "469381                51.094653                 17.026775   \n",
       "\n",
       "        Return station latitude  Return station longitude  IsDeleted  Season  \\\n",
       "4                     51.099713                 17.027905       True       3   \n",
       "5                     51.110415                 17.055591       True       3   \n",
       "6                     51.110415                 17.055591       True       3   \n",
       "7                     51.100400                 17.045083       True       3   \n",
       "9                     51.088908                 17.034051       True       3   \n",
       "...                         ...                       ...        ...     ...   \n",
       "469345                51.121308                 17.043077       True       4   \n",
       "469365                51.118237                 17.028792       True       4   \n",
       "469366                51.095322                 17.033388       True       4   \n",
       "469371                51.104110                 17.084711       True       4   \n",
       "469381                51.094653                 17.026775       True       4   \n",
       "\n",
       "        Holidays  Rental day of week  Rental hour  Rental month  Distance  \n",
       "4          False                   3            0             6       0.0  \n",
       "5          False                   3            0             6       0.0  \n",
       "6          False                   3            0             6       0.0  \n",
       "7          False                   3            0             6       0.0  \n",
       "9          False                   3            0             6       0.0  \n",
       "...          ...                 ...          ...           ...       ...  \n",
       "469345     False                   2           23            11       0.0  \n",
       "469365     False                   2           23            11       0.0  \n",
       "469366     False                   2           23            11       0.0  \n",
       "469371     False                   2           23            11       0.0  \n",
       "469381     False                   2           23            11       0.0  \n",
       "\n",
       "[79071 rows x 17 columns]"
      ]
     },
     "execution_count": 15,
     "metadata": {},
     "output_type": "execute_result"
    }
   ],
   "source": [
    "bike_rentals_soft_df.loc[idx, :]"
   ]
  },
  {
   "cell_type": "code",
   "execution_count": 16,
   "metadata": {
    "ExecuteTime": {
     "end_time": "2019-11-08T22:57:42.741012Z",
     "start_time": "2019-11-08T22:57:42.667878Z"
    }
   },
   "outputs": [
    {
     "data": {
      "text/html": [
       "<div>\n",
       "<style scoped>\n",
       "    .dataframe tbody tr th:only-of-type {\n",
       "        vertical-align: middle;\n",
       "    }\n",
       "\n",
       "    .dataframe tbody tr th {\n",
       "        vertical-align: top;\n",
       "    }\n",
       "\n",
       "    .dataframe thead th {\n",
       "        text-align: right;\n",
       "    }\n",
       "</style>\n",
       "<table border=\"1\" class=\"dataframe\">\n",
       "  <thead>\n",
       "    <tr style=\"text-align: right;\">\n",
       "      <th></th>\n",
       "      <th>Bike number</th>\n",
       "      <th>Rental datetime</th>\n",
       "      <th>Return datetime</th>\n",
       "      <th>Rental station</th>\n",
       "      <th>Return station</th>\n",
       "      <th>Duration</th>\n",
       "      <th>Rental station latitude</th>\n",
       "      <th>Rental station longitude</th>\n",
       "      <th>Return station latitude</th>\n",
       "      <th>Return station longitude</th>\n",
       "      <th>IsDeleted</th>\n",
       "      <th>Season</th>\n",
       "      <th>Holidays</th>\n",
       "      <th>Rental day of week</th>\n",
       "      <th>Rental hour</th>\n",
       "      <th>Rental month</th>\n",
       "      <th>Distance</th>\n",
       "    </tr>\n",
       "  </thead>\n",
       "  <tbody>\n",
       "    <tr>\n",
       "      <th>5</th>\n",
       "      <td>650020</td>\n",
       "      <td>2019-06-26 00:00:52</td>\n",
       "      <td>2019-06-26 00:01:41</td>\n",
       "      <td>Plac Grunwaldzki / Polaka</td>\n",
       "      <td>Plac Grunwaldzki / Polaka</td>\n",
       "      <td>00:00:49</td>\n",
       "      <td>51.110415</td>\n",
       "      <td>17.055591</td>\n",
       "      <td>51.110415</td>\n",
       "      <td>17.055591</td>\n",
       "      <td>True</td>\n",
       "      <td>3</td>\n",
       "      <td>False</td>\n",
       "      <td>3</td>\n",
       "      <td>0</td>\n",
       "      <td>6</td>\n",
       "      <td>0.0</td>\n",
       "    </tr>\n",
       "    <tr>\n",
       "      <th>6</th>\n",
       "      <td>650072</td>\n",
       "      <td>2019-06-26 00:01:04</td>\n",
       "      <td>2019-06-26 00:01:58</td>\n",
       "      <td>Plac Grunwaldzki / Polaka</td>\n",
       "      <td>Plac Grunwaldzki / Polaka</td>\n",
       "      <td>00:00:54</td>\n",
       "      <td>51.110415</td>\n",
       "      <td>17.055591</td>\n",
       "      <td>51.110415</td>\n",
       "      <td>17.055591</td>\n",
       "      <td>True</td>\n",
       "      <td>3</td>\n",
       "      <td>False</td>\n",
       "      <td>3</td>\n",
       "      <td>0</td>\n",
       "      <td>6</td>\n",
       "      <td>0.0</td>\n",
       "    </tr>\n",
       "    <tr>\n",
       "      <th>9</th>\n",
       "      <td>57856</td>\n",
       "      <td>2019-06-26 00:01:57</td>\n",
       "      <td>2019-06-26 00:02:24</td>\n",
       "      <td>Kamienna / Borowska (Aquapark)</td>\n",
       "      <td>Kamienna / Borowska (Aquapark)</td>\n",
       "      <td>00:00:27</td>\n",
       "      <td>51.088908</td>\n",
       "      <td>17.034051</td>\n",
       "      <td>51.088908</td>\n",
       "      <td>17.034051</td>\n",
       "      <td>True</td>\n",
       "      <td>3</td>\n",
       "      <td>False</td>\n",
       "      <td>3</td>\n",
       "      <td>0</td>\n",
       "      <td>6</td>\n",
       "      <td>0.0</td>\n",
       "    </tr>\n",
       "    <tr>\n",
       "      <th>17</th>\n",
       "      <td>650544</td>\n",
       "      <td>2019-06-26 00:02:50</td>\n",
       "      <td>2019-06-26 00:03:47</td>\n",
       "      <td>Wróblewskiego (Teki)</td>\n",
       "      <td>Wróblewskiego (Teki)</td>\n",
       "      <td>00:00:57</td>\n",
       "      <td>51.104110</td>\n",
       "      <td>17.084711</td>\n",
       "      <td>51.104110</td>\n",
       "      <td>17.084711</td>\n",
       "      <td>True</td>\n",
       "      <td>3</td>\n",
       "      <td>False</td>\n",
       "      <td>3</td>\n",
       "      <td>0</td>\n",
       "      <td>6</td>\n",
       "      <td>0.0</td>\n",
       "    </tr>\n",
       "    <tr>\n",
       "      <th>18</th>\n",
       "      <td>650601</td>\n",
       "      <td>2019-06-26 00:03:04</td>\n",
       "      <td>2019-06-26 00:04:03</td>\n",
       "      <td>Drobnera / Dubois</td>\n",
       "      <td>Drobnera / Dubois</td>\n",
       "      <td>00:00:59</td>\n",
       "      <td>51.117032</td>\n",
       "      <td>17.033499</td>\n",
       "      <td>51.117032</td>\n",
       "      <td>17.033499</td>\n",
       "      <td>True</td>\n",
       "      <td>3</td>\n",
       "      <td>False</td>\n",
       "      <td>3</td>\n",
       "      <td>0</td>\n",
       "      <td>6</td>\n",
       "      <td>0.0</td>\n",
       "    </tr>\n",
       "    <tr>\n",
       "      <th>...</th>\n",
       "      <td>...</td>\n",
       "      <td>...</td>\n",
       "      <td>...</td>\n",
       "      <td>...</td>\n",
       "      <td>...</td>\n",
       "      <td>...</td>\n",
       "      <td>...</td>\n",
       "      <td>...</td>\n",
       "      <td>...</td>\n",
       "      <td>...</td>\n",
       "      <td>...</td>\n",
       "      <td>...</td>\n",
       "      <td>...</td>\n",
       "      <td>...</td>\n",
       "      <td>...</td>\n",
       "      <td>...</td>\n",
       "      <td>...</td>\n",
       "    </tr>\n",
       "    <tr>\n",
       "      <th>469216</th>\n",
       "      <td>57978</td>\n",
       "      <td>2019-11-05 22:09:00</td>\n",
       "      <td>2019-11-05 22:09:00</td>\n",
       "      <td>Plac Kościuszki (Renoma)</td>\n",
       "      <td>Plac Kościuszki (Renoma)</td>\n",
       "      <td>00:00:00</td>\n",
       "      <td>51.103354</td>\n",
       "      <td>17.030704</td>\n",
       "      <td>51.103354</td>\n",
       "      <td>17.030704</td>\n",
       "      <td>True</td>\n",
       "      <td>4</td>\n",
       "      <td>False</td>\n",
       "      <td>2</td>\n",
       "      <td>22</td>\n",
       "      <td>11</td>\n",
       "      <td>0.0</td>\n",
       "    </tr>\n",
       "    <tr>\n",
       "      <th>469252</th>\n",
       "      <td>650356</td>\n",
       "      <td>2019-11-05 22:25:00</td>\n",
       "      <td>2019-11-05 22:25:00</td>\n",
       "      <td>Drobnera / Plac Bema</td>\n",
       "      <td>Drobnera / Plac Bema</td>\n",
       "      <td>00:00:00</td>\n",
       "      <td>51.117557</td>\n",
       "      <td>17.040967</td>\n",
       "      <td>51.117557</td>\n",
       "      <td>17.040967</td>\n",
       "      <td>True</td>\n",
       "      <td>4</td>\n",
       "      <td>False</td>\n",
       "      <td>2</td>\n",
       "      <td>22</td>\n",
       "      <td>11</td>\n",
       "      <td>0.0</td>\n",
       "    </tr>\n",
       "    <tr>\n",
       "      <th>469308</th>\n",
       "      <td>57125</td>\n",
       "      <td>2019-11-05 22:57:00</td>\n",
       "      <td>2019-11-05 22:57:00</td>\n",
       "      <td>Plac Jana Pawła II (Akademia Muzyczna)</td>\n",
       "      <td>Plac Jana Pawła II (Akademia Muzyczna)</td>\n",
       "      <td>00:00:00</td>\n",
       "      <td>51.111489</td>\n",
       "      <td>17.020981</td>\n",
       "      <td>51.111489</td>\n",
       "      <td>17.020981</td>\n",
       "      <td>True</td>\n",
       "      <td>4</td>\n",
       "      <td>False</td>\n",
       "      <td>2</td>\n",
       "      <td>22</td>\n",
       "      <td>11</td>\n",
       "      <td>0.0</td>\n",
       "    </tr>\n",
       "    <tr>\n",
       "      <th>469321</th>\n",
       "      <td>57143</td>\n",
       "      <td>2019-11-05 23:03:00</td>\n",
       "      <td>2019-11-05 23:03:00</td>\n",
       "      <td>Zaporoska / Grabiszyńska</td>\n",
       "      <td>Zaporoska / Grabiszyńska</td>\n",
       "      <td>00:00:00</td>\n",
       "      <td>51.102117</td>\n",
       "      <td>17.013683</td>\n",
       "      <td>51.102117</td>\n",
       "      <td>17.013683</td>\n",
       "      <td>True</td>\n",
       "      <td>4</td>\n",
       "      <td>False</td>\n",
       "      <td>2</td>\n",
       "      <td>23</td>\n",
       "      <td>11</td>\n",
       "      <td>0.0</td>\n",
       "    </tr>\n",
       "    <tr>\n",
       "      <th>469339</th>\n",
       "      <td>651020</td>\n",
       "      <td>2019-11-05 23:11:00</td>\n",
       "      <td>2019-11-05 23:11:00</td>\n",
       "      <td>Wita Stwosza / Szewska</td>\n",
       "      <td>Wita Stwosza / Szewska</td>\n",
       "      <td>00:00:00</td>\n",
       "      <td>51.110274</td>\n",
       "      <td>17.034912</td>\n",
       "      <td>51.110274</td>\n",
       "      <td>17.034912</td>\n",
       "      <td>True</td>\n",
       "      <td>4</td>\n",
       "      <td>False</td>\n",
       "      <td>2</td>\n",
       "      <td>23</td>\n",
       "      <td>11</td>\n",
       "      <td>0.0</td>\n",
       "    </tr>\n",
       "  </tbody>\n",
       "</table>\n",
       "<p>15404 rows × 17 columns</p>\n",
       "</div>"
      ],
      "text/plain": [
       "        Bike number     Rental datetime     Return datetime  \\\n",
       "5            650020 2019-06-26 00:00:52 2019-06-26 00:01:41   \n",
       "6            650072 2019-06-26 00:01:04 2019-06-26 00:01:58   \n",
       "9             57856 2019-06-26 00:01:57 2019-06-26 00:02:24   \n",
       "17           650544 2019-06-26 00:02:50 2019-06-26 00:03:47   \n",
       "18           650601 2019-06-26 00:03:04 2019-06-26 00:04:03   \n",
       "...             ...                 ...                 ...   \n",
       "469216        57978 2019-11-05 22:09:00 2019-11-05 22:09:00   \n",
       "469252       650356 2019-11-05 22:25:00 2019-11-05 22:25:00   \n",
       "469308        57125 2019-11-05 22:57:00 2019-11-05 22:57:00   \n",
       "469321        57143 2019-11-05 23:03:00 2019-11-05 23:03:00   \n",
       "469339       651020 2019-11-05 23:11:00 2019-11-05 23:11:00   \n",
       "\n",
       "                                Rental station  \\\n",
       "5                    Plac Grunwaldzki / Polaka   \n",
       "6                    Plac Grunwaldzki / Polaka   \n",
       "9               Kamienna / Borowska (Aquapark)   \n",
       "17                        Wróblewskiego (Teki)   \n",
       "18                           Drobnera / Dubois   \n",
       "...                                        ...   \n",
       "469216                Plac Kościuszki (Renoma)   \n",
       "469252                    Drobnera / Plac Bema   \n",
       "469308  Plac Jana Pawła II (Akademia Muzyczna)   \n",
       "469321                Zaporoska / Grabiszyńska   \n",
       "469339                  Wita Stwosza / Szewska   \n",
       "\n",
       "                                Return station Duration  \\\n",
       "5                    Plac Grunwaldzki / Polaka 00:00:49   \n",
       "6                    Plac Grunwaldzki / Polaka 00:00:54   \n",
       "9               Kamienna / Borowska (Aquapark) 00:00:27   \n",
       "17                        Wróblewskiego (Teki) 00:00:57   \n",
       "18                           Drobnera / Dubois 00:00:59   \n",
       "...                                        ...      ...   \n",
       "469216                Plac Kościuszki (Renoma) 00:00:00   \n",
       "469252                    Drobnera / Plac Bema 00:00:00   \n",
       "469308  Plac Jana Pawła II (Akademia Muzyczna) 00:00:00   \n",
       "469321                Zaporoska / Grabiszyńska 00:00:00   \n",
       "469339                  Wita Stwosza / Szewska 00:00:00   \n",
       "\n",
       "        Rental station latitude  Rental station longitude  \\\n",
       "5                     51.110415                 17.055591   \n",
       "6                     51.110415                 17.055591   \n",
       "9                     51.088908                 17.034051   \n",
       "17                    51.104110                 17.084711   \n",
       "18                    51.117032                 17.033499   \n",
       "...                         ...                       ...   \n",
       "469216                51.103354                 17.030704   \n",
       "469252                51.117557                 17.040967   \n",
       "469308                51.111489                 17.020981   \n",
       "469321                51.102117                 17.013683   \n",
       "469339                51.110274                 17.034912   \n",
       "\n",
       "        Return station latitude  Return station longitude  IsDeleted  Season  \\\n",
       "5                     51.110415                 17.055591       True       3   \n",
       "6                     51.110415                 17.055591       True       3   \n",
       "9                     51.088908                 17.034051       True       3   \n",
       "17                    51.104110                 17.084711       True       3   \n",
       "18                    51.117032                 17.033499       True       3   \n",
       "...                         ...                       ...        ...     ...   \n",
       "469216                51.103354                 17.030704       True       4   \n",
       "469252                51.117557                 17.040967       True       4   \n",
       "469308                51.111489                 17.020981       True       4   \n",
       "469321                51.102117                 17.013683       True       4   \n",
       "469339                51.110274                 17.034912       True       4   \n",
       "\n",
       "        Holidays  Rental day of week  Rental hour  Rental month  Distance  \n",
       "5          False                   3            0             6       0.0  \n",
       "6          False                   3            0             6       0.0  \n",
       "9          False                   3            0             6       0.0  \n",
       "17         False                   3            0             6       0.0  \n",
       "18         False                   3            0             6       0.0  \n",
       "...          ...                 ...          ...           ...       ...  \n",
       "469216     False                   2           22            11       0.0  \n",
       "469252     False                   2           22            11       0.0  \n",
       "469308     False                   2           22            11       0.0  \n",
       "469321     False                   2           23            11       0.0  \n",
       "469339     False                   2           23            11       0.0  \n",
       "\n",
       "[15404 rows x 17 columns]"
      ]
     },
     "execution_count": 16,
     "metadata": {},
     "output_type": "execute_result"
    }
   ],
   "source": [
    "bike_rentals_soft_df.loc[ (bike_rentals_soft_df['Rental station'] == bike_rentals_soft_df['Return station'])\n",
    "                    & (bike_rentals_soft_df['Duration'] < '00:01:00')]"
   ]
  },
  {
   "cell_type": "markdown",
   "metadata": {},
   "source": [
    "### Duration"
   ]
  },
  {
   "cell_type": "code",
   "execution_count": 17,
   "metadata": {
    "ExecuteTime": {
     "end_time": "2019-11-08T22:57:42.755876Z",
     "start_time": "2019-11-08T22:57:42.742989Z"
    }
   },
   "outputs": [
    {
     "name": "stdout",
     "output_type": "stream",
     "text": [
      "Min: 0.0, Max: 56135.0\n",
      "Avg: 523.0703291978095, Std: 1400.1768050107962\n"
     ]
    }
   ],
   "source": [
    "total_seconds = bike_rentals_soft_df.loc[idx, 'Duration'].dt.total_seconds();\n",
    "\n",
    "print(f\"Min: {total_seconds.min()}, Max: {total_seconds.max()}\")\n",
    "print(f\"Avg: {total_seconds.mean()}, Std: {total_seconds.std()}\")"
   ]
  },
  {
   "cell_type": "code",
   "execution_count": 18,
   "metadata": {
    "ExecuteTime": {
     "end_time": "2019-11-08T22:57:43.334448Z",
     "start_time": "2019-11-08T22:57:42.758794Z"
    }
   },
   "outputs": [
    {
     "data": {
      "image/png": "[encoded data removed]",
      "text/plain": [
       "<Figure size 864x288 with 1 Axes>"
      ]
     },
     "metadata": {
      "image/png": {
       "height": 248,
       "width": 723
      },
      "needs_background": "light"
     },
     "output_type": "display_data"
    }
   ],
   "source": [
    "total_seconds.hist(bins=50, figsize=(12, 4));"
   ]
  },
  {
   "cell_type": "markdown",
   "metadata": {},
   "source": [
    "### Geographical dispersion"
   ]
  },
  {
   "cell_type": "code",
   "execution_count": 19,
   "metadata": {
    "ExecuteTime": {
     "end_time": "2019-11-08T22:57:44.619114Z",
     "start_time": "2019-11-08T22:57:43.336535Z"
    }
   },
   "outputs": [
    {
     "data": {
      "image/png": "[encoded data removed]",
      "text/plain": [
       "<Figure size 432x288 with 1 Axes>"
      ]
     },
     "metadata": {
      "image/png": {
       "height": 277,
       "width": 426
      },
      "needs_background": "light"
     },
     "output_type": "display_data"
    }
   ],
   "source": [
    "plt.scatter(x=bike_rentals_soft_df.loc[idx, 'Rental station longitude'].values, \n",
    "            y=bike_rentals_soft_df.loc[idx, 'Rental station latitude'].values, \n",
    "            alpha=0.01)\n",
    "plt.title('Bike stations from which bicycles were rented and then returned')\n",
    "plt.xlabel('Longitude')\n",
    "plt.ylabel('Latitude')\n",
    "plt.show();"
   ]
  }
 ],
 "metadata": {
  "file_extension": ".py",
  "kernelspec": {
   "display_name": "Python 3",
   "language": "python",
   "name": "python3"
  },
  "language_info": {
   "codemirror_mode": {
    "name": "ipython",
    "version": 3
   },
   "file_extension": ".py",
   "mimetype": "text/x-python",
   "name": "python",
   "nbconvert_exporter": "python",
   "pygments_lexer": "ipython3",
   "version": "3.6.8"
  },
  "mimetype": "text/x-python",
  "name": "python",
  "npconvert_exporter": "python",
  "pygments_lexer": "ipython3",
  "toc": {
   "base_numbering": 1,
   "nav_menu": {},
   "number_sections": true,
   "sideBar": true,
   "skip_h1_title": false,
   "title_cell": "Table of Contents",
   "title_sidebar": "Contents",
   "toc_cell": false,
   "toc_position": {
    "height": "calc(100% - 180px)",
    "left": "10px",
    "top": "150px",
    "width": "282.594px"
   },
   "toc_section_display": true,
   "toc_window_display": false
  },
  "version": 3
 },
 "nbformat": 4,
 "nbformat_minor": 2
}

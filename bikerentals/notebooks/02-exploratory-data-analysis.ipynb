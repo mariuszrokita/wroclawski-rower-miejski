{
 "cells": [
  {
   "cell_type": "markdown",
   "metadata": {},
   "source": [
    "# Exploratory Data Analysis"
   ]
  },
  {
   "cell_type": "markdown",
   "metadata": {},
   "source": [
    "The purpose of this notebook is to visually analyse prepared data and draw conclusions."
   ]
  },
  {
   "cell_type": "code",
   "execution_count": 1,
   "metadata": {
    "ExecuteTime": {
     "end_time": "2019-11-21T05:57:58.630844Z",
     "start_time": "2019-11-21T05:57:58.075176Z"
    }
   },
   "outputs": [],
   "source": [
    "import matplotlib\n",
    "import matplotlib.pyplot as plt\n",
    "import os\n",
    "import pandas as pd\n",
    "\n",
    "# let matplotlib plots be part of Jupyter Notebook\n",
    "%matplotlib inline\n",
    "\n",
    "# set up higher resolution for matplotlib plots\n",
    "%config InlineBackend.figure_format = 'retina'"
   ]
  },
  {
   "cell_type": "markdown",
   "metadata": {},
   "source": [
    "## Load data"
   ]
  },
  {
   "cell_type": "code",
   "execution_count": 2,
   "metadata": {
    "ExecuteTime": {
     "end_time": "2019-11-21T05:57:58.637581Z",
     "start_time": "2019-11-21T05:57:58.634023Z"
    }
   },
   "outputs": [],
   "source": [
    "# set up paths to created datasets\n",
    "filepath_soft = os.path.join(os.getcwd(), '..', 'data', 'processed', 'bike_rentals_soft.csv')\n",
    "filepath_hard = os.path.join(os.getcwd(), '..', 'data', 'processed', 'bike_rentals.csv')"
   ]
  },
  {
   "cell_type": "code",
   "execution_count": 3,
   "metadata": {
    "ExecuteTime": {
     "end_time": "2019-11-21T05:58:01.437106Z",
     "start_time": "2019-11-21T05:57:58.640045Z"
    }
   },
   "outputs": [],
   "source": [
    "# load data with soft deleted records\n",
    "bike_rentals_soft_df = pd.read_csv(filepath_soft)\n",
    "\n",
    "# adjust data types\n",
    "bike_rentals_soft_df['Rental datetime'] = pd.to_datetime(bike_rentals_soft_df['Rental datetime'])\n",
    "bike_rentals_soft_df['Return datetime'] = pd.to_datetime(bike_rentals_soft_df['Return datetime'])\n",
    "bike_rentals_soft_df['Duration'] = pd.to_timedelta(bike_rentals_soft_df['Duration'])"
   ]
  },
  {
   "cell_type": "code",
   "execution_count": 4,
   "metadata": {
    "ExecuteTime": {
     "end_time": "2019-11-21T05:58:03.444077Z",
     "start_time": "2019-11-21T05:58:01.439171Z"
    }
   },
   "outputs": [],
   "source": [
    "# load data with hard deleted records\n",
    "bike_rentals_hard_df = pd.read_csv(filepath_hard)\n",
    "bike_rentals_hard_df['Rental datetime'] = pd.to_datetime(bike_rentals_hard_df['Rental datetime'])\n",
    "bike_rentals_hard_df['Return datetime'] = pd.to_datetime(bike_rentals_hard_df['Return datetime'])\n",
    "bike_rentals_hard_df['Duration'] = pd.to_timedelta(bike_rentals_hard_df['Duration'])"
   ]
  },
  {
   "cell_type": "markdown",
   "metadata": {},
   "source": [
    "## Quick verification of datasets"
   ]
  },
  {
   "cell_type": "markdown",
   "metadata": {},
   "source": [
    "### Dataset with soft deleted records"
   ]
  },
  {
   "cell_type": "code",
   "execution_count": 5,
   "metadata": {
    "ExecuteTime": {
     "end_time": "2019-11-21T05:58:03.513750Z",
     "start_time": "2019-11-21T05:58:03.448492Z"
    }
   },
   "outputs": [
    {
     "name": "stdout",
     "output_type": "stream",
     "text": [
      "<class 'pandas.core.frame.DataFrame'>\n",
      "RangeIndex: 480640 entries, 0 to 480639\n",
      "Data columns (total 17 columns):\n",
      "Bike number                 480640 non-null int64\n",
      "Rental datetime             480640 non-null datetime64[ns]\n",
      "Return datetime             480640 non-null datetime64[ns]\n",
      "Rental station              480640 non-null object\n",
      "Return station              480640 non-null object\n",
      "Duration                    480640 non-null timedelta64[ns]\n",
      "Rental station latitude     446274 non-null float64\n",
      "Rental station longitude    446274 non-null float64\n",
      "Return station latitude     449682 non-null float64\n",
      "Return station longitude    449682 non-null float64\n",
      "IsDeleted                   480640 non-null bool\n",
      "Season                      480640 non-null int64\n",
      "Holidays                    480640 non-null bool\n",
      "Rental day of week          480640 non-null int64\n",
      "Rental hour                 480640 non-null int64\n",
      "Rental month                480640 non-null int64\n",
      "Distance                    421295 non-null float64\n",
      "dtypes: bool(2), datetime64[ns](2), float64(5), int64(5), object(2), timedelta64[ns](1)\n",
      "memory usage: 55.9+ MB\n"
     ]
    }
   ],
   "source": [
    "bike_rentals_soft_df.info()"
   ]
  },
  {
   "cell_type": "code",
   "execution_count": 6,
   "metadata": {
    "ExecuteTime": {
     "end_time": "2019-11-21T05:58:03.559827Z",
     "start_time": "2019-11-21T05:58:03.517572Z"
    }
   },
   "outputs": [
    {
     "data": {
      "text/plain": [
       "Bike number                     0\n",
       "Rental datetime                 0\n",
       "Return datetime                 0\n",
       "Rental station                  0\n",
       "Return station                  0\n",
       "Duration                        0\n",
       "Rental station latitude     34366\n",
       "Rental station longitude    34366\n",
       "Return station latitude     30958\n",
       "Return station longitude    30958\n",
       "IsDeleted                       0\n",
       "Season                          0\n",
       "Holidays                        0\n",
       "Rental day of week              0\n",
       "Rental hour                     0\n",
       "Rental month                    0\n",
       "Distance                    59345\n",
       "dtype: int64"
      ]
     },
     "execution_count": 6,
     "metadata": {},
     "output_type": "execute_result"
    }
   ],
   "source": [
    "# deleted records may contain NaN values\n",
    "bike_rentals_soft_df[bike_rentals_soft_df['IsDeleted'] == True].isnull().sum()"
   ]
  },
  {
   "cell_type": "code",
   "execution_count": 7,
   "metadata": {
    "ExecuteTime": {
     "end_time": "2019-11-21T05:58:03.654669Z",
     "start_time": "2019-11-21T05:58:03.562324Z"
    }
   },
   "outputs": [],
   "source": [
    "# make sure there are no NaN values in records that are left\n",
    "assert sum(bike_rentals_soft_df[bike_rentals_soft_df['IsDeleted'] == False].isnull().sum()) == 0"
   ]
  },
  {
   "cell_type": "code",
   "execution_count": 8,
   "metadata": {
    "ExecuteTime": {
     "end_time": "2019-11-21T05:58:03.677012Z",
     "start_time": "2019-11-21T05:58:03.656943Z"
    }
   },
   "outputs": [
    {
     "data": {
      "text/html": [
       "<div>\n",
       "<style scoped>\n",
       "    .dataframe tbody tr th:only-of-type {\n",
       "        vertical-align: middle;\n",
       "    }\n",
       "\n",
       "    .dataframe tbody tr th {\n",
       "        vertical-align: top;\n",
       "    }\n",
       "\n",
       "    .dataframe thead th {\n",
       "        text-align: right;\n",
       "    }\n",
       "</style>\n",
       "<table border=\"1\" class=\"dataframe\">\n",
       "  <thead>\n",
       "    <tr style=\"text-align: right;\">\n",
       "      <th></th>\n",
       "      <th>Bike number</th>\n",
       "      <th>Rental datetime</th>\n",
       "      <th>Return datetime</th>\n",
       "      <th>Rental station</th>\n",
       "      <th>Return station</th>\n",
       "      <th>Duration</th>\n",
       "      <th>Rental station latitude</th>\n",
       "      <th>Rental station longitude</th>\n",
       "      <th>Return station latitude</th>\n",
       "      <th>Return station longitude</th>\n",
       "      <th>IsDeleted</th>\n",
       "      <th>Season</th>\n",
       "      <th>Holidays</th>\n",
       "      <th>Rental day of week</th>\n",
       "      <th>Rental hour</th>\n",
       "      <th>Rental month</th>\n",
       "      <th>Distance</th>\n",
       "    </tr>\n",
       "  </thead>\n",
       "  <tbody>\n",
       "    <tr>\n",
       "      <th>0</th>\n",
       "      <td>57719</td>\n",
       "      <td>2019-06-26 00:00:10</td>\n",
       "      <td>2019-06-26 00:06:19</td>\n",
       "      <td>Skarbowców / Wietrzna</td>\n",
       "      <td>Krzycka / Aleja Karkonoska (Park Południowy)</td>\n",
       "      <td>00:06:09</td>\n",
       "      <td>51.073290</td>\n",
       "      <td>16.994850</td>\n",
       "      <td>51.074992</td>\n",
       "      <td>17.007058</td>\n",
       "      <td>False</td>\n",
       "      <td>3</td>\n",
       "      <td>False</td>\n",
       "      <td>3</td>\n",
       "      <td>0</td>\n",
       "      <td>6</td>\n",
       "      <td>0.9</td>\n",
       "    </tr>\n",
       "    <tr>\n",
       "      <th>1</th>\n",
       "      <td>650480</td>\n",
       "      <td>2019-06-26 00:00:13</td>\n",
       "      <td>2019-06-26 00:06:59</td>\n",
       "      <td>Rynek</td>\n",
       "      <td>Plac Legionów</td>\n",
       "      <td>00:06:46</td>\n",
       "      <td>51.109782</td>\n",
       "      <td>17.030175</td>\n",
       "      <td>51.104413</td>\n",
       "      <td>17.022536</td>\n",
       "      <td>False</td>\n",
       "      <td>3</td>\n",
       "      <td>False</td>\n",
       "      <td>3</td>\n",
       "      <td>0</td>\n",
       "      <td>6</td>\n",
       "      <td>0.8</td>\n",
       "    </tr>\n",
       "    <tr>\n",
       "      <th>2</th>\n",
       "      <td>650988</td>\n",
       "      <td>2019-06-26 00:00:15</td>\n",
       "      <td>2019-06-26 00:13:32</td>\n",
       "      <td>Poza oficjalną stacją</td>\n",
       "      <td>Wałbrzyska - pętla tramwajowa</td>\n",
       "      <td>00:13:17</td>\n",
       "      <td>NaN</td>\n",
       "      <td>NaN</td>\n",
       "      <td>51.065777</td>\n",
       "      <td>16.988575</td>\n",
       "      <td>True</td>\n",
       "      <td>3</td>\n",
       "      <td>False</td>\n",
       "      <td>3</td>\n",
       "      <td>0</td>\n",
       "      <td>6</td>\n",
       "      <td>NaN</td>\n",
       "    </tr>\n",
       "  </tbody>\n",
       "</table>\n",
       "</div>"
      ],
      "text/plain": [
       "   Bike number     Rental datetime     Return datetime         Rental station  \\\n",
       "0        57719 2019-06-26 00:00:10 2019-06-26 00:06:19  Skarbowców / Wietrzna   \n",
       "1       650480 2019-06-26 00:00:13 2019-06-26 00:06:59                  Rynek   \n",
       "2       650988 2019-06-26 00:00:15 2019-06-26 00:13:32  Poza oficjalną stacją   \n",
       "\n",
       "                                 Return station Duration  \\\n",
       "0  Krzycka / Aleja Karkonoska (Park Południowy) 00:06:09   \n",
       "1                                 Plac Legionów 00:06:46   \n",
       "2                 Wałbrzyska - pętla tramwajowa 00:13:17   \n",
       "\n",
       "   Rental station latitude  Rental station longitude  Return station latitude  \\\n",
       "0                51.073290                 16.994850                51.074992   \n",
       "1                51.109782                 17.030175                51.104413   \n",
       "2                      NaN                       NaN                51.065777   \n",
       "\n",
       "   Return station longitude  IsDeleted  Season  Holidays  Rental day of week  \\\n",
       "0                 17.007058      False       3     False                   3   \n",
       "1                 17.022536      False       3     False                   3   \n",
       "2                 16.988575       True       3     False                   3   \n",
       "\n",
       "   Rental hour  Rental month  Distance  \n",
       "0            0             6       0.9  \n",
       "1            0             6       0.8  \n",
       "2            0             6       NaN  "
      ]
     },
     "execution_count": 8,
     "metadata": {},
     "output_type": "execute_result"
    }
   ],
   "source": [
    "bike_rentals_soft_df.head(3)"
   ]
  },
  {
   "cell_type": "markdown",
   "metadata": {},
   "source": [
    "### Dataset with hard deleted records"
   ]
  },
  {
   "cell_type": "code",
   "execution_count": 9,
   "metadata": {
    "ExecuteTime": {
     "end_time": "2019-11-21T05:58:03.722974Z",
     "start_time": "2019-11-21T05:58:03.679123Z"
    }
   },
   "outputs": [
    {
     "name": "stdout",
     "output_type": "stream",
     "text": [
      "<class 'pandas.core.frame.DataFrame'>\n",
      "RangeIndex: 345999 entries, 0 to 345998\n",
      "Data columns (total 16 columns):\n",
      "Bike number                 345999 non-null int64\n",
      "Rental datetime             345999 non-null datetime64[ns]\n",
      "Return datetime             345999 non-null datetime64[ns]\n",
      "Rental station              345999 non-null object\n",
      "Return station              345999 non-null object\n",
      "Duration                    345999 non-null timedelta64[ns]\n",
      "Rental station latitude     345999 non-null float64\n",
      "Rental station longitude    345999 non-null float64\n",
      "Return station latitude     345999 non-null float64\n",
      "Return station longitude    345999 non-null float64\n",
      "Season                      345999 non-null int64\n",
      "Holidays                    345999 non-null bool\n",
      "Rental day of week          345999 non-null int64\n",
      "Rental hour                 345999 non-null int64\n",
      "Rental month                345999 non-null int64\n",
      "Distance                    345999 non-null float64\n",
      "dtypes: bool(1), datetime64[ns](2), float64(5), int64(5), object(2), timedelta64[ns](1)\n",
      "memory usage: 39.9+ MB\n"
     ]
    }
   ],
   "source": [
    "bike_rentals_hard_df.info()"
   ]
  },
  {
   "cell_type": "code",
   "execution_count": 10,
   "metadata": {
    "ExecuteTime": {
     "end_time": "2019-11-21T05:58:03.769631Z",
     "start_time": "2019-11-21T05:58:03.725163Z"
    }
   },
   "outputs": [
    {
     "data": {
      "text/plain": [
       "Bike number                 0\n",
       "Rental datetime             0\n",
       "Return datetime             0\n",
       "Rental station              0\n",
       "Return station              0\n",
       "Duration                    0\n",
       "Rental station latitude     0\n",
       "Rental station longitude    0\n",
       "Return station latitude     0\n",
       "Return station longitude    0\n",
       "Season                      0\n",
       "Holidays                    0\n",
       "Rental day of week          0\n",
       "Rental hour                 0\n",
       "Rental month                0\n",
       "Distance                    0\n",
       "dtype: int64"
      ]
     },
     "execution_count": 10,
     "metadata": {},
     "output_type": "execute_result"
    }
   ],
   "source": [
    "# deleted records must not contain values\n",
    "bike_rentals_hard_df.isnull().sum()"
   ]
  },
  {
   "cell_type": "markdown",
   "metadata": {},
   "source": [
    "## Visual inspection of soft deleted records"
   ]
  },
  {
   "cell_type": "code",
   "execution_count": 11,
   "metadata": {
    "ExecuteTime": {
     "end_time": "2019-11-21T05:58:03.794948Z",
     "start_time": "2019-11-21T05:58:03.772020Z"
    }
   },
   "outputs": [
    {
     "name": "stdout",
     "output_type": "stream",
     "text": [
      "Number of soft deleted records: 134641\n"
     ]
    }
   ],
   "source": [
    "print(f\"Number of soft deleted records: {bike_rentals_soft_df[bike_rentals_soft_df['IsDeleted'] == True].shape[0]}\")"
   ]
  },
  {
   "cell_type": "code",
   "execution_count": 12,
   "metadata": {
    "ExecuteTime": {
     "end_time": "2019-11-21T05:58:03.811530Z",
     "start_time": "2019-11-21T05:58:03.798026Z"
    }
   },
   "outputs": [
    {
     "data": {
      "text/plain": [
       "Poza oficjalną stacją              30455\n",
       "Świeradowska (Ferio Gaj)            3155\n",
       "Fabryczna (WSB)                      373\n",
       "Pełczyńska / stacja kolejowa         193\n",
       ".RELOKACYJNA A1-4                     75\n",
       "Teststation IT - Adrian (VP)          29\n",
       "BIKE                                  21\n",
       "0, 0                                  10\n",
       "plac Nankiera                          6\n",
       "recording_80356921                     3\n",
       "BIKE 57509                             2\n",
       ".GOTOWE DO REZERWACJI                  2\n",
       "Bierutowska 48                         2\n",
       "Generała Stanisława Kopańskiego        1\n",
       "Legnicka                               1\n",
       "Sucha 2                                1\n",
       "Stanisława Worcella 8                  1\n",
       "#RELOKACYJNA                           1\n",
       "Eugeniusza Kwiatkowskiego              1\n",
       "Mydlana                                1\n",
       "Tadeusza Kościuszki 80a                1\n",
       "Łąkowa                                 1\n",
       "Główna 1a                              1\n",
       "Podwale 73                             1\n",
       "Krzemieniecka                          1\n",
       "Osobowicka                             1\n",
       "Kwidzyńska 4                           1\n",
       "Cesarzowicka 5                         1\n",
       "Kazimierza Michalczyka                 1\n",
       "Boguszowska 38b                        1\n",
       "Buforowa 4                             1\n",
       "Na Grobli                              1\n",
       "Skarbowców 23b                         1\n",
       "Szwajcarska 22                         1\n",
       "Kobierzycka 5                          1\n",
       "Krakowska 13                           1\n",
       "Krowia                                 1\n",
       "wjazd                                  1\n",
       "Marii Curie-Skłodowskiej 38            1\n",
       "Na Grobli 28                           1\n",
       "Na Grobli 16                           1\n",
       "Władysława Czaplińskiego 32            1\n",
       "Północna 15-19 2.1b                    1\n",
       "Tadeusza Kościuszki                    1\n",
       "Benedykta Polaka 16                    1\n",
       "Witkowska 34a                          1\n",
       "Wiaduktowa                             1\n",
       "Wyścigowa 56g                          1\n",
       "Świętej Katarzyny 17                   1\n",
       "Czekoladowa 5A                         1\n",
       "Kanałowa                               1\n",
       "Centralna 28                           1\n",
       "Wojciecha Bogusławskiego 19            1\n",
       "Name: Rental station, dtype: int64"
      ]
     },
     "execution_count": 12,
     "metadata": {},
     "output_type": "execute_result"
    }
   ],
   "source": [
    "bike_rentals_soft_df.loc[bike_rentals_soft_df['Rental station latitude'].isnull(), 'Rental station'].value_counts()"
   ]
  },
  {
   "cell_type": "code",
   "execution_count": 13,
   "metadata": {
    "ExecuteTime": {
     "end_time": "2019-11-21T05:58:03.826736Z",
     "start_time": "2019-11-21T05:58:03.814379Z"
    }
   },
   "outputs": [
    {
     "data": {
      "text/plain": [
       "Poza oficjalną stacją              27103\n",
       "Świeradowska (Ferio Gaj)            3194\n",
       "Fabryczna (WSB)                      375\n",
       "Pełczyńska / stacja kolejowa         175\n",
       "Teststation IT - Adrian (VP)          28\n",
       "BIKE                                  15\n",
       ".RELOKACYJNA A1-4                     13\n",
       "0, 0                                   7\n",
       "plac Nankiera                          6\n",
       "recording_80356921                     3\n",
       "BIKE 57509                             2\n",
       "Bierutowska 48                         2\n",
       "Mydlana                                1\n",
       "Wilkszyńska 55                         1\n",
       "Sucha 2                                1\n",
       "Legnicka                               1\n",
       "Centralna 28                           1\n",
       "Łąkowa                                 1\n",
       "Stanisława Worcella 8                  1\n",
       "Sołtysowicka 27e                       1\n",
       "Eugeniusza Kwiatkowskiego              1\n",
       "Generała Stanisława Kopańskiego        1\n",
       "Główna 1a                              1\n",
       "Buforowa 4                             1\n",
       "Kwidzyńska 4                           1\n",
       "Kazimierza Michalczyka                 1\n",
       "15092                                  1\n",
       "Świętej Katarzyny 17                   1\n",
       "Na Grobli                              1\n",
       "Władysława Czaplińskiego 32            1\n",
       "Krakowska 13                           1\n",
       "Krowia                                 1\n",
       "wjazd                                  1\n",
       "Marii Curie-Skłodowskiej 38            1\n",
       "Pełczyńska                             1\n",
       "Na Grobli 28                           1\n",
       "Na Grobli 16                           1\n",
       "Szwajcarska 22                         1\n",
       "Kanałowa                               1\n",
       "Północna 15-19 2.1b                    1\n",
       "Skarbowców 23a                         1\n",
       "Witkowska 34a                          1\n",
       "Wiaduktowa                             1\n",
       "Wyścigowa 56g                          1\n",
       "Kobierzycka 5                          1\n",
       "Czekoladowa 5A                         1\n",
       "Boguszowska 38b                        1\n",
       "Name: Return station, dtype: int64"
      ]
     },
     "execution_count": 13,
     "metadata": {},
     "output_type": "execute_result"
    }
   ],
   "source": [
    "bike_rentals_soft_df.loc[bike_rentals_soft_df['Return station latitude'].isnull(), 'Return station'].value_counts()"
   ]
  },
  {
   "cell_type": "markdown",
   "metadata": {},
   "source": [
    "### Rentals returned to the same bike station"
   ]
  },
  {
   "cell_type": "code",
   "execution_count": 14,
   "metadata": {
    "ExecuteTime": {
     "end_time": "2019-11-21T05:58:03.890117Z",
     "start_time": "2019-11-21T05:58:03.829328Z"
    }
   },
   "outputs": [
    {
     "name": "stdout",
     "output_type": "stream",
     "text": [
      "Number of records: 80697\n"
     ]
    }
   ],
   "source": [
    "idx = (bike_rentals_soft_df['IsDeleted'] == True) & \\\n",
    "      (bike_rentals_soft_df['Rental station'] == bike_rentals_soft_df['Return station'])\n",
    "print(f\"Number of records: {bike_rentals_soft_df.loc[idx, :].shape[0]}\")"
   ]
  },
  {
   "cell_type": "markdown",
   "metadata": {},
   "source": [
    "### Data time span"
   ]
  },
  {
   "cell_type": "code",
   "execution_count": 15,
   "metadata": {
    "ExecuteTime": {
     "end_time": "2019-11-21T05:58:03.899362Z",
     "start_time": "2019-11-21T05:58:03.892532Z"
    }
   },
   "outputs": [
    {
     "data": {
      "text/plain": [
       "Timestamp('2019-06-26 00:00:10')"
      ]
     },
     "execution_count": 15,
     "metadata": {},
     "output_type": "execute_result"
    }
   ],
   "source": [
    "bike_rentals_soft_df['Rental datetime'].min()"
   ]
  },
  {
   "cell_type": "code",
   "execution_count": 16,
   "metadata": {
    "ExecuteTime": {
     "end_time": "2019-11-21T05:58:03.906196Z",
     "start_time": "2019-11-21T05:58:03.901216Z"
    }
   },
   "outputs": [
    {
     "data": {
      "text/plain": [
       "Timestamp('2019-11-07 23:51:00')"
      ]
     },
     "execution_count": 16,
     "metadata": {},
     "output_type": "execute_result"
    }
   ],
   "source": [
    "bike_rentals_soft_df['Rental datetime'].max()"
   ]
  },
  {
   "cell_type": "markdown",
   "metadata": {},
   "source": [
    "### Inspection"
   ]
  },
  {
   "cell_type": "code",
   "execution_count": 17,
   "metadata": {
    "ExecuteTime": {
     "end_time": "2019-11-21T05:58:03.949693Z",
     "start_time": "2019-11-21T05:58:03.908290Z"
    }
   },
   "outputs": [
    {
     "data": {
      "text/html": [
       "<div>\n",
       "<style scoped>\n",
       "    .dataframe tbody tr th:only-of-type {\n",
       "        vertical-align: middle;\n",
       "    }\n",
       "\n",
       "    .dataframe tbody tr th {\n",
       "        vertical-align: top;\n",
       "    }\n",
       "\n",
       "    .dataframe thead th {\n",
       "        text-align: right;\n",
       "    }\n",
       "</style>\n",
       "<table border=\"1\" class=\"dataframe\">\n",
       "  <thead>\n",
       "    <tr style=\"text-align: right;\">\n",
       "      <th></th>\n",
       "      <th>Bike number</th>\n",
       "      <th>Rental datetime</th>\n",
       "      <th>Return datetime</th>\n",
       "      <th>Rental station</th>\n",
       "      <th>Return station</th>\n",
       "      <th>Duration</th>\n",
       "      <th>Rental station latitude</th>\n",
       "      <th>Rental station longitude</th>\n",
       "      <th>Return station latitude</th>\n",
       "      <th>Return station longitude</th>\n",
       "      <th>IsDeleted</th>\n",
       "      <th>Season</th>\n",
       "      <th>Holidays</th>\n",
       "      <th>Rental day of week</th>\n",
       "      <th>Rental hour</th>\n",
       "      <th>Rental month</th>\n",
       "      <th>Distance</th>\n",
       "    </tr>\n",
       "  </thead>\n",
       "  <tbody>\n",
       "    <tr>\n",
       "      <th>4</th>\n",
       "      <td>650067</td>\n",
       "      <td>2019-06-26 00:00:40</td>\n",
       "      <td>2019-06-26 00:04:40</td>\n",
       "      <td>Powstańców Śląskich (Arkady Wrocławskie)</td>\n",
       "      <td>Powstańców Śląskich (Arkady Wrocławskie)</td>\n",
       "      <td>00:04:00</td>\n",
       "      <td>51.099713</td>\n",
       "      <td>17.027905</td>\n",
       "      <td>51.099713</td>\n",
       "      <td>17.027905</td>\n",
       "      <td>True</td>\n",
       "      <td>3</td>\n",
       "      <td>False</td>\n",
       "      <td>3</td>\n",
       "      <td>0</td>\n",
       "      <td>6</td>\n",
       "      <td>0.0</td>\n",
       "    </tr>\n",
       "    <tr>\n",
       "      <th>5</th>\n",
       "      <td>650020</td>\n",
       "      <td>2019-06-26 00:00:52</td>\n",
       "      <td>2019-06-26 00:01:41</td>\n",
       "      <td>Plac Grunwaldzki / Polaka</td>\n",
       "      <td>Plac Grunwaldzki / Polaka</td>\n",
       "      <td>00:00:49</td>\n",
       "      <td>51.110415</td>\n",
       "      <td>17.055591</td>\n",
       "      <td>51.110415</td>\n",
       "      <td>17.055591</td>\n",
       "      <td>True</td>\n",
       "      <td>3</td>\n",
       "      <td>False</td>\n",
       "      <td>3</td>\n",
       "      <td>0</td>\n",
       "      <td>6</td>\n",
       "      <td>0.0</td>\n",
       "    </tr>\n",
       "    <tr>\n",
       "      <th>6</th>\n",
       "      <td>650072</td>\n",
       "      <td>2019-06-26 00:01:04</td>\n",
       "      <td>2019-06-26 00:01:58</td>\n",
       "      <td>Plac Grunwaldzki / Polaka</td>\n",
       "      <td>Plac Grunwaldzki / Polaka</td>\n",
       "      <td>00:00:54</td>\n",
       "      <td>51.110415</td>\n",
       "      <td>17.055591</td>\n",
       "      <td>51.110415</td>\n",
       "      <td>17.055591</td>\n",
       "      <td>True</td>\n",
       "      <td>3</td>\n",
       "      <td>False</td>\n",
       "      <td>3</td>\n",
       "      <td>0</td>\n",
       "      <td>6</td>\n",
       "      <td>0.0</td>\n",
       "    </tr>\n",
       "    <tr>\n",
       "      <th>7</th>\n",
       "      <td>57855</td>\n",
       "      <td>2019-06-26 00:01:22</td>\n",
       "      <td>2019-06-26 00:19:56</td>\n",
       "      <td>Kościuszki / Pułaskiego</td>\n",
       "      <td>Kościuszki / Pułaskiego</td>\n",
       "      <td>00:18:34</td>\n",
       "      <td>51.100400</td>\n",
       "      <td>17.045083</td>\n",
       "      <td>51.100400</td>\n",
       "      <td>17.045083</td>\n",
       "      <td>True</td>\n",
       "      <td>3</td>\n",
       "      <td>False</td>\n",
       "      <td>3</td>\n",
       "      <td>0</td>\n",
       "      <td>6</td>\n",
       "      <td>0.0</td>\n",
       "    </tr>\n",
       "    <tr>\n",
       "      <th>9</th>\n",
       "      <td>57856</td>\n",
       "      <td>2019-06-26 00:01:57</td>\n",
       "      <td>2019-06-26 00:02:24</td>\n",
       "      <td>Kamienna / Borowska (Aquapark)</td>\n",
       "      <td>Kamienna / Borowska (Aquapark)</td>\n",
       "      <td>00:00:27</td>\n",
       "      <td>51.088908</td>\n",
       "      <td>17.034051</td>\n",
       "      <td>51.088908</td>\n",
       "      <td>17.034051</td>\n",
       "      <td>True</td>\n",
       "      <td>3</td>\n",
       "      <td>False</td>\n",
       "      <td>3</td>\n",
       "      <td>0</td>\n",
       "      <td>6</td>\n",
       "      <td>0.0</td>\n",
       "    </tr>\n",
       "    <tr>\n",
       "      <th>...</th>\n",
       "      <td>...</td>\n",
       "      <td>...</td>\n",
       "      <td>...</td>\n",
       "      <td>...</td>\n",
       "      <td>...</td>\n",
       "      <td>...</td>\n",
       "      <td>...</td>\n",
       "      <td>...</td>\n",
       "      <td>...</td>\n",
       "      <td>...</td>\n",
       "      <td>...</td>\n",
       "      <td>...</td>\n",
       "      <td>...</td>\n",
       "      <td>...</td>\n",
       "      <td>...</td>\n",
       "      <td>...</td>\n",
       "      <td>...</td>\n",
       "    </tr>\n",
       "    <tr>\n",
       "      <th>480631</th>\n",
       "      <td>57978</td>\n",
       "      <td>2019-11-07 23:44:00</td>\n",
       "      <td>2019-11-07 23:44:00</td>\n",
       "      <td>Powstańców Śląskich (Arkady Wrocławskie)</td>\n",
       "      <td>Powstańców Śląskich (Arkady Wrocławskie)</td>\n",
       "      <td>00:00:00</td>\n",
       "      <td>51.099713</td>\n",
       "      <td>17.027905</td>\n",
       "      <td>51.099713</td>\n",
       "      <td>17.027905</td>\n",
       "      <td>True</td>\n",
       "      <td>4</td>\n",
       "      <td>False</td>\n",
       "      <td>4</td>\n",
       "      <td>23</td>\n",
       "      <td>11</td>\n",
       "      <td>0.0</td>\n",
       "    </tr>\n",
       "    <tr>\n",
       "      <th>480634</th>\n",
       "      <td>650289</td>\n",
       "      <td>2019-11-07 23:46:00</td>\n",
       "      <td>2019-11-07 23:48:00</td>\n",
       "      <td>Poza oficjalną stacją</td>\n",
       "      <td>Poza oficjalną stacją</td>\n",
       "      <td>00:02:00</td>\n",
       "      <td>NaN</td>\n",
       "      <td>NaN</td>\n",
       "      <td>NaN</td>\n",
       "      <td>NaN</td>\n",
       "      <td>True</td>\n",
       "      <td>4</td>\n",
       "      <td>False</td>\n",
       "      <td>4</td>\n",
       "      <td>23</td>\n",
       "      <td>11</td>\n",
       "      <td>NaN</td>\n",
       "    </tr>\n",
       "    <tr>\n",
       "      <th>480637</th>\n",
       "      <td>650289</td>\n",
       "      <td>2019-11-07 23:49:00</td>\n",
       "      <td>2019-11-07 23:55:00</td>\n",
       "      <td>Poza oficjalną stacją</td>\n",
       "      <td>Poza oficjalną stacją</td>\n",
       "      <td>00:06:00</td>\n",
       "      <td>NaN</td>\n",
       "      <td>NaN</td>\n",
       "      <td>NaN</td>\n",
       "      <td>NaN</td>\n",
       "      <td>True</td>\n",
       "      <td>4</td>\n",
       "      <td>False</td>\n",
       "      <td>4</td>\n",
       "      <td>23</td>\n",
       "      <td>11</td>\n",
       "      <td>NaN</td>\n",
       "    </tr>\n",
       "    <tr>\n",
       "      <th>480638</th>\n",
       "      <td>650182</td>\n",
       "      <td>2019-11-07 23:49:00</td>\n",
       "      <td>2019-11-07 23:50:00</td>\n",
       "      <td>Nyska / Jesionowa</td>\n",
       "      <td>Nyska / Jesionowa</td>\n",
       "      <td>00:01:00</td>\n",
       "      <td>51.087290</td>\n",
       "      <td>17.051150</td>\n",
       "      <td>51.087290</td>\n",
       "      <td>17.051150</td>\n",
       "      <td>True</td>\n",
       "      <td>4</td>\n",
       "      <td>False</td>\n",
       "      <td>4</td>\n",
       "      <td>23</td>\n",
       "      <td>11</td>\n",
       "      <td>0.0</td>\n",
       "    </tr>\n",
       "    <tr>\n",
       "      <th>480639</th>\n",
       "      <td>651020</td>\n",
       "      <td>2019-11-07 23:51:00</td>\n",
       "      <td>2019-11-07 23:52:00</td>\n",
       "      <td>Plac Legionów</td>\n",
       "      <td>Plac Legionów</td>\n",
       "      <td>00:01:00</td>\n",
       "      <td>51.104413</td>\n",
       "      <td>17.022536</td>\n",
       "      <td>51.104413</td>\n",
       "      <td>17.022536</td>\n",
       "      <td>True</td>\n",
       "      <td>4</td>\n",
       "      <td>False</td>\n",
       "      <td>4</td>\n",
       "      <td>23</td>\n",
       "      <td>11</td>\n",
       "      <td>0.0</td>\n",
       "    </tr>\n",
       "  </tbody>\n",
       "</table>\n",
       "<p>80697 rows × 17 columns</p>\n",
       "</div>"
      ],
      "text/plain": [
       "        Bike number     Rental datetime     Return datetime  \\\n",
       "4            650067 2019-06-26 00:00:40 2019-06-26 00:04:40   \n",
       "5            650020 2019-06-26 00:00:52 2019-06-26 00:01:41   \n",
       "6            650072 2019-06-26 00:01:04 2019-06-26 00:01:58   \n",
       "7             57855 2019-06-26 00:01:22 2019-06-26 00:19:56   \n",
       "9             57856 2019-06-26 00:01:57 2019-06-26 00:02:24   \n",
       "...             ...                 ...                 ...   \n",
       "480631        57978 2019-11-07 23:44:00 2019-11-07 23:44:00   \n",
       "480634       650289 2019-11-07 23:46:00 2019-11-07 23:48:00   \n",
       "480637       650289 2019-11-07 23:49:00 2019-11-07 23:55:00   \n",
       "480638       650182 2019-11-07 23:49:00 2019-11-07 23:50:00   \n",
       "480639       651020 2019-11-07 23:51:00 2019-11-07 23:52:00   \n",
       "\n",
       "                                  Rental station  \\\n",
       "4       Powstańców Śląskich (Arkady Wrocławskie)   \n",
       "5                      Plac Grunwaldzki / Polaka   \n",
       "6                      Plac Grunwaldzki / Polaka   \n",
       "7                        Kościuszki / Pułaskiego   \n",
       "9                 Kamienna / Borowska (Aquapark)   \n",
       "...                                          ...   \n",
       "480631  Powstańców Śląskich (Arkady Wrocławskie)   \n",
       "480634                     Poza oficjalną stacją   \n",
       "480637                     Poza oficjalną stacją   \n",
       "480638                         Nyska / Jesionowa   \n",
       "480639                             Plac Legionów   \n",
       "\n",
       "                                  Return station Duration  \\\n",
       "4       Powstańców Śląskich (Arkady Wrocławskie) 00:04:00   \n",
       "5                      Plac Grunwaldzki / Polaka 00:00:49   \n",
       "6                      Plac Grunwaldzki / Polaka 00:00:54   \n",
       "7                        Kościuszki / Pułaskiego 00:18:34   \n",
       "9                 Kamienna / Borowska (Aquapark) 00:00:27   \n",
       "...                                          ...      ...   \n",
       "480631  Powstańców Śląskich (Arkady Wrocławskie) 00:00:00   \n",
       "480634                     Poza oficjalną stacją 00:02:00   \n",
       "480637                     Poza oficjalną stacją 00:06:00   \n",
       "480638                         Nyska / Jesionowa 00:01:00   \n",
       "480639                             Plac Legionów 00:01:00   \n",
       "\n",
       "        Rental station latitude  Rental station longitude  \\\n",
       "4                     51.099713                 17.027905   \n",
       "5                     51.110415                 17.055591   \n",
       "6                     51.110415                 17.055591   \n",
       "7                     51.100400                 17.045083   \n",
       "9                     51.088908                 17.034051   \n",
       "...                         ...                       ...   \n",
       "480631                51.099713                 17.027905   \n",
       "480634                      NaN                       NaN   \n",
       "480637                      NaN                       NaN   \n",
       "480638                51.087290                 17.051150   \n",
       "480639                51.104413                 17.022536   \n",
       "\n",
       "        Return station latitude  Return station longitude  IsDeleted  Season  \\\n",
       "4                     51.099713                 17.027905       True       3   \n",
       "5                     51.110415                 17.055591       True       3   \n",
       "6                     51.110415                 17.055591       True       3   \n",
       "7                     51.100400                 17.045083       True       3   \n",
       "9                     51.088908                 17.034051       True       3   \n",
       "...                         ...                       ...        ...     ...   \n",
       "480631                51.099713                 17.027905       True       4   \n",
       "480634                      NaN                       NaN       True       4   \n",
       "480637                      NaN                       NaN       True       4   \n",
       "480638                51.087290                 17.051150       True       4   \n",
       "480639                51.104413                 17.022536       True       4   \n",
       "\n",
       "        Holidays  Rental day of week  Rental hour  Rental month  Distance  \n",
       "4          False                   3            0             6       0.0  \n",
       "5          False                   3            0             6       0.0  \n",
       "6          False                   3            0             6       0.0  \n",
       "7          False                   3            0             6       0.0  \n",
       "9          False                   3            0             6       0.0  \n",
       "...          ...                 ...          ...           ...       ...  \n",
       "480631     False                   4           23            11       0.0  \n",
       "480634     False                   4           23            11       NaN  \n",
       "480637     False                   4           23            11       NaN  \n",
       "480638     False                   4           23            11       0.0  \n",
       "480639     False                   4           23            11       0.0  \n",
       "\n",
       "[80697 rows x 17 columns]"
      ]
     },
     "execution_count": 17,
     "metadata": {},
     "output_type": "execute_result"
    }
   ],
   "source": [
    "bike_rentals_soft_df.loc[idx, :]"
   ]
  },
  {
   "cell_type": "code",
   "execution_count": 18,
   "metadata": {
    "ExecuteTime": {
     "end_time": "2019-11-21T05:58:04.023203Z",
     "start_time": "2019-11-21T05:58:03.951882Z"
    }
   },
   "outputs": [
    {
     "data": {
      "text/html": [
       "<div>\n",
       "<style scoped>\n",
       "    .dataframe tbody tr th:only-of-type {\n",
       "        vertical-align: middle;\n",
       "    }\n",
       "\n",
       "    .dataframe tbody tr th {\n",
       "        vertical-align: top;\n",
       "    }\n",
       "\n",
       "    .dataframe thead th {\n",
       "        text-align: right;\n",
       "    }\n",
       "</style>\n",
       "<table border=\"1\" class=\"dataframe\">\n",
       "  <thead>\n",
       "    <tr style=\"text-align: right;\">\n",
       "      <th></th>\n",
       "      <th>Bike number</th>\n",
       "      <th>Rental datetime</th>\n",
       "      <th>Return datetime</th>\n",
       "      <th>Rental station</th>\n",
       "      <th>Return station</th>\n",
       "      <th>Duration</th>\n",
       "      <th>Rental station latitude</th>\n",
       "      <th>Rental station longitude</th>\n",
       "      <th>Return station latitude</th>\n",
       "      <th>Return station longitude</th>\n",
       "      <th>IsDeleted</th>\n",
       "      <th>Season</th>\n",
       "      <th>Holidays</th>\n",
       "      <th>Rental day of week</th>\n",
       "      <th>Rental hour</th>\n",
       "      <th>Rental month</th>\n",
       "      <th>Distance</th>\n",
       "    </tr>\n",
       "  </thead>\n",
       "  <tbody>\n",
       "    <tr>\n",
       "      <th>5</th>\n",
       "      <td>650020</td>\n",
       "      <td>2019-06-26 00:00:52</td>\n",
       "      <td>2019-06-26 00:01:41</td>\n",
       "      <td>Plac Grunwaldzki / Polaka</td>\n",
       "      <td>Plac Grunwaldzki / Polaka</td>\n",
       "      <td>00:00:49</td>\n",
       "      <td>51.110415</td>\n",
       "      <td>17.055591</td>\n",
       "      <td>51.110415</td>\n",
       "      <td>17.055591</td>\n",
       "      <td>True</td>\n",
       "      <td>3</td>\n",
       "      <td>False</td>\n",
       "      <td>3</td>\n",
       "      <td>0</td>\n",
       "      <td>6</td>\n",
       "      <td>0.0</td>\n",
       "    </tr>\n",
       "    <tr>\n",
       "      <th>6</th>\n",
       "      <td>650072</td>\n",
       "      <td>2019-06-26 00:01:04</td>\n",
       "      <td>2019-06-26 00:01:58</td>\n",
       "      <td>Plac Grunwaldzki / Polaka</td>\n",
       "      <td>Plac Grunwaldzki / Polaka</td>\n",
       "      <td>00:00:54</td>\n",
       "      <td>51.110415</td>\n",
       "      <td>17.055591</td>\n",
       "      <td>51.110415</td>\n",
       "      <td>17.055591</td>\n",
       "      <td>True</td>\n",
       "      <td>3</td>\n",
       "      <td>False</td>\n",
       "      <td>3</td>\n",
       "      <td>0</td>\n",
       "      <td>6</td>\n",
       "      <td>0.0</td>\n",
       "    </tr>\n",
       "    <tr>\n",
       "      <th>9</th>\n",
       "      <td>57856</td>\n",
       "      <td>2019-06-26 00:01:57</td>\n",
       "      <td>2019-06-26 00:02:24</td>\n",
       "      <td>Kamienna / Borowska (Aquapark)</td>\n",
       "      <td>Kamienna / Borowska (Aquapark)</td>\n",
       "      <td>00:00:27</td>\n",
       "      <td>51.088908</td>\n",
       "      <td>17.034051</td>\n",
       "      <td>51.088908</td>\n",
       "      <td>17.034051</td>\n",
       "      <td>True</td>\n",
       "      <td>3</td>\n",
       "      <td>False</td>\n",
       "      <td>3</td>\n",
       "      <td>0</td>\n",
       "      <td>6</td>\n",
       "      <td>0.0</td>\n",
       "    </tr>\n",
       "    <tr>\n",
       "      <th>17</th>\n",
       "      <td>650544</td>\n",
       "      <td>2019-06-26 00:02:50</td>\n",
       "      <td>2019-06-26 00:03:47</td>\n",
       "      <td>Wróblewskiego (Teki)</td>\n",
       "      <td>Wróblewskiego (Teki)</td>\n",
       "      <td>00:00:57</td>\n",
       "      <td>51.104110</td>\n",
       "      <td>17.084711</td>\n",
       "      <td>51.104110</td>\n",
       "      <td>17.084711</td>\n",
       "      <td>True</td>\n",
       "      <td>3</td>\n",
       "      <td>False</td>\n",
       "      <td>3</td>\n",
       "      <td>0</td>\n",
       "      <td>6</td>\n",
       "      <td>0.0</td>\n",
       "    </tr>\n",
       "    <tr>\n",
       "      <th>18</th>\n",
       "      <td>650601</td>\n",
       "      <td>2019-06-26 00:03:04</td>\n",
       "      <td>2019-06-26 00:04:03</td>\n",
       "      <td>Drobnera / Dubois</td>\n",
       "      <td>Drobnera / Dubois</td>\n",
       "      <td>00:00:59</td>\n",
       "      <td>51.117032</td>\n",
       "      <td>17.033499</td>\n",
       "      <td>51.117032</td>\n",
       "      <td>17.033499</td>\n",
       "      <td>True</td>\n",
       "      <td>3</td>\n",
       "      <td>False</td>\n",
       "      <td>3</td>\n",
       "      <td>0</td>\n",
       "      <td>6</td>\n",
       "      <td>0.0</td>\n",
       "    </tr>\n",
       "    <tr>\n",
       "      <th>...</th>\n",
       "      <td>...</td>\n",
       "      <td>...</td>\n",
       "      <td>...</td>\n",
       "      <td>...</td>\n",
       "      <td>...</td>\n",
       "      <td>...</td>\n",
       "      <td>...</td>\n",
       "      <td>...</td>\n",
       "      <td>...</td>\n",
       "      <td>...</td>\n",
       "      <td>...</td>\n",
       "      <td>...</td>\n",
       "      <td>...</td>\n",
       "      <td>...</td>\n",
       "      <td>...</td>\n",
       "      <td>...</td>\n",
       "      <td>...</td>\n",
       "    </tr>\n",
       "    <tr>\n",
       "      <th>480575</th>\n",
       "      <td>57572</td>\n",
       "      <td>2019-11-07 23:08:00</td>\n",
       "      <td>2019-11-07 23:08:00</td>\n",
       "      <td>Krzywoustego - Rynek Psie Pole</td>\n",
       "      <td>Krzywoustego - Rynek Psie Pole</td>\n",
       "      <td>00:00:00</td>\n",
       "      <td>51.147339</td>\n",
       "      <td>17.114520</td>\n",
       "      <td>51.147339</td>\n",
       "      <td>17.114520</td>\n",
       "      <td>True</td>\n",
       "      <td>4</td>\n",
       "      <td>False</td>\n",
       "      <td>4</td>\n",
       "      <td>23</td>\n",
       "      <td>11</td>\n",
       "      <td>0.0</td>\n",
       "    </tr>\n",
       "    <tr>\n",
       "      <th>480580</th>\n",
       "      <td>650853</td>\n",
       "      <td>2019-11-07 23:11:00</td>\n",
       "      <td>2019-11-07 23:11:00</td>\n",
       "      <td>Gliniana / Gajowa</td>\n",
       "      <td>Gliniana / Gajowa</td>\n",
       "      <td>00:00:00</td>\n",
       "      <td>51.091520</td>\n",
       "      <td>17.040330</td>\n",
       "      <td>51.091520</td>\n",
       "      <td>17.040330</td>\n",
       "      <td>True</td>\n",
       "      <td>4</td>\n",
       "      <td>False</td>\n",
       "      <td>4</td>\n",
       "      <td>23</td>\n",
       "      <td>11</td>\n",
       "      <td>0.0</td>\n",
       "    </tr>\n",
       "    <tr>\n",
       "      <th>480616</th>\n",
       "      <td>651020</td>\n",
       "      <td>2019-11-07 23:36:00</td>\n",
       "      <td>2019-11-07 23:36:00</td>\n",
       "      <td>Plac Legionów</td>\n",
       "      <td>Plac Legionów</td>\n",
       "      <td>00:00:00</td>\n",
       "      <td>51.104413</td>\n",
       "      <td>17.022536</td>\n",
       "      <td>51.104413</td>\n",
       "      <td>17.022536</td>\n",
       "      <td>True</td>\n",
       "      <td>4</td>\n",
       "      <td>False</td>\n",
       "      <td>4</td>\n",
       "      <td>23</td>\n",
       "      <td>11</td>\n",
       "      <td>0.0</td>\n",
       "    </tr>\n",
       "    <tr>\n",
       "      <th>480618</th>\n",
       "      <td>650853</td>\n",
       "      <td>2019-11-07 23:37:00</td>\n",
       "      <td>2019-11-07 23:37:00</td>\n",
       "      <td>Gliniana / Gajowa</td>\n",
       "      <td>Gliniana / Gajowa</td>\n",
       "      <td>00:00:00</td>\n",
       "      <td>51.091520</td>\n",
       "      <td>17.040330</td>\n",
       "      <td>51.091520</td>\n",
       "      <td>17.040330</td>\n",
       "      <td>True</td>\n",
       "      <td>4</td>\n",
       "      <td>False</td>\n",
       "      <td>4</td>\n",
       "      <td>23</td>\n",
       "      <td>11</td>\n",
       "      <td>0.0</td>\n",
       "    </tr>\n",
       "    <tr>\n",
       "      <th>480631</th>\n",
       "      <td>57978</td>\n",
       "      <td>2019-11-07 23:44:00</td>\n",
       "      <td>2019-11-07 23:44:00</td>\n",
       "      <td>Powstańców Śląskich (Arkady Wrocławskie)</td>\n",
       "      <td>Powstańców Śląskich (Arkady Wrocławskie)</td>\n",
       "      <td>00:00:00</td>\n",
       "      <td>51.099713</td>\n",
       "      <td>17.027905</td>\n",
       "      <td>51.099713</td>\n",
       "      <td>17.027905</td>\n",
       "      <td>True</td>\n",
       "      <td>4</td>\n",
       "      <td>False</td>\n",
       "      <td>4</td>\n",
       "      <td>23</td>\n",
       "      <td>11</td>\n",
       "      <td>0.0</td>\n",
       "    </tr>\n",
       "  </tbody>\n",
       "</table>\n",
       "<p>15772 rows × 17 columns</p>\n",
       "</div>"
      ],
      "text/plain": [
       "        Bike number     Rental datetime     Return datetime  \\\n",
       "5            650020 2019-06-26 00:00:52 2019-06-26 00:01:41   \n",
       "6            650072 2019-06-26 00:01:04 2019-06-26 00:01:58   \n",
       "9             57856 2019-06-26 00:01:57 2019-06-26 00:02:24   \n",
       "17           650544 2019-06-26 00:02:50 2019-06-26 00:03:47   \n",
       "18           650601 2019-06-26 00:03:04 2019-06-26 00:04:03   \n",
       "...             ...                 ...                 ...   \n",
       "480575        57572 2019-11-07 23:08:00 2019-11-07 23:08:00   \n",
       "480580       650853 2019-11-07 23:11:00 2019-11-07 23:11:00   \n",
       "480616       651020 2019-11-07 23:36:00 2019-11-07 23:36:00   \n",
       "480618       650853 2019-11-07 23:37:00 2019-11-07 23:37:00   \n",
       "480631        57978 2019-11-07 23:44:00 2019-11-07 23:44:00   \n",
       "\n",
       "                                  Rental station  \\\n",
       "5                      Plac Grunwaldzki / Polaka   \n",
       "6                      Plac Grunwaldzki / Polaka   \n",
       "9                 Kamienna / Borowska (Aquapark)   \n",
       "17                          Wróblewskiego (Teki)   \n",
       "18                             Drobnera / Dubois   \n",
       "...                                          ...   \n",
       "480575            Krzywoustego - Rynek Psie Pole   \n",
       "480580                         Gliniana / Gajowa   \n",
       "480616                             Plac Legionów   \n",
       "480618                         Gliniana / Gajowa   \n",
       "480631  Powstańców Śląskich (Arkady Wrocławskie)   \n",
       "\n",
       "                                  Return station Duration  \\\n",
       "5                      Plac Grunwaldzki / Polaka 00:00:49   \n",
       "6                      Plac Grunwaldzki / Polaka 00:00:54   \n",
       "9                 Kamienna / Borowska (Aquapark) 00:00:27   \n",
       "17                          Wróblewskiego (Teki) 00:00:57   \n",
       "18                             Drobnera / Dubois 00:00:59   \n",
       "...                                          ...      ...   \n",
       "480575            Krzywoustego - Rynek Psie Pole 00:00:00   \n",
       "480580                         Gliniana / Gajowa 00:00:00   \n",
       "480616                             Plac Legionów 00:00:00   \n",
       "480618                         Gliniana / Gajowa 00:00:00   \n",
       "480631  Powstańców Śląskich (Arkady Wrocławskie) 00:00:00   \n",
       "\n",
       "        Rental station latitude  Rental station longitude  \\\n",
       "5                     51.110415                 17.055591   \n",
       "6                     51.110415                 17.055591   \n",
       "9                     51.088908                 17.034051   \n",
       "17                    51.104110                 17.084711   \n",
       "18                    51.117032                 17.033499   \n",
       "...                         ...                       ...   \n",
       "480575                51.147339                 17.114520   \n",
       "480580                51.091520                 17.040330   \n",
       "480616                51.104413                 17.022536   \n",
       "480618                51.091520                 17.040330   \n",
       "480631                51.099713                 17.027905   \n",
       "\n",
       "        Return station latitude  Return station longitude  IsDeleted  Season  \\\n",
       "5                     51.110415                 17.055591       True       3   \n",
       "6                     51.110415                 17.055591       True       3   \n",
       "9                     51.088908                 17.034051       True       3   \n",
       "17                    51.104110                 17.084711       True       3   \n",
       "18                    51.117032                 17.033499       True       3   \n",
       "...                         ...                       ...        ...     ...   \n",
       "480575                51.147339                 17.114520       True       4   \n",
       "480580                51.091520                 17.040330       True       4   \n",
       "480616                51.104413                 17.022536       True       4   \n",
       "480618                51.091520                 17.040330       True       4   \n",
       "480631                51.099713                 17.027905       True       4   \n",
       "\n",
       "        Holidays  Rental day of week  Rental hour  Rental month  Distance  \n",
       "5          False                   3            0             6       0.0  \n",
       "6          False                   3            0             6       0.0  \n",
       "9          False                   3            0             6       0.0  \n",
       "17         False                   3            0             6       0.0  \n",
       "18         False                   3            0             6       0.0  \n",
       "...          ...                 ...          ...           ...       ...  \n",
       "480575     False                   4           23            11       0.0  \n",
       "480580     False                   4           23            11       0.0  \n",
       "480616     False                   4           23            11       0.0  \n",
       "480618     False                   4           23            11       0.0  \n",
       "480631     False                   4           23            11       0.0  \n",
       "\n",
       "[15772 rows x 17 columns]"
      ]
     },
     "execution_count": 18,
     "metadata": {},
     "output_type": "execute_result"
    }
   ],
   "source": [
    "bike_rentals_soft_df.loc[ (bike_rentals_soft_df['Rental station'] == bike_rentals_soft_df['Return station'])\n",
    "                    & (bike_rentals_soft_df['Duration'] < '00:01:00')]"
   ]
  },
  {
   "cell_type": "markdown",
   "metadata": {},
   "source": [
    "### Duration"
   ]
  },
  {
   "cell_type": "code",
   "execution_count": 19,
   "metadata": {
    "ExecuteTime": {
     "end_time": "2019-11-21T05:58:04.039587Z",
     "start_time": "2019-11-21T05:58:04.025466Z"
    }
   },
   "outputs": [
    {
     "name": "stdout",
     "output_type": "stream",
     "text": [
      "Min: 0.0, Max: 56135.0\n",
      "Avg: 520.3914767587395, Std: 1395.363195091565\n"
     ]
    }
   ],
   "source": [
    "total_seconds = bike_rentals_soft_df.loc[idx, 'Duration'].dt.total_seconds();\n",
    "\n",
    "print(f\"Min: {total_seconds.min()}, Max: {total_seconds.max()}\")\n",
    "print(f\"Avg: {total_seconds.mean()}, Std: {total_seconds.std()}\")"
   ]
  },
  {
   "cell_type": "code",
   "execution_count": 20,
   "metadata": {
    "ExecuteTime": {
     "end_time": "2019-11-21T05:58:04.639241Z",
     "start_time": "2019-11-21T05:58:04.041637Z"
    }
   },
   "outputs": [
    {
     "data": {
      "image/png": "[encoded data removed]",
      "text/plain": [
       "<Figure size 864x288 with 1 Axes>"
      ]
     },
     "metadata": {
      "image/png": {
       "height": 248,
       "width": 723
      },
      "needs_background": "light"
     },
     "output_type": "display_data"
    }
   ],
   "source": [
    "total_seconds.hist(bins=50, figsize=(12, 4));"
   ]
  },
  {
   "cell_type": "markdown",
   "metadata": {},
   "source": [
    "### Geographical dispersion"
   ]
  },
  {
   "cell_type": "code",
   "execution_count": 21,
   "metadata": {
    "ExecuteTime": {
     "end_time": "2019-11-21T05:58:05.926483Z",
     "start_time": "2019-11-21T05:58:04.641360Z"
    }
   },
   "outputs": [
    {
     "data": {
      "image/png": "[encoded data removed]",
      "text/plain": [
       "<Figure size 432x288 with 1 Axes>"
      ]
     },
     "metadata": {
      "image/png": {
       "height": 277,
       "width": 426
      },
      "needs_background": "light"
     },
     "output_type": "display_data"
    }
   ],
   "source": [
    "plt.scatter(x=bike_rentals_soft_df.loc[idx, 'Rental station longitude'].values, \n",
    "            y=bike_rentals_soft_df.loc[idx, 'Rental station latitude'].values, \n",
    "            alpha=0.01)\n",
    "plt.title('Bike stations from which bicycles were rented and then returned')\n",
    "plt.xlabel('Longitude')\n",
    "plt.ylabel('Latitude')\n",
    "plt.show();"
   ]
  },
  {
   "cell_type": "markdown",
   "metadata": {},
   "source": [
    "## Visual inspection of hard deleted records"
   ]
  },
  {
   "cell_type": "markdown",
   "metadata": {},
   "source": [
    "### Rental bike stations"
   ]
  },
  {
   "cell_type": "code",
   "execution_count": 22,
   "metadata": {
    "ExecuteTime": {
     "end_time": "2019-11-21T05:58:05.974262Z",
     "start_time": "2019-11-21T05:58:05.928809Z"
    }
   },
   "outputs": [
    {
     "data": {
      "text/plain": [
       "Rondo Reagana                               7406\n",
       "Dworzec Główny, południe                    7236\n",
       "Plac Dominikański (Galeria Dominikańska)    7142\n",
       "Dworzec Główny                              6630\n",
       "Rynek                                       6200\n",
       "                                            ... \n",
       "Waniliowa / Cynamonowa                       161\n",
       "Strachocińska / Wieśniacza                   137\n",
       "Miłoszycka / Swojczycka                      123\n",
       "Księgarska / Dekarska / Zduńska               76\n",
       "Jerzmanowska                                  52\n",
       "Name: Rental station, Length: 202, dtype: int64"
      ]
     },
     "execution_count": 22,
     "metadata": {},
     "output_type": "execute_result"
    }
   ],
   "source": [
    "bike_rentals_hard_df['Rental station'].value_counts()"
   ]
  },
  {
   "cell_type": "code",
   "execution_count": 23,
   "metadata": {
    "ExecuteTime": {
     "end_time": "2019-11-21T05:58:06.008223Z",
     "start_time": "2019-11-21T05:58:05.977253Z"
    }
   },
   "outputs": [
    {
     "data": {
      "text/plain": [
       "array(['Skarbowców / Wietrzna', 'Rynek', 'Plac Uniwersytecki (UWr)',\n",
       "       'Nowowiejska / Wyszyńskiego', 'al. Armii Krajowej / Bardzka',\n",
       "       'Drobnera / Plac Bema', 'Drobnera / Dubois',\n",
       "       'Plac Dominikański (Galeria Dominikańska)', 'Wróblewskiego (Teki)',\n",
       "       'Legnicka / Wejherowska', 'Kamienna / Borowska (Aquapark)',\n",
       "       'Zaporoska / Grabiszyńska', 'Kamienna / Tomaszowska',\n",
       "       'Plac Grunwaldzki / Polaka', 'Ślężna / Aleja Wiśniowa',\n",
       "       'Plac Legionów', 'Krzycka / Aleja Karkonoska (Park Południowy)',\n",
       "       'Plac Strzegomski / Poznańska',\n",
       "       'Plac Jana Pawła II (Akademia Muzyczna)',\n",
       "       'Sienkiewicza / Piastowska', 'Nowowiejska / Górnickiego',\n",
       "       'Zwycięska / Ołtaszyńska', 'al. Armii Krajowej / Borowska',\n",
       "       'Pereca / Grabiszyńska', 'Legnicka / Zachodnia',\n",
       "       'Olszewskiego, pętla tramwajowa', 'Na Ostatnim Groszu',\n",
       "       'Zachodnia / Poznańska', 'Wałbrzyska - pętla tramwajowa',\n",
       "       'Jedności Narodowej / Wyszyńskiego', 'Żmigrodzka / Broniewskiego',\n",
       "       'Hubska / Prudnicka', 'Wróblewskiego (ZOO)',\n",
       "       'Plac Kościuszki (Renoma)', 'Traugutta / Pułaskiego',\n",
       "       'pl. Powstańców Wielkopolskich', 'Rondo Reagana',\n",
       "       'Szewska / Kazimierza Wielkiego', 'Bezpieczna / Obornicka',\n",
       "       'Krzywoustego / Korona', 'Powstańcow Śląskich / Aleja Hallera',\n",
       "       'Joliot-Curie (Uwr)', 'Poniatowskiego / Oleśnicka',\n",
       "       'Plac Powstańców Śląskich', 'Strzegomska / Estońska',\n",
       "       'Lotnicza / Na Ostatnim Groszu', 'Aleja Hallera / Mielecka',\n",
       "       'Ślężna / Kamienna (Uniw. Ekonomiczny)', 'Kościuszki / Pułaskiego',\n",
       "       'Pilczycka / Kozanowska', 'Żeromskiego / Kluczborska',\n",
       "       'Krucza / Mielecka / Stalowa', 'Grota-Roweckiego / Parafialna',\n",
       "       'Sienkiewicza / Wyszyńskiego', 'Dworzec Główny, południe',\n",
       "       'Kościuszki / Komuny Paryskiej / Zgodna', 'Lotnicza / Bajana',\n",
       "       'Rogowska / Zemska', 'Paprotna / Obornicka, zajezdnia MPK',\n",
       "       'Powstańców Śląskich (Arkady Wrocławskie)',\n",
       "       'Tarnogajska / Klimasa', 'Kołłątaja / Podwale',\n",
       "       'Mickiewicza / pętla tramwajowa', 'Szczęśliwa (Sky Tower)',\n",
       "       'Mościckiego / Chińska',\n",
       "       'Grabiszyńska / Magazynierska (Corte Verona)', 'Dworzec Główny',\n",
       "       'Grabiszyńska / Stalowa', 'Kazimierza Wielkiego (Helios)',\n",
       "       'Robotnicza / Fabryczna', 'Wyszyńskiego / Szczytnicka',\n",
       "       'Stacyjna (Dworzec Mikołajów)', 'Wita Stwosza / Szewska',\n",
       "       'Świeradowska / Krynicka', 'Kraszewskiego / Trzebnicka',\n",
       "       'Grabiszyńska / Aleja Hallera', 'Legnicka / Młodych Techników',\n",
       "       'Plac Grunwaldzki (DS Ołówek)', 'Gliniana / Gajowa',\n",
       "       'Łukasiewicza / Smoluchowskiego (PWr)',\n",
       "       'al. Armii Krajowej / Tarnogajska', 'Kasprowicza / Syrokomli',\n",
       "       'Pilczycka (Stadion Miejski)', 'Nowowiejska / Jedności Narodowej',\n",
       "       'Nyska / Piękna', 'Plac Świętego Macieja / Trzebnicka',\n",
       "       'Promenady Wrocławskie', 'Lotnicza / Metalowców',\n",
       "       'Racławicka / Rymarska', 'Jagiełły / Dmowskiego',\n",
       "       'Mościckiego (stacja kolejowa)', 'Karwińska / Opolska',\n",
       "       'Przyjaźni / Karkonoska', 'Strzegomska / Rogowska',\n",
       "       'al. Kochanowskiego / Kopernika', 'Kiełczowska',\n",
       "       'pl. Orląt Lwowskich', 'Na Grobli (PWr - Geocentrum)',\n",
       "       'Fabryczna / Wagonowa', 'Dyrekcyjna / Borowska (Wroclavia)',\n",
       "       'Zaporoska / Gajowicka',\n",
       "       'Świdnicka / Piłsudskiego (Hotel Scandic)', 'Okulickiego',\n",
       "       'Fosa Miejska', 'Komandorska / Kamienna', 'Aleja Kromera',\n",
       "       'Krzywoustego - Rynek Psie Pole',\n",
       "       'Radeckiego / Marcinkowskiego (Uniw. Medyczny - CNIM)',\n",
       "       'Janiszewskiego (PWr)', 'Traugutta / Kościuszki',\n",
       "       'Wojanowska / Arbuzowa', 'Żeromskiego / Daszyńskiego',\n",
       "       'Trymanda / Mińska', 'Pilczycka / Koszykarska',\n",
       "       'Plac Powstańców Warszawy (Muzeum Narodowe)',\n",
       "       'Legnicka (Park Magnolia)', 'Norwida / Wyspiańskiego (PWr)',\n",
       "       'Sołtysowicka / Redycka', 'Komandorska / Sanocka',\n",
       "       'Śrubowa / Strzegomska', 'al. Karkonoska / Jeździecka',\n",
       "       'Prochowicka / Dolnobrzeska', 'Tyrmanda / Trawowa',\n",
       "       'Kurkowa / Dubois', 'al. Kochanowskiego / Śniadeckich',\n",
       "       'Kamieńskiego / Jutrosińska', 'Bystrzycka / Idzikowskiego',\n",
       "       'al. Jana III Sobieskiego / stacja kolejowa', 'Nyska / Jesionowa',\n",
       "       'Gorlicka / Litewska', 'Zatorska / Królewska - pętla MPK',\n",
       "       'Piaskowa / św. Ducha', 'Osobowicka - pętla tramwajowa',\n",
       "       'Żmigrodzka / Marino', 'Plac Staszica', 'Obornicka / Bałtycka',\n",
       "       'Grochowa / Jemiołowa,', 'Żelazna / Pereca',\n",
       "       'Popowicka / Niedźwiedzia', 'Czekoladowa / Wałbrzyska',\n",
       "       'Ślężna / Skierniewicka', 'Drzewieckiego / Dedala', 'Przyjaźni',\n",
       "       'Borowska (Uniw. Szpital Kliniczny)', 'Berenta / Kasprowicza',\n",
       "       'Ślężna / pętla tramwajowa', 'Młodych Techników', 'Wilanowska',\n",
       "       'Kozanowska / Pilczycka', 'Opolska / Siemianowicka',\n",
       "       'Bacciarellego / pętla autobusowa', 'Bardzka / Piękna',\n",
       "       'Hermanowska / Kołobrzeska', 'Poleska / Litewska',\n",
       "       'Mińska / stanisławowska', 'Zwycięska / Agrestowa',\n",
       "       'Boguszowska / Kosmonautów', 'Buforowa - Vivaldiego',\n",
       "       'Maślicka / Stodolna', 'al. Poprzeczna / stacja kolejowa',\n",
       "       'Kosmonautów / Fieldorfa, szpital wojewódzki',\n",
       "       'Stabłowicka / Główna', 'Traktatowa (przystanek kolejowy)',\n",
       "       'Solskiego / al. Piastów', 'Żernicka', 'Hallera / Odkrywców',\n",
       "       'Reymonta / Kleczkowska', 'Semaforowa', 'Bacciarellego',\n",
       "       'Jagodzińska / Buforowa', 'Krakowska / Leroy Merlin',\n",
       "       'Strachowskiego / Parafialna', 'Konduktorska',\n",
       "       'Olszewskiego / Spółdzielcza', 'Klecińska / Duńska',\n",
       "       'Jerzmanowska', 'Mrągowska / Rolna', 'Średzka / Dolnobrzeska',\n",
       "       'Popowicka', 'Kosmonautów / Glinianki / WUWA2',\n",
       "       'Partyzantów / Okrzei', 'Graniczna / Strzegomska',\n",
       "       'Zaporoska / Wielka / Krucza', 'Bałtycka / Żmigrodzka',\n",
       "       'Osobowicka / Ostrowska', 'Marca Polo (Olimpia Port)',\n",
       "       'al. Brücknera / Kwidzyńska', 'Wrocław Stadion, stacja kolejowa',\n",
       "       'Leśnica - pętla tramwajowa', 'Oporów (pętla tramwajowa)',\n",
       "       'Miłoszycka / Swojczycka', 'Opolska / pętla tramwajowa',\n",
       "       'Koszarowa / UWr', 'Aleja Bielany',\n",
       "       'Centrum Handlowe Auchan Bielany', 'Strachocińska / Wieśniacza',\n",
       "       'Waniliowa / Cynamonowa', 'Wrocław Leśnica, stacja kolejowa',\n",
       "       'Księgarska / Dekarska / Zduńska', 'Stabłowicka',\n",
       "       'Poza oficjalną stacją', 'Stadion Olimpijski'], dtype=object)"
      ]
     },
     "execution_count": 23,
     "metadata": {},
     "output_type": "execute_result"
    }
   ],
   "source": [
    "bike_rentals_hard_df['Rental station'].unique()"
   ]
  },
  {
   "cell_type": "markdown",
   "metadata": {},
   "source": [
    "### Return bike stations"
   ]
  },
  {
   "cell_type": "code",
   "execution_count": 25,
   "metadata": {
    "ExecuteTime": {
     "end_time": "2019-11-21T05:59:36.471939Z",
     "start_time": "2019-11-21T05:59:36.427865Z"
    }
   },
   "outputs": [
    {
     "data": {
      "text/plain": [
       "Plac Dominikański (Galeria Dominikańska)    7101\n",
       "Dworzec Główny, południe                    7027\n",
       "Rondo Reagana                               7011\n",
       "Dworzec Główny                              6634\n",
       "Rynek                                       6187\n",
       "                                            ... \n",
       "Waniliowa / Cynamonowa                       165\n",
       "Stabłowicka                                  140\n",
       "Miłoszycka / Swojczycka                      125\n",
       "Księgarska / Dekarska / Zduńska               87\n",
       "Jerzmanowska                                  46\n",
       "Name: Return station, Length: 202, dtype: int64"
      ]
     },
     "execution_count": 25,
     "metadata": {},
     "output_type": "execute_result"
    }
   ],
   "source": [
    "bike_rentals_hard_df['Return station'].value_counts()"
   ]
  },
  {
   "cell_type": "code",
   "execution_count": 26,
   "metadata": {
    "ExecuteTime": {
     "end_time": "2019-11-21T06:00:01.353467Z",
     "start_time": "2019-11-21T06:00:01.323169Z"
    }
   },
   "outputs": [
    {
     "data": {
      "text/plain": [
       "array(['Krzycka / Aleja Karkonoska (Park Południowy)', 'Plac Legionów',\n",
       "       'Legnicka / Wejherowska', 'Kołłątaja / Podwale', 'Konduktorska',\n",
       "       'Pereca / Grabiszyńska', 'Kościuszki / Pułaskiego',\n",
       "       'Plac Kościuszki (Renoma)', 'Olszewskiego, pętla tramwajowa',\n",
       "       'Legnicka / Zachodnia', 'Nowowiejska / Górnickiego',\n",
       "       'al. Armii Krajowej / Borowska', 'Komandorska / Kamienna',\n",
       "       'Kościuszki / Komuny Paryskiej / Zgodna',\n",
       "       'Nowowiejska / Wyszyńskiego', 'Czekoladowa / Wałbrzyska',\n",
       "       'Lotnicza / Bajana', 'Nowowiejska / Jedności Narodowej',\n",
       "       'Powstańcow Śląskich / Aleja Hallera', 'Rondo Reagana',\n",
       "       'Ślężna / Kamienna (Uniw. Ekonomiczny)', 'Tarnogajska / Klimasa',\n",
       "       'Komandorska / Sanocka', 'Gliniana / Gajowa',\n",
       "       'Plac Powstańców Śląskich', 'Popowicka / Niedźwiedzia',\n",
       "       'Plac Świętego Macieja / Trzebnicka', 'Sienkiewicza / Piastowska',\n",
       "       'Marca Polo (Olimpia Port)', 'Lotnicza / Metalowców',\n",
       "       'Obornicka / Bałtycka', 'Ślężna / Aleja Wiśniowa',\n",
       "       'Krucza / Mielecka / Stalowa', 'Bezpieczna / Obornicka',\n",
       "       'Plac Dominikański (Galeria Dominikańska)',\n",
       "       'Zaporoska / Grabiszyńska', 'Wróblewskiego (Teki)',\n",
       "       'Pilczycka / Kozanowska', 'Żmigrodzka / Broniewskiego',\n",
       "       'Kazimierza Wielkiego (Helios)',\n",
       "       'Borowska (Uniw. Szpital Kliniczny)', 'Hubska / Prudnicka',\n",
       "       'Kraszewskiego / Trzebnicka', 'Przyjaźni / Karkonoska',\n",
       "       'Poniatowskiego / Oleśnicka', 'Wałbrzyska - pętla tramwajowa',\n",
       "       'al. Armii Krajowej / Bardzka', 'Plac Strzegomski / Poznańska',\n",
       "       'Dworzec Główny', 'Szczęśliwa (Sky Tower)',\n",
       "       'Grabiszyńska / Magazynierska (Corte Verona)',\n",
       "       'Grabiszyńska / Stalowa', 'Traugutta / Pułaskiego',\n",
       "       'Lotnicza / Na Ostatnim Groszu', 'Zwycięska / Agrestowa',\n",
       "       'Radeckiego / Marcinkowskiego (Uniw. Medyczny - CNIM)',\n",
       "       'Dworzec Główny, południe', 'Rogowska / Zemska',\n",
       "       'Plac Uniwersytecki (UWr)', 'Hermanowska / Kołobrzeska',\n",
       "       'Grabiszyńska / Aleja Hallera', 'Boguszowska / Kosmonautów',\n",
       "       'Promenady Wrocławskie', 'Kozanowska / Pilczycka',\n",
       "       'Śrubowa / Strzegomska', 'Ślężna / Skierniewicka',\n",
       "       'Sienkiewicza / Wyszyńskiego', 'Nyska / Jesionowa',\n",
       "       'Żeromskiego / Daszyńskiego', 'Plac Grunwaldzki (DS Ołówek)',\n",
       "       'Drobnera / Dubois', 'Partyzantów / Okrzei', 'Karwińska / Opolska',\n",
       "       'Żelazna / Pereca', 'Legnicka / Młodych Techników',\n",
       "       'Ślężna / pętla tramwajowa', 'Jedności Narodowej / Wyszyńskiego',\n",
       "       'Strzegomska / Rogowska', 'Maślicka / Stodolna',\n",
       "       'Krzywoustego - Rynek Psie Pole', 'Kamienna / Borowska (Aquapark)',\n",
       "       'Świeradowska / Krynicka', 'Zaporoska / Wielka / Krucza',\n",
       "       'Zaporoska / Gajowicka',\n",
       "       'Powstańców Śląskich (Arkady Wrocławskie)',\n",
       "       'Strachocińska / Wieśniacza',\n",
       "       'Plac Jana Pawła II (Akademia Muzyczna)',\n",
       "       'Na Grobli (PWr - Geocentrum)', 'Fabryczna / Wagonowa',\n",
       "       'Mościckiego (stacja kolejowa)', 'Mickiewicza / pętla tramwajowa',\n",
       "       'Opolska / pętla tramwajowa', 'Wita Stwosza / Szewska',\n",
       "       'al. Kochanowskiego / Kopernika', 'Kamienna / Tomaszowska',\n",
       "       'Żeromskiego / Kluczborska', 'pl. Powstańców Wielkopolskich',\n",
       "       'al. Brücknera / Kwidzyńska', 'Fosa Miejska', 'Okulickiego',\n",
       "       'Świdnicka / Piłsudskiego (Hotel Scandic)',\n",
       "       'Dyrekcyjna / Borowska (Wroclavia)', 'Legnicka (Park Magnolia)',\n",
       "       'Skarbowców / Wietrzna', 'Racławicka / Rymarska', 'Kiełczowska',\n",
       "       'Bardzka / Piękna', 'Łukasiewicza / Smoluchowskiego (PWr)',\n",
       "       'Plac Grunwaldzki / Polaka', 'Sołtysowicka / Redycka',\n",
       "       'Nyska / Piękna', 'Norwida / Wyspiańskiego (PWr)',\n",
       "       'Olszewskiego / Spółdzielcza',\n",
       "       'Paprotna / Obornicka, zajezdnia MPK', 'Reymonta / Kleczkowska',\n",
       "       'Graniczna / Strzegomska',\n",
       "       'Plac Powstańców Warszawy (Muzeum Narodowe)',\n",
       "       'Robotnicza / Fabryczna', 'Jagodzińska / Buforowa',\n",
       "       'Zwycięska / Ołtaszyńska', 'Leśnica - pętla tramwajowa',\n",
       "       'Krakowska / Leroy Merlin', 'Szewska / Kazimierza Wielkiego',\n",
       "       'Drobnera / Plac Bema', 'Jagiełły / Dmowskiego',\n",
       "       'Krzywoustego / Korona', 'Solskiego / al. Piastów',\n",
       "       'Zachodnia / Poznańska', 'Traugutta / Kościuszki',\n",
       "       'Pilczycka (Stadion Miejski)', 'Piaskowa / św. Ducha',\n",
       "       'Wilanowska', 'Stacyjna (Dworzec Mikołajów)',\n",
       "       'Osobowicka - pętla tramwajowa',\n",
       "       'Kosmonautów / Fieldorfa, szpital wojewódzki',\n",
       "       'al. Karkonoska / Jeździecka', 'Wrocław Leśnica, stacja kolejowa',\n",
       "       'Na Ostatnim Groszu', 'Aleja Hallera / Mielecka',\n",
       "       'Żmigrodzka / Marino', 'al. Armii Krajowej / Tarnogajska',\n",
       "       'al. Jana III Sobieskiego / stacja kolejowa',\n",
       "       'Wyszyńskiego / Szczytnicka', 'Aleja Bielany',\n",
       "       'Joliot-Curie (Uwr)', 'Traktatowa (przystanek kolejowy)',\n",
       "       'Stabłowicka', 'Młodych Techników', 'Opolska / Siemianowicka',\n",
       "       'Popowicka', 'Bystrzycka / Idzikowskiego', 'Aleja Kromera',\n",
       "       'Jerzmanowska', 'Koszarowa / UWr',\n",
       "       'Wrocław Stadion, stacja kolejowa', 'Berenta / Kasprowicza',\n",
       "       'Wojanowska / Arbuzowa', 'Mińska / stanisławowska', 'Rynek',\n",
       "       'Buforowa - Vivaldiego', 'Strzegomska / Estońska',\n",
       "       'al. Poprzeczna / stacja kolejowa', 'Janiszewskiego (PWr)',\n",
       "       'Plac Staszica', 'pl. Orląt Lwowskich', 'Wróblewskiego (ZOO)',\n",
       "       'Poleska / Litewska', 'Gorlicka / Litewska', 'Klecińska / Duńska',\n",
       "       'Trymanda / Mińska', 'Centrum Handlowe Auchan Bielany',\n",
       "       'Kurkowa / Dubois', 'Kosmonautów / Glinianki / WUWA2',\n",
       "       'Bałtycka / Żmigrodzka', 'Mrągowska / Rolna',\n",
       "       'Strachowskiego / Parafialna', 'Kamieńskiego / Jutrosińska',\n",
       "       'Żernicka', 'Tyrmanda / Trawowa', 'Grochowa / Jemiołowa,',\n",
       "       'Hallera / Odkrywców', 'Średzka / Dolnobrzeska',\n",
       "       'Waniliowa / Cynamonowa', 'Bacciarellego',\n",
       "       'Prochowicka / Dolnobrzeska', 'Miłoszycka / Swojczycka',\n",
       "       'Kasprowicza / Syrokomli', 'Pilczycka / Koszykarska',\n",
       "       'al. Kochanowskiego / Śniadeckich', 'Przyjaźni',\n",
       "       'Drzewieckiego / Dedala', 'Oporów (pętla tramwajowa)',\n",
       "       'Bacciarellego / pętla autobusowa',\n",
       "       'Grota-Roweckiego / Parafialna',\n",
       "       'Zatorska / Królewska - pętla MPK', 'Stabłowicka / Główna',\n",
       "       'Osobowicka / Ostrowska', 'Mościckiego / Chińska',\n",
       "       'Księgarska / Dekarska / Zduńska', 'Semaforowa',\n",
       "       'Stadion Olimpijski', 'Poza oficjalną stacją'], dtype=object)"
      ]
     },
     "execution_count": 26,
     "metadata": {},
     "output_type": "execute_result"
    }
   ],
   "source": [
    "bike_rentals_hard_df['Return station'].unique()"
   ]
  }
 ],
 "metadata": {
  "file_extension": ".py",
  "kernelspec": {
   "display_name": "Python 3",
   "language": "python",
   "name": "python3"
  },
  "language_info": {
   "codemirror_mode": {
    "name": "ipython",
    "version": 3
   },
   "file_extension": ".py",
   "mimetype": "text/x-python",
   "name": "python",
   "nbconvert_exporter": "python",
   "pygments_lexer": "ipython3",
   "version": "3.6.9"
  },
  "mimetype": "text/x-python",
  "name": "python",
  "npconvert_exporter": "python",
  "pygments_lexer": "ipython3",
  "toc": {
   "base_numbering": 1,
   "nav_menu": {},
   "number_sections": true,
   "sideBar": true,
   "skip_h1_title": false,
   "title_cell": "Table of Contents",
   "title_sidebar": "Contents",
   "toc_cell": false,
   "toc_position": {
    "height": "calc(100% - 180px)",
    "left": "10px",
    "top": "150px",
    "width": "282.594px"
   },
   "toc_section_display": true,
   "toc_window_display": true
  },
  "version": 3
 },
 "nbformat": 4,
 "nbformat_minor": 2
}

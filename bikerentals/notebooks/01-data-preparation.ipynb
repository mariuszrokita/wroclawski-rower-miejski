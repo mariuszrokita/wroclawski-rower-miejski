{
 "cells": [
  {
   "cell_type": "markdown",
   "metadata": {},
   "source": [
    "# Data preparation"
   ]
  },
  {
   "cell_type": "markdown",
   "metadata": {},
   "source": [
    "The purpose of this notebook is to download data (already imported and persisted in the Azure Blob Storage) and prepare it. As a result we will get a dataset ready for further analyses and modeling.\n",
    "\n",
    "The data preparation steps are:\n",
    "* [Environment configuration](#Environment-configuration)\n",
    "* [Unit tests execution](#Unit-tests-execution)\n",
    "* [Data ingestion, cleaning and featurization pipeline](#Data-ingestion,-cleaning-and-featurization-pipeline)\n",
    "* [Quick verification of pipeline outputs](#Post-execution-verification)"
   ]
  },
  {
   "cell_type": "markdown",
   "metadata": {},
   "source": [
    "## Environment configuration"
   ]
  },
  {
   "cell_type": "code",
   "execution_count": 1,
   "metadata": {
    "ExecuteTime": {
     "end_time": "2019-11-10T08:43:16.291699Z",
     "start_time": "2019-11-10T08:43:15.823380Z"
    }
   },
   "outputs": [],
   "source": [
    "import os\n",
    "import pandas as pd"
   ]
  },
  {
   "cell_type": "markdown",
   "metadata": {},
   "source": [
    "## Unit tests execution"
   ]
  },
  {
   "cell_type": "markdown",
   "metadata": {},
   "source": [
    "This step is to make sure the python code (responsible for data ingestion, cleaning and featurization pipeline) is in the stable state."
   ]
  },
  {
   "cell_type": "code",
   "execution_count": 2,
   "metadata": {
    "ExecuteTime": {
     "end_time": "2019-11-10T08:43:16.299003Z",
     "start_time": "2019-11-10T08:43:16.294287Z"
    }
   },
   "outputs": [
    {
     "name": "stdout",
     "output_type": "stream",
     "text": [
      "/Users/mariuszrokita/GitHub/wroclawski-rower-miejski/bikerentals\n"
     ]
    }
   ],
   "source": [
    "# Let the 'bikerentals' folder be a current directory\n",
    "%cd .."
   ]
  },
  {
   "cell_type": "code",
   "execution_count": 3,
   "metadata": {
    "ExecuteTime": {
     "end_time": "2019-11-10T08:43:18.306325Z",
     "start_time": "2019-11-10T08:43:16.301170Z"
    }
   },
   "outputs": [
    {
     "name": "stdout",
     "output_type": "stream",
     "text": [
      "\u001b[1m============================= test session starts ==============================\u001b[0m\n",
      "platform darwin -- Python 3.6.8, pytest-5.2.2, py-1.8.0, pluggy-0.13.0\n",
      "rootdir: /Users/mariuszrokita/GitHub/wroclawski-rower-miejski, inifile: tox.ini\n",
      "collected 24 items                                                             \u001b[0m\u001b[1m\n",
      "\n",
      "src/tests/cleaning/test_extract_gps_from_station_name.py \u001b[32m.\u001b[0m\u001b[32m.\u001b[0m\u001b[36m              [  8%]\u001b[0m\n",
      "src/tests/cleaning/test_pipeline.py \u001b[32m.\u001b[0m\u001b[32m.\u001b[0m\u001b[32m.\u001b[0m\u001b[32m.\u001b[0m\u001b[36m                                 [ 25%]\u001b[0m\n",
      "src/tests/cleaning/test_remove_missing_gps.py \u001b[32m.\u001b[0m\u001b[32m.\u001b[0m\u001b[36m                         [ 33%]\u001b[0m\n",
      "src/tests/cleaning/test_remove_same_location.py \u001b[32m.\u001b[0m\u001b[32m.\u001b[0m\u001b[32m.\u001b[0m\u001b[36m                      [ 45%]\u001b[0m\n",
      "src/tests/features/test_day_of_week.py \u001b[32m.\u001b[0m\u001b[32m.\u001b[0m\u001b[36m                                [ 54%]\u001b[0m\n",
      "src/tests/features/test_distance.py \u001b[32m.\u001b[0m\u001b[32m.\u001b[0m\u001b[36m                                   [ 62%]\u001b[0m\n",
      "src/tests/features/test_holidays.py \u001b[32m.\u001b[0m\u001b[32m.\u001b[0m\u001b[32m.\u001b[0m\u001b[36m                                  [ 75%]\u001b[0m\n",
      "src/tests/features/test_hour.py \u001b[32m.\u001b[0m\u001b[32m.\u001b[0m\u001b[36m                                       [ 83%]\u001b[0m\n",
      "src/tests/features/test_month.py \u001b[32m.\u001b[0m\u001b[32m.\u001b[0m\u001b[36m                                      [ 91%]\u001b[0m\n",
      "src/tests/features/test_season.py \u001b[32m.\u001b[0m\u001b[32m.\u001b[0m\u001b[36m                                     [100%]\u001b[0m\n",
      "\n",
      "\u001b[32m\u001b[1m============================== 24 passed in 1.34s ==============================\u001b[0m\n"
     ]
    }
   ],
   "source": [
    "# execute tests to make sure everything is working as expected\n",
    "!python -m pytest"
   ]
  },
  {
   "cell_type": "markdown",
   "metadata": {},
   "source": [
    "## Data preparation pipeline"
   ]
  },
  {
   "cell_type": "markdown",
   "metadata": {},
   "source": [
    "This step has been implemented as a full pipeline and consists of following steps:\n",
    "* data ingestion (downloading already imported data from Azure Blob Storage to local destination),\n",
    "* cleaning and soft/hard removing records\n",
    "* creating new features\n",
    "* saving dataset in the `data/processed` location\n",
    "\n",
    "In fact, we'll execute the pipeline twice. This way we'll get two output datasets: one with soft deleted records, other one - with hard removed records."
   ]
  },
  {
   "cell_type": "code",
   "execution_count": 4,
   "metadata": {
    "ExecuteTime": {
     "end_time": "2019-11-10T08:43:18.317344Z",
     "start_time": "2019-11-10T08:43:18.309492Z"
    }
   },
   "outputs": [
    {
     "name": "stdout",
     "output_type": "stream",
     "text": [
      "/Users/mariuszrokita/GitHub/wroclawski-rower-miejski/bikerentals/src\n"
     ]
    }
   ],
   "source": [
    "# Go to source folder\n",
    "%cd src"
   ]
  },
  {
   "cell_type": "code",
   "execution_count": 5,
   "metadata": {
    "ExecuteTime": {
     "end_time": "2019-11-10T08:44:25.246339Z",
     "start_time": "2019-11-10T08:43:18.321701Z"
    }
   },
   "outputs": [
    {
     "name": "stderr",
     "output_type": "stream",
     "text": [
      "Script execution started\n",
      "Root folder set to: /Users/mariuszrokita/GitHub/wroclawski-rower-miejski/bikerentals\n",
      "Pipeline execution about to start\n",
      "****** DataIngestion stage ******\n",
      "DataIngestion - output data shape: (480640, 10)\n",
      "****** DataCleaning stage ******\n",
      "DataCleaning - input data shape: (480640, 10)\n",
      "* GpsFromStationNameExtractor *\n",
      "--> input data shape: (480640, 10)\n",
      "--> output data shape: (480640, 10)\n",
      "* GpsFromStationNameExtractor *\n",
      "--> input data shape: (480640, 10)\n",
      "--> output data shape: (480640, 10)\n",
      "* SameLocationRemover *\n",
      "--> input data shape: (480640, 10)\n",
      "--> output data shape: (480640, 11)\n",
      "* MissingGpsLocationRemover *\n",
      "--> input data shape: (480640, 11)\n",
      "--> output data shape: (480640, 11)\n",
      "* RecordsRemover *\n",
      "--> input data shape: (480640, 11)\n",
      "--> output data shape: (480640, 11)\n",
      "DataCleaning - output data shape: (480640, 11)\n",
      "****** DataFeaturization stage ******\n",
      "DataFeaturization - input data shape: (480640, 11)\n",
      "* SeasonFeature *\n",
      "--> input data shape: (480640, 11)\n",
      "--> output data shape: (480640, 12)\n",
      "* HolidaysFeature *\n",
      "--> input data shape: (480640, 12)\n",
      "--> output data shape: (480640, 13)\n",
      "* DayOfWeekFeature *\n",
      "--> input data shape: (480640, 13)\n",
      "--> output data shape: (480640, 14)\n",
      "* HourFeature *\n",
      "--> input data shape: (480640, 14)\n",
      "--> output data shape: (480640, 15)\n",
      "* MonthFeature *\n",
      "--> input data shape: (480640, 15)\n",
      "--> output data shape: (480640, 16)\n",
      "* DistanceFeature *\n",
      "--> input data shape: (480640, 16)\n",
      "--> output data shape: (480640, 17)\n",
      "DataFeaturization - output data shape: (480640, 17)\n",
      "Data saved to: /Users/mariuszrokita/GitHub/wroclawski-rower-miejski/bikerentals/data/processed/bike_rentals_soft.csv\n",
      "Pipeline execution completed\n"
     ]
    },
    {
     "name": "stdout",
     "output_type": "stream",
     "text": [
      "\n",
      "IPython CPU timings (estimated):\n",
      "  User   :      63.76 s.\n",
      "  System :       1.95 s.\n",
      "Wall time:      66.92 s.\n"
     ]
    }
   ],
   "source": [
    "# run data loading and processing pipeline \n",
    "# (with soft deleting so that we can inspect everything)\n",
    "%run -t run_pipeline.py --hard-delete=False --save='bike_rentals_soft'"
   ]
  },
  {
   "cell_type": "code",
   "execution_count": 6,
   "metadata": {
    "ExecuteTime": {
     "end_time": "2019-11-10T08:45:23.588697Z",
     "start_time": "2019-11-10T08:44:25.249129Z"
    }
   },
   "outputs": [
    {
     "name": "stderr",
     "output_type": "stream",
     "text": [
      "Script execution started\n",
      "Root folder set to: /Users/mariuszrokita/GitHub/wroclawski-rower-miejski/bikerentals\n",
      "Pipeline execution about to start\n",
      "****** DataIngestion stage ******\n",
      "DataIngestion - output data shape: (480640, 10)\n",
      "****** DataCleaning stage ******\n",
      "DataCleaning - input data shape: (480640, 10)\n",
      "* GpsFromStationNameExtractor *\n",
      "--> input data shape: (480640, 10)\n",
      "--> output data shape: (480640, 10)\n",
      "* GpsFromStationNameExtractor *\n",
      "--> input data shape: (480640, 10)\n",
      "--> output data shape: (480640, 10)\n",
      "* SameLocationRemover *\n",
      "--> input data shape: (480640, 10)\n",
      "--> output data shape: (480640, 11)\n",
      "* MissingGpsLocationRemover *\n",
      "--> input data shape: (480640, 11)\n",
      "--> output data shape: (480640, 11)\n",
      "* RecordsRemover *\n",
      "--> input data shape: (480640, 11)\n",
      "--> output data shape: (351571, 10)\n",
      "DataCleaning - output data shape: (351571, 10)\n",
      "****** DataFeaturization stage ******\n",
      "DataFeaturization - input data shape: (351571, 10)\n",
      "* SeasonFeature *\n",
      "--> input data shape: (351571, 10)\n",
      "--> output data shape: (351571, 11)\n",
      "* HolidaysFeature *\n",
      "--> input data shape: (351571, 11)\n",
      "--> output data shape: (351571, 12)\n",
      "* DayOfWeekFeature *\n",
      "--> input data shape: (351571, 12)\n",
      "--> output data shape: (351571, 13)\n",
      "* HourFeature *\n",
      "--> input data shape: (351571, 13)\n",
      "--> output data shape: (351571, 14)\n",
      "* MonthFeature *\n",
      "--> input data shape: (351571, 14)\n",
      "--> output data shape: (351571, 15)\n",
      "* DistanceFeature *\n",
      "--> input data shape: (351571, 15)\n",
      "--> output data shape: (351571, 16)\n",
      "DataFeaturization - output data shape: (351571, 16)\n",
      "Data saved to: /Users/mariuszrokita/GitHub/wroclawski-rower-miejski/bikerentals/data/processed/bike_rentals.csv\n",
      "Pipeline execution completed\n"
     ]
    },
    {
     "name": "stdout",
     "output_type": "stream",
     "text": [
      "\n",
      "IPython CPU timings (estimated):\n",
      "  User   :      54.93 s.\n",
      "  System :       1.73 s.\n",
      "Wall time:      58.34 s.\n"
     ]
    }
   ],
   "source": [
    "# run data loading and processing pipeline (with hard deleting)\n",
    "%run -t run_pipeline.py --hard-delete=True --save='bike_rentals'"
   ]
  },
  {
   "cell_type": "markdown",
   "metadata": {},
   "source": [
    "## Post-execution verification"
   ]
  },
  {
   "cell_type": "code",
   "execution_count": 7,
   "metadata": {
    "ExecuteTime": {
     "end_time": "2019-11-10T08:45:23.595175Z",
     "start_time": "2019-11-10T08:45:23.591157Z"
    }
   },
   "outputs": [],
   "source": [
    "# set up paths to created datasets\n",
    "filepath_soft = os.path.join(os.getcwd(), '..', 'data', 'processed', 'bike_rentals_soft.csv')\n",
    "filepath_hard = os.path.join(os.getcwd(), '..', 'data', 'processed', 'bike_rentals.csv')"
   ]
  },
  {
   "cell_type": "code",
   "execution_count": 8,
   "metadata": {
    "ExecuteTime": {
     "end_time": "2019-11-10T08:45:25.293254Z",
     "start_time": "2019-11-10T08:45:23.598037Z"
    }
   },
   "outputs": [],
   "source": [
    "# load data\n",
    "bike_rentals_soft_df = pd.read_csv(filepath_soft)\n",
    "bike_rentals_hard_df = pd.read_csv(filepath_hard)"
   ]
  },
  {
   "cell_type": "code",
   "execution_count": 9,
   "metadata": {
    "ExecuteTime": {
     "end_time": "2019-11-10T08:45:25.300631Z",
     "start_time": "2019-11-10T08:45:25.295362Z"
    }
   },
   "outputs": [
    {
     "name": "stdout",
     "output_type": "stream",
     "text": [
      "Dataset with soft deleted records:  (480640, 17)\n",
      "Dataset with hard deleted records:  (351571, 16)\n"
     ]
    }
   ],
   "source": [
    "print('Dataset with soft deleted records: ', bike_rentals_soft_df.shape)\n",
    "print('Dataset with hard deleted records: ', bike_rentals_hard_df.shape)"
   ]
  }
 ],
 "metadata": {
  "file_extension": ".py",
  "kernelspec": {
   "display_name": "Python 3",
   "language": "python",
   "name": "python3"
  },
  "language_info": {
   "codemirror_mode": {
    "name": "ipython",
    "version": 3
   },
   "file_extension": ".py",
   "mimetype": "text/x-python",
   "name": "python",
   "nbconvert_exporter": "python",
   "pygments_lexer": "ipython3",
   "version": "3.6.8"
  },
  "mimetype": "text/x-python",
  "name": "python",
  "npconvert_exporter": "python",
  "pygments_lexer": "ipython3",
  "toc": {
   "base_numbering": 1,
   "nav_menu": {},
   "number_sections": true,
   "sideBar": true,
   "skip_h1_title": false,
   "title_cell": "Table of Contents",
   "title_sidebar": "Contents",
   "toc_cell": false,
   "toc_position": {
    "height": "calc(100% - 180px)",
    "left": "10px",
    "top": "150px",
    "width": "282.594px"
   },
   "toc_section_display": true,
   "toc_window_display": true
  },
  "version": 3
 },
 "nbformat": 4,
 "nbformat_minor": 2
}

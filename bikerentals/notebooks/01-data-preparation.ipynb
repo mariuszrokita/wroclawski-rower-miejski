{
 "cells": [
  {
   "cell_type": "markdown",
   "metadata": {},
   "source": [
    "# Data preparation"
   ]
  },
  {
   "cell_type": "markdown",
   "metadata": {},
   "source": [
    "The purpose of this notebook is to download data (already imported and persisted in the Azure Blob Storage) and prepare it. As a result we will get a dataset ready for further analyses and modeling.\n",
    "\n",
    "The data preparation steps are:\n",
    "* [Environment configuration](#Environment-configuration)\n",
    "* [Unit tests execution](#Unit-tests-execution)\n",
    "* [Data ingestion, cleaning and featurization pipeline](#Data-ingestion,-cleaning-and-featurization-pipeline)\n",
    "* [Quick verification of pipeline outputs](#Post-execution-verification)"
   ]
  },
  {
   "cell_type": "markdown",
   "metadata": {},
   "source": [
    "## Environment configuration"
   ]
  },
  {
   "cell_type": "code",
   "execution_count": 1,
   "metadata": {
    "ExecuteTime": {
     "end_time": "2019-11-21T05:54:59.330262Z",
     "start_time": "2019-11-21T05:54:58.885077Z"
    }
   },
   "outputs": [],
   "source": [
    "import os\n",
    "import pandas as pd"
   ]
  },
  {
   "cell_type": "markdown",
   "metadata": {},
   "source": [
    "## Unit tests execution"
   ]
  },
  {
   "cell_type": "markdown",
   "metadata": {},
   "source": [
    "This step is to make sure the python code (responsible for data ingestion, cleaning and featurization pipeline) is in the stable state."
   ]
  },
  {
   "cell_type": "code",
   "execution_count": 2,
   "metadata": {
    "ExecuteTime": {
     "end_time": "2019-11-21T05:54:59.338093Z",
     "start_time": "2019-11-21T05:54:59.332770Z"
    }
   },
   "outputs": [
    {
     "name": "stdout",
     "output_type": "stream",
     "text": [
      "/Users/mariuszrokita/GitHub/wroclawski-rower-miejski/bikerentals\n"
     ]
    }
   ],
   "source": [
    "# Let the 'bikerentals' folder be a current directory\n",
    "%cd .."
   ]
  },
  {
   "cell_type": "code",
   "execution_count": 3,
   "metadata": {
    "ExecuteTime": {
     "end_time": "2019-11-21T05:55:01.410476Z",
     "start_time": "2019-11-21T05:54:59.340597Z"
    }
   },
   "outputs": [
    {
     "name": "stdout",
     "output_type": "stream",
     "text": [
      "\u001b[1m============================= test session starts ==============================\u001b[0m\n",
      "platform darwin -- Python 3.6.9, pytest-5.2.2, py-1.8.0, pluggy-0.13.0\n",
      "rootdir: /Users/mariuszrokita/GitHub/wroclawski-rower-miejski, inifile: tox.ini\n",
      "plugins: cov-2.8.1\n",
      "collected 24 items                                                             \u001b[0m\u001b[1m\n",
      "\n",
      "src/tests/cleaning/test_extract_gps_from_station_name.py \u001b[32m.\u001b[0m\u001b[32m.\u001b[0m\u001b[36m              [  8%]\u001b[0m\n",
      "src/tests/cleaning/test_pipeline.py \u001b[32m.\u001b[0m\u001b[32m.\u001b[0m\u001b[32m.\u001b[0m\u001b[32m.\u001b[0m\u001b[36m                                 [ 25%]\u001b[0m\n",
      "src/tests/cleaning/test_remove_missing_gps.py \u001b[32m.\u001b[0m\u001b[32m.\u001b[0m\u001b[36m                         [ 33%]\u001b[0m\n",
      "src/tests/cleaning/test_remove_same_location.py \u001b[32m.\u001b[0m\u001b[32m.\u001b[0m\u001b[32m.\u001b[0m\u001b[36m                      [ 45%]\u001b[0m\n",
      "src/tests/features/test_day_of_week.py \u001b[32m.\u001b[0m\u001b[32m.\u001b[0m\u001b[36m                                [ 54%]\u001b[0m\n",
      "src/tests/features/test_distance.py \u001b[32m.\u001b[0m\u001b[32m.\u001b[0m\u001b[36m                                   [ 62%]\u001b[0m\n",
      "src/tests/features/test_holidays.py \u001b[32m.\u001b[0m\u001b[32m.\u001b[0m\u001b[32m.\u001b[0m\u001b[36m                                  [ 75%]\u001b[0m\n",
      "src/tests/features/test_hour.py \u001b[32m.\u001b[0m\u001b[32m.\u001b[0m\u001b[36m                                       [ 83%]\u001b[0m\n",
      "src/tests/features/test_month.py \u001b[32m.\u001b[0m\u001b[32m.\u001b[0m\u001b[36m                                      [ 91%]\u001b[0m\n",
      "src/tests/features/test_season.py \u001b[32m.\u001b[0m\u001b[32m.\u001b[0m\u001b[36m                                     [100%]\u001b[0m\n",
      "\n",
      "\u001b[32m\u001b[1m============================== 24 passed in 1.38s ==============================\u001b[0m\n"
     ]
    }
   ],
   "source": [
    "# execute tests to make sure everything is working as expected\n",
    "!python -m pytest"
   ]
  },
  {
   "cell_type": "markdown",
   "metadata": {},
   "source": [
    "## Data preparation pipeline"
   ]
  },
  {
   "cell_type": "markdown",
   "metadata": {},
   "source": [
    "This step has been implemented as a full pipeline and consists of following steps:\n",
    "* data ingestion (downloading already imported data from Azure Blob Storage to local destination),\n",
    "* cleaning and soft/hard removing records\n",
    "* creating new features\n",
    "* saving dataset in the `data/processed` location\n",
    "\n",
    "In fact, we'll execute the pipeline twice. This way we'll get two output datasets: one with soft deleted records, other one - with hard removed records."
   ]
  },
  {
   "cell_type": "code",
   "execution_count": 4,
   "metadata": {
    "ExecuteTime": {
     "end_time": "2019-11-21T05:55:01.422412Z",
     "start_time": "2019-11-21T05:55:01.414206Z"
    }
   },
   "outputs": [
    {
     "name": "stdout",
     "output_type": "stream",
     "text": [
      "/Users/mariuszrokita/GitHub/wroclawski-rower-miejski/bikerentals/src\n"
     ]
    }
   ],
   "source": [
    "# Go to source folder\n",
    "%cd src"
   ]
  },
  {
   "cell_type": "code",
   "execution_count": 5,
   "metadata": {
    "ExecuteTime": {
     "end_time": "2019-11-21T05:56:12.246440Z",
     "start_time": "2019-11-21T05:55:01.427905Z"
    }
   },
   "outputs": [
    {
     "name": "stderr",
     "output_type": "stream",
     "text": [
      "Script execution started\n",
      "Root folder set to: /Users/mariuszrokita/GitHub/wroclawski-rower-miejski/bikerentals\n",
      "Pipeline execution about to start!\n",
      "**** DataPreparationPipeline stage - start ****\n",
      "Input data shape: (0, 0)\n",
      "    **** DataIngestion stage - start ****\n",
      "    Input data shape: (0, 0)\n",
      "Client-Request-ID=7554050c-0c23-11ea-bc42-4c327596358d Outgoing request: Method=GET, Path=/bike-rentals, Query={'restype': 'container', 'comp': 'list', 'prefix': None, 'delimiter': None, 'marker': None, 'maxresults': None, 'include': None, 'timeout': None}, Headers={'x-ms-version': '2018-03-28', 'User-Agent': 'Azure-Storage/1.4.2-1.5.0 (Python CPython 3.6.9; Darwin 19.0.0)', 'x-ms-client-request-id': '7554050c-0c23-11ea-bc42-4c327596358d', 'x-ms-date': 'Thu, 21 Nov 2019 05:55:02 GMT', 'Authorization': 'REDACTED'}.\n",
      "Client-Request-ID=7554050c-0c23-11ea-bc42-4c327596358d Receiving Response: Server-Timestamp=Thu, 21 Nov 2019 05:55:01 GMT, Server-Request-ID=6f25a755-b01e-00d4-6730-a0fc2a000000, HTTP Status Code=200, Message=OK, Headers={'transfer-encoding': 'chunked', 'content-type': 'application/xml', 'server': 'Windows-Azure-Blob/1.0 Microsoft-HTTPAPI/2.0', 'x-ms-request-id': '6f25a755-b01e-00d4-6730-a0fc2a000000', 'x-ms-version': '2018-03-28', 'date': 'Thu, 21 Nov 2019 05:55:01 GMT'}.\n",
      "    Output data shape: (480640, 10)\n",
      "    **** DataIngestion stage - end ****\n",
      "\n",
      "    **** DataCleaning stage - start ****\n",
      "    Input data shape: (480640, 10)\n",
      "        **** GpsFromStationNameExtractor stage - start ****\n",
      "        Input data shape: (480640, 10)\n",
      "        Output data shape: (480640, 10)\n",
      "        **** GpsFromStationNameExtractor stage - end ****\n",
      "\n",
      "        **** GpsFromStationNameExtractor stage - start ****\n",
      "        Input data shape: (480640, 10)\n",
      "        Output data shape: (480640, 10)\n",
      "        **** GpsFromStationNameExtractor stage - end ****\n",
      "\n",
      "        **** SameLocationRemover stage - start ****\n",
      "        Input data shape: (480640, 10)\n",
      "        Output data shape: (480640, 11)\n",
      "        **** SameLocationRemover stage - end ****\n",
      "\n",
      "        **** MissingGpsLocationRemover stage - start ****\n",
      "        Input data shape: (480640, 11)\n",
      "        Output data shape: (480640, 11)\n",
      "        **** MissingGpsLocationRemover stage - end ****\n",
      "\n",
      "        **** RecordsRemover stage - start ****\n",
      "        Input data shape: (480640, 11)\n",
      "        Output data shape: (480640, 11)\n",
      "        **** RecordsRemover stage - end ****\n",
      "\n",
      "    Output data shape: (480640, 11)\n",
      "    **** DataCleaning stage - end ****\n",
      "\n",
      "    **** DataFeaturization stage - start ****\n",
      "    Input data shape: (480640, 11)\n",
      "        **** SeasonFeature stage - start ****\n",
      "        Input data shape: (480640, 11)\n",
      "        Output data shape: (480640, 12)\n",
      "        **** SeasonFeature stage - end ****\n",
      "\n",
      "        **** HolidaysFeature stage - start ****\n",
      "        Input data shape: (480640, 12)\n",
      "        Output data shape: (480640, 13)\n",
      "        **** HolidaysFeature stage - end ****\n",
      "\n",
      "        **** DayOfWeekFeature stage - start ****\n",
      "        Input data shape: (480640, 13)\n",
      "        Output data shape: (480640, 14)\n",
      "        **** DayOfWeekFeature stage - end ****\n",
      "\n",
      "        **** HourFeature stage - start ****\n",
      "        Input data shape: (480640, 14)\n",
      "        Output data shape: (480640, 15)\n",
      "        **** HourFeature stage - end ****\n",
      "\n",
      "        **** MonthFeature stage - start ****\n",
      "        Input data shape: (480640, 15)\n",
      "        Output data shape: (480640, 16)\n",
      "        **** MonthFeature stage - end ****\n",
      "\n",
      "        **** DistanceFeature stage - start ****\n",
      "        Input data shape: (480640, 16)\n",
      "        Output data shape: (480640, 17)\n",
      "        **** DistanceFeature stage - end ****\n",
      "\n",
      "    Output data shape: (480640, 17)\n",
      "    **** DataFeaturization stage - end ****\n",
      "\n",
      "Output data shape: (480640, 17)\n",
      "**** DataPreparationPipeline stage - end ****\n",
      "\n",
      "Data saved to: /Users/mariuszrokita/GitHub/wroclawski-rower-miejski/bikerentals/data/processed/bike_rentals_soft.csv\n",
      "Pipeline execution completed!\n"
     ]
    },
    {
     "name": "stdout",
     "output_type": "stream",
     "text": [
      "\n",
      "IPython CPU timings (estimated):\n",
      "  User   :      67.01 s.\n",
      "  System :       2.19 s.\n",
      "Wall time:      70.82 s.\n"
     ]
    }
   ],
   "source": [
    "# run data loading and processing pipeline \n",
    "# (with soft deleting so that we can inspect everything)\n",
    "%run -t run_pipeline.py --hard-delete=False --save=bike_rentals_soft"
   ]
  },
  {
   "cell_type": "code",
   "execution_count": 6,
   "metadata": {
    "ExecuteTime": {
     "end_time": "2019-11-21T05:57:13.345461Z",
     "start_time": "2019-11-21T05:56:12.250454Z"
    }
   },
   "outputs": [
    {
     "name": "stderr",
     "output_type": "stream",
     "text": [
      "Script execution started\n",
      "Root folder set to: /Users/mariuszrokita/GitHub/wroclawski-rower-miejski/bikerentals\n",
      "Pipeline execution about to start!\n",
      "**** DataPreparationPipeline stage - start ****\n",
      "Input data shape: (0, 0)\n",
      "    **** DataIngestion stage - start ****\n",
      "    Input data shape: (0, 0)\n",
      "Client-Request-ID=9f34a138-0c23-11ea-ab71-4c327596358d Outgoing request: Method=GET, Path=/bike-rentals, Query={'restype': 'container', 'comp': 'list', 'prefix': None, 'delimiter': None, 'marker': None, 'maxresults': None, 'include': None, 'timeout': None}, Headers={'x-ms-version': '2018-03-28', 'User-Agent': 'Azure-Storage/1.4.2-1.5.0 (Python CPython 3.6.9; Darwin 19.0.0)', 'x-ms-client-request-id': '9f34a138-0c23-11ea-ab71-4c327596358d', 'x-ms-date': 'Thu, 21 Nov 2019 05:56:12 GMT', 'Authorization': 'REDACTED'}.\n",
      "Client-Request-ID=9f34a138-0c23-11ea-ab71-4c327596358d Receiving Response: Server-Timestamp=Thu, 21 Nov 2019 05:56:12 GMT, Server-Request-ID=7af23913-f01e-0043-1230-a0aa27000000, HTTP Status Code=200, Message=OK, Headers={'transfer-encoding': 'chunked', 'content-type': 'application/xml', 'server': 'Windows-Azure-Blob/1.0 Microsoft-HTTPAPI/2.0', 'x-ms-request-id': '7af23913-f01e-0043-1230-a0aa27000000', 'x-ms-version': '2018-03-28', 'date': 'Thu, 21 Nov 2019 05:56:12 GMT'}.\n",
      "    Output data shape: (480640, 10)\n",
      "    **** DataIngestion stage - end ****\n",
      "\n",
      "    **** DataCleaning stage - start ****\n",
      "    Input data shape: (480640, 10)\n",
      "        **** GpsFromStationNameExtractor stage - start ****\n",
      "        Input data shape: (480640, 10)\n",
      "        Output data shape: (480640, 10)\n",
      "        **** GpsFromStationNameExtractor stage - end ****\n",
      "\n",
      "        **** GpsFromStationNameExtractor stage - start ****\n",
      "        Input data shape: (480640, 10)\n",
      "        Output data shape: (480640, 10)\n",
      "        **** GpsFromStationNameExtractor stage - end ****\n",
      "\n",
      "        **** SameLocationRemover stage - start ****\n",
      "        Input data shape: (480640, 10)\n",
      "        Output data shape: (480640, 11)\n",
      "        **** SameLocationRemover stage - end ****\n",
      "\n",
      "        **** MissingGpsLocationRemover stage - start ****\n",
      "        Input data shape: (480640, 11)\n",
      "        Output data shape: (480640, 11)\n",
      "        **** MissingGpsLocationRemover stage - end ****\n",
      "\n",
      "        **** RecordsRemover stage - start ****\n",
      "        Input data shape: (480640, 11)\n",
      "        Output data shape: (345999, 10)\n",
      "        **** RecordsRemover stage - end ****\n",
      "\n",
      "    Output data shape: (345999, 10)\n",
      "    **** DataCleaning stage - end ****\n",
      "\n",
      "    **** DataFeaturization stage - start ****\n",
      "    Input data shape: (345999, 10)\n",
      "        **** SeasonFeature stage - start ****\n",
      "        Input data shape: (345999, 10)\n",
      "        Output data shape: (345999, 11)\n",
      "        **** SeasonFeature stage - end ****\n",
      "\n",
      "        **** HolidaysFeature stage - start ****\n",
      "        Input data shape: (345999, 11)\n",
      "        Output data shape: (345999, 12)\n",
      "        **** HolidaysFeature stage - end ****\n",
      "\n",
      "        **** DayOfWeekFeature stage - start ****\n",
      "        Input data shape: (345999, 12)\n",
      "        Output data shape: (345999, 13)\n",
      "        **** DayOfWeekFeature stage - end ****\n",
      "\n",
      "        **** HourFeature stage - start ****\n",
      "        Input data shape: (345999, 13)\n",
      "        Output data shape: (345999, 14)\n",
      "        **** HourFeature stage - end ****\n",
      "\n",
      "        **** MonthFeature stage - start ****\n",
      "        Input data shape: (345999, 14)\n",
      "        Output data shape: (345999, 15)\n",
      "        **** MonthFeature stage - end ****\n",
      "\n",
      "        **** DistanceFeature stage - start ****\n",
      "        Input data shape: (345999, 15)\n",
      "        Output data shape: (345999, 16)\n",
      "        **** DistanceFeature stage - end ****\n",
      "\n",
      "    Output data shape: (345999, 16)\n",
      "    **** DataFeaturization stage - end ****\n",
      "\n",
      "Output data shape: (345999, 16)\n",
      "**** DataPreparationPipeline stage - end ****\n",
      "\n",
      "Data saved to: /Users/mariuszrokita/GitHub/wroclawski-rower-miejski/bikerentals/data/processed/bike_rentals.csv\n",
      "Pipeline execution completed!\n"
     ]
    },
    {
     "name": "stdout",
     "output_type": "stream",
     "text": [
      "\n",
      "IPython CPU timings (estimated):\n",
      "  User   :      57.90 s.\n",
      "  System :       1.95 s.\n",
      "Wall time:      61.09 s.\n"
     ]
    }
   ],
   "source": [
    "# run data loading and processing pipeline (with hard deleting)\n",
    "%run -t run_pipeline.py --hard-delete=True --save=bike_rentals"
   ]
  },
  {
   "cell_type": "markdown",
   "metadata": {},
   "source": [
    "## Post-execution verification"
   ]
  },
  {
   "cell_type": "code",
   "execution_count": 7,
   "metadata": {
    "ExecuteTime": {
     "end_time": "2019-11-21T05:57:13.354842Z",
     "start_time": "2019-11-21T05:57:13.348268Z"
    }
   },
   "outputs": [],
   "source": [
    "# set up paths to created datasets\n",
    "filepath_soft = os.path.join(os.getcwd(), '..', 'data', 'processed', 'bike_rentals_soft.csv')\n",
    "filepath_hard = os.path.join(os.getcwd(), '..', 'data', 'processed', 'bike_rentals.csv')"
   ]
  },
  {
   "cell_type": "code",
   "execution_count": 8,
   "metadata": {
    "ExecuteTime": {
     "end_time": "2019-11-21T05:57:15.185943Z",
     "start_time": "2019-11-21T05:57:13.357922Z"
    }
   },
   "outputs": [],
   "source": [
    "# load data\n",
    "bike_rentals_soft_df = pd.read_csv(filepath_soft)\n",
    "bike_rentals_hard_df = pd.read_csv(filepath_hard)"
   ]
  },
  {
   "cell_type": "code",
   "execution_count": 9,
   "metadata": {
    "ExecuteTime": {
     "end_time": "2019-11-21T05:57:15.193263Z",
     "start_time": "2019-11-21T05:57:15.188131Z"
    }
   },
   "outputs": [
    {
     "name": "stdout",
     "output_type": "stream",
     "text": [
      "Dataset with soft deleted records:  (480640, 17)\n",
      "Dataset with hard deleted records:  (345999, 16)\n"
     ]
    }
   ],
   "source": [
    "print('Dataset with soft deleted records: ', bike_rentals_soft_df.shape)\n",
    "print('Dataset with hard deleted records: ', bike_rentals_hard_df.shape)"
   ]
  }
 ],
 "metadata": {
  "file_extension": ".py",
  "kernelspec": {
   "display_name": "Python 3",
   "language": "python",
   "name": "python3"
  },
  "language_info": {
   "codemirror_mode": {
    "name": "ipython",
    "version": 3
   },
   "file_extension": ".py",
   "mimetype": "text/x-python",
   "name": "python",
   "nbconvert_exporter": "python",
   "pygments_lexer": "ipython3",
   "version": "3.6.9"
  },
  "mimetype": "text/x-python",
  "name": "python",
  "npconvert_exporter": "python",
  "pygments_lexer": "ipython3",
  "toc": {
   "base_numbering": 1,
   "nav_menu": {},
   "number_sections": true,
   "sideBar": true,
   "skip_h1_title": false,
   "title_cell": "Table of Contents",
   "title_sidebar": "Contents",
   "toc_cell": false,
   "toc_position": {
    "height": "calc(100% - 180px)",
    "left": "10px",
    "top": "150px",
    "width": "282.594px"
   },
   "toc_section_display": true,
   "toc_window_display": false
  },
  "version": 3
 },
 "nbformat": 4,
 "nbformat_minor": 2
}

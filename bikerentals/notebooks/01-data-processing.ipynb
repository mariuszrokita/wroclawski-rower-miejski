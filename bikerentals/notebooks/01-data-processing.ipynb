{
 "cells": [
  {
   "cell_type": "markdown",
   "metadata": {},
   "source": [
    "# Introduction"
   ]
  },
  {
   "cell_type": "markdown",
   "metadata": {},
   "source": [
    "The purpose of this notebook is to download data and process it. As a result we will get a dataset ready for further analyses and modeling."
   ]
  },
  {
   "cell_type": "code",
   "execution_count": 1,
   "metadata": {
    "ExecuteTime": {
     "end_time": "2019-11-01T11:07:05.604672Z",
     "start_time": "2019-11-01T11:07:05.284024Z"
    }
   },
   "outputs": [],
   "source": [
    "import matplotlib\n",
    "\n",
    "# let matplotlib plots be part of Jupyter Notebook\n",
    "%matplotlib inline\n",
    "\n",
    "# set up higher resolution for matplotlib plots\n",
    "%config InlineBackend.figure_format = 'retina'"
   ]
  },
  {
   "cell_type": "markdown",
   "metadata": {},
   "source": [
    "# Data loading and processing pipeline"
   ]
  },
  {
   "cell_type": "code",
   "execution_count": 2,
   "metadata": {
    "ExecuteTime": {
     "end_time": "2019-11-01T11:07:05.611200Z",
     "start_time": "2019-11-01T11:07:05.606608Z"
    }
   },
   "outputs": [
    {
     "name": "stdout",
     "output_type": "stream",
     "text": [
      "/Users/mariuszrokita/GitHub/wroclawski-rower-miejski/bikerentals/src\n"
     ]
    }
   ],
   "source": [
    "# Change folder\n",
    "%cd ../src"
   ]
  },
  {
   "cell_type": "code",
   "execution_count": 3,
   "metadata": {
    "ExecuteTime": {
     "end_time": "2019-11-01T11:07:07.044760Z",
     "start_time": "2019-11-01T11:07:05.613661Z"
    }
   },
   "outputs": [
    {
     "name": "stdout",
     "output_type": "stream",
     "text": [
      "\u001b[1m============================= test session starts ==============================\u001b[0m\n",
      "platform darwin -- Python 3.6.8, pytest-5.2.2, py-1.8.0, pluggy-0.13.0\n",
      "rootdir: /Users/mariuszrokita/GitHub/wroclawski-rower-miejski, inifile: tox.ini\n",
      "collected 10 items                                                             \u001b[0m\u001b[1m\n",
      "\n",
      "tests/cleaning/test_pipeline.py \u001b[32m.\u001b[0m\u001b[32m.\u001b[0m\u001b[36m                                       [ 20%]\u001b[0m\n",
      "tests/cleaning/test_remove_same_location.py \u001b[32m.\u001b[0m\u001b[32m.\u001b[0m\u001b[32m.\u001b[0m\u001b[36m                          [ 50%]\u001b[0m\n",
      "tests/features/test_holidays.py \u001b[32m.\u001b[0m\u001b[32m.\u001b[0m\u001b[32m.\u001b[0m\u001b[36m                                      [ 80%]\u001b[0m\n",
      "tests/features/test_season.py \u001b[32m.\u001b[0m\u001b[32m.\u001b[0m\u001b[36m                                         [100%]\u001b[0m\n",
      "\n",
      "\u001b[32m\u001b[1m============================== 10 passed in 0.81s ==============================\u001b[0m\n"
     ]
    }
   ],
   "source": [
    "# execute tests to make sure everything is working as expected\n",
    "! python -m pytest"
   ]
  },
  {
   "cell_type": "code",
   "execution_count": 4,
   "metadata": {
    "ExecuteTime": {
     "end_time": "2019-11-01T11:07:36.397572Z",
     "start_time": "2019-11-01T11:07:07.046953Z"
    }
   },
   "outputs": [
    {
     "name": "stdout",
     "output_type": "stream",
     "text": [
      "Pipeline execution started\n",
      "Root folder set to: /Users/mariuszrokita/GitHub/wroclawski-rower-miejski/bikerentals\n",
      "* SameLocationRemover *\n",
      "--> input data shape:  (457015, 10)\n",
      "--> output data shape:  (457015, 11)\n",
      "* SeasonFeature *\n",
      "--> input data shape:  (457015, 11)\n",
      "--> output data shape:  (457015, 12)\n",
      "* HolidaysFeature *\n",
      "--> input data shape:  (457015, 12)\n",
      "--> output data shape:  (457015, 13)\n",
      "Data saved to: /Users/mariuszrokita/GitHub/wroclawski-rower-miejski/bikerentals/data/processed/bike_rentals.csv\n",
      "Pipeline execution completed\n"
     ]
    }
   ],
   "source": [
    "# run data loading and processing pipeline (without removing any record so that we can inspect everything)\n",
    "!python run_pipeline.py --remove=0"
   ]
  },
  {
   "cell_type": "markdown",
   "metadata": {},
   "source": [
    "# Visual inspection"
   ]
  },
  {
   "cell_type": "code",
   "execution_count": 5,
   "metadata": {
    "ExecuteTime": {
     "end_time": "2019-11-01T11:07:37.546160Z",
     "start_time": "2019-11-01T11:07:36.400747Z"
    }
   },
   "outputs": [],
   "source": [
    "import os\n",
    "import pandas as pd\n",
    "\n",
    "filepath = os.path.join(os.getcwd(), '..', 'data', 'processed', 'bike_rentals.csv')\n",
    "bike_rentals_df = pd.read_csv(filepath)"
   ]
  },
  {
   "cell_type": "code",
   "execution_count": 6,
   "metadata": {
    "ExecuteTime": {
     "end_time": "2019-11-01T11:07:39.313207Z",
     "start_time": "2019-11-01T11:07:37.547941Z"
    }
   },
   "outputs": [],
   "source": [
    "bike_rentals_df['Rental datetime'] = pd.to_datetime(bike_rentals_df['Rental datetime'])\n",
    "bike_rentals_df['Return datetime'] = pd.to_datetime(bike_rentals_df['Return datetime'])\n",
    "bike_rentals_df['Duration'] = pd.to_timedelta(bike_rentals_df['Duration'])"
   ]
  },
  {
   "cell_type": "code",
   "execution_count": 7,
   "metadata": {
    "ExecuteTime": {
     "end_time": "2019-11-01T11:07:39.395010Z",
     "start_time": "2019-11-01T11:07:39.315489Z"
    }
   },
   "outputs": [
    {
     "name": "stdout",
     "output_type": "stream",
     "text": [
      "<class 'pandas.core.frame.DataFrame'>\n",
      "RangeIndex: 457015 entries, 0 to 457014\n",
      "Data columns (total 13 columns):\n",
      "Bike number                 457015 non-null int64\n",
      "Rental datetime             457015 non-null datetime64[ns]\n",
      "Return datetime             457015 non-null datetime64[ns]\n",
      "Rental station              457015 non-null object\n",
      "Return station              457015 non-null object\n",
      "Duration                    457015 non-null timedelta64[ns]\n",
      "Rental station latitude     397915 non-null float64\n",
      "Rental station longitude    397915 non-null float64\n",
      "Return station latitude     400873 non-null float64\n",
      "Return station longitude    400873 non-null float64\n",
      "IsDeleted                   457015 non-null bool\n",
      "Season                      457015 non-null int64\n",
      "Holidays                    457015 non-null bool\n",
      "dtypes: bool(2), datetime64[ns](2), float64(4), int64(2), object(2), timedelta64[ns](1)\n",
      "memory usage: 39.2+ MB\n"
     ]
    }
   ],
   "source": [
    "bike_rentals_df.info()"
   ]
  },
  {
   "cell_type": "code",
   "execution_count": 8,
   "metadata": {
    "ExecuteTime": {
     "end_time": "2019-11-01T11:07:39.424520Z",
     "start_time": "2019-11-01T11:07:39.399247Z"
    }
   },
   "outputs": [
    {
     "data": {
      "text/html": [
       "<div>\n",
       "<style scoped>\n",
       "    .dataframe tbody tr th:only-of-type {\n",
       "        vertical-align: middle;\n",
       "    }\n",
       "\n",
       "    .dataframe tbody tr th {\n",
       "        vertical-align: top;\n",
       "    }\n",
       "\n",
       "    .dataframe thead th {\n",
       "        text-align: right;\n",
       "    }\n",
       "</style>\n",
       "<table border=\"1\" class=\"dataframe\">\n",
       "  <thead>\n",
       "    <tr style=\"text-align: right;\">\n",
       "      <th></th>\n",
       "      <th>Bike number</th>\n",
       "      <th>Rental datetime</th>\n",
       "      <th>Return datetime</th>\n",
       "      <th>Rental station</th>\n",
       "      <th>Return station</th>\n",
       "      <th>Duration</th>\n",
       "      <th>Rental station latitude</th>\n",
       "      <th>Rental station longitude</th>\n",
       "      <th>Return station latitude</th>\n",
       "      <th>Return station longitude</th>\n",
       "      <th>IsDeleted</th>\n",
       "      <th>Season</th>\n",
       "      <th>Holidays</th>\n",
       "    </tr>\n",
       "  </thead>\n",
       "  <tbody>\n",
       "    <tr>\n",
       "      <th>0</th>\n",
       "      <td>57719</td>\n",
       "      <td>2019-06-26 00:00:10</td>\n",
       "      <td>2019-06-26 00:06:19</td>\n",
       "      <td>Skarbowców / Wietrzna</td>\n",
       "      <td>Krzycka / Aleja Karkonoska (Park Południowy)</td>\n",
       "      <td>00:06:09</td>\n",
       "      <td>51.073290</td>\n",
       "      <td>16.994850</td>\n",
       "      <td>51.074992</td>\n",
       "      <td>17.007058</td>\n",
       "      <td>False</td>\n",
       "      <td>3</td>\n",
       "      <td>False</td>\n",
       "    </tr>\n",
       "    <tr>\n",
       "      <th>1</th>\n",
       "      <td>650480</td>\n",
       "      <td>2019-06-26 00:00:13</td>\n",
       "      <td>2019-06-26 00:06:59</td>\n",
       "      <td>Rynek</td>\n",
       "      <td>Plac Legionów</td>\n",
       "      <td>00:06:46</td>\n",
       "      <td>51.109782</td>\n",
       "      <td>17.030175</td>\n",
       "      <td>51.104413</td>\n",
       "      <td>17.022536</td>\n",
       "      <td>False</td>\n",
       "      <td>3</td>\n",
       "      <td>False</td>\n",
       "    </tr>\n",
       "    <tr>\n",
       "      <th>2</th>\n",
       "      <td>650988</td>\n",
       "      <td>2019-06-26 00:00:15</td>\n",
       "      <td>2019-06-26 00:13:32</td>\n",
       "      <td>Poza oficjalną stacją</td>\n",
       "      <td>Wałbrzyska - pętla tramwajowa</td>\n",
       "      <td>00:13:17</td>\n",
       "      <td>NaN</td>\n",
       "      <td>NaN</td>\n",
       "      <td>51.065777</td>\n",
       "      <td>16.988575</td>\n",
       "      <td>False</td>\n",
       "      <td>3</td>\n",
       "      <td>False</td>\n",
       "    </tr>\n",
       "    <tr>\n",
       "      <th>3</th>\n",
       "      <td>57603</td>\n",
       "      <td>2019-06-26 00:00:21</td>\n",
       "      <td>2019-06-26 00:23:53</td>\n",
       "      <td>Plac Uniwersytecki (UWr)</td>\n",
       "      <td>Legnicka / Wejherowska</td>\n",
       "      <td>00:23:32</td>\n",
       "      <td>51.113871</td>\n",
       "      <td>17.034484</td>\n",
       "      <td>51.125276</td>\n",
       "      <td>16.984447</td>\n",
       "      <td>False</td>\n",
       "      <td>3</td>\n",
       "      <td>False</td>\n",
       "    </tr>\n",
       "    <tr>\n",
       "      <th>4</th>\n",
       "      <td>650067</td>\n",
       "      <td>2019-06-26 00:00:40</td>\n",
       "      <td>2019-06-26 00:04:40</td>\n",
       "      <td>Powstańców Śląskich (Arkady Wrocławskie)</td>\n",
       "      <td>Powstańców Śląskich (Arkady Wrocławskie)</td>\n",
       "      <td>00:04:00</td>\n",
       "      <td>51.099713</td>\n",
       "      <td>17.027905</td>\n",
       "      <td>51.099713</td>\n",
       "      <td>17.027905</td>\n",
       "      <td>True</td>\n",
       "      <td>3</td>\n",
       "      <td>False</td>\n",
       "    </tr>\n",
       "  </tbody>\n",
       "</table>\n",
       "</div>"
      ],
      "text/plain": [
       "   Bike number     Rental datetime     Return datetime  \\\n",
       "0        57719 2019-06-26 00:00:10 2019-06-26 00:06:19   \n",
       "1       650480 2019-06-26 00:00:13 2019-06-26 00:06:59   \n",
       "2       650988 2019-06-26 00:00:15 2019-06-26 00:13:32   \n",
       "3        57603 2019-06-26 00:00:21 2019-06-26 00:23:53   \n",
       "4       650067 2019-06-26 00:00:40 2019-06-26 00:04:40   \n",
       "\n",
       "                             Rental station  \\\n",
       "0                     Skarbowców / Wietrzna   \n",
       "1                                     Rynek   \n",
       "2                     Poza oficjalną stacją   \n",
       "3                  Plac Uniwersytecki (UWr)   \n",
       "4  Powstańców Śląskich (Arkady Wrocławskie)   \n",
       "\n",
       "                                 Return station Duration  \\\n",
       "0  Krzycka / Aleja Karkonoska (Park Południowy) 00:06:09   \n",
       "1                                 Plac Legionów 00:06:46   \n",
       "2                 Wałbrzyska - pętla tramwajowa 00:13:17   \n",
       "3                        Legnicka / Wejherowska 00:23:32   \n",
       "4      Powstańców Śląskich (Arkady Wrocławskie) 00:04:00   \n",
       "\n",
       "   Rental station latitude  Rental station longitude  Return station latitude  \\\n",
       "0                51.073290                 16.994850                51.074992   \n",
       "1                51.109782                 17.030175                51.104413   \n",
       "2                      NaN                       NaN                51.065777   \n",
       "3                51.113871                 17.034484                51.125276   \n",
       "4                51.099713                 17.027905                51.099713   \n",
       "\n",
       "   Return station longitude  IsDeleted  Season  Holidays  \n",
       "0                 17.007058      False       3     False  \n",
       "1                 17.022536      False       3     False  \n",
       "2                 16.988575      False       3     False  \n",
       "3                 16.984447      False       3     False  \n",
       "4                 17.027905       True       3     False  "
      ]
     },
     "execution_count": 8,
     "metadata": {},
     "output_type": "execute_result"
    }
   ],
   "source": [
    "bike_rentals_df.head()"
   ]
  },
  {
   "cell_type": "code",
   "execution_count": 9,
   "metadata": {
    "ExecuteTime": {
     "end_time": "2019-11-01T11:07:39.443783Z",
     "start_time": "2019-11-01T11:07:39.426844Z"
    }
   },
   "outputs": [
    {
     "data": {
      "text/html": [
       "<div>\n",
       "<style scoped>\n",
       "    .dataframe tbody tr th:only-of-type {\n",
       "        vertical-align: middle;\n",
       "    }\n",
       "\n",
       "    .dataframe tbody tr th {\n",
       "        vertical-align: top;\n",
       "    }\n",
       "\n",
       "    .dataframe thead th {\n",
       "        text-align: right;\n",
       "    }\n",
       "</style>\n",
       "<table border=\"1\" class=\"dataframe\">\n",
       "  <thead>\n",
       "    <tr style=\"text-align: right;\">\n",
       "      <th></th>\n",
       "      <th>Bike number</th>\n",
       "      <th>Rental datetime</th>\n",
       "      <th>Return datetime</th>\n",
       "      <th>Rental station</th>\n",
       "      <th>Return station</th>\n",
       "      <th>Duration</th>\n",
       "      <th>Rental station latitude</th>\n",
       "      <th>Rental station longitude</th>\n",
       "      <th>Return station latitude</th>\n",
       "      <th>Return station longitude</th>\n",
       "      <th>IsDeleted</th>\n",
       "      <th>Season</th>\n",
       "      <th>Holidays</th>\n",
       "    </tr>\n",
       "  </thead>\n",
       "  <tbody>\n",
       "    <tr>\n",
       "      <th>457010</th>\n",
       "      <td>650339</td>\n",
       "      <td>2019-10-29 23:50:00</td>\n",
       "      <td>2019-10-29 23:51:00</td>\n",
       "      <td>Szewska / Kazimierza Wielkiego</td>\n",
       "      <td>Szewska / Kazimierza Wielkiego</td>\n",
       "      <td>00:01:00</td>\n",
       "      <td>NaN</td>\n",
       "      <td>NaN</td>\n",
       "      <td>NaN</td>\n",
       "      <td>NaN</td>\n",
       "      <td>True</td>\n",
       "      <td>4</td>\n",
       "      <td>False</td>\n",
       "    </tr>\n",
       "    <tr>\n",
       "      <th>457011</th>\n",
       "      <td>650013</td>\n",
       "      <td>2019-10-29 23:51:00</td>\n",
       "      <td>2019-10-29 23:51:00</td>\n",
       "      <td>Kołłątaja / Podwale</td>\n",
       "      <td>Kołłątaja / Podwale</td>\n",
       "      <td>00:00:00</td>\n",
       "      <td>51.103854</td>\n",
       "      <td>17.036780</td>\n",
       "      <td>51.103854</td>\n",
       "      <td>17.036780</td>\n",
       "      <td>True</td>\n",
       "      <td>4</td>\n",
       "      <td>False</td>\n",
       "    </tr>\n",
       "    <tr>\n",
       "      <th>457012</th>\n",
       "      <td>57550</td>\n",
       "      <td>2019-10-29 23:53:00</td>\n",
       "      <td>2019-10-29 23:54:00</td>\n",
       "      <td>Rondo Reagana</td>\n",
       "      <td>Rondo Reagana</td>\n",
       "      <td>00:01:00</td>\n",
       "      <td>51.112154</td>\n",
       "      <td>17.060451</td>\n",
       "      <td>51.112154</td>\n",
       "      <td>17.060451</td>\n",
       "      <td>True</td>\n",
       "      <td>4</td>\n",
       "      <td>False</td>\n",
       "    </tr>\n",
       "    <tr>\n",
       "      <th>457013</th>\n",
       "      <td>57948</td>\n",
       "      <td>2019-10-29 23:54:00</td>\n",
       "      <td>2019-10-29 23:56:00</td>\n",
       "      <td>Zaporoska / Gajowicka</td>\n",
       "      <td>Zaporoska / Wielka / Krucza</td>\n",
       "      <td>00:02:00</td>\n",
       "      <td>51.097209</td>\n",
       "      <td>17.013967</td>\n",
       "      <td>51.094310</td>\n",
       "      <td>17.014790</td>\n",
       "      <td>False</td>\n",
       "      <td>4</td>\n",
       "      <td>False</td>\n",
       "    </tr>\n",
       "    <tr>\n",
       "      <th>457014</th>\n",
       "      <td>57550</td>\n",
       "      <td>2019-10-29 23:56:00</td>\n",
       "      <td>2019-10-29 23:57:00</td>\n",
       "      <td>Rondo Reagana</td>\n",
       "      <td>Rondo Reagana</td>\n",
       "      <td>00:01:00</td>\n",
       "      <td>51.112154</td>\n",
       "      <td>17.060451</td>\n",
       "      <td>51.112154</td>\n",
       "      <td>17.060451</td>\n",
       "      <td>True</td>\n",
       "      <td>4</td>\n",
       "      <td>False</td>\n",
       "    </tr>\n",
       "  </tbody>\n",
       "</table>\n",
       "</div>"
      ],
      "text/plain": [
       "        Bike number     Rental datetime     Return datetime  \\\n",
       "457010       650339 2019-10-29 23:50:00 2019-10-29 23:51:00   \n",
       "457011       650013 2019-10-29 23:51:00 2019-10-29 23:51:00   \n",
       "457012        57550 2019-10-29 23:53:00 2019-10-29 23:54:00   \n",
       "457013        57948 2019-10-29 23:54:00 2019-10-29 23:56:00   \n",
       "457014        57550 2019-10-29 23:56:00 2019-10-29 23:57:00   \n",
       "\n",
       "                         Rental station                   Return station  \\\n",
       "457010  Szewska / Kazimierza Wielkiego   Szewska / Kazimierza Wielkiego    \n",
       "457011              Kołłątaja / Podwale              Kołłątaja / Podwale   \n",
       "457012                    Rondo Reagana                    Rondo Reagana   \n",
       "457013            Zaporoska / Gajowicka      Zaporoska / Wielka / Krucza   \n",
       "457014                    Rondo Reagana                    Rondo Reagana   \n",
       "\n",
       "       Duration  Rental station latitude  Rental station longitude  \\\n",
       "457010 00:01:00                      NaN                       NaN   \n",
       "457011 00:00:00                51.103854                 17.036780   \n",
       "457012 00:01:00                51.112154                 17.060451   \n",
       "457013 00:02:00                51.097209                 17.013967   \n",
       "457014 00:01:00                51.112154                 17.060451   \n",
       "\n",
       "        Return station latitude  Return station longitude  IsDeleted  Season  \\\n",
       "457010                      NaN                       NaN       True       4   \n",
       "457011                51.103854                 17.036780       True       4   \n",
       "457012                51.112154                 17.060451       True       4   \n",
       "457013                51.094310                 17.014790      False       4   \n",
       "457014                51.112154                 17.060451       True       4   \n",
       "\n",
       "        Holidays  \n",
       "457010     False  \n",
       "457011     False  \n",
       "457012     False  \n",
       "457013     False  \n",
       "457014     False  "
      ]
     },
     "execution_count": 9,
     "metadata": {},
     "output_type": "execute_result"
    }
   ],
   "source": [
    "bike_rentals_df.tail()"
   ]
  },
  {
   "cell_type": "markdown",
   "metadata": {},
   "source": [
    "## Rentals returned to the same bike station"
   ]
  },
  {
   "cell_type": "code",
   "execution_count": 10,
   "metadata": {
    "ExecuteTime": {
     "end_time": "2019-11-01T11:07:39.506378Z",
     "start_time": "2019-11-01T11:07:39.445835Z"
    }
   },
   "outputs": [
    {
     "name": "stdout",
     "output_type": "stream",
     "text": [
      "Number of records: 76852\n"
     ]
    }
   ],
   "source": [
    "idx = bike_rentals_df['Rental station'] == bike_rentals_df['Return station']\n",
    "print(f\"Number of records: {bike_rentals_df.loc[idx, :].shape[0]}\")"
   ]
  },
  {
   "cell_type": "code",
   "execution_count": 11,
   "metadata": {
    "ExecuteTime": {
     "end_time": "2019-11-01T11:07:39.520924Z",
     "start_time": "2019-11-01T11:07:39.508066Z"
    }
   },
   "outputs": [
    {
     "name": "stdout",
     "output_type": "stream",
     "text": [
      "Min: 0.0, Max: 56135.0\n",
      "Avg: 520.872091812835, Std: 1387.2647139280132\n"
     ]
    }
   ],
   "source": [
    "total_seconds = bike_rentals_df.loc[idx, 'Duration'].dt.total_seconds();\n",
    "\n",
    "print(f\"Min: {total_seconds.min()}, Max: {total_seconds.max()}\")\n",
    "print(f\"Avg: {total_seconds.mean()}, Std: {total_seconds.std()}\")"
   ]
  },
  {
   "cell_type": "code",
   "execution_count": 12,
   "metadata": {
    "ExecuteTime": {
     "end_time": "2019-11-01T11:07:40.120706Z",
     "start_time": "2019-11-01T11:07:39.523530Z"
    }
   },
   "outputs": [
    {
     "data": {
      "image/png": "[encoded data removed]",
      "text/plain": [
       "<Figure size 864x288 with 1 Axes>"
      ]
     },
     "metadata": {
      "image/png": {
       "height": 248,
       "width": 723
      },
      "needs_background": "light"
     },
     "output_type": "display_data"
    }
   ],
   "source": [
    "total_seconds.hist(bins=50, figsize=(12, 4));"
   ]
  },
  {
   "cell_type": "code",
   "execution_count": 13,
   "metadata": {
    "ExecuteTime": {
     "end_time": "2019-11-01T11:07:40.198645Z",
     "start_time": "2019-11-01T11:07:40.122457Z"
    }
   },
   "outputs": [
    {
     "data": {
      "text/html": [
       "<div>\n",
       "<style scoped>\n",
       "    .dataframe tbody tr th:only-of-type {\n",
       "        vertical-align: middle;\n",
       "    }\n",
       "\n",
       "    .dataframe tbody tr th {\n",
       "        vertical-align: top;\n",
       "    }\n",
       "\n",
       "    .dataframe thead th {\n",
       "        text-align: right;\n",
       "    }\n",
       "</style>\n",
       "<table border=\"1\" class=\"dataframe\">\n",
       "  <thead>\n",
       "    <tr style=\"text-align: right;\">\n",
       "      <th></th>\n",
       "      <th>Bike number</th>\n",
       "      <th>Rental datetime</th>\n",
       "      <th>Return datetime</th>\n",
       "      <th>Rental station</th>\n",
       "      <th>Return station</th>\n",
       "      <th>Duration</th>\n",
       "      <th>Rental station latitude</th>\n",
       "      <th>Rental station longitude</th>\n",
       "      <th>Return station latitude</th>\n",
       "      <th>Return station longitude</th>\n",
       "      <th>IsDeleted</th>\n",
       "      <th>Season</th>\n",
       "      <th>Holidays</th>\n",
       "    </tr>\n",
       "  </thead>\n",
       "  <tbody>\n",
       "    <tr>\n",
       "      <th>16</th>\n",
       "      <td>57623</td>\n",
       "      <td>2019-06-26 00:02:30</td>\n",
       "      <td>2019-06-26 00:06:15</td>\n",
       "      <td>Poza oficjalną stacją</td>\n",
       "      <td>Poza oficjalną stacją</td>\n",
       "      <td>00:03:45</td>\n",
       "      <td>NaN</td>\n",
       "      <td>NaN</td>\n",
       "      <td>NaN</td>\n",
       "      <td>NaN</td>\n",
       "      <td>True</td>\n",
       "      <td>3</td>\n",
       "      <td>False</td>\n",
       "    </tr>\n",
       "    <tr>\n",
       "      <th>137</th>\n",
       "      <td>57353</td>\n",
       "      <td>2019-06-26 00:23:12</td>\n",
       "      <td>2019-06-26 00:26:04</td>\n",
       "      <td>Poza oficjalną stacją</td>\n",
       "      <td>Poza oficjalną stacją</td>\n",
       "      <td>00:02:52</td>\n",
       "      <td>NaN</td>\n",
       "      <td>NaN</td>\n",
       "      <td>NaN</td>\n",
       "      <td>NaN</td>\n",
       "      <td>True</td>\n",
       "      <td>3</td>\n",
       "      <td>False</td>\n",
       "    </tr>\n",
       "    <tr>\n",
       "      <th>154</th>\n",
       "      <td>57353</td>\n",
       "      <td>2019-06-26 00:27:35</td>\n",
       "      <td>2019-06-26 00:28:31</td>\n",
       "      <td>Poza oficjalną stacją</td>\n",
       "      <td>Poza oficjalną stacją</td>\n",
       "      <td>00:00:56</td>\n",
       "      <td>NaN</td>\n",
       "      <td>NaN</td>\n",
       "      <td>NaN</td>\n",
       "      <td>NaN</td>\n",
       "      <td>True</td>\n",
       "      <td>3</td>\n",
       "      <td>False</td>\n",
       "    </tr>\n",
       "    <tr>\n",
       "      <th>200</th>\n",
       "      <td>650868</td>\n",
       "      <td>2019-06-26 00:37:15</td>\n",
       "      <td>2019-06-26 00:46:20</td>\n",
       "      <td>Poza oficjalną stacją</td>\n",
       "      <td>Poza oficjalną stacją</td>\n",
       "      <td>00:09:05</td>\n",
       "      <td>NaN</td>\n",
       "      <td>NaN</td>\n",
       "      <td>NaN</td>\n",
       "      <td>NaN</td>\n",
       "      <td>True</td>\n",
       "      <td>3</td>\n",
       "      <td>False</td>\n",
       "    </tr>\n",
       "    <tr>\n",
       "      <th>210</th>\n",
       "      <td>57353</td>\n",
       "      <td>2019-06-26 00:39:34</td>\n",
       "      <td>2019-06-26 00:40:54</td>\n",
       "      <td>Poza oficjalną stacją</td>\n",
       "      <td>Poza oficjalną stacją</td>\n",
       "      <td>00:01:20</td>\n",
       "      <td>NaN</td>\n",
       "      <td>NaN</td>\n",
       "      <td>NaN</td>\n",
       "      <td>NaN</td>\n",
       "      <td>True</td>\n",
       "      <td>3</td>\n",
       "      <td>False</td>\n",
       "    </tr>\n",
       "    <tr>\n",
       "      <th>...</th>\n",
       "      <td>...</td>\n",
       "      <td>...</td>\n",
       "      <td>...</td>\n",
       "      <td>...</td>\n",
       "      <td>...</td>\n",
       "      <td>...</td>\n",
       "      <td>...</td>\n",
       "      <td>...</td>\n",
       "      <td>...</td>\n",
       "      <td>...</td>\n",
       "      <td>...</td>\n",
       "      <td>...</td>\n",
       "      <td>...</td>\n",
       "    </tr>\n",
       "    <tr>\n",
       "      <th>456462</th>\n",
       "      <td>57055</td>\n",
       "      <td>2019-10-29 19:50:00</td>\n",
       "      <td>2019-10-29 19:52:00</td>\n",
       "      <td>Poza oficjalną stacją</td>\n",
       "      <td>Poza oficjalną stacją</td>\n",
       "      <td>00:02:00</td>\n",
       "      <td>NaN</td>\n",
       "      <td>NaN</td>\n",
       "      <td>NaN</td>\n",
       "      <td>NaN</td>\n",
       "      <td>True</td>\n",
       "      <td>4</td>\n",
       "      <td>False</td>\n",
       "    </tr>\n",
       "    <tr>\n",
       "      <th>456497</th>\n",
       "      <td>650225</td>\n",
       "      <td>2019-10-29 20:01:00</td>\n",
       "      <td>2019-10-29 20:14:00</td>\n",
       "      <td>Poza oficjalną stacją</td>\n",
       "      <td>Poza oficjalną stacją</td>\n",
       "      <td>00:13:00</td>\n",
       "      <td>NaN</td>\n",
       "      <td>NaN</td>\n",
       "      <td>NaN</td>\n",
       "      <td>NaN</td>\n",
       "      <td>True</td>\n",
       "      <td>4</td>\n",
       "      <td>False</td>\n",
       "    </tr>\n",
       "    <tr>\n",
       "      <th>456577</th>\n",
       "      <td>57118</td>\n",
       "      <td>2019-10-29 20:27:00</td>\n",
       "      <td>2019-10-29 20:36:00</td>\n",
       "      <td>Poza oficjalną stacją</td>\n",
       "      <td>Poza oficjalną stacją</td>\n",
       "      <td>00:09:00</td>\n",
       "      <td>NaN</td>\n",
       "      <td>NaN</td>\n",
       "      <td>NaN</td>\n",
       "      <td>NaN</td>\n",
       "      <td>True</td>\n",
       "      <td>4</td>\n",
       "      <td>False</td>\n",
       "    </tr>\n",
       "    <tr>\n",
       "      <th>456805</th>\n",
       "      <td>650621</td>\n",
       "      <td>2019-10-29 21:47:00</td>\n",
       "      <td>2019-10-29 21:48:00</td>\n",
       "      <td>Poza oficjalną stacją</td>\n",
       "      <td>Poza oficjalną stacją</td>\n",
       "      <td>00:01:00</td>\n",
       "      <td>NaN</td>\n",
       "      <td>NaN</td>\n",
       "      <td>NaN</td>\n",
       "      <td>NaN</td>\n",
       "      <td>True</td>\n",
       "      <td>4</td>\n",
       "      <td>False</td>\n",
       "    </tr>\n",
       "    <tr>\n",
       "      <th>456828</th>\n",
       "      <td>57118</td>\n",
       "      <td>2019-10-29 21:55:00</td>\n",
       "      <td>2019-10-29 22:22:00</td>\n",
       "      <td>Poza oficjalną stacją</td>\n",
       "      <td>Poza oficjalną stacją</td>\n",
       "      <td>00:27:00</td>\n",
       "      <td>NaN</td>\n",
       "      <td>NaN</td>\n",
       "      <td>NaN</td>\n",
       "      <td>NaN</td>\n",
       "      <td>True</td>\n",
       "      <td>4</td>\n",
       "      <td>False</td>\n",
       "    </tr>\n",
       "  </tbody>\n",
       "</table>\n",
       "<p>4446 rows × 13 columns</p>\n",
       "</div>"
      ],
      "text/plain": [
       "        Bike number     Rental datetime     Return datetime  \\\n",
       "16            57623 2019-06-26 00:02:30 2019-06-26 00:06:15   \n",
       "137           57353 2019-06-26 00:23:12 2019-06-26 00:26:04   \n",
       "154           57353 2019-06-26 00:27:35 2019-06-26 00:28:31   \n",
       "200          650868 2019-06-26 00:37:15 2019-06-26 00:46:20   \n",
       "210           57353 2019-06-26 00:39:34 2019-06-26 00:40:54   \n",
       "...             ...                 ...                 ...   \n",
       "456462        57055 2019-10-29 19:50:00 2019-10-29 19:52:00   \n",
       "456497       650225 2019-10-29 20:01:00 2019-10-29 20:14:00   \n",
       "456577        57118 2019-10-29 20:27:00 2019-10-29 20:36:00   \n",
       "456805       650621 2019-10-29 21:47:00 2019-10-29 21:48:00   \n",
       "456828        57118 2019-10-29 21:55:00 2019-10-29 22:22:00   \n",
       "\n",
       "               Rental station         Return station Duration  \\\n",
       "16      Poza oficjalną stacją  Poza oficjalną stacją 00:03:45   \n",
       "137     Poza oficjalną stacją  Poza oficjalną stacją 00:02:52   \n",
       "154     Poza oficjalną stacją  Poza oficjalną stacją 00:00:56   \n",
       "200     Poza oficjalną stacją  Poza oficjalną stacją 00:09:05   \n",
       "210     Poza oficjalną stacją  Poza oficjalną stacją 00:01:20   \n",
       "...                       ...                    ...      ...   \n",
       "456462  Poza oficjalną stacją  Poza oficjalną stacją 00:02:00   \n",
       "456497  Poza oficjalną stacją  Poza oficjalną stacją 00:13:00   \n",
       "456577  Poza oficjalną stacją  Poza oficjalną stacją 00:09:00   \n",
       "456805  Poza oficjalną stacją  Poza oficjalną stacją 00:01:00   \n",
       "456828  Poza oficjalną stacją  Poza oficjalną stacją 00:27:00   \n",
       "\n",
       "        Rental station latitude  Rental station longitude  \\\n",
       "16                          NaN                       NaN   \n",
       "137                         NaN                       NaN   \n",
       "154                         NaN                       NaN   \n",
       "200                         NaN                       NaN   \n",
       "210                         NaN                       NaN   \n",
       "...                         ...                       ...   \n",
       "456462                      NaN                       NaN   \n",
       "456497                      NaN                       NaN   \n",
       "456577                      NaN                       NaN   \n",
       "456805                      NaN                       NaN   \n",
       "456828                      NaN                       NaN   \n",
       "\n",
       "        Return station latitude  Return station longitude  IsDeleted  Season  \\\n",
       "16                          NaN                       NaN       True       3   \n",
       "137                         NaN                       NaN       True       3   \n",
       "154                         NaN                       NaN       True       3   \n",
       "200                         NaN                       NaN       True       3   \n",
       "210                         NaN                       NaN       True       3   \n",
       "...                         ...                       ...        ...     ...   \n",
       "456462                      NaN                       NaN       True       4   \n",
       "456497                      NaN                       NaN       True       4   \n",
       "456577                      NaN                       NaN       True       4   \n",
       "456805                      NaN                       NaN       True       4   \n",
       "456828                      NaN                       NaN       True       4   \n",
       "\n",
       "        Holidays  \n",
       "16         False  \n",
       "137        False  \n",
       "154        False  \n",
       "200        False  \n",
       "210        False  \n",
       "...          ...  \n",
       "456462     False  \n",
       "456497     False  \n",
       "456577     False  \n",
       "456805     False  \n",
       "456828     False  \n",
       "\n",
       "[4446 rows x 13 columns]"
      ]
     },
     "execution_count": 13,
     "metadata": {},
     "output_type": "execute_result"
    }
   ],
   "source": [
    "idx = (bike_rentals_df['Rental station'] == 'Poza oficjalną stacją') & \\\n",
    "      (bike_rentals_df['Return station'] == 'Poza oficjalną stacją')\n",
    "bike_rentals_df.loc[idx, :]"
   ]
  },
  {
   "cell_type": "markdown",
   "metadata": {},
   "source": [
    "# Run full pipeline"
   ]
  },
  {
   "cell_type": "code",
   "execution_count": 14,
   "metadata": {
    "ExecuteTime": {
     "end_time": "2019-11-01T11:07:40.202429Z",
     "start_time": "2019-11-01T11:07:40.200282Z"
    }
   },
   "outputs": [],
   "source": [
    "# run data loading and processing pipeline\n",
    "#!python run_pipeline.py --remove=1"
   ]
  }
 ],
 "metadata": {
  "file_extension": ".py",
  "kernelspec": {
   "display_name": "Python 3",
   "language": "python",
   "name": "python3"
  },
  "language_info": {
   "codemirror_mode": {
    "name": "ipython",
    "version": 3
   },
   "file_extension": ".py",
   "mimetype": "text/x-python",
   "name": "python",
   "nbconvert_exporter": "python",
   "pygments_lexer": "ipython3",
   "version": "3.6.8"
  },
  "mimetype": "text/x-python",
  "name": "python",
  "npconvert_exporter": "python",
  "pygments_lexer": "ipython3",
  "toc": {
   "base_numbering": 1,
   "nav_menu": {},
   "number_sections": true,
   "sideBar": true,
   "skip_h1_title": false,
   "title_cell": "Table of Contents",
   "title_sidebar": "Contents",
   "toc_cell": false,
   "toc_position": {
    "height": "calc(100% - 180px)",
    "left": "10px",
    "top": "150px",
    "width": "282.594px"
   },
   "toc_section_display": true,
   "toc_window_display": false
  },
  "version": 3
 },
 "nbformat": 4,
 "nbformat_minor": 2
}

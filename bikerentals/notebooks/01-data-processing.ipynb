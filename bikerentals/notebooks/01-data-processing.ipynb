{
 "cells": [
  {
   "cell_type": "markdown",
   "metadata": {},
   "source": [
    "# Introduction"
   ]
  },
  {
   "cell_type": "markdown",
   "metadata": {},
   "source": [
    "The purpose of this notebook is to download data and process it. As a result we will get a dataset ready for further analyses and modeling."
   ]
  },
  {
   "cell_type": "code",
   "execution_count": 1,
   "metadata": {
    "ExecuteTime": {
     "end_time": "2019-11-03T09:23:57.320959Z",
     "start_time": "2019-11-03T09:23:57.012109Z"
    }
   },
   "outputs": [],
   "source": [
    "import matplotlib\n",
    "import matplotlib.pyplot as plt\n",
    "\n",
    "# let matplotlib plots be part of Jupyter Notebook\n",
    "%matplotlib inline\n",
    "\n",
    "# set up higher resolution for matplotlib plots\n",
    "%config InlineBackend.figure_format = 'retina'"
   ]
  },
  {
   "cell_type": "markdown",
   "metadata": {},
   "source": [
    "# Data loading and processing pipeline"
   ]
  },
  {
   "cell_type": "code",
   "execution_count": 2,
   "metadata": {
    "ExecuteTime": {
     "end_time": "2019-11-03T09:23:57.328058Z",
     "start_time": "2019-11-03T09:23:57.323307Z"
    }
   },
   "outputs": [
    {
     "name": "stdout",
     "output_type": "stream",
     "text": [
      "/Users/mariuszrokita/GitHub/wroclawski-rower-miejski/bikerentals/src\n"
     ]
    }
   ],
   "source": [
    "# Change folder\n",
    "%cd ../src"
   ]
  },
  {
   "cell_type": "code",
   "execution_count": 3,
   "metadata": {
    "ExecuteTime": {
     "end_time": "2019-11-03T09:23:58.893658Z",
     "start_time": "2019-11-03T09:23:57.331793Z"
    }
   },
   "outputs": [
    {
     "name": "stdout",
     "output_type": "stream",
     "text": [
      "\u001b[1m============================= test session starts ==============================\u001b[0m\n",
      "platform darwin -- Python 3.6.8, pytest-5.2.2, py-1.8.0, pluggy-0.13.0\n",
      "rootdir: /Users/mariuszrokita/GitHub/wroclawski-rower-miejski, inifile: tox.ini\n",
      "collected 22 items                                                             \u001b[0m\u001b[1m\n",
      "\n",
      "tests/cleaning/test_extract_gps_from_station_name.py \u001b[32m.\u001b[0m\u001b[32m.\u001b[0m\u001b[36m                  [  9%]\u001b[0m\n",
      "tests/cleaning/test_pipeline.py \u001b[32m.\u001b[0m\u001b[32m.\u001b[0m\u001b[32m.\u001b[0m\u001b[32m.\u001b[0m\u001b[36m                                     [ 27%]\u001b[0m\n",
      "tests/cleaning/test_remove_missing_gps.py \u001b[32m.\u001b[0m\u001b[32m.\u001b[0m\u001b[36m                             [ 36%]\u001b[0m\n",
      "tests/cleaning/test_remove_same_location.py \u001b[32m.\u001b[0m\u001b[32m.\u001b[0m\u001b[32m.\u001b[0m\u001b[36m                          [ 50%]\u001b[0m\n",
      "tests/features/test_day_of_week.py \u001b[32m.\u001b[0m\u001b[32m.\u001b[0m\u001b[36m                                    [ 59%]\u001b[0m\n",
      "tests/features/test_holidays.py \u001b[32m.\u001b[0m\u001b[32m.\u001b[0m\u001b[32m.\u001b[0m\u001b[36m                                      [ 72%]\u001b[0m\n",
      "tests/features/test_hour.py \u001b[32m.\u001b[0m\u001b[32m.\u001b[0m\u001b[36m                                           [ 81%]\u001b[0m\n",
      "tests/features/test_month.py \u001b[32m.\u001b[0m\u001b[32m.\u001b[0m\u001b[36m                                          [ 90%]\u001b[0m\n",
      "tests/features/test_season.py \u001b[32m.\u001b[0m\u001b[32m.\u001b[0m\u001b[36m                                         [100%]\u001b[0m\n",
      "\n",
      "\u001b[32m\u001b[1m============================== 22 passed in 0.95s ==============================\u001b[0m\n"
     ]
    }
   ],
   "source": [
    "# execute tests to make sure everything is working as expected\n",
    "! python -m pytest"
   ]
  },
  {
   "cell_type": "code",
   "execution_count": 4,
   "metadata": {
    "ExecuteTime": {
     "end_time": "2019-11-03T09:24:39.934877Z",
     "start_time": "2019-11-03T09:23:58.897779Z"
    }
   },
   "outputs": [
    {
     "name": "stdout",
     "output_type": "stream",
     "text": [
      "Pipeline execution started\n",
      "Root folder set to: /Users/mariuszrokita/GitHub/wroclawski-rower-miejski/bikerentals\n",
      "* GpsFromStationNameExtractor *\n",
      "--> input data shape:  (461405, 10)\n",
      "--> output data shape:  (461405, 10)\n",
      "* GpsFromStationNameExtractor *\n",
      "--> input data shape:  (461405, 10)\n",
      "--> output data shape:  (461405, 10)\n",
      "* SameLocationRemover *\n",
      "--> input data shape:  (461405, 10)\n",
      "--> output data shape:  (461405, 11)\n",
      "* MissingGpsLocationRemover *\n",
      "--> input data shape:  (461405, 11)\n",
      "--> output data shape:  (461405, 11)\n",
      "* SeasonFeature *\n",
      "--> input data shape:  (461405, 11)\n",
      "--> output data shape:  (461405, 12)\n",
      "* HolidaysFeature *\n",
      "--> input data shape:  (461405, 12)\n",
      "--> output data shape:  (461405, 13)\n",
      "* DayOfWeekFeature *\n",
      "--> input data shape:  (461405, 13)\n",
      "--> output data shape:  (461405, 14)\n",
      "* HourFeature *\n",
      "--> input data shape:  (461405, 14)\n",
      "--> output data shape:  (461405, 15)\n",
      "* MonthFeature *\n",
      "--> input data shape:  (461405, 15)\n",
      "--> output data shape:  (461405, 16)\n",
      "Data saved to: /Users/mariuszrokita/GitHub/wroclawski-rower-miejski/bikerentals/data/processed/bike_rentals.csv\n",
      "Pipeline execution completed\n"
     ]
    }
   ],
   "source": [
    "# run data loading and processing pipeline \n",
    "# (with soft deleting so that we can inspect everything)\n",
    "!python run_pipeline.py --remove=0"
   ]
  },
  {
   "cell_type": "markdown",
   "metadata": {},
   "source": [
    "# Post-processing inspection"
   ]
  },
  {
   "cell_type": "code",
   "execution_count": 5,
   "metadata": {
    "ExecuteTime": {
     "end_time": "2019-11-03T09:24:40.199512Z",
     "start_time": "2019-11-03T09:24:39.938135Z"
    }
   },
   "outputs": [],
   "source": [
    "import os\n",
    "import pandas as pd\n",
    "\n",
    "filepath = os.path.join(os.getcwd(), '..', 'data', 'processed', 'bike_rentals.csv')"
   ]
  },
  {
   "cell_type": "code",
   "execution_count": 6,
   "metadata": {
    "ExecuteTime": {
     "end_time": "2019-11-03T09:24:42.775483Z",
     "start_time": "2019-11-03T09:24:40.201709Z"
    }
   },
   "outputs": [],
   "source": [
    "# load csv and set proper column types\n",
    "bike_rentals_df = pd.read_csv(filepath)\n",
    "bike_rentals_df['Rental datetime'] = pd.to_datetime(bike_rentals_df['Rental datetime'])\n",
    "bike_rentals_df['Return datetime'] = pd.to_datetime(bike_rentals_df['Return datetime'])\n",
    "bike_rentals_df['Duration'] = pd.to_timedelta(bike_rentals_df['Duration'])"
   ]
  },
  {
   "cell_type": "code",
   "execution_count": 7,
   "metadata": {
    "ExecuteTime": {
     "end_time": "2019-11-03T09:24:42.845463Z",
     "start_time": "2019-11-03T09:24:42.777397Z"
    }
   },
   "outputs": [
    {
     "name": "stdout",
     "output_type": "stream",
     "text": [
      "<class 'pandas.core.frame.DataFrame'>\n",
      "RangeIndex: 461405 entries, 0 to 461404\n",
      "Data columns (total 16 columns):\n",
      "Bike number                 461405 non-null int64\n",
      "Rental datetime             461405 non-null datetime64[ns]\n",
      "Return datetime             461405 non-null datetime64[ns]\n",
      "Rental station              461405 non-null object\n",
      "Return station              461405 non-null object\n",
      "Duration                    461405 non-null timedelta64[ns]\n",
      "Rental station latitude     431734 non-null float64\n",
      "Rental station longitude    431734 non-null float64\n",
      "Return station latitude     435006 non-null float64\n",
      "Return station longitude    435006 non-null float64\n",
      "IsDeleted                   461405 non-null bool\n",
      "Season                      461405 non-null int64\n",
      "Holidays                    461405 non-null bool\n",
      "Rental day of week          461405 non-null int64\n",
      "Rental hour                 461405 non-null int64\n",
      "Rental month                461405 non-null int64\n",
      "dtypes: bool(2), datetime64[ns](2), float64(4), int64(5), object(2), timedelta64[ns](1)\n",
      "memory usage: 50.2+ MB\n"
     ]
    }
   ],
   "source": [
    "bike_rentals_df.info()"
   ]
  },
  {
   "cell_type": "code",
   "execution_count": 8,
   "metadata": {
    "ExecuteTime": {
     "end_time": "2019-11-03T09:24:42.884953Z",
     "start_time": "2019-11-03T09:24:42.849009Z"
    }
   },
   "outputs": [
    {
     "data": {
      "text/plain": [
       "Bike number                     0\n",
       "Rental datetime                 0\n",
       "Return datetime                 0\n",
       "Rental station                  0\n",
       "Return station                  0\n",
       "Duration                        0\n",
       "Rental station latitude     29671\n",
       "Rental station longitude    29671\n",
       "Return station latitude     26399\n",
       "Return station longitude    26399\n",
       "IsDeleted                       0\n",
       "Season                          0\n",
       "Holidays                        0\n",
       "Rental day of week              0\n",
       "Rental hour                     0\n",
       "Rental month                    0\n",
       "dtype: int64"
      ]
     },
     "execution_count": 8,
     "metadata": {},
     "output_type": "execute_result"
    }
   ],
   "source": [
    "# deleted records may contain NaN values\n",
    "bike_rentals_df[bike_rentals_df['IsDeleted'] == True].isnull().sum()"
   ]
  },
  {
   "cell_type": "code",
   "execution_count": 9,
   "metadata": {
    "ExecuteTime": {
     "end_time": "2019-11-03T09:24:42.967689Z",
     "start_time": "2019-11-03T09:24:42.887467Z"
    }
   },
   "outputs": [],
   "source": [
    "# make sure there are no NaN values in records that are left\n",
    "assert sum(bike_rentals_df[bike_rentals_df['IsDeleted'] == False].isnull().sum()) == 0"
   ]
  },
  {
   "cell_type": "code",
   "execution_count": 10,
   "metadata": {
    "ExecuteTime": {
     "end_time": "2019-11-03T09:24:42.991433Z",
     "start_time": "2019-11-03T09:24:42.969675Z"
    }
   },
   "outputs": [
    {
     "data": {
      "text/html": [
       "<div>\n",
       "<style scoped>\n",
       "    .dataframe tbody tr th:only-of-type {\n",
       "        vertical-align: middle;\n",
       "    }\n",
       "\n",
       "    .dataframe tbody tr th {\n",
       "        vertical-align: top;\n",
       "    }\n",
       "\n",
       "    .dataframe thead th {\n",
       "        text-align: right;\n",
       "    }\n",
       "</style>\n",
       "<table border=\"1\" class=\"dataframe\">\n",
       "  <thead>\n",
       "    <tr style=\"text-align: right;\">\n",
       "      <th></th>\n",
       "      <th>Bike number</th>\n",
       "      <th>Rental datetime</th>\n",
       "      <th>Return datetime</th>\n",
       "      <th>Rental station</th>\n",
       "      <th>Return station</th>\n",
       "      <th>Duration</th>\n",
       "      <th>Rental station latitude</th>\n",
       "      <th>Rental station longitude</th>\n",
       "      <th>Return station latitude</th>\n",
       "      <th>Return station longitude</th>\n",
       "      <th>IsDeleted</th>\n",
       "      <th>Season</th>\n",
       "      <th>Holidays</th>\n",
       "      <th>Rental day of week</th>\n",
       "      <th>Rental hour</th>\n",
       "      <th>Rental month</th>\n",
       "    </tr>\n",
       "  </thead>\n",
       "  <tbody>\n",
       "    <tr>\n",
       "      <th>0</th>\n",
       "      <td>57719</td>\n",
       "      <td>2019-06-26 00:00:10</td>\n",
       "      <td>2019-06-26 00:06:19</td>\n",
       "      <td>Skarbowców / Wietrzna</td>\n",
       "      <td>Krzycka / Aleja Karkonoska (Park Południowy)</td>\n",
       "      <td>00:06:09</td>\n",
       "      <td>51.073290</td>\n",
       "      <td>16.994850</td>\n",
       "      <td>51.074992</td>\n",
       "      <td>17.007058</td>\n",
       "      <td>False</td>\n",
       "      <td>3</td>\n",
       "      <td>False</td>\n",
       "      <td>3</td>\n",
       "      <td>0</td>\n",
       "      <td>6</td>\n",
       "    </tr>\n",
       "    <tr>\n",
       "      <th>1</th>\n",
       "      <td>650480</td>\n",
       "      <td>2019-06-26 00:00:13</td>\n",
       "      <td>2019-06-26 00:06:59</td>\n",
       "      <td>Rynek</td>\n",
       "      <td>Plac Legionów</td>\n",
       "      <td>00:06:46</td>\n",
       "      <td>51.109782</td>\n",
       "      <td>17.030175</td>\n",
       "      <td>51.104413</td>\n",
       "      <td>17.022536</td>\n",
       "      <td>False</td>\n",
       "      <td>3</td>\n",
       "      <td>False</td>\n",
       "      <td>3</td>\n",
       "      <td>0</td>\n",
       "      <td>6</td>\n",
       "    </tr>\n",
       "    <tr>\n",
       "      <th>2</th>\n",
       "      <td>650988</td>\n",
       "      <td>2019-06-26 00:00:15</td>\n",
       "      <td>2019-06-26 00:13:32</td>\n",
       "      <td>Poza oficjalną stacją</td>\n",
       "      <td>Wałbrzyska - pętla tramwajowa</td>\n",
       "      <td>00:13:17</td>\n",
       "      <td>NaN</td>\n",
       "      <td>NaN</td>\n",
       "      <td>51.065777</td>\n",
       "      <td>16.988575</td>\n",
       "      <td>True</td>\n",
       "      <td>3</td>\n",
       "      <td>False</td>\n",
       "      <td>3</td>\n",
       "      <td>0</td>\n",
       "      <td>6</td>\n",
       "    </tr>\n",
       "    <tr>\n",
       "      <th>3</th>\n",
       "      <td>57603</td>\n",
       "      <td>2019-06-26 00:00:21</td>\n",
       "      <td>2019-06-26 00:23:53</td>\n",
       "      <td>Plac Uniwersytecki (UWr)</td>\n",
       "      <td>Legnicka / Wejherowska</td>\n",
       "      <td>00:23:32</td>\n",
       "      <td>51.113871</td>\n",
       "      <td>17.034484</td>\n",
       "      <td>51.125276</td>\n",
       "      <td>16.984447</td>\n",
       "      <td>False</td>\n",
       "      <td>3</td>\n",
       "      <td>False</td>\n",
       "      <td>3</td>\n",
       "      <td>0</td>\n",
       "      <td>6</td>\n",
       "    </tr>\n",
       "    <tr>\n",
       "      <th>4</th>\n",
       "      <td>650067</td>\n",
       "      <td>2019-06-26 00:00:40</td>\n",
       "      <td>2019-06-26 00:04:40</td>\n",
       "      <td>Powstańców Śląskich (Arkady Wrocławskie)</td>\n",
       "      <td>Powstańców Śląskich (Arkady Wrocławskie)</td>\n",
       "      <td>00:04:00</td>\n",
       "      <td>51.099713</td>\n",
       "      <td>17.027905</td>\n",
       "      <td>51.099713</td>\n",
       "      <td>17.027905</td>\n",
       "      <td>True</td>\n",
       "      <td>3</td>\n",
       "      <td>False</td>\n",
       "      <td>3</td>\n",
       "      <td>0</td>\n",
       "      <td>6</td>\n",
       "    </tr>\n",
       "  </tbody>\n",
       "</table>\n",
       "</div>"
      ],
      "text/plain": [
       "   Bike number     Rental datetime     Return datetime  \\\n",
       "0        57719 2019-06-26 00:00:10 2019-06-26 00:06:19   \n",
       "1       650480 2019-06-26 00:00:13 2019-06-26 00:06:59   \n",
       "2       650988 2019-06-26 00:00:15 2019-06-26 00:13:32   \n",
       "3        57603 2019-06-26 00:00:21 2019-06-26 00:23:53   \n",
       "4       650067 2019-06-26 00:00:40 2019-06-26 00:04:40   \n",
       "\n",
       "                             Rental station  \\\n",
       "0                     Skarbowców / Wietrzna   \n",
       "1                                     Rynek   \n",
       "2                     Poza oficjalną stacją   \n",
       "3                  Plac Uniwersytecki (UWr)   \n",
       "4  Powstańców Śląskich (Arkady Wrocławskie)   \n",
       "\n",
       "                                 Return station Duration  \\\n",
       "0  Krzycka / Aleja Karkonoska (Park Południowy) 00:06:09   \n",
       "1                                 Plac Legionów 00:06:46   \n",
       "2                 Wałbrzyska - pętla tramwajowa 00:13:17   \n",
       "3                        Legnicka / Wejherowska 00:23:32   \n",
       "4      Powstańców Śląskich (Arkady Wrocławskie) 00:04:00   \n",
       "\n",
       "   Rental station latitude  Rental station longitude  Return station latitude  \\\n",
       "0                51.073290                 16.994850                51.074992   \n",
       "1                51.109782                 17.030175                51.104413   \n",
       "2                      NaN                       NaN                51.065777   \n",
       "3                51.113871                 17.034484                51.125276   \n",
       "4                51.099713                 17.027905                51.099713   \n",
       "\n",
       "   Return station longitude  IsDeleted  Season  Holidays  Rental day of week  \\\n",
       "0                 17.007058      False       3     False                   3   \n",
       "1                 17.022536      False       3     False                   3   \n",
       "2                 16.988575       True       3     False                   3   \n",
       "3                 16.984447      False       3     False                   3   \n",
       "4                 17.027905       True       3     False                   3   \n",
       "\n",
       "   Rental hour  Rental month  \n",
       "0            0             6  \n",
       "1            0             6  \n",
       "2            0             6  \n",
       "3            0             6  \n",
       "4            0             6  "
      ]
     },
     "execution_count": 10,
     "metadata": {},
     "output_type": "execute_result"
    }
   ],
   "source": [
    "bike_rentals_df.head()"
   ]
  },
  {
   "cell_type": "markdown",
   "metadata": {},
   "source": [
    "# Visual inspection of soft deleted records"
   ]
  },
  {
   "cell_type": "code",
   "execution_count": 11,
   "metadata": {
    "ExecuteTime": {
     "end_time": "2019-11-03T09:24:43.015030Z",
     "start_time": "2019-11-03T09:24:42.993566Z"
    }
   },
   "outputs": [
    {
     "name": "stdout",
     "output_type": "stream",
     "text": [
      "Number of soft deleted records: 124379\n"
     ]
    }
   ],
   "source": [
    "print(f\"Number of soft deleted records: {bike_rentals_df[bike_rentals_df['IsDeleted'] == True].shape[0]}\")"
   ]
  },
  {
   "cell_type": "code",
   "execution_count": 12,
   "metadata": {
    "ExecuteTime": {
     "end_time": "2019-11-03T09:24:43.029110Z",
     "start_time": "2019-11-03T09:24:43.016885Z"
    }
   },
   "outputs": [
    {
     "data": {
      "text/plain": [
       "Poza oficjalną stacją              29292\n",
       "Pełczyńska / stacja kolejowa         193\n",
       ".RELOKACYJNA A1-4                     73\n",
       "Teststation IT - Adrian (VP)          28\n",
       "BIKE                                  21\n",
       "0, 0                                  10\n",
       "plac Nankiera                          6\n",
       "recording_80356921                     3\n",
       "BIKE 57509                             2\n",
       "Bierutowska 48                         2\n",
       ".GOTOWE DO REZERWACJI                  2\n",
       "Podwale 73                             1\n",
       "Łąkowa                                 1\n",
       "Generała Stanisława Kopańskiego        1\n",
       "Eugeniusza Kwiatkowskiego              1\n",
       "Główna 1a                              1\n",
       "Kobierzycka 5                          1\n",
       "Osobowicka                             1\n",
       "Kazimierza Michalczyka                 1\n",
       "Benedykta Polaka 16                    1\n",
       "Stanisława Worcella 8                  1\n",
       "Czekoladowa 5A                         1\n",
       "Tadeusza Kościuszki 80a                1\n",
       "Wiaduktowa                             1\n",
       "Boguszowska 38b                        1\n",
       "Świętej Katarzyny 17                   1\n",
       "wjazd                                  1\n",
       "Na Grobli                              1\n",
       "Na Grobli 28                           1\n",
       "Legnicka                               1\n",
       "Centralna 28                           1\n",
       "Władysława Czaplińskiego 32            1\n",
       "Cesarzowicka 5                         1\n",
       "#RELOKACYJNA                           1\n",
       "Wojciecha Bogusławskiego 19            1\n",
       "Krzemieniecka                          1\n",
       "Sucha 2                                1\n",
       "Na Grobli 16                           1\n",
       "Mydlana                                1\n",
       "Marii Curie-Skłodowskiej 38            1\n",
       "Kwidzyńska 4                           1\n",
       "Szwajcarska 22                         1\n",
       "Witkowska 34a                          1\n",
       "Krakowska 13                           1\n",
       "Kanałowa                               1\n",
       "Buforowa 4                             1\n",
       "Północna 15-19 2.1b                    1\n",
       "Wyścigowa 56g                          1\n",
       "Tadeusza Kościuszki                    1\n",
       "Krowia                                 1\n",
       "Name: Rental station, dtype: int64"
      ]
     },
     "execution_count": 12,
     "metadata": {},
     "output_type": "execute_result"
    }
   ],
   "source": [
    "bike_rentals_df.loc[bike_rentals_df['Rental station latitude'].isnull(), 'Rental station'].value_counts()"
   ]
  },
  {
   "cell_type": "code",
   "execution_count": 13,
   "metadata": {
    "ExecuteTime": {
     "end_time": "2019-11-03T09:24:43.042787Z",
     "start_time": "2019-11-03T09:24:43.031641Z"
    }
   },
   "outputs": [
    {
     "data": {
      "text/plain": [
       "Poza oficjalną stacją              26114\n",
       "Pełczyńska / stacja kolejowa         175\n",
       "Teststation IT - Adrian (VP)          27\n",
       "BIKE                                  15\n",
       ".RELOKACYJNA A1-4                     13\n",
       "0, 0                                   7\n",
       "plac Nankiera                          6\n",
       "recording_80356921                     3\n",
       "BIKE 57509                             2\n",
       "Bierutowska 48                         2\n",
       "Mydlana                                1\n",
       "Sołtysowicka 27e                       1\n",
       "Eugeniusza Kwiatkowskiego              1\n",
       "Główna 1a                              1\n",
       "Sucha 2                                1\n",
       "Władysława Czaplińskiego 32            1\n",
       "Centralna 28                           1\n",
       "Kobierzycka 5                          1\n",
       "Stanisława Worcella 8                  1\n",
       "Wilkszyńska 55                         1\n",
       "Czekoladowa 5A                         1\n",
       "Wiaduktowa                             1\n",
       "Boguszowska 38b                        1\n",
       "15092                                  1\n",
       "Skarbowców 23a                         1\n",
       "Świętej Katarzyny 17                   1\n",
       "Generała Stanisława Kopańskiego        1\n",
       "Łąkowa                                 1\n",
       "Marii Curie-Skłodowskiej 38            1\n",
       "Buforowa 4                             1\n",
       "Kwidzyńska 4                           1\n",
       "Szwajcarska 22                         1\n",
       "Pełczyńska                             1\n",
       "Witkowska 34a                          1\n",
       "Krakowska 13                           1\n",
       "Kanałowa                               1\n",
       "Północna 15-19 2.1b                    1\n",
       "wjazd                                  1\n",
       "Wyścigowa 56g                          1\n",
       "Na Grobli 16                           1\n",
       "Legnicka                               1\n",
       "Na Grobli                              1\n",
       "Na Grobli 28                           1\n",
       "Kazimierza Michalczyka                 1\n",
       "Krowia                                 1\n",
       "Name: Return station, dtype: int64"
      ]
     },
     "execution_count": 13,
     "metadata": {},
     "output_type": "execute_result"
    }
   ],
   "source": [
    "bike_rentals_df.loc[bike_rentals_df['Return station latitude'].isnull(), 'Return station'].value_counts()"
   ]
  },
  {
   "cell_type": "markdown",
   "metadata": {},
   "source": [
    "## Rentals returned to the same bike station"
   ]
  },
  {
   "cell_type": "code",
   "execution_count": 14,
   "metadata": {
    "ExecuteTime": {
     "end_time": "2019-11-03T09:24:43.097420Z",
     "start_time": "2019-11-03T09:24:43.044925Z"
    }
   },
   "outputs": [
    {
     "name": "stdout",
     "output_type": "stream",
     "text": [
      "Number of records: 77822\n"
     ]
    }
   ],
   "source": [
    "idx = (bike_rentals_df['IsDeleted'] == True) & \\\n",
    "      (bike_rentals_df['Rental station'] == bike_rentals_df['Return station'])\n",
    "print(f\"Number of records: {bike_rentals_df.loc[idx, :].shape[0]}\")"
   ]
  },
  {
   "cell_type": "markdown",
   "metadata": {},
   "source": [
    "### Inspection"
   ]
  },
  {
   "cell_type": "code",
   "execution_count": 15,
   "metadata": {
    "ExecuteTime": {
     "end_time": "2019-11-03T09:24:43.134467Z",
     "start_time": "2019-11-03T09:24:43.099575Z"
    }
   },
   "outputs": [
    {
     "data": {
      "text/html": [
       "<div>\n",
       "<style scoped>\n",
       "    .dataframe tbody tr th:only-of-type {\n",
       "        vertical-align: middle;\n",
       "    }\n",
       "\n",
       "    .dataframe tbody tr th {\n",
       "        vertical-align: top;\n",
       "    }\n",
       "\n",
       "    .dataframe thead th {\n",
       "        text-align: right;\n",
       "    }\n",
       "</style>\n",
       "<table border=\"1\" class=\"dataframe\">\n",
       "  <thead>\n",
       "    <tr style=\"text-align: right;\">\n",
       "      <th></th>\n",
       "      <th>Bike number</th>\n",
       "      <th>Rental datetime</th>\n",
       "      <th>Return datetime</th>\n",
       "      <th>Rental station</th>\n",
       "      <th>Return station</th>\n",
       "      <th>Duration</th>\n",
       "      <th>Rental station latitude</th>\n",
       "      <th>Rental station longitude</th>\n",
       "      <th>Return station latitude</th>\n",
       "      <th>Return station longitude</th>\n",
       "      <th>IsDeleted</th>\n",
       "      <th>Season</th>\n",
       "      <th>Holidays</th>\n",
       "      <th>Rental day of week</th>\n",
       "      <th>Rental hour</th>\n",
       "      <th>Rental month</th>\n",
       "    </tr>\n",
       "  </thead>\n",
       "  <tbody>\n",
       "    <tr>\n",
       "      <th>4</th>\n",
       "      <td>650067</td>\n",
       "      <td>2019-06-26 00:00:40</td>\n",
       "      <td>2019-06-26 00:04:40</td>\n",
       "      <td>Powstańców Śląskich (Arkady Wrocławskie)</td>\n",
       "      <td>Powstańców Śląskich (Arkady Wrocławskie)</td>\n",
       "      <td>00:04:00</td>\n",
       "      <td>51.099713</td>\n",
       "      <td>17.027905</td>\n",
       "      <td>51.099713</td>\n",
       "      <td>17.027905</td>\n",
       "      <td>True</td>\n",
       "      <td>3</td>\n",
       "      <td>False</td>\n",
       "      <td>3</td>\n",
       "      <td>0</td>\n",
       "      <td>6</td>\n",
       "    </tr>\n",
       "    <tr>\n",
       "      <th>5</th>\n",
       "      <td>650020</td>\n",
       "      <td>2019-06-26 00:00:52</td>\n",
       "      <td>2019-06-26 00:01:41</td>\n",
       "      <td>Plac Grunwaldzki / Polaka</td>\n",
       "      <td>Plac Grunwaldzki / Polaka</td>\n",
       "      <td>00:00:49</td>\n",
       "      <td>51.110415</td>\n",
       "      <td>17.055591</td>\n",
       "      <td>51.110415</td>\n",
       "      <td>17.055591</td>\n",
       "      <td>True</td>\n",
       "      <td>3</td>\n",
       "      <td>False</td>\n",
       "      <td>3</td>\n",
       "      <td>0</td>\n",
       "      <td>6</td>\n",
       "    </tr>\n",
       "    <tr>\n",
       "      <th>6</th>\n",
       "      <td>650072</td>\n",
       "      <td>2019-06-26 00:01:04</td>\n",
       "      <td>2019-06-26 00:01:58</td>\n",
       "      <td>Plac Grunwaldzki / Polaka</td>\n",
       "      <td>Plac Grunwaldzki / Polaka</td>\n",
       "      <td>00:00:54</td>\n",
       "      <td>51.110415</td>\n",
       "      <td>17.055591</td>\n",
       "      <td>51.110415</td>\n",
       "      <td>17.055591</td>\n",
       "      <td>True</td>\n",
       "      <td>3</td>\n",
       "      <td>False</td>\n",
       "      <td>3</td>\n",
       "      <td>0</td>\n",
       "      <td>6</td>\n",
       "    </tr>\n",
       "    <tr>\n",
       "      <th>7</th>\n",
       "      <td>57855</td>\n",
       "      <td>2019-06-26 00:01:22</td>\n",
       "      <td>2019-06-26 00:19:56</td>\n",
       "      <td>Kościuszki / Pułaskiego</td>\n",
       "      <td>Kościuszki / Pułaskiego</td>\n",
       "      <td>00:18:34</td>\n",
       "      <td>51.100400</td>\n",
       "      <td>17.045083</td>\n",
       "      <td>51.100400</td>\n",
       "      <td>17.045083</td>\n",
       "      <td>True</td>\n",
       "      <td>3</td>\n",
       "      <td>False</td>\n",
       "      <td>3</td>\n",
       "      <td>0</td>\n",
       "      <td>6</td>\n",
       "    </tr>\n",
       "    <tr>\n",
       "      <th>9</th>\n",
       "      <td>57856</td>\n",
       "      <td>2019-06-26 00:01:57</td>\n",
       "      <td>2019-06-26 00:02:24</td>\n",
       "      <td>Kamienna / Borowska (Aquapark)</td>\n",
       "      <td>Kamienna / Borowska (Aquapark)</td>\n",
       "      <td>00:00:27</td>\n",
       "      <td>51.088908</td>\n",
       "      <td>17.034051</td>\n",
       "      <td>51.088908</td>\n",
       "      <td>17.034051</td>\n",
       "      <td>True</td>\n",
       "      <td>3</td>\n",
       "      <td>False</td>\n",
       "      <td>3</td>\n",
       "      <td>0</td>\n",
       "      <td>6</td>\n",
       "    </tr>\n",
       "    <tr>\n",
       "      <th>...</th>\n",
       "      <td>...</td>\n",
       "      <td>...</td>\n",
       "      <td>...</td>\n",
       "      <td>...</td>\n",
       "      <td>...</td>\n",
       "      <td>...</td>\n",
       "      <td>...</td>\n",
       "      <td>...</td>\n",
       "      <td>...</td>\n",
       "      <td>...</td>\n",
       "      <td>...</td>\n",
       "      <td>...</td>\n",
       "      <td>...</td>\n",
       "      <td>...</td>\n",
       "      <td>...</td>\n",
       "      <td>...</td>\n",
       "    </tr>\n",
       "    <tr>\n",
       "      <th>461398</th>\n",
       "      <td>57806</td>\n",
       "      <td>2019-10-30 23:50:00</td>\n",
       "      <td>2019-10-30 23:56:00</td>\n",
       "      <td>Drobnera / Plac Bema</td>\n",
       "      <td>Drobnera / Plac Bema</td>\n",
       "      <td>00:06:00</td>\n",
       "      <td>51.117557</td>\n",
       "      <td>17.040967</td>\n",
       "      <td>51.117557</td>\n",
       "      <td>17.040967</td>\n",
       "      <td>True</td>\n",
       "      <td>4</td>\n",
       "      <td>False</td>\n",
       "      <td>3</td>\n",
       "      <td>23</td>\n",
       "      <td>10</td>\n",
       "    </tr>\n",
       "    <tr>\n",
       "      <th>461399</th>\n",
       "      <td>57307</td>\n",
       "      <td>2019-10-30 23:50:00</td>\n",
       "      <td>2019-10-30 23:58:00</td>\n",
       "      <td>Drobnera / Plac Bema</td>\n",
       "      <td>Drobnera / Plac Bema</td>\n",
       "      <td>00:08:00</td>\n",
       "      <td>51.117557</td>\n",
       "      <td>17.040967</td>\n",
       "      <td>51.117557</td>\n",
       "      <td>17.040967</td>\n",
       "      <td>True</td>\n",
       "      <td>4</td>\n",
       "      <td>False</td>\n",
       "      <td>3</td>\n",
       "      <td>23</td>\n",
       "      <td>10</td>\n",
       "    </tr>\n",
       "    <tr>\n",
       "      <th>461400</th>\n",
       "      <td>650865</td>\n",
       "      <td>2019-10-30 23:51:00</td>\n",
       "      <td>2019-10-30 23:52:00</td>\n",
       "      <td>Traugutta / Pułaskiego</td>\n",
       "      <td>Traugutta / Pułaskiego</td>\n",
       "      <td>00:01:00</td>\n",
       "      <td>51.104571</td>\n",
       "      <td>17.048102</td>\n",
       "      <td>51.104571</td>\n",
       "      <td>17.048102</td>\n",
       "      <td>True</td>\n",
       "      <td>4</td>\n",
       "      <td>False</td>\n",
       "      <td>3</td>\n",
       "      <td>23</td>\n",
       "      <td>10</td>\n",
       "    </tr>\n",
       "    <tr>\n",
       "      <th>461402</th>\n",
       "      <td>57852</td>\n",
       "      <td>2019-10-30 23:52:00</td>\n",
       "      <td>2019-10-30 23:58:00</td>\n",
       "      <td>Plac Dominikański (Galeria Dominikańska)</td>\n",
       "      <td>Plac Dominikański (Galeria Dominikańska)</td>\n",
       "      <td>00:06:00</td>\n",
       "      <td>51.108004</td>\n",
       "      <td>17.039528</td>\n",
       "      <td>51.108004</td>\n",
       "      <td>17.039528</td>\n",
       "      <td>True</td>\n",
       "      <td>4</td>\n",
       "      <td>False</td>\n",
       "      <td>3</td>\n",
       "      <td>23</td>\n",
       "      <td>10</td>\n",
       "    </tr>\n",
       "    <tr>\n",
       "      <th>461404</th>\n",
       "      <td>650249</td>\n",
       "      <td>2019-10-30 23:52:00</td>\n",
       "      <td>2019-10-30 23:54:00</td>\n",
       "      <td>Szewska / Kazimierza Wielkiego</td>\n",
       "      <td>Szewska / Kazimierza Wielkiego</td>\n",
       "      <td>00:02:00</td>\n",
       "      <td>51.107471</td>\n",
       "      <td>17.033335</td>\n",
       "      <td>51.107471</td>\n",
       "      <td>17.033335</td>\n",
       "      <td>True</td>\n",
       "      <td>4</td>\n",
       "      <td>False</td>\n",
       "      <td>3</td>\n",
       "      <td>23</td>\n",
       "      <td>10</td>\n",
       "    </tr>\n",
       "  </tbody>\n",
       "</table>\n",
       "<p>77822 rows × 16 columns</p>\n",
       "</div>"
      ],
      "text/plain": [
       "        Bike number     Rental datetime     Return datetime  \\\n",
       "4            650067 2019-06-26 00:00:40 2019-06-26 00:04:40   \n",
       "5            650020 2019-06-26 00:00:52 2019-06-26 00:01:41   \n",
       "6            650072 2019-06-26 00:01:04 2019-06-26 00:01:58   \n",
       "7             57855 2019-06-26 00:01:22 2019-06-26 00:19:56   \n",
       "9             57856 2019-06-26 00:01:57 2019-06-26 00:02:24   \n",
       "...             ...                 ...                 ...   \n",
       "461398        57806 2019-10-30 23:50:00 2019-10-30 23:56:00   \n",
       "461399        57307 2019-10-30 23:50:00 2019-10-30 23:58:00   \n",
       "461400       650865 2019-10-30 23:51:00 2019-10-30 23:52:00   \n",
       "461402        57852 2019-10-30 23:52:00 2019-10-30 23:58:00   \n",
       "461404       650249 2019-10-30 23:52:00 2019-10-30 23:54:00   \n",
       "\n",
       "                                  Rental station  \\\n",
       "4       Powstańców Śląskich (Arkady Wrocławskie)   \n",
       "5                      Plac Grunwaldzki / Polaka   \n",
       "6                      Plac Grunwaldzki / Polaka   \n",
       "7                        Kościuszki / Pułaskiego   \n",
       "9                 Kamienna / Borowska (Aquapark)   \n",
       "...                                          ...   \n",
       "461398                      Drobnera / Plac Bema   \n",
       "461399                      Drobnera / Plac Bema   \n",
       "461400                    Traugutta / Pułaskiego   \n",
       "461402  Plac Dominikański (Galeria Dominikańska)   \n",
       "461404            Szewska / Kazimierza Wielkiego   \n",
       "\n",
       "                                  Return station Duration  \\\n",
       "4       Powstańców Śląskich (Arkady Wrocławskie) 00:04:00   \n",
       "5                      Plac Grunwaldzki / Polaka 00:00:49   \n",
       "6                      Plac Grunwaldzki / Polaka 00:00:54   \n",
       "7                        Kościuszki / Pułaskiego 00:18:34   \n",
       "9                 Kamienna / Borowska (Aquapark) 00:00:27   \n",
       "...                                          ...      ...   \n",
       "461398                      Drobnera / Plac Bema 00:06:00   \n",
       "461399                      Drobnera / Plac Bema 00:08:00   \n",
       "461400                    Traugutta / Pułaskiego 00:01:00   \n",
       "461402  Plac Dominikański (Galeria Dominikańska) 00:06:00   \n",
       "461404            Szewska / Kazimierza Wielkiego 00:02:00   \n",
       "\n",
       "        Rental station latitude  Rental station longitude  \\\n",
       "4                     51.099713                 17.027905   \n",
       "5                     51.110415                 17.055591   \n",
       "6                     51.110415                 17.055591   \n",
       "7                     51.100400                 17.045083   \n",
       "9                     51.088908                 17.034051   \n",
       "...                         ...                       ...   \n",
       "461398                51.117557                 17.040967   \n",
       "461399                51.117557                 17.040967   \n",
       "461400                51.104571                 17.048102   \n",
       "461402                51.108004                 17.039528   \n",
       "461404                51.107471                 17.033335   \n",
       "\n",
       "        Return station latitude  Return station longitude  IsDeleted  Season  \\\n",
       "4                     51.099713                 17.027905       True       3   \n",
       "5                     51.110415                 17.055591       True       3   \n",
       "6                     51.110415                 17.055591       True       3   \n",
       "7                     51.100400                 17.045083       True       3   \n",
       "9                     51.088908                 17.034051       True       3   \n",
       "...                         ...                       ...        ...     ...   \n",
       "461398                51.117557                 17.040967       True       4   \n",
       "461399                51.117557                 17.040967       True       4   \n",
       "461400                51.104571                 17.048102       True       4   \n",
       "461402                51.108004                 17.039528       True       4   \n",
       "461404                51.107471                 17.033335       True       4   \n",
       "\n",
       "        Holidays  Rental day of week  Rental hour  Rental month  \n",
       "4          False                   3            0             6  \n",
       "5          False                   3            0             6  \n",
       "6          False                   3            0             6  \n",
       "7          False                   3            0             6  \n",
       "9          False                   3            0             6  \n",
       "...          ...                 ...          ...           ...  \n",
       "461398     False                   3           23            10  \n",
       "461399     False                   3           23            10  \n",
       "461400     False                   3           23            10  \n",
       "461402     False                   3           23            10  \n",
       "461404     False                   3           23            10  \n",
       "\n",
       "[77822 rows x 16 columns]"
      ]
     },
     "execution_count": 15,
     "metadata": {},
     "output_type": "execute_result"
    }
   ],
   "source": [
    "bike_rentals_df.loc[idx, :]"
   ]
  },
  {
   "cell_type": "code",
   "execution_count": 16,
   "metadata": {
    "ExecuteTime": {
     "end_time": "2019-11-03T09:24:43.202638Z",
     "start_time": "2019-11-03T09:24:43.136074Z"
    }
   },
   "outputs": [
    {
     "data": {
      "text/html": [
       "<div>\n",
       "<style scoped>\n",
       "    .dataframe tbody tr th:only-of-type {\n",
       "        vertical-align: middle;\n",
       "    }\n",
       "\n",
       "    .dataframe tbody tr th {\n",
       "        vertical-align: top;\n",
       "    }\n",
       "\n",
       "    .dataframe thead th {\n",
       "        text-align: right;\n",
       "    }\n",
       "</style>\n",
       "<table border=\"1\" class=\"dataframe\">\n",
       "  <thead>\n",
       "    <tr style=\"text-align: right;\">\n",
       "      <th></th>\n",
       "      <th>Bike number</th>\n",
       "      <th>Rental datetime</th>\n",
       "      <th>Return datetime</th>\n",
       "      <th>Rental station</th>\n",
       "      <th>Return station</th>\n",
       "      <th>Duration</th>\n",
       "      <th>Rental station latitude</th>\n",
       "      <th>Rental station longitude</th>\n",
       "      <th>Return station latitude</th>\n",
       "      <th>Return station longitude</th>\n",
       "      <th>IsDeleted</th>\n",
       "      <th>Season</th>\n",
       "      <th>Holidays</th>\n",
       "      <th>Rental day of week</th>\n",
       "      <th>Rental hour</th>\n",
       "      <th>Rental month</th>\n",
       "    </tr>\n",
       "  </thead>\n",
       "  <tbody>\n",
       "    <tr>\n",
       "      <th>5</th>\n",
       "      <td>650020</td>\n",
       "      <td>2019-06-26 00:00:52</td>\n",
       "      <td>2019-06-26 00:01:41</td>\n",
       "      <td>Plac Grunwaldzki / Polaka</td>\n",
       "      <td>Plac Grunwaldzki / Polaka</td>\n",
       "      <td>00:00:49</td>\n",
       "      <td>51.110415</td>\n",
       "      <td>17.055591</td>\n",
       "      <td>51.110415</td>\n",
       "      <td>17.055591</td>\n",
       "      <td>True</td>\n",
       "      <td>3</td>\n",
       "      <td>False</td>\n",
       "      <td>3</td>\n",
       "      <td>0</td>\n",
       "      <td>6</td>\n",
       "    </tr>\n",
       "    <tr>\n",
       "      <th>6</th>\n",
       "      <td>650072</td>\n",
       "      <td>2019-06-26 00:01:04</td>\n",
       "      <td>2019-06-26 00:01:58</td>\n",
       "      <td>Plac Grunwaldzki / Polaka</td>\n",
       "      <td>Plac Grunwaldzki / Polaka</td>\n",
       "      <td>00:00:54</td>\n",
       "      <td>51.110415</td>\n",
       "      <td>17.055591</td>\n",
       "      <td>51.110415</td>\n",
       "      <td>17.055591</td>\n",
       "      <td>True</td>\n",
       "      <td>3</td>\n",
       "      <td>False</td>\n",
       "      <td>3</td>\n",
       "      <td>0</td>\n",
       "      <td>6</td>\n",
       "    </tr>\n",
       "    <tr>\n",
       "      <th>9</th>\n",
       "      <td>57856</td>\n",
       "      <td>2019-06-26 00:01:57</td>\n",
       "      <td>2019-06-26 00:02:24</td>\n",
       "      <td>Kamienna / Borowska (Aquapark)</td>\n",
       "      <td>Kamienna / Borowska (Aquapark)</td>\n",
       "      <td>00:00:27</td>\n",
       "      <td>51.088908</td>\n",
       "      <td>17.034051</td>\n",
       "      <td>51.088908</td>\n",
       "      <td>17.034051</td>\n",
       "      <td>True</td>\n",
       "      <td>3</td>\n",
       "      <td>False</td>\n",
       "      <td>3</td>\n",
       "      <td>0</td>\n",
       "      <td>6</td>\n",
       "    </tr>\n",
       "    <tr>\n",
       "      <th>17</th>\n",
       "      <td>650544</td>\n",
       "      <td>2019-06-26 00:02:50</td>\n",
       "      <td>2019-06-26 00:03:47</td>\n",
       "      <td>Wróblewskiego (Teki)</td>\n",
       "      <td>Wróblewskiego (Teki)</td>\n",
       "      <td>00:00:57</td>\n",
       "      <td>51.104110</td>\n",
       "      <td>17.084711</td>\n",
       "      <td>51.104110</td>\n",
       "      <td>17.084711</td>\n",
       "      <td>True</td>\n",
       "      <td>3</td>\n",
       "      <td>False</td>\n",
       "      <td>3</td>\n",
       "      <td>0</td>\n",
       "      <td>6</td>\n",
       "    </tr>\n",
       "    <tr>\n",
       "      <th>18</th>\n",
       "      <td>650601</td>\n",
       "      <td>2019-06-26 00:03:04</td>\n",
       "      <td>2019-06-26 00:04:03</td>\n",
       "      <td>Drobnera / Dubois</td>\n",
       "      <td>Drobnera / Dubois</td>\n",
       "      <td>00:00:59</td>\n",
       "      <td>51.117032</td>\n",
       "      <td>17.033499</td>\n",
       "      <td>51.117032</td>\n",
       "      <td>17.033499</td>\n",
       "      <td>True</td>\n",
       "      <td>3</td>\n",
       "      <td>False</td>\n",
       "      <td>3</td>\n",
       "      <td>0</td>\n",
       "      <td>6</td>\n",
       "    </tr>\n",
       "    <tr>\n",
       "      <th>...</th>\n",
       "      <td>...</td>\n",
       "      <td>...</td>\n",
       "      <td>...</td>\n",
       "      <td>...</td>\n",
       "      <td>...</td>\n",
       "      <td>...</td>\n",
       "      <td>...</td>\n",
       "      <td>...</td>\n",
       "      <td>...</td>\n",
       "      <td>...</td>\n",
       "      <td>...</td>\n",
       "      <td>...</td>\n",
       "      <td>...</td>\n",
       "      <td>...</td>\n",
       "      <td>...</td>\n",
       "      <td>...</td>\n",
       "    </tr>\n",
       "    <tr>\n",
       "      <th>461242</th>\n",
       "      <td>650764</td>\n",
       "      <td>2019-10-30 21:43:00</td>\n",
       "      <td>2019-10-30 21:43:00</td>\n",
       "      <td>Bezpieczna / Obornicka</td>\n",
       "      <td>Bezpieczna / Obornicka</td>\n",
       "      <td>00:00:00</td>\n",
       "      <td>51.141560</td>\n",
       "      <td>17.025870</td>\n",
       "      <td>51.141560</td>\n",
       "      <td>17.025870</td>\n",
       "      <td>True</td>\n",
       "      <td>4</td>\n",
       "      <td>False</td>\n",
       "      <td>3</td>\n",
       "      <td>21</td>\n",
       "      <td>10</td>\n",
       "    </tr>\n",
       "    <tr>\n",
       "      <th>461312</th>\n",
       "      <td>650100</td>\n",
       "      <td>2019-10-30 22:32:00</td>\n",
       "      <td>2019-10-30 22:32:00</td>\n",
       "      <td>Wita Stwosza / Szewska</td>\n",
       "      <td>Wita Stwosza / Szewska</td>\n",
       "      <td>00:00:00</td>\n",
       "      <td>51.110274</td>\n",
       "      <td>17.034912</td>\n",
       "      <td>51.110274</td>\n",
       "      <td>17.034912</td>\n",
       "      <td>True</td>\n",
       "      <td>4</td>\n",
       "      <td>False</td>\n",
       "      <td>3</td>\n",
       "      <td>22</td>\n",
       "      <td>10</td>\n",
       "    </tr>\n",
       "    <tr>\n",
       "      <th>461356</th>\n",
       "      <td>57856</td>\n",
       "      <td>2019-10-30 23:03:00</td>\n",
       "      <td>2019-10-30 23:03:00</td>\n",
       "      <td>Kiełczowska</td>\n",
       "      <td>Kiełczowska</td>\n",
       "      <td>00:00:00</td>\n",
       "      <td>51.145740</td>\n",
       "      <td>17.134930</td>\n",
       "      <td>51.145740</td>\n",
       "      <td>17.134930</td>\n",
       "      <td>True</td>\n",
       "      <td>4</td>\n",
       "      <td>False</td>\n",
       "      <td>3</td>\n",
       "      <td>23</td>\n",
       "      <td>10</td>\n",
       "    </tr>\n",
       "    <tr>\n",
       "      <th>461377</th>\n",
       "      <td>57978</td>\n",
       "      <td>2019-10-30 23:15:00</td>\n",
       "      <td>2019-10-30 23:15:00</td>\n",
       "      <td>Plac Kościuszki (Renoma)</td>\n",
       "      <td>Plac Kościuszki (Renoma)</td>\n",
       "      <td>00:00:00</td>\n",
       "      <td>51.103354</td>\n",
       "      <td>17.030704</td>\n",
       "      <td>51.103354</td>\n",
       "      <td>17.030704</td>\n",
       "      <td>True</td>\n",
       "      <td>4</td>\n",
       "      <td>False</td>\n",
       "      <td>3</td>\n",
       "      <td>23</td>\n",
       "      <td>10</td>\n",
       "    </tr>\n",
       "    <tr>\n",
       "      <th>461387</th>\n",
       "      <td>57904</td>\n",
       "      <td>2019-10-30 23:29:00</td>\n",
       "      <td>2019-10-30 23:29:00</td>\n",
       "      <td>Nowowiejska / Górnickiego</td>\n",
       "      <td>Nowowiejska / Górnickiego</td>\n",
       "      <td>00:00:00</td>\n",
       "      <td>51.119311</td>\n",
       "      <td>17.056784</td>\n",
       "      <td>51.119311</td>\n",
       "      <td>17.056784</td>\n",
       "      <td>True</td>\n",
       "      <td>4</td>\n",
       "      <td>False</td>\n",
       "      <td>3</td>\n",
       "      <td>23</td>\n",
       "      <td>10</td>\n",
       "    </tr>\n",
       "  </tbody>\n",
       "</table>\n",
       "<p>15214 rows × 16 columns</p>\n",
       "</div>"
      ],
      "text/plain": [
       "        Bike number     Rental datetime     Return datetime  \\\n",
       "5            650020 2019-06-26 00:00:52 2019-06-26 00:01:41   \n",
       "6            650072 2019-06-26 00:01:04 2019-06-26 00:01:58   \n",
       "9             57856 2019-06-26 00:01:57 2019-06-26 00:02:24   \n",
       "17           650544 2019-06-26 00:02:50 2019-06-26 00:03:47   \n",
       "18           650601 2019-06-26 00:03:04 2019-06-26 00:04:03   \n",
       "...             ...                 ...                 ...   \n",
       "461242       650764 2019-10-30 21:43:00 2019-10-30 21:43:00   \n",
       "461312       650100 2019-10-30 22:32:00 2019-10-30 22:32:00   \n",
       "461356        57856 2019-10-30 23:03:00 2019-10-30 23:03:00   \n",
       "461377        57978 2019-10-30 23:15:00 2019-10-30 23:15:00   \n",
       "461387        57904 2019-10-30 23:29:00 2019-10-30 23:29:00   \n",
       "\n",
       "                        Rental station                  Return station  \\\n",
       "5            Plac Grunwaldzki / Polaka       Plac Grunwaldzki / Polaka   \n",
       "6            Plac Grunwaldzki / Polaka       Plac Grunwaldzki / Polaka   \n",
       "9       Kamienna / Borowska (Aquapark)  Kamienna / Borowska (Aquapark)   \n",
       "17                Wróblewskiego (Teki)            Wróblewskiego (Teki)   \n",
       "18                   Drobnera / Dubois               Drobnera / Dubois   \n",
       "...                                ...                             ...   \n",
       "461242          Bezpieczna / Obornicka          Bezpieczna / Obornicka   \n",
       "461312          Wita Stwosza / Szewska          Wita Stwosza / Szewska   \n",
       "461356                     Kiełczowska                     Kiełczowska   \n",
       "461377        Plac Kościuszki (Renoma)        Plac Kościuszki (Renoma)   \n",
       "461387       Nowowiejska / Górnickiego       Nowowiejska / Górnickiego   \n",
       "\n",
       "       Duration  Rental station latitude  Rental station longitude  \\\n",
       "5      00:00:49                51.110415                 17.055591   \n",
       "6      00:00:54                51.110415                 17.055591   \n",
       "9      00:00:27                51.088908                 17.034051   \n",
       "17     00:00:57                51.104110                 17.084711   \n",
       "18     00:00:59                51.117032                 17.033499   \n",
       "...         ...                      ...                       ...   \n",
       "461242 00:00:00                51.141560                 17.025870   \n",
       "461312 00:00:00                51.110274                 17.034912   \n",
       "461356 00:00:00                51.145740                 17.134930   \n",
       "461377 00:00:00                51.103354                 17.030704   \n",
       "461387 00:00:00                51.119311                 17.056784   \n",
       "\n",
       "        Return station latitude  Return station longitude  IsDeleted  Season  \\\n",
       "5                     51.110415                 17.055591       True       3   \n",
       "6                     51.110415                 17.055591       True       3   \n",
       "9                     51.088908                 17.034051       True       3   \n",
       "17                    51.104110                 17.084711       True       3   \n",
       "18                    51.117032                 17.033499       True       3   \n",
       "...                         ...                       ...        ...     ...   \n",
       "461242                51.141560                 17.025870       True       4   \n",
       "461312                51.110274                 17.034912       True       4   \n",
       "461356                51.145740                 17.134930       True       4   \n",
       "461377                51.103354                 17.030704       True       4   \n",
       "461387                51.119311                 17.056784       True       4   \n",
       "\n",
       "        Holidays  Rental day of week  Rental hour  Rental month  \n",
       "5          False                   3            0             6  \n",
       "6          False                   3            0             6  \n",
       "9          False                   3            0             6  \n",
       "17         False                   3            0             6  \n",
       "18         False                   3            0             6  \n",
       "...          ...                 ...          ...           ...  \n",
       "461242     False                   3           21            10  \n",
       "461312     False                   3           22            10  \n",
       "461356     False                   3           23            10  \n",
       "461377     False                   3           23            10  \n",
       "461387     False                   3           23            10  \n",
       "\n",
       "[15214 rows x 16 columns]"
      ]
     },
     "execution_count": 16,
     "metadata": {},
     "output_type": "execute_result"
    }
   ],
   "source": [
    "bike_rentals_df.loc[ (bike_rentals_df['Rental station'] == bike_rentals_df['Return station'])\n",
    "                    & (bike_rentals_df['Duration'] < '00:01:00')]"
   ]
  },
  {
   "cell_type": "markdown",
   "metadata": {},
   "source": [
    "### Duration"
   ]
  },
  {
   "cell_type": "code",
   "execution_count": 17,
   "metadata": {
    "ExecuteTime": {
     "end_time": "2019-11-03T09:24:43.216250Z",
     "start_time": "2019-11-03T09:24:43.205353Z"
    }
   },
   "outputs": [
    {
     "name": "stdout",
     "output_type": "stream",
     "text": [
      "Min: 0.0, Max: 56135.0\n",
      "Avg: 519.6757472180103, Std: 1381.1563155246454\n"
     ]
    }
   ],
   "source": [
    "total_seconds = bike_rentals_df.loc[idx, 'Duration'].dt.total_seconds();\n",
    "\n",
    "print(f\"Min: {total_seconds.min()}, Max: {total_seconds.max()}\")\n",
    "print(f\"Avg: {total_seconds.mean()}, Std: {total_seconds.std()}\")"
   ]
  },
  {
   "cell_type": "code",
   "execution_count": 18,
   "metadata": {
    "ExecuteTime": {
     "end_time": "2019-11-03T09:24:43.790968Z",
     "start_time": "2019-11-03T09:24:43.218105Z"
    }
   },
   "outputs": [
    {
     "data": {
      "image/png": "[encoded data removed]",
      "text/plain": [
       "<Figure size 864x288 with 1 Axes>"
      ]
     },
     "metadata": {
      "image/png": {
       "height": 248,
       "width": 723
      },
      "needs_background": "light"
     },
     "output_type": "display_data"
    }
   ],
   "source": [
    "total_seconds.hist(bins=50, figsize=(12, 4));"
   ]
  },
  {
   "cell_type": "markdown",
   "metadata": {},
   "source": [
    "### Geographical dispersion"
   ]
  },
  {
   "cell_type": "code",
   "execution_count": 19,
   "metadata": {
    "ExecuteTime": {
     "end_time": "2019-11-03T09:24:45.043041Z",
     "start_time": "2019-11-03T09:24:43.793009Z"
    }
   },
   "outputs": [
    {
     "data": {
      "image/png": "[encoded data removed]",
      "text/plain": [
       "<Figure size 432x288 with 1 Axes>"
      ]
     },
     "metadata": {
      "image/png": {
       "height": 277,
       "width": 426
      },
      "needs_background": "light"
     },
     "output_type": "display_data"
    }
   ],
   "source": [
    "plt.scatter(x=bike_rentals_df.loc[idx, 'Rental station longitude'].values, \n",
    "            y=bike_rentals_df.loc[idx, 'Rental station latitude'].values, \n",
    "            alpha=0.01)\n",
    "plt.title('Bike stations from which bicycles were rented and then returned')\n",
    "plt.xlabel('Longitude')\n",
    "plt.ylabel('Latitude')\n",
    "plt.show();"
   ]
  },
  {
   "cell_type": "markdown",
   "metadata": {},
   "source": [
    "# Run full pipeline"
   ]
  },
  {
   "cell_type": "code",
   "execution_count": 20,
   "metadata": {
    "ExecuteTime": {
     "end_time": "2019-11-03T09:24:45.047416Z",
     "start_time": "2019-11-03T09:24:45.045344Z"
    }
   },
   "outputs": [],
   "source": [
    "# run data loading and processing pipeline\n",
    "#!python run_pipeline.py --remove=1"
   ]
  }
 ],
 "metadata": {
  "file_extension": ".py",
  "kernelspec": {
   "display_name": "Python 3",
   "language": "python",
   "name": "python3"
  },
  "language_info": {
   "codemirror_mode": {
    "name": "ipython",
    "version": 3
   },
   "file_extension": ".py",
   "mimetype": "text/x-python",
   "name": "python",
   "nbconvert_exporter": "python",
   "pygments_lexer": "ipython3",
   "version": "3.6.8"
  },
  "mimetype": "text/x-python",
  "name": "python",
  "npconvert_exporter": "python",
  "pygments_lexer": "ipython3",
  "toc": {
   "base_numbering": 1,
   "nav_menu": {},
   "number_sections": true,
   "sideBar": true,
   "skip_h1_title": false,
   "title_cell": "Table of Contents",
   "title_sidebar": "Contents",
   "toc_cell": false,
   "toc_position": {
    "height": "calc(100% - 180px)",
    "left": "10px",
    "top": "150px",
    "width": "282.594px"
   },
   "toc_section_display": true,
   "toc_window_display": true
  },
  "version": 3
 },
 "nbformat": 4,
 "nbformat_minor": 2
}

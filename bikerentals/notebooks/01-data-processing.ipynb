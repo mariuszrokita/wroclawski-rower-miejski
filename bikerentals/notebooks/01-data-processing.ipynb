{
 "cells": [
  {
   "cell_type": "markdown",
   "metadata": {},
   "source": [
    "# Introduction"
   ]
  },
  {
   "cell_type": "markdown",
   "metadata": {},
   "source": [
    "The purpose of this notebook is to download data and process it. As a result we will get a dataset ready for further analyses and modeling."
   ]
  },
  {
   "cell_type": "code",
   "execution_count": 1,
   "metadata": {
    "ExecuteTime": {
     "end_time": "2019-11-07T21:13:43.081259Z",
     "start_time": "2019-11-07T21:13:38.345473Z"
    }
   },
   "outputs": [],
   "source": [
    "import matplotlib\n",
    "import matplotlib.pyplot as plt\n",
    "\n",
    "# let matplotlib plots be part of Jupyter Notebook\n",
    "%matplotlib inline\n",
    "\n",
    "# set up higher resolution for matplotlib plots\n",
    "%config InlineBackend.figure_format = 'retina'"
   ]
  },
  {
   "cell_type": "markdown",
   "metadata": {},
   "source": [
    "# Data loading and processing pipeline"
   ]
  },
  {
   "cell_type": "code",
   "execution_count": 2,
   "metadata": {
    "ExecuteTime": {
     "end_time": "2019-11-07T21:13:43.092031Z",
     "start_time": "2019-11-07T21:13:43.084845Z"
    }
   },
   "outputs": [
    {
     "name": "stdout",
     "output_type": "stream",
     "text": [
      "/Users/mariuszrokita/GitHub/wroclawski-rower-miejski/bikerentals\n"
     ]
    }
   ],
   "source": [
    "# Change folder to sub-project root\n",
    "%cd .."
   ]
  },
  {
   "cell_type": "code",
   "execution_count": 3,
   "metadata": {
    "ExecuteTime": {
     "end_time": "2019-11-07T21:14:01.099642Z",
     "start_time": "2019-11-07T21:13:43.095677Z"
    }
   },
   "outputs": [
    {
     "name": "stdout",
     "output_type": "stream",
     "text": [
      "\u001b[1m============================= test session starts ==============================\u001b[0m\n",
      "platform darwin -- Python 3.6.8, pytest-5.2.2, py-1.8.0, pluggy-0.13.0\n",
      "rootdir: /Users/mariuszrokita/GitHub/wroclawski-rower-miejski, inifile: tox.ini\n",
      "collected 24 items                                                             \u001b[0m\u001b[1m\n",
      "\n",
      "src/tests/cleaning/test_extract_gps_from_station_name.py \u001b[32m.\u001b[0m\u001b[32m.\u001b[0m\u001b[36m              [  8%]\u001b[0m\n",
      "src/tests/cleaning/test_pipeline.py \u001b[32m.\u001b[0m\u001b[32m.\u001b[0m\u001b[32m.\u001b[0m\u001b[32m.\u001b[0m\u001b[36m                                 [ 25%]\u001b[0m\n",
      "src/tests/cleaning/test_remove_missing_gps.py \u001b[32m.\u001b[0m\u001b[32m.\u001b[0m\u001b[36m                         [ 33%]\u001b[0m\n",
      "src/tests/cleaning/test_remove_same_location.py \u001b[32m.\u001b[0m\u001b[32m.\u001b[0m\u001b[32m.\u001b[0m\u001b[36m                      [ 45%]\u001b[0m\n",
      "src/tests/features/test_day_of_week.py \u001b[32m.\u001b[0m\u001b[32m.\u001b[0m\u001b[36m                                [ 54%]\u001b[0m\n",
      "src/tests/features/test_distance.py \u001b[32m.\u001b[0m\u001b[32m.\u001b[0m\u001b[36m                                   [ 62%]\u001b[0m\n",
      "src/tests/features/test_holidays.py \u001b[32m.\u001b[0m\u001b[32m.\u001b[0m\u001b[32m.\u001b[0m\u001b[36m                                  [ 75%]\u001b[0m\n",
      "src/tests/features/test_hour.py \u001b[32m.\u001b[0m\u001b[32m.\u001b[0m\u001b[36m                                       [ 83%]\u001b[0m\n",
      "src/tests/features/test_month.py \u001b[32m.\u001b[0m\u001b[32m.\u001b[0m\u001b[36m                                      [ 91%]\u001b[0m\n",
      "src/tests/features/test_season.py \u001b[32m.\u001b[0m\u001b[32m.\u001b[0m\u001b[36m                                     [100%]\u001b[0m\n",
      "\n",
      "\u001b[32m\u001b[1m============================= 24 passed in 17.13s ==============================\u001b[0m\n"
     ]
    }
   ],
   "source": [
    "# execute tests to make sure everything is working as expected\n",
    "!python -m pytest"
   ]
  },
  {
   "cell_type": "code",
   "execution_count": 4,
   "metadata": {
    "ExecuteTime": {
     "end_time": "2019-11-07T21:14:01.113121Z",
     "start_time": "2019-11-07T21:14:01.103954Z"
    }
   },
   "outputs": [
    {
     "name": "stdout",
     "output_type": "stream",
     "text": [
      "/Users/mariuszrokita/GitHub/wroclawski-rower-miejski/bikerentals/src\n"
     ]
    }
   ],
   "source": [
    "# Go to source folder\n",
    "%cd src"
   ]
  },
  {
   "cell_type": "code",
   "execution_count": 5,
   "metadata": {
    "ExecuteTime": {
     "end_time": "2019-11-07T21:15:27.497143Z",
     "start_time": "2019-11-07T21:14:01.119032Z"
    }
   },
   "outputs": [
    {
     "name": "stdout",
     "output_type": "stream",
     "text": [
      "Pipeline execution started\n",
      "Root folder set to: /Users/mariuszrokita/GitHub/wroclawski-rower-miejski/bikerentals\n",
      "* GpsFromStationNameExtractor *\n",
      "--> input data shape:  (464199, 10)\n",
      "--> output data shape:  (464199, 10)\n",
      "* GpsFromStationNameExtractor *\n",
      "--> input data shape:  (464199, 10)\n",
      "--> output data shape:  (464199, 10)\n",
      "* SameLocationRemover *\n",
      "--> input data shape:  (464199, 10)\n",
      "--> output data shape:  (464199, 11)\n",
      "* MissingGpsLocationRemover *\n",
      "--> input data shape:  (464199, 11)\n",
      "--> output data shape:  (464199, 11)\n",
      "* SeasonFeature *\n",
      "--> input data shape:  (464199, 11)\n",
      "--> output data shape:  (464199, 12)\n",
      "* HolidaysFeature *\n",
      "--> input data shape:  (464199, 12)\n",
      "--> output data shape:  (464199, 13)\n",
      "* DayOfWeekFeature *\n",
      "--> input data shape:  (464199, 13)\n",
      "--> output data shape:  (464199, 14)\n",
      "* HourFeature *\n",
      "--> input data shape:  (464199, 14)\n",
      "--> output data shape:  (464199, 15)\n",
      "* MonthFeature *\n",
      "--> input data shape:  (464199, 15)\n",
      "--> output data shape:  (464199, 16)\n",
      "* DistanceFeature *\n",
      "--> input data shape:  (464199, 16)\n",
      "--> output data shape:  (464199, 17)\n",
      "Data saved to: /Users/mariuszrokita/GitHub/wroclawski-rower-miejski/bikerentals/data/processed/bike_rentals.csv\n",
      "Pipeline execution completed\n",
      "\n",
      "IPython CPU timings (estimated):\n",
      "  User   :      77.64 s.\n",
      "  System :       3.36 s.\n",
      "Wall time:      86.37 s.\n"
     ]
    }
   ],
   "source": [
    "# run data loading and processing pipeline \n",
    "# (with soft deleting so that we can inspect everything)\n",
    "%run -t run_pipeline.py --hard-delete=False"
   ]
  },
  {
   "cell_type": "markdown",
   "metadata": {},
   "source": [
    "# Post-processing inspection"
   ]
  },
  {
   "cell_type": "code",
   "execution_count": 6,
   "metadata": {
    "ExecuteTime": {
     "end_time": "2019-11-07T21:15:27.506685Z",
     "start_time": "2019-11-07T21:15:27.500947Z"
    }
   },
   "outputs": [],
   "source": [
    "import os\n",
    "import pandas as pd\n",
    "\n",
    "filepath = os.path.join(os.getcwd(), '..', 'data', 'processed', 'bike_rentals.csv')"
   ]
  },
  {
   "cell_type": "code",
   "execution_count": 7,
   "metadata": {
    "ExecuteTime": {
     "end_time": "2019-11-07T21:15:30.414844Z",
     "start_time": "2019-11-07T21:15:27.510483Z"
    }
   },
   "outputs": [],
   "source": [
    "# load csv and set proper column types\n",
    "bike_rentals_df = pd.read_csv(filepath)\n",
    "bike_rentals_df['Rental datetime'] = pd.to_datetime(bike_rentals_df['Rental datetime'])\n",
    "bike_rentals_df['Return datetime'] = pd.to_datetime(bike_rentals_df['Return datetime'])\n",
    "bike_rentals_df['Duration'] = pd.to_timedelta(bike_rentals_df['Duration'])"
   ]
  },
  {
   "cell_type": "code",
   "execution_count": 8,
   "metadata": {
    "ExecuteTime": {
     "end_time": "2019-11-07T21:15:30.498779Z",
     "start_time": "2019-11-07T21:15:30.417006Z"
    }
   },
   "outputs": [
    {
     "name": "stdout",
     "output_type": "stream",
     "text": [
      "<class 'pandas.core.frame.DataFrame'>\n",
      "RangeIndex: 464199 entries, 0 to 464198\n",
      "Data columns (total 17 columns):\n",
      "Bike number                 464199 non-null int64\n",
      "Rental datetime             464199 non-null datetime64[ns]\n",
      "Return datetime             464199 non-null datetime64[ns]\n",
      "Rental station              464199 non-null object\n",
      "Return station              464199 non-null object\n",
      "Duration                    464199 non-null timedelta64[ns]\n",
      "Rental station latitude     434359 non-null float64\n",
      "Rental station longitude    434359 non-null float64\n",
      "Return station latitude     437655 non-null float64\n",
      "Return station longitude    437655 non-null float64\n",
      "IsDeleted                   464199 non-null bool\n",
      "Season                      464199 non-null int64\n",
      "Holidays                    464199 non-null bool\n",
      "Rental day of week          464199 non-null int64\n",
      "Rental hour                 464199 non-null int64\n",
      "Rental month                464199 non-null int64\n",
      "Distance                    412623 non-null float64\n",
      "dtypes: bool(2), datetime64[ns](2), float64(5), int64(5), object(2), timedelta64[ns](1)\n",
      "memory usage: 54.0+ MB\n"
     ]
    }
   ],
   "source": [
    "bike_rentals_df.info()"
   ]
  },
  {
   "cell_type": "code",
   "execution_count": 9,
   "metadata": {
    "ExecuteTime": {
     "end_time": "2019-11-07T21:15:30.548694Z",
     "start_time": "2019-11-07T21:15:30.500809Z"
    }
   },
   "outputs": [
    {
     "data": {
      "text/plain": [
       "Bike number                     0\n",
       "Rental datetime                 0\n",
       "Return datetime                 0\n",
       "Rental station                  0\n",
       "Return station                  0\n",
       "Duration                        0\n",
       "Rental station latitude     29840\n",
       "Rental station longitude    29840\n",
       "Return station latitude     26544\n",
       "Return station longitude    26544\n",
       "IsDeleted                       0\n",
       "Season                          0\n",
       "Holidays                        0\n",
       "Rental day of week              0\n",
       "Rental hour                     0\n",
       "Rental month                    0\n",
       "Distance                    51576\n",
       "dtype: int64"
      ]
     },
     "execution_count": 9,
     "metadata": {},
     "output_type": "execute_result"
    }
   ],
   "source": [
    "# deleted records may contain NaN values\n",
    "bike_rentals_df[bike_rentals_df['IsDeleted'] == True].isnull().sum()"
   ]
  },
  {
   "cell_type": "code",
   "execution_count": 10,
   "metadata": {
    "ExecuteTime": {
     "end_time": "2019-11-07T21:15:30.644130Z",
     "start_time": "2019-11-07T21:15:30.550685Z"
    }
   },
   "outputs": [],
   "source": [
    "# make sure there are no NaN values in records that are left\n",
    "assert sum(bike_rentals_df[bike_rentals_df['IsDeleted'] == False].isnull().sum()) == 0"
   ]
  },
  {
   "cell_type": "code",
   "execution_count": 11,
   "metadata": {
    "ExecuteTime": {
     "end_time": "2019-11-07T21:15:30.672079Z",
     "start_time": "2019-11-07T21:15:30.647592Z"
    }
   },
   "outputs": [
    {
     "data": {
      "text/html": [
       "<div>\n",
       "<style scoped>\n",
       "    .dataframe tbody tr th:only-of-type {\n",
       "        vertical-align: middle;\n",
       "    }\n",
       "\n",
       "    .dataframe tbody tr th {\n",
       "        vertical-align: top;\n",
       "    }\n",
       "\n",
       "    .dataframe thead th {\n",
       "        text-align: right;\n",
       "    }\n",
       "</style>\n",
       "<table border=\"1\" class=\"dataframe\">\n",
       "  <thead>\n",
       "    <tr style=\"text-align: right;\">\n",
       "      <th></th>\n",
       "      <th>Bike number</th>\n",
       "      <th>Rental datetime</th>\n",
       "      <th>Return datetime</th>\n",
       "      <th>Rental station</th>\n",
       "      <th>Return station</th>\n",
       "      <th>Duration</th>\n",
       "      <th>Rental station latitude</th>\n",
       "      <th>Rental station longitude</th>\n",
       "      <th>Return station latitude</th>\n",
       "      <th>Return station longitude</th>\n",
       "      <th>IsDeleted</th>\n",
       "      <th>Season</th>\n",
       "      <th>Holidays</th>\n",
       "      <th>Rental day of week</th>\n",
       "      <th>Rental hour</th>\n",
       "      <th>Rental month</th>\n",
       "      <th>Distance</th>\n",
       "    </tr>\n",
       "  </thead>\n",
       "  <tbody>\n",
       "    <tr>\n",
       "      <th>0</th>\n",
       "      <td>57719</td>\n",
       "      <td>2019-06-26 00:00:10</td>\n",
       "      <td>2019-06-26 00:06:19</td>\n",
       "      <td>Skarbowców / Wietrzna</td>\n",
       "      <td>Krzycka / Aleja Karkonoska (Park Południowy)</td>\n",
       "      <td>00:06:09</td>\n",
       "      <td>51.073290</td>\n",
       "      <td>16.994850</td>\n",
       "      <td>51.074992</td>\n",
       "      <td>17.007058</td>\n",
       "      <td>False</td>\n",
       "      <td>3</td>\n",
       "      <td>False</td>\n",
       "      <td>3</td>\n",
       "      <td>0</td>\n",
       "      <td>6</td>\n",
       "      <td>0.9</td>\n",
       "    </tr>\n",
       "    <tr>\n",
       "      <th>1</th>\n",
       "      <td>650480</td>\n",
       "      <td>2019-06-26 00:00:13</td>\n",
       "      <td>2019-06-26 00:06:59</td>\n",
       "      <td>Rynek</td>\n",
       "      <td>Plac Legionów</td>\n",
       "      <td>00:06:46</td>\n",
       "      <td>51.109782</td>\n",
       "      <td>17.030175</td>\n",
       "      <td>51.104413</td>\n",
       "      <td>17.022536</td>\n",
       "      <td>False</td>\n",
       "      <td>3</td>\n",
       "      <td>False</td>\n",
       "      <td>3</td>\n",
       "      <td>0</td>\n",
       "      <td>6</td>\n",
       "      <td>0.8</td>\n",
       "    </tr>\n",
       "    <tr>\n",
       "      <th>2</th>\n",
       "      <td>650988</td>\n",
       "      <td>2019-06-26 00:00:15</td>\n",
       "      <td>2019-06-26 00:13:32</td>\n",
       "      <td>Poza oficjalną stacją</td>\n",
       "      <td>Wałbrzyska - pętla tramwajowa</td>\n",
       "      <td>00:13:17</td>\n",
       "      <td>NaN</td>\n",
       "      <td>NaN</td>\n",
       "      <td>51.065777</td>\n",
       "      <td>16.988575</td>\n",
       "      <td>True</td>\n",
       "      <td>3</td>\n",
       "      <td>False</td>\n",
       "      <td>3</td>\n",
       "      <td>0</td>\n",
       "      <td>6</td>\n",
       "      <td>NaN</td>\n",
       "    </tr>\n",
       "    <tr>\n",
       "      <th>3</th>\n",
       "      <td>57603</td>\n",
       "      <td>2019-06-26 00:00:21</td>\n",
       "      <td>2019-06-26 00:23:53</td>\n",
       "      <td>Plac Uniwersytecki (UWr)</td>\n",
       "      <td>Legnicka / Wejherowska</td>\n",
       "      <td>00:23:32</td>\n",
       "      <td>51.113871</td>\n",
       "      <td>17.034484</td>\n",
       "      <td>51.125276</td>\n",
       "      <td>16.984447</td>\n",
       "      <td>False</td>\n",
       "      <td>3</td>\n",
       "      <td>False</td>\n",
       "      <td>3</td>\n",
       "      <td>0</td>\n",
       "      <td>6</td>\n",
       "      <td>3.7</td>\n",
       "    </tr>\n",
       "    <tr>\n",
       "      <th>4</th>\n",
       "      <td>650067</td>\n",
       "      <td>2019-06-26 00:00:40</td>\n",
       "      <td>2019-06-26 00:04:40</td>\n",
       "      <td>Powstańców Śląskich (Arkady Wrocławskie)</td>\n",
       "      <td>Powstańców Śląskich (Arkady Wrocławskie)</td>\n",
       "      <td>00:04:00</td>\n",
       "      <td>51.099713</td>\n",
       "      <td>17.027905</td>\n",
       "      <td>51.099713</td>\n",
       "      <td>17.027905</td>\n",
       "      <td>True</td>\n",
       "      <td>3</td>\n",
       "      <td>False</td>\n",
       "      <td>3</td>\n",
       "      <td>0</td>\n",
       "      <td>6</td>\n",
       "      <td>0.0</td>\n",
       "    </tr>\n",
       "  </tbody>\n",
       "</table>\n",
       "</div>"
      ],
      "text/plain": [
       "   Bike number     Rental datetime     Return datetime  \\\n",
       "0        57719 2019-06-26 00:00:10 2019-06-26 00:06:19   \n",
       "1       650480 2019-06-26 00:00:13 2019-06-26 00:06:59   \n",
       "2       650988 2019-06-26 00:00:15 2019-06-26 00:13:32   \n",
       "3        57603 2019-06-26 00:00:21 2019-06-26 00:23:53   \n",
       "4       650067 2019-06-26 00:00:40 2019-06-26 00:04:40   \n",
       "\n",
       "                             Rental station  \\\n",
       "0                     Skarbowców / Wietrzna   \n",
       "1                                     Rynek   \n",
       "2                     Poza oficjalną stacją   \n",
       "3                  Plac Uniwersytecki (UWr)   \n",
       "4  Powstańców Śląskich (Arkady Wrocławskie)   \n",
       "\n",
       "                                 Return station Duration  \\\n",
       "0  Krzycka / Aleja Karkonoska (Park Południowy) 00:06:09   \n",
       "1                                 Plac Legionów 00:06:46   \n",
       "2                 Wałbrzyska - pętla tramwajowa 00:13:17   \n",
       "3                        Legnicka / Wejherowska 00:23:32   \n",
       "4      Powstańców Śląskich (Arkady Wrocławskie) 00:04:00   \n",
       "\n",
       "   Rental station latitude  Rental station longitude  Return station latitude  \\\n",
       "0                51.073290                 16.994850                51.074992   \n",
       "1                51.109782                 17.030175                51.104413   \n",
       "2                      NaN                       NaN                51.065777   \n",
       "3                51.113871                 17.034484                51.125276   \n",
       "4                51.099713                 17.027905                51.099713   \n",
       "\n",
       "   Return station longitude  IsDeleted  Season  Holidays  Rental day of week  \\\n",
       "0                 17.007058      False       3     False                   3   \n",
       "1                 17.022536      False       3     False                   3   \n",
       "2                 16.988575       True       3     False                   3   \n",
       "3                 16.984447      False       3     False                   3   \n",
       "4                 17.027905       True       3     False                   3   \n",
       "\n",
       "   Rental hour  Rental month  Distance  \n",
       "0            0             6       0.9  \n",
       "1            0             6       0.8  \n",
       "2            0             6       NaN  \n",
       "3            0             6       3.7  \n",
       "4            0             6       0.0  "
      ]
     },
     "execution_count": 11,
     "metadata": {},
     "output_type": "execute_result"
    }
   ],
   "source": [
    "bike_rentals_df.head()"
   ]
  },
  {
   "cell_type": "markdown",
   "metadata": {},
   "source": [
    "# Visual inspection of soft deleted records"
   ]
  },
  {
   "cell_type": "code",
   "execution_count": 12,
   "metadata": {
    "ExecuteTime": {
     "end_time": "2019-11-07T21:15:30.698217Z",
     "start_time": "2019-11-07T21:15:30.674123Z"
    }
   },
   "outputs": [
    {
     "name": "stdout",
     "output_type": "stream",
     "text": [
      "Number of soft deleted records: 125251\n"
     ]
    }
   ],
   "source": [
    "print(f\"Number of soft deleted records: {bike_rentals_df[bike_rentals_df['IsDeleted'] == True].shape[0]}\")"
   ]
  },
  {
   "cell_type": "code",
   "execution_count": 13,
   "metadata": {
    "ExecuteTime": {
     "end_time": "2019-11-07T21:15:30.714099Z",
     "start_time": "2019-11-07T21:15:30.700217Z"
    }
   },
   "outputs": [
    {
     "data": {
      "text/plain": [
       "Poza oficjalną stacją              29461\n",
       "Pełczyńska / stacja kolejowa         193\n",
       ".RELOKACYJNA A1-4                     73\n",
       "Teststation IT - Adrian (VP)          28\n",
       "BIKE                                  21\n",
       "0, 0                                  10\n",
       "plac Nankiera                          6\n",
       "recording_80356921                     3\n",
       ".GOTOWE DO REZERWACJI                  2\n",
       "BIKE 57509                             2\n",
       "Bierutowska 48                         2\n",
       "Krakowska 13                           1\n",
       "Stanisława Worcella 8                  1\n",
       "wjazd                                  1\n",
       "Mydlana                                1\n",
       "Generała Stanisława Kopańskiego        1\n",
       "Podwale 73                             1\n",
       "Cesarzowicka 5                         1\n",
       "Wojciecha Bogusławskiego 19            1\n",
       "Na Grobli                              1\n",
       "Kobierzycka 5                          1\n",
       "Wiaduktowa                             1\n",
       "Tadeusza Kościuszki 80a                1\n",
       "Eugeniusza Kwiatkowskiego              1\n",
       "Na Grobli 28                           1\n",
       "Krowia                                 1\n",
       "Na Grobli 16                           1\n",
       "Witkowska 34a                          1\n",
       "Kazimierza Michalczyka                 1\n",
       "Marii Curie-Skłodowskiej 38            1\n",
       "Sucha 2                                1\n",
       "Osobowicka                             1\n",
       "Buforowa 4                             1\n",
       "Kwidzyńska 4                           1\n",
       "Benedykta Polaka 16                    1\n",
       "Boguszowska 38b                        1\n",
       "Krzemieniecka                          1\n",
       "Łąkowa                                 1\n",
       "Kanałowa                               1\n",
       "Władysława Czaplińskiego 32            1\n",
       "Szwajcarska 22                         1\n",
       "Czekoladowa 5A                         1\n",
       "#RELOKACYJNA                           1\n",
       "Legnicka                               1\n",
       "Centralna 28                           1\n",
       "Wyścigowa 56g                          1\n",
       "Północna 15-19 2.1b                    1\n",
       "Tadeusza Kościuszki                    1\n",
       "Świętej Katarzyny 17                   1\n",
       "Główna 1a                              1\n",
       "Name: Rental station, dtype: int64"
      ]
     },
     "execution_count": 13,
     "metadata": {},
     "output_type": "execute_result"
    }
   ],
   "source": [
    "bike_rentals_df.loc[bike_rentals_df['Rental station latitude'].isnull(), 'Rental station'].value_counts()"
   ]
  },
  {
   "cell_type": "code",
   "execution_count": 14,
   "metadata": {
    "ExecuteTime": {
     "end_time": "2019-11-07T21:15:30.726763Z",
     "start_time": "2019-11-07T21:15:30.716141Z"
    }
   },
   "outputs": [
    {
     "data": {
      "text/plain": [
       "Poza oficjalną stacją              26259\n",
       "Pełczyńska / stacja kolejowa         175\n",
       "Teststation IT - Adrian (VP)          27\n",
       "BIKE                                  15\n",
       ".RELOKACYJNA A1-4                     13\n",
       "0, 0                                   7\n",
       "plac Nankiera                          6\n",
       "recording_80356921                     3\n",
       "Bierutowska 48                         2\n",
       "BIKE 57509                             2\n",
       "Kobierzycka 5                          1\n",
       "wjazd                                  1\n",
       "Generała Stanisława Kopańskiego        1\n",
       "Na Grobli                              1\n",
       "Na Grobli 28                           1\n",
       "Wiaduktowa                             1\n",
       "Eugeniusza Kwiatkowskiego              1\n",
       "Krowia                                 1\n",
       "Krakowska 13                           1\n",
       "Mydlana                                1\n",
       "Stanisława Worcella 8                  1\n",
       "15092                                  1\n",
       "Wilkszyńska 55                         1\n",
       "Na Grobli 16                           1\n",
       "Witkowska 34a                          1\n",
       "Kazimierza Michalczyka                 1\n",
       "Marii Curie-Skłodowskiej 38            1\n",
       "Sucha 2                                1\n",
       "Buforowa 4                             1\n",
       "Kwidzyńska 4                           1\n",
       "Boguszowska 38b                        1\n",
       "Sołtysowicka 27e                       1\n",
       "Łąkowa                                 1\n",
       "Kanałowa                               1\n",
       "Władysława Czaplińskiego 32            1\n",
       "Szwajcarska 22                         1\n",
       "Czekoladowa 5A                         1\n",
       "Legnicka                               1\n",
       "Centralna 28                           1\n",
       "Wyścigowa 56g                          1\n",
       "Pełczyńska                             1\n",
       "Północna 15-19 2.1b                    1\n",
       "Skarbowców 23a                         1\n",
       "Świętej Katarzyny 17                   1\n",
       "Główna 1a                              1\n",
       "Name: Return station, dtype: int64"
      ]
     },
     "execution_count": 14,
     "metadata": {},
     "output_type": "execute_result"
    }
   ],
   "source": [
    "bike_rentals_df.loc[bike_rentals_df['Return station latitude'].isnull(), 'Return station'].value_counts()"
   ]
  },
  {
   "cell_type": "markdown",
   "metadata": {},
   "source": [
    "## Rentals returned to the same bike station"
   ]
  },
  {
   "cell_type": "code",
   "execution_count": 15,
   "metadata": {
    "ExecuteTime": {
     "end_time": "2019-11-07T21:15:30.785081Z",
     "start_time": "2019-11-07T21:15:30.729391Z"
    }
   },
   "outputs": [
    {
     "name": "stdout",
     "output_type": "stream",
     "text": [
      "Number of records: 78418\n"
     ]
    }
   ],
   "source": [
    "idx = (bike_rentals_df['IsDeleted'] == True) & \\\n",
    "      (bike_rentals_df['Rental station'] == bike_rentals_df['Return station'])\n",
    "print(f\"Number of records: {bike_rentals_df.loc[idx, :].shape[0]}\")"
   ]
  },
  {
   "cell_type": "markdown",
   "metadata": {},
   "source": [
    "### Inspection"
   ]
  },
  {
   "cell_type": "code",
   "execution_count": 16,
   "metadata": {
    "ExecuteTime": {
     "end_time": "2019-11-07T21:15:30.827468Z",
     "start_time": "2019-11-07T21:15:30.787023Z"
    }
   },
   "outputs": [
    {
     "data": {
      "text/html": [
       "<div>\n",
       "<style scoped>\n",
       "    .dataframe tbody tr th:only-of-type {\n",
       "        vertical-align: middle;\n",
       "    }\n",
       "\n",
       "    .dataframe tbody tr th {\n",
       "        vertical-align: top;\n",
       "    }\n",
       "\n",
       "    .dataframe thead th {\n",
       "        text-align: right;\n",
       "    }\n",
       "</style>\n",
       "<table border=\"1\" class=\"dataframe\">\n",
       "  <thead>\n",
       "    <tr style=\"text-align: right;\">\n",
       "      <th></th>\n",
       "      <th>Bike number</th>\n",
       "      <th>Rental datetime</th>\n",
       "      <th>Return datetime</th>\n",
       "      <th>Rental station</th>\n",
       "      <th>Return station</th>\n",
       "      <th>Duration</th>\n",
       "      <th>Rental station latitude</th>\n",
       "      <th>Rental station longitude</th>\n",
       "      <th>Return station latitude</th>\n",
       "      <th>Return station longitude</th>\n",
       "      <th>IsDeleted</th>\n",
       "      <th>Season</th>\n",
       "      <th>Holidays</th>\n",
       "      <th>Rental day of week</th>\n",
       "      <th>Rental hour</th>\n",
       "      <th>Rental month</th>\n",
       "      <th>Distance</th>\n",
       "    </tr>\n",
       "  </thead>\n",
       "  <tbody>\n",
       "    <tr>\n",
       "      <th>4</th>\n",
       "      <td>650067</td>\n",
       "      <td>2019-06-26 00:00:40</td>\n",
       "      <td>2019-06-26 00:04:40</td>\n",
       "      <td>Powstańców Śląskich (Arkady Wrocławskie)</td>\n",
       "      <td>Powstańców Śląskich (Arkady Wrocławskie)</td>\n",
       "      <td>00:04:00</td>\n",
       "      <td>51.099713</td>\n",
       "      <td>17.027905</td>\n",
       "      <td>51.099713</td>\n",
       "      <td>17.027905</td>\n",
       "      <td>True</td>\n",
       "      <td>3</td>\n",
       "      <td>False</td>\n",
       "      <td>3</td>\n",
       "      <td>0</td>\n",
       "      <td>6</td>\n",
       "      <td>0.0</td>\n",
       "    </tr>\n",
       "    <tr>\n",
       "      <th>5</th>\n",
       "      <td>650020</td>\n",
       "      <td>2019-06-26 00:00:52</td>\n",
       "      <td>2019-06-26 00:01:41</td>\n",
       "      <td>Plac Grunwaldzki / Polaka</td>\n",
       "      <td>Plac Grunwaldzki / Polaka</td>\n",
       "      <td>00:00:49</td>\n",
       "      <td>51.110415</td>\n",
       "      <td>17.055591</td>\n",
       "      <td>51.110415</td>\n",
       "      <td>17.055591</td>\n",
       "      <td>True</td>\n",
       "      <td>3</td>\n",
       "      <td>False</td>\n",
       "      <td>3</td>\n",
       "      <td>0</td>\n",
       "      <td>6</td>\n",
       "      <td>0.0</td>\n",
       "    </tr>\n",
       "    <tr>\n",
       "      <th>6</th>\n",
       "      <td>650072</td>\n",
       "      <td>2019-06-26 00:01:04</td>\n",
       "      <td>2019-06-26 00:01:58</td>\n",
       "      <td>Plac Grunwaldzki / Polaka</td>\n",
       "      <td>Plac Grunwaldzki / Polaka</td>\n",
       "      <td>00:00:54</td>\n",
       "      <td>51.110415</td>\n",
       "      <td>17.055591</td>\n",
       "      <td>51.110415</td>\n",
       "      <td>17.055591</td>\n",
       "      <td>True</td>\n",
       "      <td>3</td>\n",
       "      <td>False</td>\n",
       "      <td>3</td>\n",
       "      <td>0</td>\n",
       "      <td>6</td>\n",
       "      <td>0.0</td>\n",
       "    </tr>\n",
       "    <tr>\n",
       "      <th>7</th>\n",
       "      <td>57855</td>\n",
       "      <td>2019-06-26 00:01:22</td>\n",
       "      <td>2019-06-26 00:19:56</td>\n",
       "      <td>Kościuszki / Pułaskiego</td>\n",
       "      <td>Kościuszki / Pułaskiego</td>\n",
       "      <td>00:18:34</td>\n",
       "      <td>51.100400</td>\n",
       "      <td>17.045083</td>\n",
       "      <td>51.100400</td>\n",
       "      <td>17.045083</td>\n",
       "      <td>True</td>\n",
       "      <td>3</td>\n",
       "      <td>False</td>\n",
       "      <td>3</td>\n",
       "      <td>0</td>\n",
       "      <td>6</td>\n",
       "      <td>0.0</td>\n",
       "    </tr>\n",
       "    <tr>\n",
       "      <th>9</th>\n",
       "      <td>57856</td>\n",
       "      <td>2019-06-26 00:01:57</td>\n",
       "      <td>2019-06-26 00:02:24</td>\n",
       "      <td>Kamienna / Borowska (Aquapark)</td>\n",
       "      <td>Kamienna / Borowska (Aquapark)</td>\n",
       "      <td>00:00:27</td>\n",
       "      <td>51.088908</td>\n",
       "      <td>17.034051</td>\n",
       "      <td>51.088908</td>\n",
       "      <td>17.034051</td>\n",
       "      <td>True</td>\n",
       "      <td>3</td>\n",
       "      <td>False</td>\n",
       "      <td>3</td>\n",
       "      <td>0</td>\n",
       "      <td>6</td>\n",
       "      <td>0.0</td>\n",
       "    </tr>\n",
       "    <tr>\n",
       "      <th>...</th>\n",
       "      <td>...</td>\n",
       "      <td>...</td>\n",
       "      <td>...</td>\n",
       "      <td>...</td>\n",
       "      <td>...</td>\n",
       "      <td>...</td>\n",
       "      <td>...</td>\n",
       "      <td>...</td>\n",
       "      <td>...</td>\n",
       "      <td>...</td>\n",
       "      <td>...</td>\n",
       "      <td>...</td>\n",
       "      <td>...</td>\n",
       "      <td>...</td>\n",
       "      <td>...</td>\n",
       "      <td>...</td>\n",
       "      <td>...</td>\n",
       "    </tr>\n",
       "    <tr>\n",
       "      <th>464172</th>\n",
       "      <td>650525</td>\n",
       "      <td>2019-11-03 23:31:00</td>\n",
       "      <td>2019-11-03 23:32:00</td>\n",
       "      <td>Ślężna / Skierniewicka</td>\n",
       "      <td>Ślężna / Skierniewicka</td>\n",
       "      <td>00:01:00</td>\n",
       "      <td>51.077080</td>\n",
       "      <td>17.018240</td>\n",
       "      <td>51.077080</td>\n",
       "      <td>17.018240</td>\n",
       "      <td>True</td>\n",
       "      <td>4</td>\n",
       "      <td>True</td>\n",
       "      <td>7</td>\n",
       "      <td>23</td>\n",
       "      <td>11</td>\n",
       "      <td>0.0</td>\n",
       "    </tr>\n",
       "    <tr>\n",
       "      <th>464184</th>\n",
       "      <td>650356</td>\n",
       "      <td>2019-11-03 23:42:00</td>\n",
       "      <td>2019-11-03 23:44:00</td>\n",
       "      <td>Piaskowa / św. Ducha</td>\n",
       "      <td>Piaskowa / św. Ducha</td>\n",
       "      <td>00:02:00</td>\n",
       "      <td>51.112890</td>\n",
       "      <td>17.039710</td>\n",
       "      <td>51.112890</td>\n",
       "      <td>17.039710</td>\n",
       "      <td>True</td>\n",
       "      <td>4</td>\n",
       "      <td>True</td>\n",
       "      <td>7</td>\n",
       "      <td>23</td>\n",
       "      <td>11</td>\n",
       "      <td>0.0</td>\n",
       "    </tr>\n",
       "    <tr>\n",
       "      <th>464192</th>\n",
       "      <td>650769</td>\n",
       "      <td>2019-11-03 23:47:00</td>\n",
       "      <td>2019-11-03 23:58:00</td>\n",
       "      <td>Wróblewskiego (Teki)</td>\n",
       "      <td>Wróblewskiego (Teki)</td>\n",
       "      <td>00:11:00</td>\n",
       "      <td>51.104110</td>\n",
       "      <td>17.084711</td>\n",
       "      <td>51.104110</td>\n",
       "      <td>17.084711</td>\n",
       "      <td>True</td>\n",
       "      <td>4</td>\n",
       "      <td>True</td>\n",
       "      <td>7</td>\n",
       "      <td>23</td>\n",
       "      <td>11</td>\n",
       "      <td>0.0</td>\n",
       "    </tr>\n",
       "    <tr>\n",
       "      <th>464194</th>\n",
       "      <td>650932</td>\n",
       "      <td>2019-11-03 23:48:00</td>\n",
       "      <td>2019-11-03 23:48:00</td>\n",
       "      <td>al. Armii Krajowej / Bardzka</td>\n",
       "      <td>al. Armii Krajowej / Bardzka</td>\n",
       "      <td>00:00:00</td>\n",
       "      <td>51.082830</td>\n",
       "      <td>17.048240</td>\n",
       "      <td>51.082830</td>\n",
       "      <td>17.048240</td>\n",
       "      <td>True</td>\n",
       "      <td>4</td>\n",
       "      <td>True</td>\n",
       "      <td>7</td>\n",
       "      <td>23</td>\n",
       "      <td>11</td>\n",
       "      <td>0.0</td>\n",
       "    </tr>\n",
       "    <tr>\n",
       "      <th>464198</th>\n",
       "      <td>650585</td>\n",
       "      <td>2019-11-03 23:53:00</td>\n",
       "      <td>2019-11-03 23:53:00</td>\n",
       "      <td>Jedności Narodowej / Wyszyńskiego</td>\n",
       "      <td>Jedności Narodowej / Wyszyńskiego</td>\n",
       "      <td>00:00:00</td>\n",
       "      <td>51.128140</td>\n",
       "      <td>17.054770</td>\n",
       "      <td>51.128140</td>\n",
       "      <td>17.054770</td>\n",
       "      <td>True</td>\n",
       "      <td>4</td>\n",
       "      <td>True</td>\n",
       "      <td>7</td>\n",
       "      <td>23</td>\n",
       "      <td>11</td>\n",
       "      <td>0.0</td>\n",
       "    </tr>\n",
       "  </tbody>\n",
       "</table>\n",
       "<p>78418 rows × 17 columns</p>\n",
       "</div>"
      ],
      "text/plain": [
       "        Bike number     Rental datetime     Return datetime  \\\n",
       "4            650067 2019-06-26 00:00:40 2019-06-26 00:04:40   \n",
       "5            650020 2019-06-26 00:00:52 2019-06-26 00:01:41   \n",
       "6            650072 2019-06-26 00:01:04 2019-06-26 00:01:58   \n",
       "7             57855 2019-06-26 00:01:22 2019-06-26 00:19:56   \n",
       "9             57856 2019-06-26 00:01:57 2019-06-26 00:02:24   \n",
       "...             ...                 ...                 ...   \n",
       "464172       650525 2019-11-03 23:31:00 2019-11-03 23:32:00   \n",
       "464184       650356 2019-11-03 23:42:00 2019-11-03 23:44:00   \n",
       "464192       650769 2019-11-03 23:47:00 2019-11-03 23:58:00   \n",
       "464194       650932 2019-11-03 23:48:00 2019-11-03 23:48:00   \n",
       "464198       650585 2019-11-03 23:53:00 2019-11-03 23:53:00   \n",
       "\n",
       "                                  Rental station  \\\n",
       "4       Powstańców Śląskich (Arkady Wrocławskie)   \n",
       "5                      Plac Grunwaldzki / Polaka   \n",
       "6                      Plac Grunwaldzki / Polaka   \n",
       "7                        Kościuszki / Pułaskiego   \n",
       "9                 Kamienna / Borowska (Aquapark)   \n",
       "...                                          ...   \n",
       "464172                    Ślężna / Skierniewicka   \n",
       "464184                      Piaskowa / św. Ducha   \n",
       "464192                      Wróblewskiego (Teki)   \n",
       "464194              al. Armii Krajowej / Bardzka   \n",
       "464198         Jedności Narodowej / Wyszyńskiego   \n",
       "\n",
       "                                  Return station Duration  \\\n",
       "4       Powstańców Śląskich (Arkady Wrocławskie) 00:04:00   \n",
       "5                      Plac Grunwaldzki / Polaka 00:00:49   \n",
       "6                      Plac Grunwaldzki / Polaka 00:00:54   \n",
       "7                        Kościuszki / Pułaskiego 00:18:34   \n",
       "9                 Kamienna / Borowska (Aquapark) 00:00:27   \n",
       "...                                          ...      ...   \n",
       "464172                    Ślężna / Skierniewicka 00:01:00   \n",
       "464184                      Piaskowa / św. Ducha 00:02:00   \n",
       "464192                      Wróblewskiego (Teki) 00:11:00   \n",
       "464194              al. Armii Krajowej / Bardzka 00:00:00   \n",
       "464198         Jedności Narodowej / Wyszyńskiego 00:00:00   \n",
       "\n",
       "        Rental station latitude  Rental station longitude  \\\n",
       "4                     51.099713                 17.027905   \n",
       "5                     51.110415                 17.055591   \n",
       "6                     51.110415                 17.055591   \n",
       "7                     51.100400                 17.045083   \n",
       "9                     51.088908                 17.034051   \n",
       "...                         ...                       ...   \n",
       "464172                51.077080                 17.018240   \n",
       "464184                51.112890                 17.039710   \n",
       "464192                51.104110                 17.084711   \n",
       "464194                51.082830                 17.048240   \n",
       "464198                51.128140                 17.054770   \n",
       "\n",
       "        Return station latitude  Return station longitude  IsDeleted  Season  \\\n",
       "4                     51.099713                 17.027905       True       3   \n",
       "5                     51.110415                 17.055591       True       3   \n",
       "6                     51.110415                 17.055591       True       3   \n",
       "7                     51.100400                 17.045083       True       3   \n",
       "9                     51.088908                 17.034051       True       3   \n",
       "...                         ...                       ...        ...     ...   \n",
       "464172                51.077080                 17.018240       True       4   \n",
       "464184                51.112890                 17.039710       True       4   \n",
       "464192                51.104110                 17.084711       True       4   \n",
       "464194                51.082830                 17.048240       True       4   \n",
       "464198                51.128140                 17.054770       True       4   \n",
       "\n",
       "        Holidays  Rental day of week  Rental hour  Rental month  Distance  \n",
       "4          False                   3            0             6       0.0  \n",
       "5          False                   3            0             6       0.0  \n",
       "6          False                   3            0             6       0.0  \n",
       "7          False                   3            0             6       0.0  \n",
       "9          False                   3            0             6       0.0  \n",
       "...          ...                 ...          ...           ...       ...  \n",
       "464172      True                   7           23            11       0.0  \n",
       "464184      True                   7           23            11       0.0  \n",
       "464192      True                   7           23            11       0.0  \n",
       "464194      True                   7           23            11       0.0  \n",
       "464198      True                   7           23            11       0.0  \n",
       "\n",
       "[78418 rows x 17 columns]"
      ]
     },
     "execution_count": 16,
     "metadata": {},
     "output_type": "execute_result"
    }
   ],
   "source": [
    "bike_rentals_df.loc[idx, :]"
   ]
  },
  {
   "cell_type": "code",
   "execution_count": 17,
   "metadata": {
    "ExecuteTime": {
     "end_time": "2019-11-07T21:15:30.904404Z",
     "start_time": "2019-11-07T21:15:30.829790Z"
    }
   },
   "outputs": [
    {
     "data": {
      "text/html": [
       "<div>\n",
       "<style scoped>\n",
       "    .dataframe tbody tr th:only-of-type {\n",
       "        vertical-align: middle;\n",
       "    }\n",
       "\n",
       "    .dataframe tbody tr th {\n",
       "        vertical-align: top;\n",
       "    }\n",
       "\n",
       "    .dataframe thead th {\n",
       "        text-align: right;\n",
       "    }\n",
       "</style>\n",
       "<table border=\"1\" class=\"dataframe\">\n",
       "  <thead>\n",
       "    <tr style=\"text-align: right;\">\n",
       "      <th></th>\n",
       "      <th>Bike number</th>\n",
       "      <th>Rental datetime</th>\n",
       "      <th>Return datetime</th>\n",
       "      <th>Rental station</th>\n",
       "      <th>Return station</th>\n",
       "      <th>Duration</th>\n",
       "      <th>Rental station latitude</th>\n",
       "      <th>Rental station longitude</th>\n",
       "      <th>Return station latitude</th>\n",
       "      <th>Return station longitude</th>\n",
       "      <th>IsDeleted</th>\n",
       "      <th>Season</th>\n",
       "      <th>Holidays</th>\n",
       "      <th>Rental day of week</th>\n",
       "      <th>Rental hour</th>\n",
       "      <th>Rental month</th>\n",
       "      <th>Distance</th>\n",
       "    </tr>\n",
       "  </thead>\n",
       "  <tbody>\n",
       "    <tr>\n",
       "      <th>5</th>\n",
       "      <td>650020</td>\n",
       "      <td>2019-06-26 00:00:52</td>\n",
       "      <td>2019-06-26 00:01:41</td>\n",
       "      <td>Plac Grunwaldzki / Polaka</td>\n",
       "      <td>Plac Grunwaldzki / Polaka</td>\n",
       "      <td>00:00:49</td>\n",
       "      <td>51.110415</td>\n",
       "      <td>17.055591</td>\n",
       "      <td>51.110415</td>\n",
       "      <td>17.055591</td>\n",
       "      <td>True</td>\n",
       "      <td>3</td>\n",
       "      <td>False</td>\n",
       "      <td>3</td>\n",
       "      <td>0</td>\n",
       "      <td>6</td>\n",
       "      <td>0.0</td>\n",
       "    </tr>\n",
       "    <tr>\n",
       "      <th>6</th>\n",
       "      <td>650072</td>\n",
       "      <td>2019-06-26 00:01:04</td>\n",
       "      <td>2019-06-26 00:01:58</td>\n",
       "      <td>Plac Grunwaldzki / Polaka</td>\n",
       "      <td>Plac Grunwaldzki / Polaka</td>\n",
       "      <td>00:00:54</td>\n",
       "      <td>51.110415</td>\n",
       "      <td>17.055591</td>\n",
       "      <td>51.110415</td>\n",
       "      <td>17.055591</td>\n",
       "      <td>True</td>\n",
       "      <td>3</td>\n",
       "      <td>False</td>\n",
       "      <td>3</td>\n",
       "      <td>0</td>\n",
       "      <td>6</td>\n",
       "      <td>0.0</td>\n",
       "    </tr>\n",
       "    <tr>\n",
       "      <th>9</th>\n",
       "      <td>57856</td>\n",
       "      <td>2019-06-26 00:01:57</td>\n",
       "      <td>2019-06-26 00:02:24</td>\n",
       "      <td>Kamienna / Borowska (Aquapark)</td>\n",
       "      <td>Kamienna / Borowska (Aquapark)</td>\n",
       "      <td>00:00:27</td>\n",
       "      <td>51.088908</td>\n",
       "      <td>17.034051</td>\n",
       "      <td>51.088908</td>\n",
       "      <td>17.034051</td>\n",
       "      <td>True</td>\n",
       "      <td>3</td>\n",
       "      <td>False</td>\n",
       "      <td>3</td>\n",
       "      <td>0</td>\n",
       "      <td>6</td>\n",
       "      <td>0.0</td>\n",
       "    </tr>\n",
       "    <tr>\n",
       "      <th>17</th>\n",
       "      <td>650544</td>\n",
       "      <td>2019-06-26 00:02:50</td>\n",
       "      <td>2019-06-26 00:03:47</td>\n",
       "      <td>Wróblewskiego (Teki)</td>\n",
       "      <td>Wróblewskiego (Teki)</td>\n",
       "      <td>00:00:57</td>\n",
       "      <td>51.104110</td>\n",
       "      <td>17.084711</td>\n",
       "      <td>51.104110</td>\n",
       "      <td>17.084711</td>\n",
       "      <td>True</td>\n",
       "      <td>3</td>\n",
       "      <td>False</td>\n",
       "      <td>3</td>\n",
       "      <td>0</td>\n",
       "      <td>6</td>\n",
       "      <td>0.0</td>\n",
       "    </tr>\n",
       "    <tr>\n",
       "      <th>18</th>\n",
       "      <td>650601</td>\n",
       "      <td>2019-06-26 00:03:04</td>\n",
       "      <td>2019-06-26 00:04:03</td>\n",
       "      <td>Drobnera / Dubois</td>\n",
       "      <td>Drobnera / Dubois</td>\n",
       "      <td>00:00:59</td>\n",
       "      <td>51.117032</td>\n",
       "      <td>17.033499</td>\n",
       "      <td>51.117032</td>\n",
       "      <td>17.033499</td>\n",
       "      <td>True</td>\n",
       "      <td>3</td>\n",
       "      <td>False</td>\n",
       "      <td>3</td>\n",
       "      <td>0</td>\n",
       "      <td>6</td>\n",
       "      <td>0.0</td>\n",
       "    </tr>\n",
       "    <tr>\n",
       "      <th>...</th>\n",
       "      <td>...</td>\n",
       "      <td>...</td>\n",
       "      <td>...</td>\n",
       "      <td>...</td>\n",
       "      <td>...</td>\n",
       "      <td>...</td>\n",
       "      <td>...</td>\n",
       "      <td>...</td>\n",
       "      <td>...</td>\n",
       "      <td>...</td>\n",
       "      <td>...</td>\n",
       "      <td>...</td>\n",
       "      <td>...</td>\n",
       "      <td>...</td>\n",
       "      <td>...</td>\n",
       "      <td>...</td>\n",
       "      <td>...</td>\n",
       "    </tr>\n",
       "    <tr>\n",
       "      <th>464061</th>\n",
       "      <td>57758</td>\n",
       "      <td>2019-11-03 22:04:00</td>\n",
       "      <td>2019-11-03 22:04:00</td>\n",
       "      <td>Rynek</td>\n",
       "      <td>Rynek</td>\n",
       "      <td>00:00:00</td>\n",
       "      <td>51.109782</td>\n",
       "      <td>17.030175</td>\n",
       "      <td>51.109782</td>\n",
       "      <td>17.030175</td>\n",
       "      <td>True</td>\n",
       "      <td>4</td>\n",
       "      <td>True</td>\n",
       "      <td>7</td>\n",
       "      <td>22</td>\n",
       "      <td>11</td>\n",
       "      <td>0.0</td>\n",
       "    </tr>\n",
       "    <tr>\n",
       "      <th>464070</th>\n",
       "      <td>650051</td>\n",
       "      <td>2019-11-03 22:09:00</td>\n",
       "      <td>2019-11-03 22:09:00</td>\n",
       "      <td>Paprotna / Obornicka, zajezdnia MPK</td>\n",
       "      <td>Paprotna / Obornicka, zajezdnia MPK</td>\n",
       "      <td>00:00:00</td>\n",
       "      <td>51.148528</td>\n",
       "      <td>17.020477</td>\n",
       "      <td>51.148528</td>\n",
       "      <td>17.020477</td>\n",
       "      <td>True</td>\n",
       "      <td>4</td>\n",
       "      <td>True</td>\n",
       "      <td>7</td>\n",
       "      <td>22</td>\n",
       "      <td>11</td>\n",
       "      <td>0.0</td>\n",
       "    </tr>\n",
       "    <tr>\n",
       "      <th>464076</th>\n",
       "      <td>650818</td>\n",
       "      <td>2019-11-03 22:11:00</td>\n",
       "      <td>2019-11-03 22:11:00</td>\n",
       "      <td>Plac Uniwersytecki (UWr)</td>\n",
       "      <td>Plac Uniwersytecki (UWr)</td>\n",
       "      <td>00:00:00</td>\n",
       "      <td>51.113871</td>\n",
       "      <td>17.034484</td>\n",
       "      <td>51.113871</td>\n",
       "      <td>17.034484</td>\n",
       "      <td>True</td>\n",
       "      <td>4</td>\n",
       "      <td>True</td>\n",
       "      <td>7</td>\n",
       "      <td>22</td>\n",
       "      <td>11</td>\n",
       "      <td>0.0</td>\n",
       "    </tr>\n",
       "    <tr>\n",
       "      <th>464194</th>\n",
       "      <td>650932</td>\n",
       "      <td>2019-11-03 23:48:00</td>\n",
       "      <td>2019-11-03 23:48:00</td>\n",
       "      <td>al. Armii Krajowej / Bardzka</td>\n",
       "      <td>al. Armii Krajowej / Bardzka</td>\n",
       "      <td>00:00:00</td>\n",
       "      <td>51.082830</td>\n",
       "      <td>17.048240</td>\n",
       "      <td>51.082830</td>\n",
       "      <td>17.048240</td>\n",
       "      <td>True</td>\n",
       "      <td>4</td>\n",
       "      <td>True</td>\n",
       "      <td>7</td>\n",
       "      <td>23</td>\n",
       "      <td>11</td>\n",
       "      <td>0.0</td>\n",
       "    </tr>\n",
       "    <tr>\n",
       "      <th>464198</th>\n",
       "      <td>650585</td>\n",
       "      <td>2019-11-03 23:53:00</td>\n",
       "      <td>2019-11-03 23:53:00</td>\n",
       "      <td>Jedności Narodowej / Wyszyńskiego</td>\n",
       "      <td>Jedności Narodowej / Wyszyńskiego</td>\n",
       "      <td>00:00:00</td>\n",
       "      <td>51.128140</td>\n",
       "      <td>17.054770</td>\n",
       "      <td>51.128140</td>\n",
       "      <td>17.054770</td>\n",
       "      <td>True</td>\n",
       "      <td>4</td>\n",
       "      <td>True</td>\n",
       "      <td>7</td>\n",
       "      <td>23</td>\n",
       "      <td>11</td>\n",
       "      <td>0.0</td>\n",
       "    </tr>\n",
       "  </tbody>\n",
       "</table>\n",
       "<p>15298 rows × 17 columns</p>\n",
       "</div>"
      ],
      "text/plain": [
       "        Bike number     Rental datetime     Return datetime  \\\n",
       "5            650020 2019-06-26 00:00:52 2019-06-26 00:01:41   \n",
       "6            650072 2019-06-26 00:01:04 2019-06-26 00:01:58   \n",
       "9             57856 2019-06-26 00:01:57 2019-06-26 00:02:24   \n",
       "17           650544 2019-06-26 00:02:50 2019-06-26 00:03:47   \n",
       "18           650601 2019-06-26 00:03:04 2019-06-26 00:04:03   \n",
       "...             ...                 ...                 ...   \n",
       "464061        57758 2019-11-03 22:04:00 2019-11-03 22:04:00   \n",
       "464070       650051 2019-11-03 22:09:00 2019-11-03 22:09:00   \n",
       "464076       650818 2019-11-03 22:11:00 2019-11-03 22:11:00   \n",
       "464194       650932 2019-11-03 23:48:00 2019-11-03 23:48:00   \n",
       "464198       650585 2019-11-03 23:53:00 2019-11-03 23:53:00   \n",
       "\n",
       "                             Rental station  \\\n",
       "5                 Plac Grunwaldzki / Polaka   \n",
       "6                 Plac Grunwaldzki / Polaka   \n",
       "9            Kamienna / Borowska (Aquapark)   \n",
       "17                     Wróblewskiego (Teki)   \n",
       "18                        Drobnera / Dubois   \n",
       "...                                     ...   \n",
       "464061                                Rynek   \n",
       "464070  Paprotna / Obornicka, zajezdnia MPK   \n",
       "464076             Plac Uniwersytecki (UWr)   \n",
       "464194         al. Armii Krajowej / Bardzka   \n",
       "464198    Jedności Narodowej / Wyszyńskiego   \n",
       "\n",
       "                             Return station Duration  Rental station latitude  \\\n",
       "5                 Plac Grunwaldzki / Polaka 00:00:49                51.110415   \n",
       "6                 Plac Grunwaldzki / Polaka 00:00:54                51.110415   \n",
       "9            Kamienna / Borowska (Aquapark) 00:00:27                51.088908   \n",
       "17                     Wróblewskiego (Teki) 00:00:57                51.104110   \n",
       "18                        Drobnera / Dubois 00:00:59                51.117032   \n",
       "...                                     ...      ...                      ...   \n",
       "464061                                Rynek 00:00:00                51.109782   \n",
       "464070  Paprotna / Obornicka, zajezdnia MPK 00:00:00                51.148528   \n",
       "464076             Plac Uniwersytecki (UWr) 00:00:00                51.113871   \n",
       "464194         al. Armii Krajowej / Bardzka 00:00:00                51.082830   \n",
       "464198    Jedności Narodowej / Wyszyńskiego 00:00:00                51.128140   \n",
       "\n",
       "        Rental station longitude  Return station latitude  \\\n",
       "5                      17.055591                51.110415   \n",
       "6                      17.055591                51.110415   \n",
       "9                      17.034051                51.088908   \n",
       "17                     17.084711                51.104110   \n",
       "18                     17.033499                51.117032   \n",
       "...                          ...                      ...   \n",
       "464061                 17.030175                51.109782   \n",
       "464070                 17.020477                51.148528   \n",
       "464076                 17.034484                51.113871   \n",
       "464194                 17.048240                51.082830   \n",
       "464198                 17.054770                51.128140   \n",
       "\n",
       "        Return station longitude  IsDeleted  Season  Holidays  \\\n",
       "5                      17.055591       True       3     False   \n",
       "6                      17.055591       True       3     False   \n",
       "9                      17.034051       True       3     False   \n",
       "17                     17.084711       True       3     False   \n",
       "18                     17.033499       True       3     False   \n",
       "...                          ...        ...     ...       ...   \n",
       "464061                 17.030175       True       4      True   \n",
       "464070                 17.020477       True       4      True   \n",
       "464076                 17.034484       True       4      True   \n",
       "464194                 17.048240       True       4      True   \n",
       "464198                 17.054770       True       4      True   \n",
       "\n",
       "        Rental day of week  Rental hour  Rental month  Distance  \n",
       "5                        3            0             6       0.0  \n",
       "6                        3            0             6       0.0  \n",
       "9                        3            0             6       0.0  \n",
       "17                       3            0             6       0.0  \n",
       "18                       3            0             6       0.0  \n",
       "...                    ...          ...           ...       ...  \n",
       "464061                   7           22            11       0.0  \n",
       "464070                   7           22            11       0.0  \n",
       "464076                   7           22            11       0.0  \n",
       "464194                   7           23            11       0.0  \n",
       "464198                   7           23            11       0.0  \n",
       "\n",
       "[15298 rows x 17 columns]"
      ]
     },
     "execution_count": 17,
     "metadata": {},
     "output_type": "execute_result"
    }
   ],
   "source": [
    "bike_rentals_df.loc[ (bike_rentals_df['Rental station'] == bike_rentals_df['Return station'])\n",
    "                    & (bike_rentals_df['Duration'] < '00:01:00')]"
   ]
  },
  {
   "cell_type": "markdown",
   "metadata": {},
   "source": [
    "### Duration"
   ]
  },
  {
   "cell_type": "code",
   "execution_count": 18,
   "metadata": {
    "ExecuteTime": {
     "end_time": "2019-11-07T21:15:30.918375Z",
     "start_time": "2019-11-07T21:15:30.906689Z"
    }
   },
   "outputs": [
    {
     "name": "stdout",
     "output_type": "stream",
     "text": [
      "Min: 0.0, Max: 56135.0\n",
      "Avg: 524.5717309801321, Std: 1403.476335846245\n"
     ]
    }
   ],
   "source": [
    "total_seconds = bike_rentals_df.loc[idx, 'Duration'].dt.total_seconds();\n",
    "\n",
    "print(f\"Min: {total_seconds.min()}, Max: {total_seconds.max()}\")\n",
    "print(f\"Avg: {total_seconds.mean()}, Std: {total_seconds.std()}\")"
   ]
  },
  {
   "cell_type": "code",
   "execution_count": 19,
   "metadata": {
    "ExecuteTime": {
     "end_time": "2019-11-07T21:15:32.330868Z",
     "start_time": "2019-11-07T21:15:30.920567Z"
    }
   },
   "outputs": [
    {
     "data": {
      "image/png": "[encoded data removed]",
      "text/plain": [
       "<Figure size 864x288 with 1 Axes>"
      ]
     },
     "metadata": {
      "image/png": {
       "height": 248,
       "width": 723
      },
      "needs_background": "light"
     },
     "output_type": "display_data"
    }
   ],
   "source": [
    "total_seconds.hist(bins=50, figsize=(12, 4));"
   ]
  },
  {
   "cell_type": "markdown",
   "metadata": {},
   "source": [
    "### Geographical dispersion"
   ]
  },
  {
   "cell_type": "code",
   "execution_count": 20,
   "metadata": {
    "ExecuteTime": {
     "end_time": "2019-11-07T21:15:33.701603Z",
     "start_time": "2019-11-07T21:15:32.332927Z"
    }
   },
   "outputs": [
    {
     "data": {
      "image/png": "[encoded data removed]",
      "text/plain": [
       "<Figure size 432x288 with 1 Axes>"
      ]
     },
     "metadata": {
      "image/png": {
       "height": 277,
       "width": 426
      },
      "needs_background": "light"
     },
     "output_type": "display_data"
    }
   ],
   "source": [
    "plt.scatter(x=bike_rentals_df.loc[idx, 'Rental station longitude'].values, \n",
    "            y=bike_rentals_df.loc[idx, 'Rental station latitude'].values, \n",
    "            alpha=0.01)\n",
    "plt.title('Bike stations from which bicycles were rented and then returned')\n",
    "plt.xlabel('Longitude')\n",
    "plt.ylabel('Latitude')\n",
    "plt.show();"
   ]
  },
  {
   "cell_type": "markdown",
   "metadata": {},
   "source": [
    "# Run full pipeline"
   ]
  },
  {
   "cell_type": "code",
   "execution_count": 21,
   "metadata": {
    "ExecuteTime": {
     "end_time": "2019-11-07T21:15:33.705701Z",
     "start_time": "2019-11-07T21:15:33.703791Z"
    }
   },
   "outputs": [],
   "source": [
    "# run data loading and processing pipeline\n",
    "#!python run_pipeline.py --hard-delete=1"
   ]
  }
 ],
 "metadata": {
  "file_extension": ".py",
  "kernelspec": {
   "display_name": "Python 3",
   "language": "python",
   "name": "python3"
  },
  "language_info": {
   "codemirror_mode": {
    "name": "ipython",
    "version": 3
   },
   "file_extension": ".py",
   "mimetype": "text/x-python",
   "name": "python",
   "nbconvert_exporter": "python",
   "pygments_lexer": "ipython3",
   "version": "3.6.8"
  },
  "mimetype": "text/x-python",
  "name": "python",
  "npconvert_exporter": "python",
  "pygments_lexer": "ipython3",
  "toc": {
   "base_numbering": 1,
   "nav_menu": {},
   "number_sections": true,
   "sideBar": true,
   "skip_h1_title": false,
   "title_cell": "Table of Contents",
   "title_sidebar": "Contents",
   "toc_cell": false,
   "toc_position": {
    "height": "calc(100% - 180px)",
    "left": "10px",
    "top": "150px",
    "width": "282.594px"
   },
   "toc_section_display": true,
   "toc_window_display": false
  },
  "version": 3
 },
 "nbformat": 4,
 "nbformat_minor": 2
}

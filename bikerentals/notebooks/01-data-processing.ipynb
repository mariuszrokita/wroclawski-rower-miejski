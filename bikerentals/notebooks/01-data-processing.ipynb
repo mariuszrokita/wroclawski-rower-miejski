{
 "cells": [
  {
   "cell_type": "markdown",
   "metadata": {},
   "source": [
    "# Introduction"
   ]
  },
  {
   "cell_type": "markdown",
   "metadata": {},
   "source": [
    "The purpose of this notebook is to download data and process it. As a result we will get a dataset ready for further analyses and modeling."
   ]
  },
  {
   "cell_type": "code",
   "execution_count": 1,
   "metadata": {
    "ExecuteTime": {
     "end_time": "2019-11-01T20:16:47.776214Z",
     "start_time": "2019-11-01T20:16:47.454110Z"
    }
   },
   "outputs": [],
   "source": [
    "import matplotlib\n",
    "import matplotlib.pyplot as plt\n",
    "\n",
    "# let matplotlib plots be part of Jupyter Notebook\n",
    "%matplotlib inline\n",
    "\n",
    "# set up higher resolution for matplotlib plots\n",
    "%config InlineBackend.figure_format = 'retina'"
   ]
  },
  {
   "cell_type": "markdown",
   "metadata": {},
   "source": [
    "# Data loading and processing pipeline"
   ]
  },
  {
   "cell_type": "code",
   "execution_count": 2,
   "metadata": {
    "ExecuteTime": {
     "end_time": "2019-11-01T20:16:47.782877Z",
     "start_time": "2019-11-01T20:16:47.778215Z"
    }
   },
   "outputs": [
    {
     "name": "stdout",
     "output_type": "stream",
     "text": [
      "/Users/mariuszrokita/GitHub/wroclawski-rower-miejski/bikerentals/src\n"
     ]
    }
   ],
   "source": [
    "# Change folder\n",
    "%cd ../src"
   ]
  },
  {
   "cell_type": "code",
   "execution_count": 3,
   "metadata": {
    "ExecuteTime": {
     "end_time": "2019-11-01T20:16:49.276227Z",
     "start_time": "2019-11-01T20:16:47.785226Z"
    }
   },
   "outputs": [
    {
     "name": "stdout",
     "output_type": "stream",
     "text": [
      "\u001b[1m============================= test session starts ==============================\u001b[0m\n",
      "platform darwin -- Python 3.6.8, pytest-5.2.2, py-1.8.0, pluggy-0.13.0\n",
      "rootdir: /Users/mariuszrokita/GitHub/wroclawski-rower-miejski, inifile: tox.ini\n",
      "collected 16 items                                                             \u001b[0m\u001b[1m\n",
      "\n",
      "tests/cleaning/test_extract_gps_from_station_name.py \u001b[32m.\u001b[0m\u001b[32m.\u001b[0m\u001b[36m                  [ 12%]\u001b[0m\n",
      "tests/cleaning/test_pipeline.py \u001b[32m.\u001b[0m\u001b[32m.\u001b[0m\u001b[32m.\u001b[0m\u001b[32m.\u001b[0m\u001b[36m                                     [ 37%]\u001b[0m\n",
      "tests/cleaning/test_remove_missing_gps.py \u001b[32m.\u001b[0m\u001b[32m.\u001b[0m\u001b[36m                             [ 50%]\u001b[0m\n",
      "tests/cleaning/test_remove_same_location.py \u001b[32m.\u001b[0m\u001b[32m.\u001b[0m\u001b[32m.\u001b[0m\u001b[36m                          [ 68%]\u001b[0m\n",
      "tests/features/test_holidays.py \u001b[32m.\u001b[0m\u001b[32m.\u001b[0m\u001b[32m.\u001b[0m\u001b[36m                                      [ 87%]\u001b[0m\n",
      "tests/features/test_season.py \u001b[32m.\u001b[0m\u001b[32m.\u001b[0m\u001b[36m                                         [100%]\u001b[0m\n",
      "\n",
      "\u001b[32m\u001b[1m============================== 16 passed in 0.89s ==============================\u001b[0m\n"
     ]
    }
   ],
   "source": [
    "# execute tests to make sure everything is working as expected\n",
    "! python -m pytest"
   ]
  },
  {
   "cell_type": "code",
   "execution_count": 4,
   "metadata": {
    "ExecuteTime": {
     "end_time": "2019-11-01T20:17:19.181304Z",
     "start_time": "2019-11-01T20:16:49.280072Z"
    }
   },
   "outputs": [
    {
     "name": "stdout",
     "output_type": "stream",
     "text": [
      "Pipeline execution started\n",
      "Root folder set to: /Users/mariuszrokita/GitHub/wroclawski-rower-miejski/bikerentals\n",
      "* GpsFromStationNameExtractor *\n",
      "--> input data shape:  (457015, 10)\n",
      "--> output data shape:  (457015, 10)\n",
      "* GpsFromStationNameExtractor *\n",
      "--> input data shape:  (457015, 10)\n",
      "--> output data shape:  (457015, 10)\n",
      "* SameLocationRemover *\n",
      "--> input data shape:  (457015, 10)\n",
      "--> output data shape:  (457015, 11)\n",
      "* MissingGpsLocationRemover *\n",
      "--> input data shape:  (457015, 11)\n",
      "--> output data shape:  (457015, 11)\n",
      "* SeasonFeature *\n",
      "--> input data shape:  (457015, 11)\n",
      "--> output data shape:  (457015, 12)\n",
      "* HolidaysFeature *\n",
      "--> input data shape:  (457015, 12)\n",
      "--> output data shape:  (457015, 13)\n",
      "Data saved to: /Users/mariuszrokita/GitHub/wroclawski-rower-miejski/bikerentals/data/processed/bike_rentals.csv\n",
      "Pipeline execution completed\n"
     ]
    }
   ],
   "source": [
    "# run data loading and processing pipeline \n",
    "# (with soft deleting so that we can inspect everything)\n",
    "!python run_pipeline.py --remove=0"
   ]
  },
  {
   "cell_type": "markdown",
   "metadata": {},
   "source": [
    "# Post-processing inspection"
   ]
  },
  {
   "cell_type": "code",
   "execution_count": 5,
   "metadata": {
    "ExecuteTime": {
     "end_time": "2019-11-01T20:17:19.452726Z",
     "start_time": "2019-11-01T20:17:19.184316Z"
    }
   },
   "outputs": [],
   "source": [
    "import os\n",
    "import pandas as pd\n",
    "\n",
    "filepath = os.path.join(os.getcwd(), '..', 'data', 'processed', 'bike_rentals.csv')"
   ]
  },
  {
   "cell_type": "code",
   "execution_count": 6,
   "metadata": {
    "ExecuteTime": {
     "end_time": "2019-11-01T20:17:21.908056Z",
     "start_time": "2019-11-01T20:17:19.454507Z"
    }
   },
   "outputs": [],
   "source": [
    "# load csv and set proper column types\n",
    "bike_rentals_df = pd.read_csv(filepath)\n",
    "bike_rentals_df['Rental datetime'] = pd.to_datetime(bike_rentals_df['Rental datetime'])\n",
    "bike_rentals_df['Return datetime'] = pd.to_datetime(bike_rentals_df['Return datetime'])\n",
    "bike_rentals_df['Duration'] = pd.to_timedelta(bike_rentals_df['Duration'])"
   ]
  },
  {
   "cell_type": "code",
   "execution_count": 7,
   "metadata": {
    "ExecuteTime": {
     "end_time": "2019-11-01T20:17:21.976647Z",
     "start_time": "2019-11-01T20:17:21.909744Z"
    }
   },
   "outputs": [
    {
     "name": "stdout",
     "output_type": "stream",
     "text": [
      "<class 'pandas.core.frame.DataFrame'>\n",
      "RangeIndex: 457015 entries, 0 to 457014\n",
      "Data columns (total 13 columns):\n",
      "Bike number                 457015 non-null int64\n",
      "Rental datetime             457015 non-null datetime64[ns]\n",
      "Return datetime             457015 non-null datetime64[ns]\n",
      "Rental station              457015 non-null object\n",
      "Return station              457015 non-null object\n",
      "Duration                    457015 non-null timedelta64[ns]\n",
      "Rental station latitude     398278 non-null float64\n",
      "Rental station longitude    398278 non-null float64\n",
      "Return station latitude     401073 non-null float64\n",
      "Return station longitude    401073 non-null float64\n",
      "IsDeleted                   457015 non-null bool\n",
      "Season                      457015 non-null int64\n",
      "Holidays                    457015 non-null bool\n",
      "dtypes: bool(2), datetime64[ns](2), float64(4), int64(2), object(2), timedelta64[ns](1)\n",
      "memory usage: 39.2+ MB\n"
     ]
    }
   ],
   "source": [
    "bike_rentals_df.info()"
   ]
  },
  {
   "cell_type": "code",
   "execution_count": 8,
   "metadata": {
    "ExecuteTime": {
     "end_time": "2019-11-01T20:17:22.028123Z",
     "start_time": "2019-11-01T20:17:21.979390Z"
    }
   },
   "outputs": [
    {
     "data": {
      "text/plain": [
       "Bike number                     0\n",
       "Rental datetime                 0\n",
       "Return datetime                 0\n",
       "Rental station                  0\n",
       "Return station                  0\n",
       "Duration                        0\n",
       "Rental station latitude     58737\n",
       "Rental station longitude    58737\n",
       "Return station latitude     55942\n",
       "Return station longitude    55942\n",
       "IsDeleted                       0\n",
       "Season                          0\n",
       "Holidays                        0\n",
       "dtype: int64"
      ]
     },
     "execution_count": 8,
     "metadata": {},
     "output_type": "execute_result"
    }
   ],
   "source": [
    "# deleted records may contain NaN values\n",
    "bike_rentals_df[bike_rentals_df['IsDeleted'] == True].isnull().sum()"
   ]
  },
  {
   "cell_type": "code",
   "execution_count": 9,
   "metadata": {
    "ExecuteTime": {
     "end_time": "2019-11-01T20:17:22.101263Z",
     "start_time": "2019-11-01T20:17:22.030118Z"
    }
   },
   "outputs": [
    {
     "data": {
      "text/plain": [
       "Bike number                 0\n",
       "Rental datetime             0\n",
       "Return datetime             0\n",
       "Rental station              0\n",
       "Return station              0\n",
       "Duration                    0\n",
       "Rental station latitude     0\n",
       "Rental station longitude    0\n",
       "Return station latitude     0\n",
       "Return station longitude    0\n",
       "IsDeleted                   0\n",
       "Season                      0\n",
       "Holidays                    0\n",
       "dtype: int64"
      ]
     },
     "execution_count": 9,
     "metadata": {},
     "output_type": "execute_result"
    }
   ],
   "source": [
    "# make sure there are no NaN values in records that \n",
    "bike_rentals_df[bike_rentals_df['IsDeleted'] == False].isnull().sum()"
   ]
  },
  {
   "cell_type": "code",
   "execution_count": 10,
   "metadata": {
    "ExecuteTime": {
     "end_time": "2019-11-01T20:17:22.122243Z",
     "start_time": "2019-11-01T20:17:22.102856Z"
    }
   },
   "outputs": [
    {
     "data": {
      "text/html": [
       "<div>\n",
       "<style scoped>\n",
       "    .dataframe tbody tr th:only-of-type {\n",
       "        vertical-align: middle;\n",
       "    }\n",
       "\n",
       "    .dataframe tbody tr th {\n",
       "        vertical-align: top;\n",
       "    }\n",
       "\n",
       "    .dataframe thead th {\n",
       "        text-align: right;\n",
       "    }\n",
       "</style>\n",
       "<table border=\"1\" class=\"dataframe\">\n",
       "  <thead>\n",
       "    <tr style=\"text-align: right;\">\n",
       "      <th></th>\n",
       "      <th>Bike number</th>\n",
       "      <th>Rental datetime</th>\n",
       "      <th>Return datetime</th>\n",
       "      <th>Rental station</th>\n",
       "      <th>Return station</th>\n",
       "      <th>Duration</th>\n",
       "      <th>Rental station latitude</th>\n",
       "      <th>Rental station longitude</th>\n",
       "      <th>Return station latitude</th>\n",
       "      <th>Return station longitude</th>\n",
       "      <th>IsDeleted</th>\n",
       "      <th>Season</th>\n",
       "      <th>Holidays</th>\n",
       "    </tr>\n",
       "  </thead>\n",
       "  <tbody>\n",
       "    <tr>\n",
       "      <th>0</th>\n",
       "      <td>57719</td>\n",
       "      <td>2019-06-26 00:00:10</td>\n",
       "      <td>2019-06-26 00:06:19</td>\n",
       "      <td>Skarbowców / Wietrzna</td>\n",
       "      <td>Krzycka / Aleja Karkonoska (Park Południowy)</td>\n",
       "      <td>00:06:09</td>\n",
       "      <td>51.073290</td>\n",
       "      <td>16.994850</td>\n",
       "      <td>51.074992</td>\n",
       "      <td>17.007058</td>\n",
       "      <td>False</td>\n",
       "      <td>3</td>\n",
       "      <td>False</td>\n",
       "    </tr>\n",
       "    <tr>\n",
       "      <th>1</th>\n",
       "      <td>650480</td>\n",
       "      <td>2019-06-26 00:00:13</td>\n",
       "      <td>2019-06-26 00:06:59</td>\n",
       "      <td>Rynek</td>\n",
       "      <td>Plac Legionów</td>\n",
       "      <td>00:06:46</td>\n",
       "      <td>51.109782</td>\n",
       "      <td>17.030175</td>\n",
       "      <td>51.104413</td>\n",
       "      <td>17.022536</td>\n",
       "      <td>False</td>\n",
       "      <td>3</td>\n",
       "      <td>False</td>\n",
       "    </tr>\n",
       "    <tr>\n",
       "      <th>2</th>\n",
       "      <td>650988</td>\n",
       "      <td>2019-06-26 00:00:15</td>\n",
       "      <td>2019-06-26 00:13:32</td>\n",
       "      <td>Poza oficjalną stacją</td>\n",
       "      <td>Wałbrzyska - pętla tramwajowa</td>\n",
       "      <td>00:13:17</td>\n",
       "      <td>NaN</td>\n",
       "      <td>NaN</td>\n",
       "      <td>51.065777</td>\n",
       "      <td>16.988575</td>\n",
       "      <td>True</td>\n",
       "      <td>3</td>\n",
       "      <td>False</td>\n",
       "    </tr>\n",
       "    <tr>\n",
       "      <th>3</th>\n",
       "      <td>57603</td>\n",
       "      <td>2019-06-26 00:00:21</td>\n",
       "      <td>2019-06-26 00:23:53</td>\n",
       "      <td>Plac Uniwersytecki (UWr)</td>\n",
       "      <td>Legnicka / Wejherowska</td>\n",
       "      <td>00:23:32</td>\n",
       "      <td>51.113871</td>\n",
       "      <td>17.034484</td>\n",
       "      <td>51.125276</td>\n",
       "      <td>16.984447</td>\n",
       "      <td>False</td>\n",
       "      <td>3</td>\n",
       "      <td>False</td>\n",
       "    </tr>\n",
       "    <tr>\n",
       "      <th>4</th>\n",
       "      <td>650067</td>\n",
       "      <td>2019-06-26 00:00:40</td>\n",
       "      <td>2019-06-26 00:04:40</td>\n",
       "      <td>Powstańców Śląskich (Arkady Wrocławskie)</td>\n",
       "      <td>Powstańców Śląskich (Arkady Wrocławskie)</td>\n",
       "      <td>00:04:00</td>\n",
       "      <td>51.099713</td>\n",
       "      <td>17.027905</td>\n",
       "      <td>51.099713</td>\n",
       "      <td>17.027905</td>\n",
       "      <td>True</td>\n",
       "      <td>3</td>\n",
       "      <td>False</td>\n",
       "    </tr>\n",
       "  </tbody>\n",
       "</table>\n",
       "</div>"
      ],
      "text/plain": [
       "   Bike number     Rental datetime     Return datetime  \\\n",
       "0        57719 2019-06-26 00:00:10 2019-06-26 00:06:19   \n",
       "1       650480 2019-06-26 00:00:13 2019-06-26 00:06:59   \n",
       "2       650988 2019-06-26 00:00:15 2019-06-26 00:13:32   \n",
       "3        57603 2019-06-26 00:00:21 2019-06-26 00:23:53   \n",
       "4       650067 2019-06-26 00:00:40 2019-06-26 00:04:40   \n",
       "\n",
       "                             Rental station  \\\n",
       "0                     Skarbowców / Wietrzna   \n",
       "1                                     Rynek   \n",
       "2                     Poza oficjalną stacją   \n",
       "3                  Plac Uniwersytecki (UWr)   \n",
       "4  Powstańców Śląskich (Arkady Wrocławskie)   \n",
       "\n",
       "                                 Return station Duration  \\\n",
       "0  Krzycka / Aleja Karkonoska (Park Południowy) 00:06:09   \n",
       "1                                 Plac Legionów 00:06:46   \n",
       "2                 Wałbrzyska - pętla tramwajowa 00:13:17   \n",
       "3                        Legnicka / Wejherowska 00:23:32   \n",
       "4      Powstańców Śląskich (Arkady Wrocławskie) 00:04:00   \n",
       "\n",
       "   Rental station latitude  Rental station longitude  Return station latitude  \\\n",
       "0                51.073290                 16.994850                51.074992   \n",
       "1                51.109782                 17.030175                51.104413   \n",
       "2                      NaN                       NaN                51.065777   \n",
       "3                51.113871                 17.034484                51.125276   \n",
       "4                51.099713                 17.027905                51.099713   \n",
       "\n",
       "   Return station longitude  IsDeleted  Season  Holidays  \n",
       "0                 17.007058      False       3     False  \n",
       "1                 17.022536      False       3     False  \n",
       "2                 16.988575       True       3     False  \n",
       "3                 16.984447      False       3     False  \n",
       "4                 17.027905       True       3     False  "
      ]
     },
     "execution_count": 10,
     "metadata": {},
     "output_type": "execute_result"
    }
   ],
   "source": [
    "bike_rentals_df.head()"
   ]
  },
  {
   "cell_type": "markdown",
   "metadata": {},
   "source": [
    "# Visual inspection of soft deleted records"
   ]
  },
  {
   "cell_type": "code",
   "execution_count": 11,
   "metadata": {
    "ExecuteTime": {
     "end_time": "2019-11-01T20:17:22.145757Z",
     "start_time": "2019-11-01T20:17:22.124740Z"
    }
   },
   "outputs": [
    {
     "name": "stdout",
     "output_type": "stream",
     "text": [
      "Number of soft deleted records: 167882\n"
     ]
    }
   ],
   "source": [
    "print(f\"Number of soft deleted records: {bike_rentals_df[bike_rentals_df['IsDeleted'] == True].shape[0]}\")"
   ]
  },
  {
   "cell_type": "markdown",
   "metadata": {},
   "source": [
    "## Rentals returned to the same bike station"
   ]
  },
  {
   "cell_type": "code",
   "execution_count": 12,
   "metadata": {
    "ExecuteTime": {
     "end_time": "2019-11-01T20:17:22.203069Z",
     "start_time": "2019-11-01T20:17:22.148155Z"
    }
   },
   "outputs": [
    {
     "name": "stdout",
     "output_type": "stream",
     "text": [
      "Number of records: 76852\n"
     ]
    }
   ],
   "source": [
    "idx = bike_rentals_df['Rental station'] == bike_rentals_df['Return station']\n",
    "print(f\"Number of records: {bike_rentals_df.loc[idx, :].shape[0]}\")"
   ]
  },
  {
   "cell_type": "code",
   "execution_count": 13,
   "metadata": {
    "ExecuteTime": {
     "end_time": "2019-11-01T20:17:22.213612Z",
     "start_time": "2019-11-01T20:17:22.204663Z"
    }
   },
   "outputs": [
    {
     "name": "stdout",
     "output_type": "stream",
     "text": [
      "Min: 0.0, Max: 56135.0\n",
      "Avg: 520.872091812835, Std: 1387.2647139280132\n"
     ]
    }
   ],
   "source": [
    "total_seconds = bike_rentals_df.loc[idx, 'Duration'].dt.total_seconds();\n",
    "\n",
    "print(f\"Min: {total_seconds.min()}, Max: {total_seconds.max()}\")\n",
    "print(f\"Avg: {total_seconds.mean()}, Std: {total_seconds.std()}\")"
   ]
  },
  {
   "cell_type": "code",
   "execution_count": 14,
   "metadata": {
    "ExecuteTime": {
     "end_time": "2019-11-01T20:17:22.777913Z",
     "start_time": "2019-11-01T20:17:22.215767Z"
    }
   },
   "outputs": [
    {
     "data": {
      "image/png": "[encoded data removed]",
      "text/plain": [
       "<Figure size 864x288 with 1 Axes>"
      ]
     },
     "metadata": {
      "image/png": {
       "height": 248,
       "width": 723
      },
      "needs_background": "light"
     },
     "output_type": "display_data"
    }
   ],
   "source": [
    "total_seconds.hist(bins=50, figsize=(12, 4));"
   ]
  },
  {
   "cell_type": "code",
   "execution_count": 15,
   "metadata": {
    "ExecuteTime": {
     "end_time": "2019-11-01T20:17:23.975676Z",
     "start_time": "2019-11-01T20:17:22.779592Z"
    }
   },
   "outputs": [
    {
     "data": {
      "image/png": "[encoded data removed]",
      "text/plain": [
       "<Figure size 432x288 with 1 Axes>"
      ]
     },
     "metadata": {
      "image/png": {
       "height": 277,
       "width": 426
      },
      "needs_background": "light"
     },
     "output_type": "display_data"
    }
   ],
   "source": [
    "plt.scatter(x=bike_rentals_df.loc[idx, 'Rental station longitude'].values, \n",
    "            y=bike_rentals_df.loc[idx, 'Rental station latitude'].values, \n",
    "            alpha=0.01)\n",
    "plt.title('Bike stations from which bicycles were rented and then returned')\n",
    "plt.xlabel('Longitude')\n",
    "plt.ylabel('Latitude')\n",
    "plt.show();"
   ]
  },
  {
   "cell_type": "code",
   "execution_count": 16,
   "metadata": {
    "ExecuteTime": {
     "end_time": "2019-11-01T20:17:23.997980Z",
     "start_time": "2019-11-01T20:17:23.977241Z"
    }
   },
   "outputs": [
    {
     "data": {
      "text/plain": [
       "Poza oficjalną stacją                       4446\n",
       "Rondo Reagana                               1667\n",
       "Plac Dominikański (Galeria Dominikańska)    1422\n",
       "Rynek                                       1421\n",
       "Kościuszki / Pułaskiego                     1140\n",
       "                                            ... \n",
       "51.098813333333, 17.033382222222               1\n",
       "51.086671111111, 16.948341111111               1\n",
       "51.0639402, 16.9844                            1\n",
       ".RELOKACYJNA A1-4                              1\n",
       "51.15388, 17.042883333333                      1\n",
       "Name: Rental station, Length: 221, dtype: int64"
      ]
     },
     "execution_count": 16,
     "metadata": {},
     "output_type": "execute_result"
    }
   ],
   "source": [
    "bike_rentals_df.loc[idx, 'Rental station'].value_counts()"
   ]
  },
  {
   "cell_type": "code",
   "execution_count": 17,
   "metadata": {
    "ExecuteTime": {
     "end_time": "2019-11-01T20:17:24.504597Z",
     "start_time": "2019-11-01T20:17:24.000117Z"
    }
   },
   "outputs": [
    {
     "data": {
      "text/html": [
       "<div>\n",
       "<style scoped>\n",
       "    .dataframe tbody tr th:only-of-type {\n",
       "        vertical-align: middle;\n",
       "    }\n",
       "\n",
       "    .dataframe tbody tr th {\n",
       "        vertical-align: top;\n",
       "    }\n",
       "\n",
       "    .dataframe thead th {\n",
       "        text-align: right;\n",
       "    }\n",
       "</style>\n",
       "<table border=\"1\" class=\"dataframe\">\n",
       "  <thead>\n",
       "    <tr style=\"text-align: right;\">\n",
       "      <th></th>\n",
       "      <th>Bike number</th>\n",
       "      <th>Rental datetime</th>\n",
       "      <th>Return datetime</th>\n",
       "      <th>Rental station</th>\n",
       "      <th>Return station</th>\n",
       "      <th>Duration</th>\n",
       "      <th>Rental station latitude</th>\n",
       "      <th>Rental station longitude</th>\n",
       "      <th>Return station latitude</th>\n",
       "      <th>Return station longitude</th>\n",
       "      <th>IsDeleted</th>\n",
       "      <th>Season</th>\n",
       "      <th>Holidays</th>\n",
       "    </tr>\n",
       "  </thead>\n",
       "  <tbody>\n",
       "    <tr>\n",
       "      <th>92764</th>\n",
       "      <td>650711</td>\n",
       "      <td>2019-08-05 12:52:12</td>\n",
       "      <td>2019-08-05 13:10:37</td>\n",
       "      <td>50.984208888889, 16.654945555556</td>\n",
       "      <td>Poza oficjalną stacją</td>\n",
       "      <td>00:18:25</td>\n",
       "      <td>50.984209</td>\n",
       "      <td>16.654946</td>\n",
       "      <td>NaN</td>\n",
       "      <td>NaN</td>\n",
       "      <td>True</td>\n",
       "      <td>3</td>\n",
       "      <td>False</td>\n",
       "    </tr>\n",
       "    <tr>\n",
       "      <th>100224</th>\n",
       "      <td>650559</td>\n",
       "      <td>2019-08-06 10:12:00</td>\n",
       "      <td>2019-08-06 10:18:00</td>\n",
       "      <td>50.97312, 16.630347777778</td>\n",
       "      <td>Poza oficjalną stacją</td>\n",
       "      <td>00:06:00</td>\n",
       "      <td>50.973120</td>\n",
       "      <td>16.630348</td>\n",
       "      <td>NaN</td>\n",
       "      <td>NaN</td>\n",
       "      <td>True</td>\n",
       "      <td>3</td>\n",
       "      <td>False</td>\n",
       "    </tr>\n",
       "    <tr>\n",
       "      <th>131095</th>\n",
       "      <td>650116</td>\n",
       "      <td>2019-08-13 17:50:00</td>\n",
       "      <td>2019-08-13 17:59:00</td>\n",
       "      <td>51.12676, 17.012852222222</td>\n",
       "      <td>Młodych Techników</td>\n",
       "      <td>00:09:00</td>\n",
       "      <td>51.126760</td>\n",
       "      <td>17.012852</td>\n",
       "      <td>51.118899</td>\n",
       "      <td>17.013477</td>\n",
       "      <td>False</td>\n",
       "      <td>3</td>\n",
       "      <td>False</td>\n",
       "    </tr>\n",
       "    <tr>\n",
       "      <th>212725</th>\n",
       "      <td>57455</td>\n",
       "      <td>2019-09-01 08:42:00</td>\n",
       "      <td>2019-09-01 08:46:00</td>\n",
       "      <td>51.081071111111, 17.017463333333</td>\n",
       "      <td>Ślężna / Skierniewicka</td>\n",
       "      <td>00:04:00</td>\n",
       "      <td>51.081071</td>\n",
       "      <td>17.017463</td>\n",
       "      <td>51.077080</td>\n",
       "      <td>17.018240</td>\n",
       "      <td>False</td>\n",
       "      <td>4</td>\n",
       "      <td>True</td>\n",
       "    </tr>\n",
       "    <tr>\n",
       "      <th>212726</th>\n",
       "      <td>650945</td>\n",
       "      <td>2019-09-01 08:42:00</td>\n",
       "      <td>2019-09-01 08:54:00</td>\n",
       "      <td>51.081275555556, 17.017427777778</td>\n",
       "      <td>Powstańcow Śląskich / Aleja Hallera</td>\n",
       "      <td>00:12:00</td>\n",
       "      <td>51.081276</td>\n",
       "      <td>17.017428</td>\n",
       "      <td>51.086689</td>\n",
       "      <td>17.012480</td>\n",
       "      <td>False</td>\n",
       "      <td>4</td>\n",
       "      <td>True</td>\n",
       "    </tr>\n",
       "    <tr>\n",
       "      <th>...</th>\n",
       "      <td>...</td>\n",
       "      <td>...</td>\n",
       "      <td>...</td>\n",
       "      <td>...</td>\n",
       "      <td>...</td>\n",
       "      <td>...</td>\n",
       "      <td>...</td>\n",
       "      <td>...</td>\n",
       "      <td>...</td>\n",
       "      <td>...</td>\n",
       "      <td>...</td>\n",
       "      <td>...</td>\n",
       "      <td>...</td>\n",
       "    </tr>\n",
       "    <tr>\n",
       "      <th>362868</th>\n",
       "      <td>57812</td>\n",
       "      <td>2019-10-03 05:02:00</td>\n",
       "      <td>2019-10-03 05:12:00</td>\n",
       "      <td>51.167928888889, 16.995647777778</td>\n",
       "      <td>Księgarska / Dekarska / Zduńska</td>\n",
       "      <td>00:10:00</td>\n",
       "      <td>51.167929</td>\n",
       "      <td>16.995648</td>\n",
       "      <td>51.177590</td>\n",
       "      <td>17.015880</td>\n",
       "      <td>False</td>\n",
       "      <td>4</td>\n",
       "      <td>False</td>\n",
       "    </tr>\n",
       "    <tr>\n",
       "      <th>363290</th>\n",
       "      <td>650069</td>\n",
       "      <td>2019-10-03 07:37:00</td>\n",
       "      <td>2019-10-03 07:48:00</td>\n",
       "      <td>51.156373333333, 17.03266</td>\n",
       "      <td>Bezpieczna / Obornicka</td>\n",
       "      <td>00:11:00</td>\n",
       "      <td>51.156373</td>\n",
       "      <td>17.032660</td>\n",
       "      <td>51.141560</td>\n",
       "      <td>17.025870</td>\n",
       "      <td>False</td>\n",
       "      <td>4</td>\n",
       "      <td>False</td>\n",
       "    </tr>\n",
       "    <tr>\n",
       "      <th>364060</th>\n",
       "      <td>57761</td>\n",
       "      <td>2019-10-03 10:58:00</td>\n",
       "      <td>2019-10-03 11:03:00</td>\n",
       "      <td>51.083551111111, 17.074913333333</td>\n",
       "      <td>Opolska / pętla tramwajowa</td>\n",
       "      <td>00:05:00</td>\n",
       "      <td>51.083551</td>\n",
       "      <td>17.074913</td>\n",
       "      <td>51.077480</td>\n",
       "      <td>17.084050</td>\n",
       "      <td>False</td>\n",
       "      <td>4</td>\n",
       "      <td>False</td>\n",
       "    </tr>\n",
       "    <tr>\n",
       "      <th>364907</th>\n",
       "      <td>57241</td>\n",
       "      <td>2019-10-03 16:00:00</td>\n",
       "      <td>2019-10-03 16:06:00</td>\n",
       "      <td>51.136671111111, 17.05744</td>\n",
       "      <td>Aleja Kromera</td>\n",
       "      <td>00:06:00</td>\n",
       "      <td>51.136671</td>\n",
       "      <td>17.057440</td>\n",
       "      <td>51.132259</td>\n",
       "      <td>17.065453</td>\n",
       "      <td>False</td>\n",
       "      <td>4</td>\n",
       "      <td>False</td>\n",
       "    </tr>\n",
       "    <tr>\n",
       "      <th>368319</th>\n",
       "      <td>57326</td>\n",
       "      <td>2019-10-06 13:38:00</td>\n",
       "      <td>2019-10-06 13:46:00</td>\n",
       "      <td>51.121208888889, 17.070721111111</td>\n",
       "      <td>al. Kochanowskiego / Kopernika</td>\n",
       "      <td>00:08:00</td>\n",
       "      <td>51.121209</td>\n",
       "      <td>17.070721</td>\n",
       "      <td>51.115140</td>\n",
       "      <td>17.074360</td>\n",
       "      <td>False</td>\n",
       "      <td>4</td>\n",
       "      <td>True</td>\n",
       "    </tr>\n",
       "  </tbody>\n",
       "</table>\n",
       "<p>363 rows × 13 columns</p>\n",
       "</div>"
      ],
      "text/plain": [
       "        Bike number     Rental datetime     Return datetime  \\\n",
       "92764        650711 2019-08-05 12:52:12 2019-08-05 13:10:37   \n",
       "100224       650559 2019-08-06 10:12:00 2019-08-06 10:18:00   \n",
       "131095       650116 2019-08-13 17:50:00 2019-08-13 17:59:00   \n",
       "212725        57455 2019-09-01 08:42:00 2019-09-01 08:46:00   \n",
       "212726       650945 2019-09-01 08:42:00 2019-09-01 08:54:00   \n",
       "...             ...                 ...                 ...   \n",
       "362868        57812 2019-10-03 05:02:00 2019-10-03 05:12:00   \n",
       "363290       650069 2019-10-03 07:37:00 2019-10-03 07:48:00   \n",
       "364060        57761 2019-10-03 10:58:00 2019-10-03 11:03:00   \n",
       "364907        57241 2019-10-03 16:00:00 2019-10-03 16:06:00   \n",
       "368319        57326 2019-10-06 13:38:00 2019-10-06 13:46:00   \n",
       "\n",
       "                          Rental station                       Return station  \\\n",
       "92764   50.984208888889, 16.654945555556                Poza oficjalną stacją   \n",
       "100224         50.97312, 16.630347777778                Poza oficjalną stacją   \n",
       "131095         51.12676, 17.012852222222                    Młodych Techników   \n",
       "212725  51.081071111111, 17.017463333333               Ślężna / Skierniewicka   \n",
       "212726  51.081275555556, 17.017427777778  Powstańcow Śląskich / Aleja Hallera   \n",
       "...                                  ...                                  ...   \n",
       "362868  51.167928888889, 16.995647777778      Księgarska / Dekarska / Zduńska   \n",
       "363290         51.156373333333, 17.03266               Bezpieczna / Obornicka   \n",
       "364060  51.083551111111, 17.074913333333           Opolska / pętla tramwajowa   \n",
       "364907         51.136671111111, 17.05744                        Aleja Kromera   \n",
       "368319  51.121208888889, 17.070721111111       al. Kochanowskiego / Kopernika   \n",
       "\n",
       "       Duration  Rental station latitude  Rental station longitude  \\\n",
       "92764  00:18:25                50.984209                 16.654946   \n",
       "100224 00:06:00                50.973120                 16.630348   \n",
       "131095 00:09:00                51.126760                 17.012852   \n",
       "212725 00:04:00                51.081071                 17.017463   \n",
       "212726 00:12:00                51.081276                 17.017428   \n",
       "...         ...                      ...                       ...   \n",
       "362868 00:10:00                51.167929                 16.995648   \n",
       "363290 00:11:00                51.156373                 17.032660   \n",
       "364060 00:05:00                51.083551                 17.074913   \n",
       "364907 00:06:00                51.136671                 17.057440   \n",
       "368319 00:08:00                51.121209                 17.070721   \n",
       "\n",
       "        Return station latitude  Return station longitude  IsDeleted  Season  \\\n",
       "92764                       NaN                       NaN       True       3   \n",
       "100224                      NaN                       NaN       True       3   \n",
       "131095                51.118899                 17.013477      False       3   \n",
       "212725                51.077080                 17.018240      False       4   \n",
       "212726                51.086689                 17.012480      False       4   \n",
       "...                         ...                       ...        ...     ...   \n",
       "362868                51.177590                 17.015880      False       4   \n",
       "363290                51.141560                 17.025870      False       4   \n",
       "364060                51.077480                 17.084050      False       4   \n",
       "364907                51.132259                 17.065453      False       4   \n",
       "368319                51.115140                 17.074360      False       4   \n",
       "\n",
       "        Holidays  \n",
       "92764      False  \n",
       "100224     False  \n",
       "131095     False  \n",
       "212725      True  \n",
       "212726      True  \n",
       "...          ...  \n",
       "362868     False  \n",
       "363290     False  \n",
       "364060     False  \n",
       "364907     False  \n",
       "368319      True  \n",
       "\n",
       "[363 rows x 13 columns]"
      ]
     },
     "execution_count": 17,
     "metadata": {},
     "output_type": "execute_result"
    }
   ],
   "source": [
    "bike_rentals_df[bike_rentals_df['Rental station'].str.contains('\\d{2}.\\d+, \\d{2}.\\d+', regex=True)]"
   ]
  },
  {
   "cell_type": "markdown",
   "metadata": {},
   "source": [
    "# Run full pipeline"
   ]
  },
  {
   "cell_type": "code",
   "execution_count": 18,
   "metadata": {
    "ExecuteTime": {
     "end_time": "2019-11-01T20:17:24.508287Z",
     "start_time": "2019-11-01T20:17:24.506112Z"
    }
   },
   "outputs": [],
   "source": [
    "# run data loading and processing pipeline\n",
    "#!python run_pipeline.py --remove=1"
   ]
  }
 ],
 "metadata": {
  "file_extension": ".py",
  "kernelspec": {
   "display_name": "Python 3",
   "language": "python",
   "name": "python3"
  },
  "language_info": {
   "codemirror_mode": {
    "name": "ipython",
    "version": 3
   },
   "file_extension": ".py",
   "mimetype": "text/x-python",
   "name": "python",
   "nbconvert_exporter": "python",
   "pygments_lexer": "ipython3",
   "version": "3.6.8"
  },
  "mimetype": "text/x-python",
  "name": "python",
  "npconvert_exporter": "python",
  "pygments_lexer": "ipython3",
  "toc": {
   "base_numbering": 1,
   "nav_menu": {},
   "number_sections": true,
   "sideBar": true,
   "skip_h1_title": false,
   "title_cell": "Table of Contents",
   "title_sidebar": "Contents",
   "toc_cell": false,
   "toc_position": {
    "height": "calc(100% - 180px)",
    "left": "10px",
    "top": "150px",
    "width": "282.594px"
   },
   "toc_section_display": true,
   "toc_window_display": true
  },
  "version": 3
 },
 "nbformat": 4,
 "nbformat_minor": 2
}

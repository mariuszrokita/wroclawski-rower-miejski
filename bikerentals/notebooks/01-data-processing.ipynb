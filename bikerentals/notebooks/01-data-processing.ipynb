{
 "cells": [
  {
   "cell_type": "markdown",
   "metadata": {},
   "source": [
    "# Introduction"
   ]
  },
  {
   "cell_type": "markdown",
   "metadata": {},
   "source": [
    "The purpose of this notebook is to download data and process it. As a result we will get a dataset ready for further analyses and modeling."
   ]
  },
  {
   "cell_type": "markdown",
   "metadata": {},
   "source": [
    "# Data loading and processing pipeline"
   ]
  },
  {
   "cell_type": "code",
   "execution_count": 1,
   "metadata": {
    "ExecuteTime": {
     "end_time": "2019-10-29T06:10:24.935048Z",
     "start_time": "2019-10-29T06:10:24.929989Z"
    }
   },
   "outputs": [
    {
     "name": "stdout",
     "output_type": "stream",
     "text": [
      "C:\\Dev\\private\\wroclawski-rower-miejski\\bikerentals\\src\n"
     ]
    }
   ],
   "source": [
    "# Change folder\n",
    "%cd ../src"
   ]
  },
  {
   "cell_type": "code",
   "execution_count": 2,
   "metadata": {
    "ExecuteTime": {
     "end_time": "2019-10-29T06:10:26.089835Z",
     "start_time": "2019-10-29T06:10:24.937040Z"
    }
   },
   "outputs": [
    {
     "name": "stdout",
     "output_type": "stream",
     "text": [
      "============================= test session starts =============================\n",
      "platform win32 -- Python 3.6.8, pytest-5.2.2, py-1.8.0, pluggy-0.13.0\n",
      "rootdir: C:\\Dev\\private\\wroclawski-rower-miejski\\bikerentals, inifile: pytest.ini\n",
      "collected 2 items\n",
      "\n",
      "tests\\features\\test_season.py ..                                         [100%]\n",
      "\n",
      "============================== 2 passed in 1.02s ==============================\n"
     ]
    }
   ],
   "source": [
    "# execute tests to make sure everything is working as expected\n",
    "! pytest\n",
    "#! python -m pytest"
   ]
  },
  {
   "cell_type": "code",
   "execution_count": 3,
   "metadata": {
    "ExecuteTime": {
     "end_time": "2019-10-29T06:10:56.500296Z",
     "start_time": "2019-10-29T06:10:26.093603Z"
    }
   },
   "outputs": [
    {
     "name": "stdout",
     "output_type": "stream",
     "text": [
      "Pipeline execution started\n",
      "Root folder set to: C:\\Dev\\private\\wroclawski-rower-miejski\\bikerentals\n",
      "* SeasonExtractor *\n",
      "--> input data shape:  (447409, 10)\n",
      "--> output data shape:  (447409, 11)\n",
      "Data saved to: C:\\Dev\\private\\wroclawski-rower-miejski\\bikerentals\\data\\processed\\bike_rentals.csv\n",
      "Pipeline execution completed\n"
     ]
    }
   ],
   "source": [
    "# run data loading and processing pipeline\n",
    "!python run_pipeline.py"
   ]
  },
  {
   "cell_type": "markdown",
   "metadata": {},
   "source": [
    "# Visual inspection"
   ]
  },
  {
   "cell_type": "code",
   "execution_count": 4,
   "metadata": {
    "ExecuteTime": {
     "end_time": "2019-10-29T06:10:57.918922Z",
     "start_time": "2019-10-29T06:10:56.503940Z"
    }
   },
   "outputs": [],
   "source": [
    "import os\n",
    "import pandas as pd\n",
    "\n",
    "filepath = os.path.join(os.getcwd(), '..', 'data', 'processed', 'bike_rentals.csv')\n",
    "bike_rentals_df = pd.read_csv(filepath)"
   ]
  },
  {
   "cell_type": "code",
   "execution_count": 5,
   "metadata": {
    "ExecuteTime": {
     "end_time": "2019-10-29T06:10:59.792494Z",
     "start_time": "2019-10-29T06:10:57.920708Z"
    }
   },
   "outputs": [],
   "source": [
    "bike_rentals_df['Rental datetime'] = pd.to_datetime(bike_rentals_df['Rental datetime'])\n",
    "bike_rentals_df['Return datetime'] = pd.to_datetime(bike_rentals_df['Return datetime'])\n",
    "bike_rentals_df['Duration'] = pd.to_timedelta(bike_rentals_df['Duration'])"
   ]
  },
  {
   "cell_type": "code",
   "execution_count": 6,
   "metadata": {
    "ExecuteTime": {
     "end_time": "2019-10-29T06:10:59.864128Z",
     "start_time": "2019-10-29T06:10:59.794366Z"
    }
   },
   "outputs": [
    {
     "name": "stdout",
     "output_type": "stream",
     "text": [
      "<class 'pandas.core.frame.DataFrame'>\n",
      "RangeIndex: 447409 entries, 0 to 447408\n",
      "Data columns (total 11 columns):\n",
      "Bike number                 447409 non-null int64\n",
      "Rental datetime             447409 non-null datetime64[ns]\n",
      "Return datetime             447409 non-null datetime64[ns]\n",
      "Rental station              447409 non-null object\n",
      "Return station              447409 non-null object\n",
      "Duration                    447409 non-null timedelta64[ns]\n",
      "Rental station latitude     389570 non-null float64\n",
      "Rental station longitude    389570 non-null float64\n",
      "Return station latitude     392435 non-null float64\n",
      "Return station longitude    392435 non-null float64\n",
      "Season                      447409 non-null int64\n",
      "dtypes: datetime64[ns](2), float64(4), int64(2), object(2), timedelta64[ns](1)\n",
      "memory usage: 37.5+ MB\n"
     ]
    }
   ],
   "source": [
    "bike_rentals_df.info()"
   ]
  },
  {
   "cell_type": "code",
   "execution_count": 7,
   "metadata": {
    "ExecuteTime": {
     "end_time": "2019-10-29T06:10:59.889691Z",
     "start_time": "2019-10-29T06:10:59.865759Z"
    }
   },
   "outputs": [
    {
     "data": {
      "text/html": [
       "<div>\n",
       "<style scoped>\n",
       "    .dataframe tbody tr th:only-of-type {\n",
       "        vertical-align: middle;\n",
       "    }\n",
       "\n",
       "    .dataframe tbody tr th {\n",
       "        vertical-align: top;\n",
       "    }\n",
       "\n",
       "    .dataframe thead th {\n",
       "        text-align: right;\n",
       "    }\n",
       "</style>\n",
       "<table border=\"1\" class=\"dataframe\">\n",
       "  <thead>\n",
       "    <tr style=\"text-align: right;\">\n",
       "      <th></th>\n",
       "      <th>Bike number</th>\n",
       "      <th>Rental datetime</th>\n",
       "      <th>Return datetime</th>\n",
       "      <th>Rental station</th>\n",
       "      <th>Return station</th>\n",
       "      <th>Duration</th>\n",
       "      <th>Rental station latitude</th>\n",
       "      <th>Rental station longitude</th>\n",
       "      <th>Return station latitude</th>\n",
       "      <th>Return station longitude</th>\n",
       "      <th>Season</th>\n",
       "    </tr>\n",
       "  </thead>\n",
       "  <tbody>\n",
       "    <tr>\n",
       "      <th>0</th>\n",
       "      <td>57719</td>\n",
       "      <td>2019-06-26 00:00:10</td>\n",
       "      <td>2019-06-26 00:06:19</td>\n",
       "      <td>Skarbowców / Wietrzna</td>\n",
       "      <td>Krzycka / Aleja Karkonoska (Park Południowy)</td>\n",
       "      <td>00:06:09</td>\n",
       "      <td>51.073290</td>\n",
       "      <td>16.994850</td>\n",
       "      <td>51.074992</td>\n",
       "      <td>17.007058</td>\n",
       "      <td>3</td>\n",
       "    </tr>\n",
       "    <tr>\n",
       "      <th>1</th>\n",
       "      <td>650480</td>\n",
       "      <td>2019-06-26 00:00:13</td>\n",
       "      <td>2019-06-26 00:06:59</td>\n",
       "      <td>Rynek</td>\n",
       "      <td>Plac Legionów</td>\n",
       "      <td>00:06:46</td>\n",
       "      <td>51.109782</td>\n",
       "      <td>17.030175</td>\n",
       "      <td>51.104413</td>\n",
       "      <td>17.022536</td>\n",
       "      <td>3</td>\n",
       "    </tr>\n",
       "    <tr>\n",
       "      <th>2</th>\n",
       "      <td>650988</td>\n",
       "      <td>2019-06-26 00:00:15</td>\n",
       "      <td>2019-06-26 00:13:32</td>\n",
       "      <td>Poza oficjalną stacją</td>\n",
       "      <td>Wałbrzyska - pętla tramwajowa</td>\n",
       "      <td>00:13:17</td>\n",
       "      <td>NaN</td>\n",
       "      <td>NaN</td>\n",
       "      <td>51.065777</td>\n",
       "      <td>16.988575</td>\n",
       "      <td>3</td>\n",
       "    </tr>\n",
       "    <tr>\n",
       "      <th>3</th>\n",
       "      <td>57603</td>\n",
       "      <td>2019-06-26 00:00:21</td>\n",
       "      <td>2019-06-26 00:23:53</td>\n",
       "      <td>Plac Uniwersytecki (UWr)</td>\n",
       "      <td>Legnicka / Wejherowska</td>\n",
       "      <td>00:23:32</td>\n",
       "      <td>51.113871</td>\n",
       "      <td>17.034484</td>\n",
       "      <td>51.125276</td>\n",
       "      <td>16.984447</td>\n",
       "      <td>3</td>\n",
       "    </tr>\n",
       "    <tr>\n",
       "      <th>4</th>\n",
       "      <td>650067</td>\n",
       "      <td>2019-06-26 00:00:40</td>\n",
       "      <td>2019-06-26 00:04:40</td>\n",
       "      <td>Powstańców Śląskich (Arkady Wrocławskie)</td>\n",
       "      <td>Powstańców Śląskich (Arkady Wrocławskie)</td>\n",
       "      <td>00:04:00</td>\n",
       "      <td>51.099713</td>\n",
       "      <td>17.027905</td>\n",
       "      <td>51.099713</td>\n",
       "      <td>17.027905</td>\n",
       "      <td>3</td>\n",
       "    </tr>\n",
       "  </tbody>\n",
       "</table>\n",
       "</div>"
      ],
      "text/plain": [
       "   Bike number     Rental datetime     Return datetime  \\\n",
       "0        57719 2019-06-26 00:00:10 2019-06-26 00:06:19   \n",
       "1       650480 2019-06-26 00:00:13 2019-06-26 00:06:59   \n",
       "2       650988 2019-06-26 00:00:15 2019-06-26 00:13:32   \n",
       "3        57603 2019-06-26 00:00:21 2019-06-26 00:23:53   \n",
       "4       650067 2019-06-26 00:00:40 2019-06-26 00:04:40   \n",
       "\n",
       "                             Rental station  \\\n",
       "0                     Skarbowców / Wietrzna   \n",
       "1                                     Rynek   \n",
       "2                     Poza oficjalną stacją   \n",
       "3                  Plac Uniwersytecki (UWr)   \n",
       "4  Powstańców Śląskich (Arkady Wrocławskie)   \n",
       "\n",
       "                                 Return station Duration  \\\n",
       "0  Krzycka / Aleja Karkonoska (Park Południowy) 00:06:09   \n",
       "1                                 Plac Legionów 00:06:46   \n",
       "2                 Wałbrzyska - pętla tramwajowa 00:13:17   \n",
       "3                        Legnicka / Wejherowska 00:23:32   \n",
       "4      Powstańców Śląskich (Arkady Wrocławskie) 00:04:00   \n",
       "\n",
       "   Rental station latitude  Rental station longitude  Return station latitude  \\\n",
       "0                51.073290                 16.994850                51.074992   \n",
       "1                51.109782                 17.030175                51.104413   \n",
       "2                      NaN                       NaN                51.065777   \n",
       "3                51.113871                 17.034484                51.125276   \n",
       "4                51.099713                 17.027905                51.099713   \n",
       "\n",
       "   Return station longitude  Season  \n",
       "0                 17.007058       3  \n",
       "1                 17.022536       3  \n",
       "2                 16.988575       3  \n",
       "3                 16.984447       3  \n",
       "4                 17.027905       3  "
      ]
     },
     "execution_count": 7,
     "metadata": {},
     "output_type": "execute_result"
    }
   ],
   "source": [
    "bike_rentals_df.head()"
   ]
  },
  {
   "cell_type": "code",
   "execution_count": 8,
   "metadata": {
    "ExecuteTime": {
     "end_time": "2019-10-29T06:10:59.909436Z",
     "start_time": "2019-10-29T06:10:59.893083Z"
    }
   },
   "outputs": [
    {
     "data": {
      "text/html": [
       "<div>\n",
       "<style scoped>\n",
       "    .dataframe tbody tr th:only-of-type {\n",
       "        vertical-align: middle;\n",
       "    }\n",
       "\n",
       "    .dataframe tbody tr th {\n",
       "        vertical-align: top;\n",
       "    }\n",
       "\n",
       "    .dataframe thead th {\n",
       "        text-align: right;\n",
       "    }\n",
       "</style>\n",
       "<table border=\"1\" class=\"dataframe\">\n",
       "  <thead>\n",
       "    <tr style=\"text-align: right;\">\n",
       "      <th></th>\n",
       "      <th>Bike number</th>\n",
       "      <th>Rental datetime</th>\n",
       "      <th>Return datetime</th>\n",
       "      <th>Rental station</th>\n",
       "      <th>Return station</th>\n",
       "      <th>Duration</th>\n",
       "      <th>Rental station latitude</th>\n",
       "      <th>Rental station longitude</th>\n",
       "      <th>Return station latitude</th>\n",
       "      <th>Return station longitude</th>\n",
       "      <th>Season</th>\n",
       "    </tr>\n",
       "  </thead>\n",
       "  <tbody>\n",
       "    <tr>\n",
       "      <th>447404</th>\n",
       "      <td>57818</td>\n",
       "      <td>2019-10-25 11:56:00</td>\n",
       "      <td>2019-10-25 11:58:00</td>\n",
       "      <td>al. Armii Krajowej / Tarnogajska</td>\n",
       "      <td>al. Armii Krajowej / Tarnogajska</td>\n",
       "      <td>00:02:00</td>\n",
       "      <td>51.083551</td>\n",
       "      <td>17.060519</td>\n",
       "      <td>51.083551</td>\n",
       "      <td>17.060519</td>\n",
       "      <td>4</td>\n",
       "    </tr>\n",
       "    <tr>\n",
       "      <th>447405</th>\n",
       "      <td>650926</td>\n",
       "      <td>2019-10-25 11:56:00</td>\n",
       "      <td>2019-10-25 11:57:00</td>\n",
       "      <td>Trymanda / Mińska</td>\n",
       "      <td>Trymanda / Mińska</td>\n",
       "      <td>00:01:00</td>\n",
       "      <td>51.103216</td>\n",
       "      <td>16.946100</td>\n",
       "      <td>51.103216</td>\n",
       "      <td>16.946100</td>\n",
       "      <td>4</td>\n",
       "    </tr>\n",
       "    <tr>\n",
       "      <th>447406</th>\n",
       "      <td>650036</td>\n",
       "      <td>2019-10-25 11:57:00</td>\n",
       "      <td>2019-10-25 11:57:00</td>\n",
       "      <td>Plac Powstańców Warszawy (Muzeum Narodowe)</td>\n",
       "      <td>Plac Powstańców Warszawy (Muzeum Narodowe)</td>\n",
       "      <td>00:00:00</td>\n",
       "      <td>51.110001</td>\n",
       "      <td>17.047736</td>\n",
       "      <td>51.110001</td>\n",
       "      <td>17.047736</td>\n",
       "      <td>4</td>\n",
       "    </tr>\n",
       "    <tr>\n",
       "      <th>447407</th>\n",
       "      <td>57435</td>\n",
       "      <td>2019-10-25 11:57:00</td>\n",
       "      <td>2019-10-25 12:00:00</td>\n",
       "      <td>Krucza / Mielecka / Stalowa</td>\n",
       "      <td>Grabiszyńska / Stalowa</td>\n",
       "      <td>00:03:00</td>\n",
       "      <td>51.093426</td>\n",
       "      <td>17.002893</td>\n",
       "      <td>51.099354</td>\n",
       "      <td>17.000697</td>\n",
       "      <td>4</td>\n",
       "    </tr>\n",
       "    <tr>\n",
       "      <th>447408</th>\n",
       "      <td>57636</td>\n",
       "      <td>2019-10-25 11:58:00</td>\n",
       "      <td>2019-10-25 12:01:00</td>\n",
       "      <td>Trymanda / Mińska</td>\n",
       "      <td>Trymanda / Mińska</td>\n",
       "      <td>00:03:00</td>\n",
       "      <td>51.103216</td>\n",
       "      <td>16.946100</td>\n",
       "      <td>51.103216</td>\n",
       "      <td>16.946100</td>\n",
       "      <td>4</td>\n",
       "    </tr>\n",
       "  </tbody>\n",
       "</table>\n",
       "</div>"
      ],
      "text/plain": [
       "        Bike number     Rental datetime     Return datetime  \\\n",
       "447404        57818 2019-10-25 11:56:00 2019-10-25 11:58:00   \n",
       "447405       650926 2019-10-25 11:56:00 2019-10-25 11:57:00   \n",
       "447406       650036 2019-10-25 11:57:00 2019-10-25 11:57:00   \n",
       "447407        57435 2019-10-25 11:57:00 2019-10-25 12:00:00   \n",
       "447408        57636 2019-10-25 11:58:00 2019-10-25 12:01:00   \n",
       "\n",
       "                                    Rental station  \\\n",
       "447404            al. Armii Krajowej / Tarnogajska   \n",
       "447405                           Trymanda / Mińska   \n",
       "447406  Plac Powstańców Warszawy (Muzeum Narodowe)   \n",
       "447407                 Krucza / Mielecka / Stalowa   \n",
       "447408                           Trymanda / Mińska   \n",
       "\n",
       "                                    Return station Duration  \\\n",
       "447404            al. Armii Krajowej / Tarnogajska 00:02:00   \n",
       "447405                           Trymanda / Mińska 00:01:00   \n",
       "447406  Plac Powstańców Warszawy (Muzeum Narodowe) 00:00:00   \n",
       "447407                      Grabiszyńska / Stalowa 00:03:00   \n",
       "447408                           Trymanda / Mińska 00:03:00   \n",
       "\n",
       "        Rental station latitude  Rental station longitude  \\\n",
       "447404                51.083551                 17.060519   \n",
       "447405                51.103216                 16.946100   \n",
       "447406                51.110001                 17.047736   \n",
       "447407                51.093426                 17.002893   \n",
       "447408                51.103216                 16.946100   \n",
       "\n",
       "        Return station latitude  Return station longitude  Season  \n",
       "447404                51.083551                 17.060519       4  \n",
       "447405                51.103216                 16.946100       4  \n",
       "447406                51.110001                 17.047736       4  \n",
       "447407                51.099354                 17.000697       4  \n",
       "447408                51.103216                 16.946100       4  "
      ]
     },
     "execution_count": 8,
     "metadata": {},
     "output_type": "execute_result"
    }
   ],
   "source": [
    "bike_rentals_df.tail()"
   ]
  }
 ],
 "metadata": {
  "file_extension": ".py",
  "kernelspec": {
   "display_name": "Python 3",
   "language": "python",
   "name": "python3"
  },
  "language_info": {
   "codemirror_mode": {
    "name": "ipython",
    "version": 3
   },
   "file_extension": ".py",
   "mimetype": "text/x-python",
   "name": "python",
   "nbconvert_exporter": "python",
   "pygments_lexer": "ipython3",
   "version": "3.6.8"
  },
  "mimetype": "text/x-python",
  "name": "python",
  "npconvert_exporter": "python",
  "pygments_lexer": "ipython3",
  "toc": {
   "base_numbering": 1,
   "nav_menu": {},
   "number_sections": true,
   "sideBar": true,
   "skip_h1_title": false,
   "title_cell": "Table of Contents",
   "title_sidebar": "Contents",
   "toc_cell": false,
   "toc_position": {
    "height": "calc(100% - 180px)",
    "left": "10px",
    "top": "150px",
    "width": "282.594px"
   },
   "toc_section_display": true,
   "toc_window_display": false
  },
  "version": 3
 },
 "nbformat": 4,
 "nbformat_minor": 2
}

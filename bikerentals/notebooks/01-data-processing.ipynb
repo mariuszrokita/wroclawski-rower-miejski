{
 "cells": [
  {
   "cell_type": "markdown",
   "metadata": {},
   "source": [
    "# Introduction"
   ]
  },
  {
   "cell_type": "markdown",
   "metadata": {},
   "source": [
    "The purpose of this notebook is to download data and process it. As a result we will get a dataset ready for further analyses and modeling."
   ]
  },
  {
   "cell_type": "code",
   "execution_count": 1,
   "metadata": {
    "ExecuteTime": {
     "end_time": "2019-10-30T06:25:22.872297Z",
     "start_time": "2019-10-30T06:25:22.460888Z"
    }
   },
   "outputs": [],
   "source": [
    "# let matplotlib plots be part of Jupyter Notebook\n",
    "%matplotlib inline\n",
    "\n",
    "# set up higher resolution for matplotlib plots\n",
    "%config InlineBackend.figure_format = 'retina'"
   ]
  },
  {
   "cell_type": "markdown",
   "metadata": {},
   "source": [
    "# Data loading and processing pipeline"
   ]
  },
  {
   "cell_type": "code",
   "execution_count": 2,
   "metadata": {
    "ExecuteTime": {
     "end_time": "2019-10-30T06:25:22.879625Z",
     "start_time": "2019-10-30T06:25:22.874424Z"
    }
   },
   "outputs": [
    {
     "name": "stdout",
     "output_type": "stream",
     "text": [
      "/Users/mariuszrokita/GitHub/wroclawski-rower-miejski/bikerentals/src\n"
     ]
    }
   ],
   "source": [
    "# Change folder\n",
    "%cd ../src"
   ]
  },
  {
   "cell_type": "code",
   "execution_count": 3,
   "metadata": {
    "ExecuteTime": {
     "end_time": "2019-10-30T06:25:24.155963Z",
     "start_time": "2019-10-30T06:25:22.882009Z"
    }
   },
   "outputs": [
    {
     "name": "stdout",
     "output_type": "stream",
     "text": [
      "\u001b[1m============================= test session starts ==============================\u001b[0m\n",
      "platform darwin -- Python 3.7.4, pytest-5.2.2, py-1.8.0, pluggy-0.13.0\n",
      "rootdir: /Users/mariuszrokita/GitHub/wroclawski-rower-miejski/bikerentals, inifile: pytest.ini\n",
      "collected 5 items                                                              \u001b[0m\u001b[1m\n",
      "\n",
      "tests/features/test_holidays.py \u001b[32m.\u001b[0m\u001b[32m.\u001b[0m\u001b[32m.\u001b[0m\u001b[36m                                      [ 60%]\u001b[0m\n",
      "tests/features/test_season.py \u001b[32m.\u001b[0m\u001b[32m.\u001b[0m\u001b[36m                                         [100%]\u001b[0m\n",
      "\n",
      "\u001b[32m\u001b[1m============================== 5 passed in 0.69s ===============================\u001b[0m\n"
     ]
    }
   ],
   "source": [
    "# execute tests to make sure everything is working as expected\n",
    "! pytest"
   ]
  },
  {
   "cell_type": "code",
   "execution_count": 4,
   "metadata": {
    "ExecuteTime": {
     "end_time": "2019-10-30T06:25:55.533334Z",
     "start_time": "2019-10-30T06:25:24.159525Z"
    }
   },
   "outputs": [
    {
     "name": "stdout",
     "output_type": "stream",
     "text": [
      "Pipeline execution started\n",
      "Root folder set to: /Users/mariuszrokita/GitHub/wroclawski-rower-miejski/bikerentals\n",
      "* SameLocationRemover *\n",
      "--> input data shape:  (452146, 10)\n",
      "--> output data shape:  (452146, 10)\n",
      "* SeasonFeature *\n",
      "--> input data shape:  (452146, 10)\n",
      "--> output data shape:  (452146, 11)\n",
      "* HolidaysFeature *\n",
      "--> input data shape:  (452146, 11)\n",
      "--> output data shape:  (452146, 12)\n",
      "Data saved to: /Users/mariuszrokita/GitHub/wroclawski-rower-miejski/bikerentals/data/processed/bike_rentals.csv\n",
      "Pipeline execution completed\n"
     ]
    }
   ],
   "source": [
    "# run data loading and processing pipeline\n",
    "!python3 run_pipeline.py"
   ]
  },
  {
   "cell_type": "markdown",
   "metadata": {},
   "source": [
    "# Visual inspection"
   ]
  },
  {
   "cell_type": "code",
   "execution_count": 5,
   "metadata": {
    "ExecuteTime": {
     "end_time": "2019-10-30T06:25:56.655188Z",
     "start_time": "2019-10-30T06:25:55.536625Z"
    }
   },
   "outputs": [],
   "source": [
    "import os\n",
    "import pandas as pd\n",
    "\n",
    "filepath = os.path.join(os.getcwd(), '..', 'data', 'processed', 'bike_rentals.csv')\n",
    "bike_rentals_df = pd.read_csv(filepath)"
   ]
  },
  {
   "cell_type": "code",
   "execution_count": 6,
   "metadata": {
    "ExecuteTime": {
     "end_time": "2019-10-30T06:25:58.904885Z",
     "start_time": "2019-10-30T06:25:56.657026Z"
    }
   },
   "outputs": [],
   "source": [
    "bike_rentals_df['Rental datetime'] = pd.to_datetime(bike_rentals_df['Rental datetime'])\n",
    "bike_rentals_df['Return datetime'] = pd.to_datetime(bike_rentals_df['Return datetime'])\n",
    "bike_rentals_df['Duration'] = pd.to_timedelta(bike_rentals_df['Duration'])"
   ]
  },
  {
   "cell_type": "code",
   "execution_count": 7,
   "metadata": {
    "ExecuteTime": {
     "end_time": "2019-10-30T06:25:58.984230Z",
     "start_time": "2019-10-30T06:25:58.906850Z"
    }
   },
   "outputs": [
    {
     "name": "stdout",
     "output_type": "stream",
     "text": [
      "<class 'pandas.core.frame.DataFrame'>\n",
      "RangeIndex: 452146 entries, 0 to 452145\n",
      "Data columns (total 12 columns):\n",
      "Bike number                 452146 non-null int64\n",
      "Rental datetime             452146 non-null datetime64[ns]\n",
      "Return datetime             452146 non-null datetime64[ns]\n",
      "Rental station              452146 non-null object\n",
      "Return station              452146 non-null object\n",
      "Duration                    452146 non-null timedelta64[ns]\n",
      "Rental station latitude     393673 non-null float64\n",
      "Rental station longitude    393673 non-null float64\n",
      "Return station latitude     396584 non-null float64\n",
      "Return station longitude    396584 non-null float64\n",
      "Season                      452146 non-null int64\n",
      "Holidays                    452146 non-null bool\n",
      "dtypes: bool(1), datetime64[ns](2), float64(4), int64(2), object(2), timedelta64[ns](1)\n",
      "memory usage: 38.4+ MB\n"
     ]
    }
   ],
   "source": [
    "bike_rentals_df.info()"
   ]
  },
  {
   "cell_type": "code",
   "execution_count": 8,
   "metadata": {
    "ExecuteTime": {
     "end_time": "2019-10-30T06:25:59.007435Z",
     "start_time": "2019-10-30T06:25:58.987124Z"
    }
   },
   "outputs": [
    {
     "data": {
      "text/html": [
       "<div>\n",
       "<style scoped>\n",
       "    .dataframe tbody tr th:only-of-type {\n",
       "        vertical-align: middle;\n",
       "    }\n",
       "\n",
       "    .dataframe tbody tr th {\n",
       "        vertical-align: top;\n",
       "    }\n",
       "\n",
       "    .dataframe thead th {\n",
       "        text-align: right;\n",
       "    }\n",
       "</style>\n",
       "<table border=\"1\" class=\"dataframe\">\n",
       "  <thead>\n",
       "    <tr style=\"text-align: right;\">\n",
       "      <th></th>\n",
       "      <th>Bike number</th>\n",
       "      <th>Rental datetime</th>\n",
       "      <th>Return datetime</th>\n",
       "      <th>Rental station</th>\n",
       "      <th>Return station</th>\n",
       "      <th>Duration</th>\n",
       "      <th>Rental station latitude</th>\n",
       "      <th>Rental station longitude</th>\n",
       "      <th>Return station latitude</th>\n",
       "      <th>Return station longitude</th>\n",
       "      <th>Season</th>\n",
       "      <th>Holidays</th>\n",
       "    </tr>\n",
       "  </thead>\n",
       "  <tbody>\n",
       "    <tr>\n",
       "      <td>0</td>\n",
       "      <td>57719</td>\n",
       "      <td>2019-06-26 00:00:10</td>\n",
       "      <td>2019-06-26 00:06:19</td>\n",
       "      <td>Skarbowców / Wietrzna</td>\n",
       "      <td>Krzycka / Aleja Karkonoska (Park Południowy)</td>\n",
       "      <td>00:06:09</td>\n",
       "      <td>51.073290</td>\n",
       "      <td>16.994850</td>\n",
       "      <td>51.074992</td>\n",
       "      <td>17.007058</td>\n",
       "      <td>3</td>\n",
       "      <td>False</td>\n",
       "    </tr>\n",
       "    <tr>\n",
       "      <td>1</td>\n",
       "      <td>650480</td>\n",
       "      <td>2019-06-26 00:00:13</td>\n",
       "      <td>2019-06-26 00:06:59</td>\n",
       "      <td>Rynek</td>\n",
       "      <td>Plac Legionów</td>\n",
       "      <td>00:06:46</td>\n",
       "      <td>51.109782</td>\n",
       "      <td>17.030175</td>\n",
       "      <td>51.104413</td>\n",
       "      <td>17.022536</td>\n",
       "      <td>3</td>\n",
       "      <td>False</td>\n",
       "    </tr>\n",
       "    <tr>\n",
       "      <td>2</td>\n",
       "      <td>650988</td>\n",
       "      <td>2019-06-26 00:00:15</td>\n",
       "      <td>2019-06-26 00:13:32</td>\n",
       "      <td>Poza oficjalną stacją</td>\n",
       "      <td>Wałbrzyska - pętla tramwajowa</td>\n",
       "      <td>00:13:17</td>\n",
       "      <td>NaN</td>\n",
       "      <td>NaN</td>\n",
       "      <td>51.065777</td>\n",
       "      <td>16.988575</td>\n",
       "      <td>3</td>\n",
       "      <td>False</td>\n",
       "    </tr>\n",
       "    <tr>\n",
       "      <td>3</td>\n",
       "      <td>57603</td>\n",
       "      <td>2019-06-26 00:00:21</td>\n",
       "      <td>2019-06-26 00:23:53</td>\n",
       "      <td>Plac Uniwersytecki (UWr)</td>\n",
       "      <td>Legnicka / Wejherowska</td>\n",
       "      <td>00:23:32</td>\n",
       "      <td>51.113871</td>\n",
       "      <td>17.034484</td>\n",
       "      <td>51.125276</td>\n",
       "      <td>16.984447</td>\n",
       "      <td>3</td>\n",
       "      <td>False</td>\n",
       "    </tr>\n",
       "    <tr>\n",
       "      <td>4</td>\n",
       "      <td>650067</td>\n",
       "      <td>2019-06-26 00:00:40</td>\n",
       "      <td>2019-06-26 00:04:40</td>\n",
       "      <td>Powstańców Śląskich (Arkady Wrocławskie)</td>\n",
       "      <td>Powstańców Śląskich (Arkady Wrocławskie)</td>\n",
       "      <td>00:04:00</td>\n",
       "      <td>51.099713</td>\n",
       "      <td>17.027905</td>\n",
       "      <td>51.099713</td>\n",
       "      <td>17.027905</td>\n",
       "      <td>3</td>\n",
       "      <td>False</td>\n",
       "    </tr>\n",
       "  </tbody>\n",
       "</table>\n",
       "</div>"
      ],
      "text/plain": [
       "   Bike number     Rental datetime     Return datetime  \\\n",
       "0        57719 2019-06-26 00:00:10 2019-06-26 00:06:19   \n",
       "1       650480 2019-06-26 00:00:13 2019-06-26 00:06:59   \n",
       "2       650988 2019-06-26 00:00:15 2019-06-26 00:13:32   \n",
       "3        57603 2019-06-26 00:00:21 2019-06-26 00:23:53   \n",
       "4       650067 2019-06-26 00:00:40 2019-06-26 00:04:40   \n",
       "\n",
       "                             Rental station  \\\n",
       "0                     Skarbowców / Wietrzna   \n",
       "1                                     Rynek   \n",
       "2                     Poza oficjalną stacją   \n",
       "3                  Plac Uniwersytecki (UWr)   \n",
       "4  Powstańców Śląskich (Arkady Wrocławskie)   \n",
       "\n",
       "                                 Return station Duration  \\\n",
       "0  Krzycka / Aleja Karkonoska (Park Południowy) 00:06:09   \n",
       "1                                 Plac Legionów 00:06:46   \n",
       "2                 Wałbrzyska - pętla tramwajowa 00:13:17   \n",
       "3                        Legnicka / Wejherowska 00:23:32   \n",
       "4      Powstańców Śląskich (Arkady Wrocławskie) 00:04:00   \n",
       "\n",
       "   Rental station latitude  Rental station longitude  Return station latitude  \\\n",
       "0                51.073290                 16.994850                51.074992   \n",
       "1                51.109782                 17.030175                51.104413   \n",
       "2                      NaN                       NaN                51.065777   \n",
       "3                51.113871                 17.034484                51.125276   \n",
       "4                51.099713                 17.027905                51.099713   \n",
       "\n",
       "   Return station longitude  Season  Holidays  \n",
       "0                 17.007058       3     False  \n",
       "1                 17.022536       3     False  \n",
       "2                 16.988575       3     False  \n",
       "3                 16.984447       3     False  \n",
       "4                 17.027905       3     False  "
      ]
     },
     "execution_count": 8,
     "metadata": {},
     "output_type": "execute_result"
    }
   ],
   "source": [
    "bike_rentals_df.head()"
   ]
  },
  {
   "cell_type": "code",
   "execution_count": 9,
   "metadata": {
    "ExecuteTime": {
     "end_time": "2019-10-30T06:25:59.025563Z",
     "start_time": "2019-10-30T06:25:59.009857Z"
    }
   },
   "outputs": [
    {
     "data": {
      "text/html": [
       "<div>\n",
       "<style scoped>\n",
       "    .dataframe tbody tr th:only-of-type {\n",
       "        vertical-align: middle;\n",
       "    }\n",
       "\n",
       "    .dataframe tbody tr th {\n",
       "        vertical-align: top;\n",
       "    }\n",
       "\n",
       "    .dataframe thead th {\n",
       "        text-align: right;\n",
       "    }\n",
       "</style>\n",
       "<table border=\"1\" class=\"dataframe\">\n",
       "  <thead>\n",
       "    <tr style=\"text-align: right;\">\n",
       "      <th></th>\n",
       "      <th>Bike number</th>\n",
       "      <th>Rental datetime</th>\n",
       "      <th>Return datetime</th>\n",
       "      <th>Rental station</th>\n",
       "      <th>Return station</th>\n",
       "      <th>Duration</th>\n",
       "      <th>Rental station latitude</th>\n",
       "      <th>Rental station longitude</th>\n",
       "      <th>Return station latitude</th>\n",
       "      <th>Return station longitude</th>\n",
       "      <th>Season</th>\n",
       "      <th>Holidays</th>\n",
       "    </tr>\n",
       "  </thead>\n",
       "  <tbody>\n",
       "    <tr>\n",
       "      <td>452141</td>\n",
       "      <td>650535</td>\n",
       "      <td>2019-10-27 23:40:00</td>\n",
       "      <td>2019-10-27 23:49:00</td>\n",
       "      <td>Rynek</td>\n",
       "      <td>Rondo Reagana</td>\n",
       "      <td>00:09:00</td>\n",
       "      <td>51.109782</td>\n",
       "      <td>17.030175</td>\n",
       "      <td>51.112154</td>\n",
       "      <td>17.060451</td>\n",
       "      <td>4</td>\n",
       "      <td>True</td>\n",
       "    </tr>\n",
       "    <tr>\n",
       "      <td>452142</td>\n",
       "      <td>650486</td>\n",
       "      <td>2019-10-27 23:42:00</td>\n",
       "      <td>2019-10-27 23:52:00</td>\n",
       "      <td>Promenady Wrocławskie</td>\n",
       "      <td>Sienkiewicza / Piastowska</td>\n",
       "      <td>00:10:00</td>\n",
       "      <td>51.128876</td>\n",
       "      <td>17.044998</td>\n",
       "      <td>51.115564</td>\n",
       "      <td>17.060704</td>\n",
       "      <td>4</td>\n",
       "      <td>True</td>\n",
       "    </tr>\n",
       "    <tr>\n",
       "      <td>452143</td>\n",
       "      <td>650864</td>\n",
       "      <td>2019-10-27 23:43:00</td>\n",
       "      <td>2019-10-27 23:55:00</td>\n",
       "      <td>Sienkiewicza / Piastowska</td>\n",
       "      <td>Wróblewskiego (Teki)</td>\n",
       "      <td>00:12:00</td>\n",
       "      <td>51.115564</td>\n",
       "      <td>17.060704</td>\n",
       "      <td>51.104110</td>\n",
       "      <td>17.084711</td>\n",
       "      <td>4</td>\n",
       "      <td>True</td>\n",
       "    </tr>\n",
       "    <tr>\n",
       "      <td>452144</td>\n",
       "      <td>57457</td>\n",
       "      <td>2019-10-27 23:55:00</td>\n",
       "      <td>2019-10-27 23:57:00</td>\n",
       "      <td>Plac Uniwersytecki (UWr)</td>\n",
       "      <td>Plac Uniwersytecki (UWr)</td>\n",
       "      <td>00:02:00</td>\n",
       "      <td>51.113871</td>\n",
       "      <td>17.034484</td>\n",
       "      <td>51.113871</td>\n",
       "      <td>17.034484</td>\n",
       "      <td>4</td>\n",
       "      <td>True</td>\n",
       "    </tr>\n",
       "    <tr>\n",
       "      <td>452145</td>\n",
       "      <td>57162</td>\n",
       "      <td>2019-10-27 23:56:00</td>\n",
       "      <td>2019-10-27 23:56:00</td>\n",
       "      <td>Koszarowa / UWr</td>\n",
       "      <td>Koszarowa / UWr</td>\n",
       "      <td>00:00:00</td>\n",
       "      <td>51.141280</td>\n",
       "      <td>17.066130</td>\n",
       "      <td>51.141280</td>\n",
       "      <td>17.066130</td>\n",
       "      <td>4</td>\n",
       "      <td>True</td>\n",
       "    </tr>\n",
       "  </tbody>\n",
       "</table>\n",
       "</div>"
      ],
      "text/plain": [
       "        Bike number     Rental datetime     Return datetime  \\\n",
       "452141       650535 2019-10-27 23:40:00 2019-10-27 23:49:00   \n",
       "452142       650486 2019-10-27 23:42:00 2019-10-27 23:52:00   \n",
       "452143       650864 2019-10-27 23:43:00 2019-10-27 23:55:00   \n",
       "452144        57457 2019-10-27 23:55:00 2019-10-27 23:57:00   \n",
       "452145        57162 2019-10-27 23:56:00 2019-10-27 23:56:00   \n",
       "\n",
       "                   Rental station             Return station Duration  \\\n",
       "452141                      Rynek              Rondo Reagana 00:09:00   \n",
       "452142      Promenady Wrocławskie  Sienkiewicza / Piastowska 00:10:00   \n",
       "452143  Sienkiewicza / Piastowska       Wróblewskiego (Teki) 00:12:00   \n",
       "452144   Plac Uniwersytecki (UWr)   Plac Uniwersytecki (UWr) 00:02:00   \n",
       "452145            Koszarowa / UWr            Koszarowa / UWr 00:00:00   \n",
       "\n",
       "        Rental station latitude  Rental station longitude  \\\n",
       "452141                51.109782                 17.030175   \n",
       "452142                51.128876                 17.044998   \n",
       "452143                51.115564                 17.060704   \n",
       "452144                51.113871                 17.034484   \n",
       "452145                51.141280                 17.066130   \n",
       "\n",
       "        Return station latitude  Return station longitude  Season  Holidays  \n",
       "452141                51.112154                 17.060451       4      True  \n",
       "452142                51.115564                 17.060704       4      True  \n",
       "452143                51.104110                 17.084711       4      True  \n",
       "452144                51.113871                 17.034484       4      True  \n",
       "452145                51.141280                 17.066130       4      True  "
      ]
     },
     "execution_count": 9,
     "metadata": {},
     "output_type": "execute_result"
    }
   ],
   "source": [
    "bike_rentals_df.tail()"
   ]
  },
  {
   "cell_type": "markdown",
   "metadata": {},
   "source": [
    "## Rentals returned to the same bike station"
   ]
  },
  {
   "cell_type": "code",
   "execution_count": 10,
   "metadata": {
    "ExecuteTime": {
     "end_time": "2019-10-30T06:25:59.092266Z",
     "start_time": "2019-10-30T06:25:59.027316Z"
    }
   },
   "outputs": [
    {
     "name": "stdout",
     "output_type": "stream",
     "text": [
      "Number of records: 76214\n"
     ]
    }
   ],
   "source": [
    "idx = bike_rentals_df['Rental station'] == bike_rentals_df['Return station']\n",
    "print(f\"Number of records: {bike_rentals_df.loc[idx, :].shape[0]}\")"
   ]
  },
  {
   "cell_type": "code",
   "execution_count": 11,
   "metadata": {
    "ExecuteTime": {
     "end_time": "2019-10-30T06:25:59.109290Z",
     "start_time": "2019-10-30T06:25:59.095928Z"
    }
   },
   "outputs": [
    {
     "name": "stdout",
     "output_type": "stream",
     "text": [
      "Min: 0.0, Max: 56135.0\n",
      "Avg: 521.7731650352954, Std: 1388.5012014879546\n"
     ]
    }
   ],
   "source": [
    "total_seconds = bike_rentals_df.loc[idx, 'Duration'].dt.total_seconds();\n",
    "\n",
    "print(f\"Min: {total_seconds.min()}, Max: {total_seconds.max()}\")\n",
    "print(f\"Avg: {total_seconds.mean()}, Std: {total_seconds.std()}\")"
   ]
  },
  {
   "cell_type": "code",
   "execution_count": 12,
   "metadata": {
    "ExecuteTime": {
     "end_time": "2019-10-30T06:25:59.706660Z",
     "start_time": "2019-10-30T06:25:59.112296Z"
    }
   },
   "outputs": [
    {
     "data": {
      "image/png": "[encoded data removed]",
      "text/plain": [
       "<Figure size 864x288 with 1 Axes>"
      ]
     },
     "metadata": {
      "image/png": {
       "height": 248,
       "width": 723
      },
      "needs_background": "light"
     },
     "output_type": "display_data"
    }
   ],
   "source": [
    "total_seconds.hist(bins=50, figsize=(12, 4));"
   ]
  },
  {
   "cell_type": "code",
   "execution_count": 13,
   "metadata": {
    "ExecuteTime": {
     "end_time": "2019-10-30T06:25:59.785090Z",
     "start_time": "2019-10-30T06:25:59.708830Z"
    }
   },
   "outputs": [
    {
     "data": {
      "text/html": [
       "<div>\n",
       "<style scoped>\n",
       "    .dataframe tbody tr th:only-of-type {\n",
       "        vertical-align: middle;\n",
       "    }\n",
       "\n",
       "    .dataframe tbody tr th {\n",
       "        vertical-align: top;\n",
       "    }\n",
       "\n",
       "    .dataframe thead th {\n",
       "        text-align: right;\n",
       "    }\n",
       "</style>\n",
       "<table border=\"1\" class=\"dataframe\">\n",
       "  <thead>\n",
       "    <tr style=\"text-align: right;\">\n",
       "      <th></th>\n",
       "      <th>Bike number</th>\n",
       "      <th>Rental datetime</th>\n",
       "      <th>Return datetime</th>\n",
       "      <th>Rental station</th>\n",
       "      <th>Return station</th>\n",
       "      <th>Duration</th>\n",
       "      <th>Rental station latitude</th>\n",
       "      <th>Rental station longitude</th>\n",
       "      <th>Return station latitude</th>\n",
       "      <th>Return station longitude</th>\n",
       "      <th>Season</th>\n",
       "      <th>Holidays</th>\n",
       "    </tr>\n",
       "  </thead>\n",
       "  <tbody>\n",
       "    <tr>\n",
       "      <td>16</td>\n",
       "      <td>57623</td>\n",
       "      <td>2019-06-26 00:02:30</td>\n",
       "      <td>2019-06-26 00:06:15</td>\n",
       "      <td>Poza oficjalną stacją</td>\n",
       "      <td>Poza oficjalną stacją</td>\n",
       "      <td>00:03:45</td>\n",
       "      <td>NaN</td>\n",
       "      <td>NaN</td>\n",
       "      <td>NaN</td>\n",
       "      <td>NaN</td>\n",
       "      <td>3</td>\n",
       "      <td>False</td>\n",
       "    </tr>\n",
       "    <tr>\n",
       "      <td>137</td>\n",
       "      <td>57353</td>\n",
       "      <td>2019-06-26 00:23:12</td>\n",
       "      <td>2019-06-26 00:26:04</td>\n",
       "      <td>Poza oficjalną stacją</td>\n",
       "      <td>Poza oficjalną stacją</td>\n",
       "      <td>00:02:52</td>\n",
       "      <td>NaN</td>\n",
       "      <td>NaN</td>\n",
       "      <td>NaN</td>\n",
       "      <td>NaN</td>\n",
       "      <td>3</td>\n",
       "      <td>False</td>\n",
       "    </tr>\n",
       "    <tr>\n",
       "      <td>154</td>\n",
       "      <td>57353</td>\n",
       "      <td>2019-06-26 00:27:35</td>\n",
       "      <td>2019-06-26 00:28:31</td>\n",
       "      <td>Poza oficjalną stacją</td>\n",
       "      <td>Poza oficjalną stacją</td>\n",
       "      <td>00:00:56</td>\n",
       "      <td>NaN</td>\n",
       "      <td>NaN</td>\n",
       "      <td>NaN</td>\n",
       "      <td>NaN</td>\n",
       "      <td>3</td>\n",
       "      <td>False</td>\n",
       "    </tr>\n",
       "    <tr>\n",
       "      <td>200</td>\n",
       "      <td>650868</td>\n",
       "      <td>2019-06-26 00:37:15</td>\n",
       "      <td>2019-06-26 00:46:20</td>\n",
       "      <td>Poza oficjalną stacją</td>\n",
       "      <td>Poza oficjalną stacją</td>\n",
       "      <td>00:09:05</td>\n",
       "      <td>NaN</td>\n",
       "      <td>NaN</td>\n",
       "      <td>NaN</td>\n",
       "      <td>NaN</td>\n",
       "      <td>3</td>\n",
       "      <td>False</td>\n",
       "    </tr>\n",
       "    <tr>\n",
       "      <td>210</td>\n",
       "      <td>57353</td>\n",
       "      <td>2019-06-26 00:39:34</td>\n",
       "      <td>2019-06-26 00:40:54</td>\n",
       "      <td>Poza oficjalną stacją</td>\n",
       "      <td>Poza oficjalną stacją</td>\n",
       "      <td>00:01:20</td>\n",
       "      <td>NaN</td>\n",
       "      <td>NaN</td>\n",
       "      <td>NaN</td>\n",
       "      <td>NaN</td>\n",
       "      <td>3</td>\n",
       "      <td>False</td>\n",
       "    </tr>\n",
       "    <tr>\n",
       "      <td>...</td>\n",
       "      <td>...</td>\n",
       "      <td>...</td>\n",
       "      <td>...</td>\n",
       "      <td>...</td>\n",
       "      <td>...</td>\n",
       "      <td>...</td>\n",
       "      <td>...</td>\n",
       "      <td>...</td>\n",
       "      <td>...</td>\n",
       "      <td>...</td>\n",
       "      <td>...</td>\n",
       "      <td>...</td>\n",
       "    </tr>\n",
       "    <tr>\n",
       "      <td>452048</td>\n",
       "      <td>650462</td>\n",
       "      <td>2019-10-27 21:15:00</td>\n",
       "      <td>2019-10-27 21:33:00</td>\n",
       "      <td>Poza oficjalną stacją</td>\n",
       "      <td>Poza oficjalną stacją</td>\n",
       "      <td>00:18:00</td>\n",
       "      <td>NaN</td>\n",
       "      <td>NaN</td>\n",
       "      <td>NaN</td>\n",
       "      <td>NaN</td>\n",
       "      <td>4</td>\n",
       "      <td>True</td>\n",
       "    </tr>\n",
       "    <tr>\n",
       "      <td>452086</td>\n",
       "      <td>650462</td>\n",
       "      <td>2019-10-27 21:59:00</td>\n",
       "      <td>2019-10-27 22:16:00</td>\n",
       "      <td>Poza oficjalną stacją</td>\n",
       "      <td>Poza oficjalną stacją</td>\n",
       "      <td>00:17:00</td>\n",
       "      <td>NaN</td>\n",
       "      <td>NaN</td>\n",
       "      <td>NaN</td>\n",
       "      <td>NaN</td>\n",
       "      <td>4</td>\n",
       "      <td>True</td>\n",
       "    </tr>\n",
       "    <tr>\n",
       "      <td>452087</td>\n",
       "      <td>57567</td>\n",
       "      <td>2019-10-27 21:59:00</td>\n",
       "      <td>2019-10-27 22:16:00</td>\n",
       "      <td>Poza oficjalną stacją</td>\n",
       "      <td>Poza oficjalną stacją</td>\n",
       "      <td>00:17:00</td>\n",
       "      <td>NaN</td>\n",
       "      <td>NaN</td>\n",
       "      <td>NaN</td>\n",
       "      <td>NaN</td>\n",
       "      <td>4</td>\n",
       "      <td>True</td>\n",
       "    </tr>\n",
       "    <tr>\n",
       "      <td>452091</td>\n",
       "      <td>57567</td>\n",
       "      <td>2019-10-27 22:17:00</td>\n",
       "      <td>2019-10-27 22:19:00</td>\n",
       "      <td>Poza oficjalną stacją</td>\n",
       "      <td>Poza oficjalną stacją</td>\n",
       "      <td>00:02:00</td>\n",
       "      <td>NaN</td>\n",
       "      <td>NaN</td>\n",
       "      <td>NaN</td>\n",
       "      <td>NaN</td>\n",
       "      <td>4</td>\n",
       "      <td>True</td>\n",
       "    </tr>\n",
       "    <tr>\n",
       "      <td>452092</td>\n",
       "      <td>650462</td>\n",
       "      <td>2019-10-27 22:17:00</td>\n",
       "      <td>2019-10-27 22:19:00</td>\n",
       "      <td>Poza oficjalną stacją</td>\n",
       "      <td>Poza oficjalną stacją</td>\n",
       "      <td>00:02:00</td>\n",
       "      <td>NaN</td>\n",
       "      <td>NaN</td>\n",
       "      <td>NaN</td>\n",
       "      <td>NaN</td>\n",
       "      <td>4</td>\n",
       "      <td>True</td>\n",
       "    </tr>\n",
       "  </tbody>\n",
       "</table>\n",
       "<p>4410 rows × 12 columns</p>\n",
       "</div>"
      ],
      "text/plain": [
       "        Bike number     Rental datetime     Return datetime  \\\n",
       "16            57623 2019-06-26 00:02:30 2019-06-26 00:06:15   \n",
       "137           57353 2019-06-26 00:23:12 2019-06-26 00:26:04   \n",
       "154           57353 2019-06-26 00:27:35 2019-06-26 00:28:31   \n",
       "200          650868 2019-06-26 00:37:15 2019-06-26 00:46:20   \n",
       "210           57353 2019-06-26 00:39:34 2019-06-26 00:40:54   \n",
       "...             ...                 ...                 ...   \n",
       "452048       650462 2019-10-27 21:15:00 2019-10-27 21:33:00   \n",
       "452086       650462 2019-10-27 21:59:00 2019-10-27 22:16:00   \n",
       "452087        57567 2019-10-27 21:59:00 2019-10-27 22:16:00   \n",
       "452091        57567 2019-10-27 22:17:00 2019-10-27 22:19:00   \n",
       "452092       650462 2019-10-27 22:17:00 2019-10-27 22:19:00   \n",
       "\n",
       "               Rental station         Return station Duration  \\\n",
       "16      Poza oficjalną stacją  Poza oficjalną stacją 00:03:45   \n",
       "137     Poza oficjalną stacją  Poza oficjalną stacją 00:02:52   \n",
       "154     Poza oficjalną stacją  Poza oficjalną stacją 00:00:56   \n",
       "200     Poza oficjalną stacją  Poza oficjalną stacją 00:09:05   \n",
       "210     Poza oficjalną stacją  Poza oficjalną stacją 00:01:20   \n",
       "...                       ...                    ...      ...   \n",
       "452048  Poza oficjalną stacją  Poza oficjalną stacją 00:18:00   \n",
       "452086  Poza oficjalną stacją  Poza oficjalną stacją 00:17:00   \n",
       "452087  Poza oficjalną stacją  Poza oficjalną stacją 00:17:00   \n",
       "452091  Poza oficjalną stacją  Poza oficjalną stacją 00:02:00   \n",
       "452092  Poza oficjalną stacją  Poza oficjalną stacją 00:02:00   \n",
       "\n",
       "        Rental station latitude  Rental station longitude  \\\n",
       "16                          NaN                       NaN   \n",
       "137                         NaN                       NaN   \n",
       "154                         NaN                       NaN   \n",
       "200                         NaN                       NaN   \n",
       "210                         NaN                       NaN   \n",
       "...                         ...                       ...   \n",
       "452048                      NaN                       NaN   \n",
       "452086                      NaN                       NaN   \n",
       "452087                      NaN                       NaN   \n",
       "452091                      NaN                       NaN   \n",
       "452092                      NaN                       NaN   \n",
       "\n",
       "        Return station latitude  Return station longitude  Season  Holidays  \n",
       "16                          NaN                       NaN       3     False  \n",
       "137                         NaN                       NaN       3     False  \n",
       "154                         NaN                       NaN       3     False  \n",
       "200                         NaN                       NaN       3     False  \n",
       "210                         NaN                       NaN       3     False  \n",
       "...                         ...                       ...     ...       ...  \n",
       "452048                      NaN                       NaN       4      True  \n",
       "452086                      NaN                       NaN       4      True  \n",
       "452087                      NaN                       NaN       4      True  \n",
       "452091                      NaN                       NaN       4      True  \n",
       "452092                      NaN                       NaN       4      True  \n",
       "\n",
       "[4410 rows x 12 columns]"
      ]
     },
     "execution_count": 13,
     "metadata": {},
     "output_type": "execute_result"
    }
   ],
   "source": [
    "idx = (bike_rentals_df['Rental station'] == 'Poza oficjalną stacją') & \\\n",
    "      (bike_rentals_df['Return station'] == 'Poza oficjalną stacją')\n",
    "bike_rentals_df.loc[idx, :]"
   ]
  }
 ],
 "metadata": {
  "file_extension": ".py",
  "kernelspec": {
   "display_name": "Python 3",
   "language": "python",
   "name": "python3"
  },
  "language_info": {
   "codemirror_mode": {
    "name": "ipython",
    "version": 3
   },
   "file_extension": ".py",
   "mimetype": "text/x-python",
   "name": "python",
   "nbconvert_exporter": "python",
   "pygments_lexer": "ipython3",
   "version": "3.7.4"
  },
  "mimetype": "text/x-python",
  "name": "python",
  "npconvert_exporter": "python",
  "pygments_lexer": "ipython3",
  "toc": {
   "base_numbering": 1,
   "nav_menu": {},
   "number_sections": true,
   "sideBar": true,
   "skip_h1_title": false,
   "title_cell": "Table of Contents",
   "title_sidebar": "Contents",
   "toc_cell": false,
   "toc_position": {
    "height": "calc(100% - 180px)",
    "left": "10px",
    "top": "150px",
    "width": "282.594px"
   },
   "toc_section_display": true,
   "toc_window_display": true
  },
  "version": 3
 },
 "nbformat": 4,
 "nbformat_minor": 2
}
